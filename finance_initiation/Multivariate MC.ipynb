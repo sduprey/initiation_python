{
 "cells": [
  {
   "cell_type": "code",
   "execution_count": 47,
   "metadata": {},
   "outputs": [],
   "source": [
    "import numpy as np\n",
    "import pandas as pd\n",
    "from pandas_datareader import data as wb\n",
    "import matplotlib.pyplot as plt\n",
    "from scipy.stats import norm, gmean, cauchy, multivariate_normal\n",
    "import seaborn as sns\n",
    "# import plotly as py\n",
    "# import plotly.graph_objs as go\n",
    "# import cufflinks\n",
    "# cufflinks.go_offline(connected=True)\n",
    "#init_notebook_mode(connected=True)\n",
    "\n",
    "%matplotlib inline"
   ]
  },
  {
   "cell_type": "code",
   "execution_count": 521,
   "metadata": {},
   "outputs": [],
   "source": [
    "def import_stock_data(tickers, start = '2010-1-1'):\n",
    "    data = pd.DataFrame()\n",
    "    if len([tickers]) ==1:\n",
    "        data[tickers] = wb.DataReader(tickers, data_source='yahoo', start = start)['Adj Close']\n",
    "        data = pd.DataFrame(data)\n",
    "    else:\n",
    "        for t in tickers:\n",
    "            data[t] = wb.DataReader(t, data_source='yahoo', start = start)['Adj Close']\n",
    "    return(data)"
   ]
  },
  {
   "cell_type": "code",
   "execution_count": 687,
   "metadata": {},
   "outputs": [],
   "source": [
    "data = import_stock_data([\"MSFT\",\"BAM\"])"
   ]
  },
  {
   "cell_type": "code",
   "execution_count": 688,
   "metadata": {},
   "outputs": [
    {
     "data": {
      "text/html": [
       "<div>\n",
       "<style scoped>\n",
       "    .dataframe tbody tr th:only-of-type {\n",
       "        vertical-align: middle;\n",
       "    }\n",
       "\n",
       "    .dataframe tbody tr th {\n",
       "        vertical-align: top;\n",
       "    }\n",
       "\n",
       "    .dataframe thead th {\n",
       "        text-align: right;\n",
       "    }\n",
       "</style>\n",
       "<table border=\"1\" class=\"dataframe\">\n",
       "  <thead>\n",
       "    <tr style=\"text-align: right;\">\n",
       "      <th></th>\n",
       "      <th>MSFT</th>\n",
       "      <th>BAM</th>\n",
       "    </tr>\n",
       "    <tr>\n",
       "      <th>Date</th>\n",
       "      <th></th>\n",
       "      <th></th>\n",
       "    </tr>\n",
       "  </thead>\n",
       "  <tbody>\n",
       "    <tr>\n",
       "      <td>2020-05-08</td>\n",
       "      <td>184.679993</td>\n",
       "      <td>33.400002</td>\n",
       "    </tr>\n",
       "    <tr>\n",
       "      <td>2020-05-11</td>\n",
       "      <td>186.740005</td>\n",
       "      <td>33.669998</td>\n",
       "    </tr>\n",
       "    <tr>\n",
       "      <td>2020-05-12</td>\n",
       "      <td>182.509995</td>\n",
       "      <td>32.500000</td>\n",
       "    </tr>\n",
       "    <tr>\n",
       "      <td>2020-05-13</td>\n",
       "      <td>179.750000</td>\n",
       "      <td>31.000000</td>\n",
       "    </tr>\n",
       "    <tr>\n",
       "      <td>2020-05-14</td>\n",
       "      <td>176.250000</td>\n",
       "      <td>30.040001</td>\n",
       "    </tr>\n",
       "  </tbody>\n",
       "</table>\n",
       "</div>"
      ],
      "text/plain": [
       "                  MSFT        BAM\n",
       "Date                             \n",
       "2020-05-08  184.679993  33.400002\n",
       "2020-05-11  186.740005  33.669998\n",
       "2020-05-12  182.509995  32.500000\n",
       "2020-05-13  179.750000  31.000000\n",
       "2020-05-14  176.250000  30.040001"
      ]
     },
     "execution_count": 688,
     "metadata": {},
     "output_type": "execute_result"
    }
   ],
   "source": [
    "data.tail()"
   ]
  },
  {
   "cell_type": "code",
   "execution_count": 689,
   "metadata": {},
   "outputs": [],
   "source": [
    "def log_returns(data):\n",
    "    return (np.log(1+data.pct_change()))"
   ]
  },
  {
   "cell_type": "code",
   "execution_count": 690,
   "metadata": {},
   "outputs": [],
   "source": [
    "log_return = log_returns(data)"
   ]
  },
  {
   "cell_type": "code",
   "execution_count": 691,
   "metadata": {},
   "outputs": [],
   "source": [
    "def drift_calc(data, return_type='log'):\n",
    "    if return_type=='log':\n",
    "        lr = log_returns(data)\n",
    "    elif return_type=='simple':\n",
    "        lr = simple_returns(data)\n",
    "    u = lr.mean()\n",
    "    var = lr.var()\n",
    "    drift = u-(0.5*var)\n",
    "    try:\n",
    "        return drift.values\n",
    "    except:\n",
    "        return drift"
   ]
  },
  {
   "cell_type": "code",
   "execution_count": 692,
   "metadata": {},
   "outputs": [
    {
     "data": {
      "text/plain": [
       "array([0.00063468, 0.00043409])"
      ]
     },
     "execution_count": 692,
     "metadata": {},
     "output_type": "execute_result"
    }
   ],
   "source": [
    "drif = drift_calc(data)\n",
    "drif"
   ]
  },
  {
   "cell_type": "code",
   "execution_count": 693,
   "metadata": {},
   "outputs": [
    {
     "data": {
      "text/html": [
       "<div>\n",
       "<style scoped>\n",
       "    .dataframe tbody tr th:only-of-type {\n",
       "        vertical-align: middle;\n",
       "    }\n",
       "\n",
       "    .dataframe tbody tr th {\n",
       "        vertical-align: top;\n",
       "    }\n",
       "\n",
       "    .dataframe thead th {\n",
       "        text-align: right;\n",
       "    }\n",
       "</style>\n",
       "<table border=\"1\" class=\"dataframe\">\n",
       "  <thead>\n",
       "    <tr style=\"text-align: right;\">\n",
       "      <th></th>\n",
       "      <th>MSFT</th>\n",
       "      <th>BAM</th>\n",
       "    </tr>\n",
       "  </thead>\n",
       "  <tbody>\n",
       "    <tr>\n",
       "      <td>MSFT</td>\n",
       "      <td>0.000250</td>\n",
       "      <td>0.000135</td>\n",
       "    </tr>\n",
       "    <tr>\n",
       "      <td>BAM</td>\n",
       "      <td>0.000135</td>\n",
       "      <td>0.000250</td>\n",
       "    </tr>\n",
       "  </tbody>\n",
       "</table>\n",
       "</div>"
      ],
      "text/plain": [
       "          MSFT       BAM\n",
       "MSFT  0.000250  0.000135\n",
       "BAM   0.000135  0.000250"
      ]
     },
     "execution_count": 693,
     "metadata": {},
     "output_type": "execute_result"
    }
   ],
   "source": [
    "covi = log_return.cov()\n",
    "covi"
   ]
  },
  {
   "cell_type": "code",
   "execution_count": 694,
   "metadata": {},
   "outputs": [
    {
     "data": {
      "text/plain": [
       "array([[0.01582137, 0.        ],\n",
       "       [0.00855895, 0.01328055]])"
      ]
     },
     "execution_count": 694,
     "metadata": {},
     "output_type": "execute_result"
    }
   ],
   "source": [
    "L = np.linalg.cholesky(covi)\n",
    "L"
   ]
  },
  {
   "cell_type": "code",
   "execution_count": 695,
   "metadata": {},
   "outputs": [
    {
     "data": {
      "text/plain": [
       "array([[-0.63535887,  0.74412729],\n",
       "       [-0.04965299, -1.12963893]])"
      ]
     },
     "execution_count": 695,
     "metadata": {},
     "output_type": "execute_result"
    }
   ],
   "source": [
    "randi =norm.ppf(np.random.rand(2,2))\n",
    "randi"
   ]
  },
  {
   "cell_type": "code",
   "execution_count": 696,
   "metadata": {},
   "outputs": [],
   "source": [
    "V = L.dot(randi)"
   ]
  },
  {
   "cell_type": "code",
   "execution_count": 697,
   "metadata": {},
   "outputs": [
    {
     "data": {
      "text/plain": [
       "array([-0.00566333, -0.00819919])"
      ]
     },
     "execution_count": 697,
     "metadata": {},
     "output_type": "execute_result"
    }
   ],
   "source": [
    "V[0]+drif[0]\n",
    "V[1]+drif[1]"
   ]
  },
  {
   "cell_type": "code",
   "execution_count": 698,
   "metadata": {},
   "outputs": [],
   "source": [
    "def daily_returns(data, days, iterations, return_type='log'):\n",
    "    ft = drift_calc(data, return_type)\n",
    "    if return_type == 'log':\n",
    "        try:\n",
    "            stv = log_returns(data).std().values\n",
    "        except:\n",
    "            stv = log_returns(data).std()\n",
    "    elif return_type=='simple':\n",
    "        try:\n",
    "            stv = simple_returns(data).std().values\n",
    "        except:\n",
    "            stv = simple_returns(data).std()    \n",
    "    covall = log_return.cov()\n",
    "    chol = np.linalg.cholesky(covall)\n",
    "    numstocks = len(data.columns)\n",
    "    \n",
    "    randim = norm.ppf(np.random.rand(days,numstocks,iterations))\n",
    "    V = chol.dot(randim)\n",
    "    \n",
    "    stocks = []\n",
    "    for s in range(numstocks):\n",
    "        dr = np.exp(ft[s] + stv[s] * V[s])\n",
    "        stocks.append(dr)\n",
    "    return stocks"
   ]
  },
  {
   "cell_type": "code",
   "execution_count": 699,
   "metadata": {},
   "outputs": [
    {
     "data": {
      "text/plain": [
       "[array([[1.00063095, 1.00042563, 1.00072601, ..., 1.00085974, 1.00013756,\n",
       "         1.00073716],\n",
       "        [1.0005216 , 1.00103468, 1.00027371, ..., 1.00036319, 1.0006482 ,\n",
       "         1.00067034],\n",
       "        [1.00050731, 1.0005184 , 1.0005587 , ..., 1.00076939, 1.00073355,\n",
       "         1.00123768],\n",
       "        ...,\n",
       "        [1.00097811, 1.00066512, 1.00064245, ..., 1.00084161, 1.00036875,\n",
       "         1.00064948],\n",
       "        [1.00090632, 1.00017733, 1.00037685, ..., 1.0009542 , 1.00096629,\n",
       "         1.00024594],\n",
       "        [1.00066723, 1.00019856, 1.00040366, ..., 1.00073135, 1.00061282,\n",
       "         1.00045776]]),\n",
       " array([[1.00059664, 1.00050136, 1.0006171 , ..., 1.0006403 , 1.00021676,\n",
       "         1.0006405 ],\n",
       "        [1.00029186, 1.00083392, 0.99995482, ..., 1.00037867, 1.00024418,\n",
       "         1.00033445],\n",
       "        [1.00010908, 1.0006944 , 1.00068495, ..., 1.00066815, 1.00043831,\n",
       "         1.00064332],\n",
       "        ...,\n",
       "        [1.00066348, 1.00063742, 1.00033304, ..., 1.00102092, 1.00008157,\n",
       "         1.00038373],\n",
       "        [1.00077437, 0.99970512, 1.00016482, ..., 1.00059864, 1.00070681,\n",
       "         1.00036813],\n",
       "        [1.00067395, 1.00013839, 1.00044939, ..., 1.00008544, 1.00081371,\n",
       "         1.00049692]])]"
      ]
     },
     "execution_count": 699,
     "metadata": {},
     "output_type": "execute_result"
    }
   ],
   "source": [
    "xxx = daily_returns(data, days = 250, iterations = 10)\n",
    "xxx"
   ]
  },
  {
   "cell_type": "code",
   "execution_count": 812,
   "metadata": {},
   "outputs": [],
   "source": [
    "def daily_returns(data, days, iterations, return_type='log'):\n",
    "    ft = drift_calc(data, return_type)\n",
    "    if return_type == 'log':\n",
    "        try:\n",
    "            stv = log_returns(data).std().values\n",
    "        except:\n",
    "            stv = log_returns(data).std()\n",
    "    elif return_type=='simple':\n",
    "        try:\n",
    "            stv = simple_returns(data).std().values\n",
    "        except:\n",
    "            stv = simple_returns(data).std()   \n",
    "    \n",
    "    numstocks = len(data.columns)\n",
    "    \n",
    "    covall = log_return.cov()\n",
    "    chol = np.linalg.cholesky(covall)\n",
    "    \n",
    "#     totals = []\n",
    "#     for d in range(days):\n",
    "#         uncorr_x = np.random.normal(0,1,(numstocks,iterations))\n",
    "#         corr_x = np.dot(chol,uncorr_x)\n",
    "#         df = pd.DataFrame(corr_x[0]).T\n",
    "#         totals.append(df)\n",
    "            #print(corr_x[0])\n",
    "    simstock = np.zeros_like(5)\n",
    "    for d in range(days):\n",
    "        uncorr_x = np.random.normal(0,1,(2,5))\n",
    "        corr_x = np.dot(chol,uncorr_x)\n",
    "        row = (corr_x[0]).transpose()\n",
    "        simstock = simstock+row\n",
    "        print(row)\n",
    "    \n",
    "#     randim = norm.ppf(np.random.rand(days,numstocks,iterations))\n",
    "#     V = chol.dot(randim)\n",
    "    \n",
    "#     stocks = []\n",
    "#     for s in range(numstocks):\n",
    "#         dr = np.exp(ft[s] + stv[s] * V[s])\n",
    "#         stocks.append(dr)\n",
    "#    return pd.DataFrame(totals)"
   ]
  },
  {
   "cell_type": "code",
   "execution_count": 813,
   "metadata": {},
   "outputs": [
    {
     "name": "stdout",
     "output_type": "stream",
     "text": [
      "[-0.02798762  0.00095786 -0.00286049  0.01195356  0.01390655]\n",
      "[ 0.00183776  0.00287248  0.00752141 -0.0081006  -0.0092608 ]\n",
      "[-0.00685823  0.01189147 -0.03323479 -0.00680896 -0.0271409 ]\n",
      "[ 0.02310806  0.00497634 -0.00284405 -0.01411448  0.00114843]\n",
      "[ 0.01385737 -0.00391318  0.00827926  0.02361273  0.01237567]\n",
      "[-0.00228244  0.0008686  -0.00014131  0.00983564 -0.00332632]\n",
      "[ 0.00528386  0.00290303 -0.00445274 -0.00784282  0.01310952]\n",
      "[-0.03828386  0.01942595 -0.01807462  0.00093317  0.00024271]\n",
      "[0.0039186  0.00558545 0.00895796 0.05409972 0.01540161]\n",
      "[-0.00114879  0.02167204 -0.01712268 -0.00415929  0.00804233]\n",
      "[-0.00593376 -0.02069442  0.02082081 -0.01392585 -0.02519956]\n",
      "[-0.01270916 -0.01686727  0.01219254 -0.00291816 -0.01472463]\n",
      "[ 0.00227085  0.0018318  -0.00361256 -0.01019478 -0.00954079]\n",
      "[ 3.35089373e-04 -9.97839035e-03  1.21668666e-02  2.65728287e-02\n",
      "  7.20339085e-05]\n",
      "[ 0.02617279 -0.01735791  0.00396194  0.01219799 -0.00223278]\n",
      "[ 0.00758806 -0.00928369  0.01415692 -0.02140927 -0.01353105]\n",
      "[-0.00736759 -0.01141806 -0.00779247  0.00320235  0.00761884]\n",
      "[-0.01858403 -0.01089678  0.00528897 -0.0059215   0.0041481 ]\n",
      "[-0.01180983 -0.02331269 -0.02223826  0.00754872 -0.00482577]\n",
      "[-0.00134492 -0.00451383  0.00115834  0.01274606 -0.00261823]\n",
      "[ 1.29906576e-02 -1.03014432e-02 -5.31251809e-03 -2.16241927e-05\n",
      " -2.53497405e-03]\n",
      "[-0.00273979  0.02285495 -0.00836981  0.00714722  0.01995172]\n",
      "[ 0.01193405 -0.01762388 -0.03589069 -0.00706878  0.01301784]\n",
      "[-0.01138343  0.0109919   0.00912598  0.01896028  0.00908519]\n",
      "[-0.01795239 -0.00425007 -0.00370694 -0.01133471  0.01351071]\n",
      "[-0.0076983  -0.01221957 -0.00494052  0.03166954 -0.0158883 ]\n",
      "[-0.00863462 -0.00772928  0.01046597 -0.01721129 -0.02025852]\n",
      "[ 0.02804326 -0.02808818 -0.00185048 -0.02276821 -0.00673162]\n",
      "[-0.00505532 -0.00280102 -0.00411059 -0.01288772 -0.00365187]\n",
      "[ 0.01586609 -0.01732991  0.00326761 -0.02744397 -0.00492621]\n",
      "[-0.02513908 -0.00138776 -0.00498426  0.01094022  0.01427483]\n",
      "[-0.02243289 -0.00758825  0.03582429 -0.00961185  0.0073056 ]\n",
      "[ 0.00894166  0.00866576 -0.01042887  0.00744595 -0.02522145]\n",
      "[0.0134924  0.00442498 0.00625065 0.01975451 0.00517012]\n",
      "[-0.00678799  0.00139398 -0.00355391  0.00109182  0.00798725]\n",
      "[-0.01242474  0.00475813  0.00584133 -0.01082959 -0.00566571]\n",
      "[-0.0058967   0.01029579  0.03062019  0.00183187 -0.02162042]\n",
      "[ 0.00411703 -0.01943948  0.02556646  0.02299719 -0.01241454]\n",
      "[-0.02711426 -0.01526744 -0.03225964 -0.01855478 -0.03077478]\n",
      "[ 0.00891266 -0.00647478  0.00259103  0.01042741  0.0163917 ]\n",
      "[ 0.00543268 -0.00074525 -0.01184744 -0.01549022  0.03411407]\n",
      "[0.0031347  0.01023811 0.00279583 0.02589644 0.00093684]\n",
      "[ 1.70553378e-02  1.11835240e-02  2.63903297e-05  1.11954863e-02\n",
      " -2.57042819e-02]\n",
      "[-0.01982051  0.01617395 -0.03248179 -0.00037964 -0.01688146]\n",
      "[-0.00690618 -0.01521116 -0.0178515   0.00779882  0.00268843]\n",
      "[ 0.03253556 -0.00156998 -0.0161041   0.00077608  0.00749423]\n",
      "[ 0.02158561  0.01327702  0.00221374 -0.00559455 -0.03259558]\n",
      "[-6.80737570e-03 -6.74843004e-03  1.03231510e-05  5.01875337e-03\n",
      " -6.88627056e-04]\n",
      "[-0.00915518 -0.01838845  0.00348616 -0.01398492 -0.02329264]\n",
      "[-0.01025398  0.03115516 -0.00476469  0.02479426 -0.0004455 ]\n",
      "[-0.02162587  0.01009566  0.00095277  0.01727036  0.02495429]\n",
      "[ 0.0235349   0.02023717 -0.00349983 -0.00726221  0.00582883]\n",
      "[ 0.01418803 -0.02810625  0.01451526  0.03367083  0.01395305]\n",
      "[-0.00186468 -0.00541796  0.02678223  0.00282776  0.01696348]\n",
      "[ 0.00764135 -0.00467615 -0.01847312 -0.0252144  -0.03549757]\n",
      "[ 0.03012403 -0.02363581 -0.00302344 -0.00619503  0.00360187]\n",
      "[ 0.01801576  0.00126461  0.0023104   0.00623838 -0.02301118]\n",
      "[ 0.0032751   0.01400867  0.00648841  0.01277489 -0.01796038]\n",
      "[-0.00861949  0.02854481 -0.00897571  0.01835435 -0.03207216]\n",
      "[ 0.02870211 -0.03276487 -0.00641708  0.02084308  0.00576054]\n",
      "[-0.00686433 -0.02240854 -0.02884306  0.00770002 -0.02428001]\n",
      "[-0.01685706 -0.00852984 -0.00689973  0.01244992 -0.00279662]\n",
      "[-0.01232047  0.0112587  -0.01335785  0.00543136  0.00965424]\n",
      "[ 0.00887867 -0.00709726  0.00744577 -0.01660375 -0.02077061]\n",
      "[-0.01098522  0.00428598 -0.0002259   0.01837975 -0.0225374 ]\n",
      "[-0.01068724 -0.01706391 -0.00994208 -0.0230624  -0.00686264]\n",
      "[ 0.01730023  0.00884952 -0.01309061  0.00346184 -0.00781505]\n",
      "[0.0131293  0.0205074  0.00513356 0.01791848 0.01722405]\n",
      "[-0.0200401  -0.00207079 -0.00186803 -0.01865912 -0.00822684]\n",
      "[ 0.01001636  0.00137201 -0.00112761  0.02035147 -0.00838347]\n",
      "[-0.00485908 -0.00273098 -0.01914524 -0.01348568  0.0329398 ]\n",
      "[-0.02089274 -0.03734408 -0.0090903   0.00069104 -0.0167656 ]\n",
      "[ 0.02437676 -0.00756691 -0.00697849  0.03052319  0.02773539]\n",
      "[ 0.0252328   0.01852461  0.00927091  0.00651423 -0.00223346]\n",
      "[-0.03145451  0.01470235 -0.00695939 -0.00024724  0.02714662]\n",
      "[-0.00482713  0.00142157  0.01677866  0.01226856  0.0010498 ]\n",
      "[ 0.00116244 -0.01761185 -0.00915927 -0.01366289  0.01579559]\n",
      "[ 0.0083222   0.00026993 -0.00841473 -0.01369158 -0.03777902]\n",
      "[-0.01897958 -0.0013088  -0.00223029  0.00668095 -0.02837602]\n",
      "[ 0.00801958  0.00894725  0.01154295  0.00996732 -0.01849142]\n",
      "[ 0.00794348  0.01262892  0.01358004 -0.02834451 -0.01050968]\n",
      "[ 0.01479325 -0.02764282  0.02032934 -0.01516911 -0.02420769]\n",
      "[ 6.48741685e-05  1.55937940e-02 -8.63345022e-03  1.10797908e-02\n",
      " -2.20488867e-02]\n",
      "[ 0.01032376  0.0036628   0.03610289 -0.03780797 -0.01108558]\n",
      "[-0.01315695  0.02702273  0.00627238  0.00758954  0.0197275 ]\n",
      "[ 0.01111611  0.00455154 -0.01208451  0.00811077 -0.01036562]\n",
      "[-0.0155195   0.01656185  0.01025912  0.02284043  0.00444757]\n",
      "[-0.01680674  0.0030297  -0.00260692 -0.00944214 -0.0129453 ]\n",
      "[ 0.00439037  0.00150098 -0.00694871 -0.00919541  0.01470625]\n",
      "[-0.00337701 -0.00679857  0.01552647 -0.00841325  0.00986726]\n",
      "[-0.00052591  0.0276439  -0.01317263 -0.01019261  0.00475685]\n",
      "[-1.84896403e-02  3.41070471e-03  1.11571593e-02  9.41573294e-03\n",
      "  9.99261774e-05]\n",
      "[0.01648224 0.00642596 0.00640394 0.00718286 0.00970699]\n",
      "[ 0.01001916 -0.00631698 -0.01551572 -0.01796238  0.00143041]\n",
      "[ 0.01055662 -0.00083422  0.00828017  0.02200702 -0.04668607]\n",
      "[-0.00566552 -0.01674445 -0.00678037  0.01877835 -0.00396326]\n",
      "[-0.0382858   0.01126481 -0.01877818 -0.0244184  -0.00156326]\n",
      "[ 0.00321063 -0.0113949  -0.01797047  0.00573833 -0.000259  ]\n",
      "[ 0.00666064  0.00874919 -0.02246081  0.00848704 -0.02385203]\n",
      "[ 0.03341188 -0.02638314  0.05150311  0.01042819 -0.02146648]\n",
      "[0.01342663 0.00339295 0.00047662 0.00936212 0.02498385]\n",
      "[-0.02133528 -0.0037041   0.02797533  0.01767089  0.01011519]\n",
      "[ 0.00493165  0.02341662 -0.00062464  0.00554805 -0.00988063]\n",
      "[-0.01538604 -0.01490913  0.01194373 -0.01495726 -0.0065579 ]\n",
      "[-0.00685504  0.00471192 -0.00702506  0.00177564 -0.03147096]\n",
      "[-0.00137365  0.00104935  0.0010385   0.02316497  0.01156872]\n",
      "[-0.03304168 -0.00521536  0.03882778  0.0156989   0.00404378]\n",
      "[-0.00792258 -0.01683416 -0.0190596   0.02956919 -0.0346233 ]\n",
      "[ 0.00423405  0.01394675 -0.00056256 -0.02494787 -0.02977274]\n",
      "[ 0.00042915 -0.00834765 -0.00457841  0.01716952  0.0340825 ]\n",
      "[-0.02175541  0.00030321  0.02170528 -0.01534615 -0.01238504]\n",
      "[-0.00387156  0.01025793  0.0226507   0.00257536  0.00342953]\n",
      "[0.01039997 0.02339524 0.03978525 0.01313765 0.01935781]\n",
      "[ 0.00027158 -0.02983096 -0.00555734  0.00627307  0.01106771]\n",
      "[-0.00147089 -0.02458457 -0.0124654  -0.02053452  0.01286492]\n",
      "[ 0.00527384 -0.04594101  0.04363283  0.00651871  0.02355506]\n",
      "[-0.01433269 -0.00542705 -0.00287616 -0.00282895  0.01577858]\n",
      "[ 0.00701767  0.02404602 -0.01533253 -0.03637366  0.00455474]\n",
      "[ 0.00121014 -0.0265458   0.01056279  0.02059003 -0.00875855]\n",
      "[-0.01367898  0.01349658  0.017892   -0.01130402  0.00330204]\n",
      "[ 0.01442214  0.01311334 -0.01404642  0.02634197 -0.0060094 ]\n",
      "[ 0.01644413 -0.00538251 -0.00722571  0.00692722 -0.00498887]\n",
      "[ 0.01039886  0.00024927 -0.01236159 -0.02478995 -0.02209485]\n",
      "[ 0.00275879 -0.0205124  -0.01317028 -0.00971381  0.00648609]\n",
      "[0.02424799 0.01181629 0.02015542 0.01354316 0.00236931]\n",
      "[ 0.00423145 -0.01670816 -0.0183619   0.0401179  -0.00477224]\n",
      "[ 0.02061924 -0.00324322 -0.03469232 -0.00978567 -0.00531869]\n",
      "[ 0.01325512 -0.02587745  0.02569996 -0.00369277 -0.02378188]\n",
      "[-0.01616763 -0.00147183 -0.00582007 -0.01073985 -0.00499691]\n",
      "[ 0.00479221 -0.01036469  0.02037071 -0.01138089 -0.02111271]\n",
      "[-0.00042901  0.00921828  0.01484841  0.01729201  0.0232793 ]\n",
      "[ 0.00345558 -0.00169635  0.03252435  0.0160109  -0.02715913]\n",
      "[-0.00071531  0.01015447  0.01291336 -0.00245042 -0.00930446]\n",
      "[-0.02168962  0.00389927  0.00672047  0.01803794  0.00057685]\n",
      "[-0.00236143 -0.01972194 -0.00310506  0.01615047  0.02837673]\n",
      "[ 0.0001524   0.02881478  0.01966336 -0.02044979 -0.00513532]\n",
      "[ 0.01323571 -0.00400094 -0.0088465   0.01400706 -0.02389436]\n",
      "[ 0.0091159   0.01293502 -0.01579046 -0.01420149 -0.00437596]\n",
      "[-0.01774023 -0.01450352 -0.01113574 -0.00137341  0.0192933 ]\n",
      "[-0.00627231  0.01547426  0.01357518  0.00998441  0.01702171]\n",
      "[ 0.00681427  0.00062264 -0.00905569  0.0083259  -0.01368922]\n",
      "[0.03235681 0.01101971 0.01696416 0.01962783 0.00528952]\n",
      "[ 0.01617199 -0.02023275  0.02716858 -0.00017813 -0.00042114]\n",
      "[-0.01131766  0.01599871 -0.00649346 -0.01000028  0.00237153]\n",
      "[ 0.02652414 -0.00119351  0.01390551 -0.00485267 -0.00648113]\n",
      "[-0.00894029 -0.01372284  0.01117215 -0.05272486 -0.00461392]\n",
      "[-0.02656952  0.00437057 -0.0208504  -0.01606313  0.01842719]\n",
      "[-0.01825178  0.02308432  0.0202062  -0.00466366 -0.00497149]\n",
      "[ 0.01287529 -0.00409903 -0.01224527 -0.02468253 -0.00964188]\n",
      "[-0.01986065  0.02355062 -0.01870046  0.00942067  0.00394691]\n",
      "[ 0.01974615 -0.01152267 -0.01578262 -0.00234532 -0.00886651]\n",
      "[-0.0079016   0.00375895  0.00930342 -0.00594101 -0.00526999]\n",
      "[-0.01495051 -0.00405886 -0.00330167  0.02661201 -0.02963075]\n",
      "[ 0.00804086 -0.00695882 -0.01106761  0.04312284  0.01226365]\n",
      "[-0.02851296  0.01809855  0.03559375 -0.01135075  0.0198933 ]\n",
      "[-0.01758596 -0.00329298  0.01576601  0.01581022 -0.00578561]\n",
      "[ 0.01429139 -0.04776848 -0.01621829 -0.00666995 -0.02330843]\n",
      "[-0.00180441 -0.01706343 -0.01112582 -0.0046974  -0.01746604]\n",
      "[-0.02070884 -0.00496436 -0.00037374  0.0111478  -0.01259526]\n",
      "[ 0.03589277  0.01145335 -0.00972114 -0.00094839 -0.00735237]\n",
      "[ 0.01907228  0.01949622  0.00296611  0.00328028 -0.02134078]\n",
      "[-0.00315057 -0.00450441  0.00620967  0.02242745 -0.01069511]\n",
      "[-0.00834375 -0.03158447 -0.0043016  -0.00142405  0.01411761]\n",
      "[ 0.02378429 -0.00370995  0.01446482  0.01198049  0.00780724]\n",
      "[ 0.00055397 -0.008728   -0.00352028 -0.00050039 -0.00145594]\n",
      "[-2.13459150e-02  1.36210522e-02  9.82848334e-03 -2.52792046e-02\n",
      " -8.93198005e-05]\n",
      "[ 0.01143295 -0.00735084  0.00562678 -0.00386454 -0.02555543]\n",
      "[-0.00801467  0.01267452 -0.00487269  0.02359208 -0.00065171]\n",
      "[-0.00154475 -0.0061652  -0.03143804 -0.01006407 -0.00122283]\n",
      "[ 0.00165955 -0.00980031  0.01982414 -0.01126637 -0.00583459]\n",
      "[-0.00875728  0.00553918 -0.00513903 -0.01666029 -0.00343069]\n",
      "[-0.02515919 -0.01140877  0.01579106 -0.0085666  -0.01054911]\n",
      "[-0.01252448  0.00231413  0.00098105  0.01976908  0.01824211]\n",
      "[-0.02642212 -0.03212741 -0.01652984  0.02090688 -0.00097479]\n",
      "[ 0.00998166  0.00667862  0.01362662 -0.04259505  0.00479392]\n",
      "[ 0.00679861  0.01169115 -0.0032946   0.00582799  0.01915638]\n",
      "[ 0.02519165 -0.00875209  0.01205164 -0.01472176 -0.00943196]\n",
      "[-0.01398123 -0.01001388 -0.00078482  0.00118295  0.01891326]\n",
      "[-0.00678352  0.0015028   0.02620988  0.0106104  -0.01655877]\n",
      "[-0.03068499 -0.01627675 -0.01804748  0.01053077 -0.00218856]\n",
      "[-0.00770523  0.01533203 -0.01420164  0.004685    0.02473926]\n",
      "[ 0.00018697  0.01976097 -0.01938882  0.00169327  0.00140747]\n",
      "[-0.01321958 -0.0080501   0.01725902  0.01911841 -0.01573922]\n",
      "[ 0.01435583 -0.02266508  0.02382353 -0.00177122 -0.02568865]\n",
      "[ 0.00743474 -0.01425775 -0.0034566   0.02144977  0.0183732 ]\n",
      "[-0.01721347 -0.01595073  0.02298761 -0.00858877 -0.0438839 ]\n",
      "[ 0.01853538  0.00374552 -0.00841292 -0.02735454 -0.00432298]\n",
      "[-0.02696848 -0.0004798  -0.00679415 -0.00164122  0.0090044 ]\n",
      "[-0.01299329  0.01925623  0.00511109 -0.01248896  0.01341596]\n",
      "[-0.02764957 -0.01194102 -0.00656453 -0.01507736 -0.00306265]\n",
      "[-0.00894722 -0.01970139  0.0119217  -0.03046812  0.0024657 ]\n",
      "[ 0.00062759  0.02919302 -0.00067425 -0.00786435  0.02546431]\n",
      "[ 0.04025163  0.00820066 -0.01101352  0.011385    0.01425853]\n",
      "[-0.02572658 -0.00869796  0.01791901 -0.01501927 -0.00742588]\n",
      "[-0.01334624  0.01893571 -0.02593634 -0.02008356  0.02671374]\n",
      "[ 0.01375195 -0.00481584  0.03087765  0.00608823 -0.01321779]\n",
      "[-0.00304202  0.01122589  0.00875395  0.02557615  0.01032127]\n",
      "[ 0.01081484 -0.00746084  0.00029272  0.00767812 -0.00660901]\n",
      "[-0.00493189  0.0194909   0.00275273  0.00507886 -0.01876871]\n",
      "[-0.0035727  -0.01829489 -0.01238798  0.01401494 -0.00329418]\n",
      "[ 0.02013534 -0.02774306  0.00373421  0.00190729 -0.01819549]\n",
      "[ 2.33485445e-03 -9.46974571e-03 -8.11254822e-03 -4.99695839e-05\n",
      "  1.13158816e-02]\n",
      "[ 0.00573819 -0.0086543   0.04022219  0.00997219 -0.00985246]\n",
      "[ 0.00105294  0.01294046  0.00631939 -0.01187544 -0.01763813]\n",
      "[ 0.01678374 -0.00157227  0.01626419  0.0194738   0.02954694]\n",
      "[-0.01118128  0.004605    0.02346611 -0.0159843   0.00627957]\n",
      "[-0.00473547 -0.01258488  0.00764135 -0.0146564   0.0042547 ]\n",
      "[-0.0095852  -0.01069527  0.00449794 -0.01012156 -0.01560065]\n",
      "[ 0.0151628   0.02728992  0.00974524  0.00845737 -0.01402463]\n",
      "[-0.0017908  -0.00150532 -0.0097897  -0.0079369   0.01649191]\n",
      "[-0.01191295  0.00983658  0.0010516   0.00331748  0.01044295]\n",
      "[ 0.01594943 -0.00689045 -0.02684985  0.00078092 -0.00047548]\n",
      "[ 0.00221316 -0.01716204 -0.01566525  0.00877377  0.00363388]\n",
      "[-0.01600222  0.00210999 -0.02047907 -0.03424772  0.02761972]\n",
      "[ 0.02935701  0.00104841  0.00311701 -0.01263301  0.01436273]\n",
      "[-0.01520047 -0.00426927 -0.00649836 -0.00221161 -0.01604215]\n",
      "[ 0.01144736 -0.00101795 -0.00915275  0.00462945 -0.02119316]\n",
      "[-0.04550794  0.00090329  0.01105583  0.01759381 -0.00474434]\n",
      "[-0.00967736  0.01087482  0.02863818 -0.03269669  0.01076941]\n",
      "[ 0.01896024 -0.00707833 -0.00634243  0.01919443  0.00982438]\n",
      "[-0.00689542  0.01526172  0.00514957 -0.0136652   0.00240895]\n",
      "[-0.03080718 -0.00962556 -0.02256655 -0.02609326  0.01753814]\n",
      "[-0.01173518  0.0045041  -0.01412291  0.00165137  0.0299196 ]\n",
      "[-0.02448871 -0.01355705  0.00631873  0.00192677  0.0109804 ]\n",
      "[ 0.0210574  -0.00604352 -0.01480664 -0.00358949  0.03617316]\n",
      "[ 0.03213314 -0.0045597  -0.03161206 -0.00737115 -0.01476838]\n",
      "[-5.98796688e-03 -5.04705021e-05  3.10040928e-03  7.36554924e-03\n",
      " -1.50637213e-02]\n",
      "[-0.01199906 -0.00209029  0.01019152  0.00654768 -0.00347684]\n",
      "[-0.0074792   0.01234112 -0.00233874 -0.00031049 -0.00135507]\n",
      "[ 0.00430306  0.02408922  0.01227636 -0.00102491  0.0310803 ]\n",
      "[-0.00041622  0.00608535  0.01798705 -0.0091039  -0.0101047 ]\n",
      "[ 0.01043835 -0.00523601  0.00511532 -0.00187451 -0.00732025]\n",
      "[-0.01926945 -0.01359024  0.00128469  0.018024    0.01001712]\n",
      "[ 0.00550997  0.00126116 -0.01496504 -0.01678156  0.04041414]\n",
      "[-0.01231695 -0.00035825  0.00629274 -0.00098095 -0.02913842]\n",
      "[-0.0262534  -0.03530072 -0.00376678  0.00673553 -0.03606686]\n",
      "[ 0.0006386   0.02129314 -0.01489792  0.02062453 -0.00325296]\n",
      "[ 0.00230136 -0.01489827  0.00950466 -0.0257387  -0.01655989]\n",
      "[ 0.0247473   0.0003374  -0.04463984  0.01048385  0.00779956]\n",
      "[ 0.00404786  0.02125074  0.01583476  0.0004557  -0.00339556]\n",
      "[-0.00436572  0.01479638 -0.0084775   0.04140231 -0.00466672]\n",
      "[ 0.00535565  0.0035785   0.00703324 -0.01574833  0.00488844]\n",
      "[ 0.00464273 -0.01927272  0.00869561  0.00534682  0.00654531]\n",
      "[-0.01133588 -0.00341111 -0.00571853  0.00267709 -0.01717837]\n",
      "[ 0.01254765 -0.01136911 -0.00763063  0.02855432 -0.00395887]\n",
      "[ 0.01366614  0.01836223  0.00019875  0.01424539 -0.01681622]\n",
      "[-0.01688314 -0.02555079 -0.03461805  0.03431965 -0.00627561]\n",
      "[ 0.01497298  0.0153103  -0.00408617  0.02037411 -0.0125449 ]\n",
      "[-0.00738626 -0.02325619  0.0030692   0.01715554  0.00199669]\n",
      "[-0.00180241 -0.01062647 -0.00365457 -0.02114424 -0.0079488 ]\n"
     ]
    },
    {
     "data": {
      "text/html": [
       "<div>\n",
       "<style scoped>\n",
       "    .dataframe tbody tr th:only-of-type {\n",
       "        vertical-align: middle;\n",
       "    }\n",
       "\n",
       "    .dataframe tbody tr th {\n",
       "        vertical-align: top;\n",
       "    }\n",
       "\n",
       "    .dataframe thead th {\n",
       "        text-align: right;\n",
       "    }\n",
       "</style>\n",
       "<table border=\"1\" class=\"dataframe\">\n",
       "  <thead>\n",
       "    <tr style=\"text-align: right;\">\n",
       "      <th></th>\n",
       "    </tr>\n",
       "  </thead>\n",
       "  <tbody>\n",
       "  </tbody>\n",
       "</table>\n",
       "</div>"
      ],
      "text/plain": [
       "Empty DataFrame\n",
       "Columns: []\n",
       "Index: []"
      ]
     },
     "execution_count": 813,
     "metadata": {},
     "output_type": "execute_result"
    }
   ],
   "source": [
    "xxx = daily_returns(data, days = 250, iterations = 10)\n",
    "pd.DataFrame(xxx)"
   ]
  },
  {
   "cell_type": "code",
   "execution_count": null,
   "metadata": {},
   "outputs": [],
   "source": []
  },
  {
   "cell_type": "code",
   "execution_count": null,
   "metadata": {},
   "outputs": [],
   "source": []
  },
  {
   "cell_type": "code",
   "execution_count": null,
   "metadata": {},
   "outputs": [],
   "source": []
  },
  {
   "cell_type": "code",
   "execution_count": 681,
   "metadata": {},
   "outputs": [],
   "source": [
    "stock1 = xxx[0]\n",
    "stock2 = xxx[1]"
   ]
  },
  {
   "cell_type": "code",
   "execution_count": 682,
   "metadata": {},
   "outputs": [],
   "source": [
    "price_list1 = np.zeros_like(stock1)\n",
    "price_list2 = np.zeros_like(stock2)"
   ]
  },
  {
   "cell_type": "code",
   "execution_count": 683,
   "metadata": {},
   "outputs": [],
   "source": [
    "price_list1[0] = data.iloc[-1,0]\n",
    "price_list2[0] = data.iloc[-1,1]"
   ]
  },
  {
   "cell_type": "code",
   "execution_count": 684,
   "metadata": {},
   "outputs": [
    {
     "ename": "IndexError",
     "evalue": "index 10 is out of bounds for axis 0 with size 10",
     "output_type": "error",
     "traceback": [
      "\u001b[1;31m---------------------------------------------------------------------------\u001b[0m",
      "\u001b[1;31mIndexError\u001b[0m                                Traceback (most recent call last)",
      "\u001b[1;32m<ipython-input-684-1650fc791208>\u001b[0m in \u001b[0;36m<module>\u001b[1;34m\u001b[0m\n\u001b[0;32m      1\u001b[0m \u001b[1;32mfor\u001b[0m \u001b[0mt\u001b[0m \u001b[1;32min\u001b[0m \u001b[0mrange\u001b[0m\u001b[1;33m(\u001b[0m\u001b[1;36m1\u001b[0m\u001b[1;33m,\u001b[0m\u001b[1;36m250\u001b[0m\u001b[1;33m)\u001b[0m\u001b[1;33m:\u001b[0m\u001b[1;33m\u001b[0m\u001b[1;33m\u001b[0m\u001b[0m\n\u001b[1;32m----> 2\u001b[1;33m     \u001b[0mprice_list1\u001b[0m\u001b[1;33m[\u001b[0m\u001b[0mt\u001b[0m\u001b[1;33m]\u001b[0m \u001b[1;33m=\u001b[0m \u001b[0mprice_list1\u001b[0m\u001b[1;33m[\u001b[0m\u001b[0mt\u001b[0m\u001b[1;33m-\u001b[0m\u001b[1;36m1\u001b[0m\u001b[1;33m]\u001b[0m\u001b[1;33m*\u001b[0m\u001b[0mstock1\u001b[0m\u001b[1;33m[\u001b[0m\u001b[0mt\u001b[0m\u001b[1;33m]\u001b[0m\u001b[1;33m\u001b[0m\u001b[1;33m\u001b[0m\u001b[0m\n\u001b[0m\u001b[0;32m      3\u001b[0m     \u001b[0mprice_list2\u001b[0m\u001b[1;33m[\u001b[0m\u001b[0mt\u001b[0m\u001b[1;33m]\u001b[0m \u001b[1;33m=\u001b[0m \u001b[0mprice_list2\u001b[0m\u001b[1;33m[\u001b[0m\u001b[0mt\u001b[0m\u001b[1;33m-\u001b[0m\u001b[1;36m1\u001b[0m\u001b[1;33m]\u001b[0m\u001b[1;33m*\u001b[0m\u001b[0mstock2\u001b[0m\u001b[1;33m[\u001b[0m\u001b[0mt\u001b[0m\u001b[1;33m]\u001b[0m\u001b[1;33m\u001b[0m\u001b[1;33m\u001b[0m\u001b[0m\n",
      "\u001b[1;31mIndexError\u001b[0m: index 10 is out of bounds for axis 0 with size 10"
     ]
    }
   ],
   "source": [
    "for t in range(1,250):\n",
    "    price_list1[t] = price_list1[t-1]*stock1[t]\n",
    "    price_list2[t] = price_list2[t-1]*stock2[t]"
   ]
  },
  {
   "cell_type": "code",
   "execution_count": 685,
   "metadata": {},
   "outputs": [
    {
     "data": {
      "text/plain": [
       "<matplotlib.axes._subplots.AxesSubplot at 0x238ea190348>"
      ]
     },
     "execution_count": 685,
     "metadata": {},
     "output_type": "execute_result"
    },
    {
     "data": {
      "image/png": "[encoded data removed]",
      "text/plain": [
       "<Figure size 432x288 with 1 Axes>"
      ]
     },
     "metadata": {
      "needs_background": "light"
     },
     "output_type": "display_data"
    }
   ],
   "source": [
    "pd.DataFrame(price_list1).plot()"
   ]
  },
  {
   "cell_type": "code",
   "execution_count": 686,
   "metadata": {},
   "outputs": [
    {
     "data": {
      "text/plain": [
       "array([0.01582102, 0.01579913, 0.02508055])"
      ]
     },
     "execution_count": 686,
     "metadata": {},
     "output_type": "execute_result"
    }
   ],
   "source": [
    "stv = log_returns(data).std()\n",
    "stv.values"
   ]
  },
  {
   "cell_type": "code",
   "execution_count": 572,
   "metadata": {},
   "outputs": [
    {
     "data": {
      "text/plain": [
       "[<matplotlib.lines.Line2D at 0x238e7f0e808>]"
      ]
     },
     "execution_count": 572,
     "metadata": {},
     "output_type": "execute_result"
    },
    {
     "data": {
      "image/png": "[encoded data removed]",
      "text/plain": [
       "<Figure size 432x288 with 1 Axes>"
      ]
     },
     "metadata": {
      "needs_background": "light"
     },
     "output_type": "display_data"
    }
   ],
   "source": [
    "plt.plot(path_b, label = 'stock A', linewidth = 2)\n",
    "plt.plot(path_a)"
   ]
  },
  {
   "cell_type": "code",
   "execution_count": null,
   "metadata": {},
   "outputs": [],
   "source": []
  },
  {
   "cell_type": "code",
   "execution_count": null,
   "metadata": {},
   "outputs": [],
   "source": []
  },
  {
   "cell_type": "code",
   "execution_count": 15,
   "metadata": {},
   "outputs": [],
   "source": [
    "from scipy.stats import multivariate_normal\n",
    "multivariate_normal."
   ]
  },
  {
   "cell_type": "code",
   "execution_count": 626,
   "metadata": {},
   "outputs": [
    {
     "data": {
      "text/plain": [
       "array([[-0.03359063,  0.0203465 ],\n",
       "       [-0.0121689 ,  0.00981183],\n",
       "       [ 0.0170836 ,  0.00869911],\n",
       "       [ 0.02294507,  0.00722137],\n",
       "       [ 0.00447463,  0.0258734 ],\n",
       "       [-0.00591023, -0.00898699],\n",
       "       [ 0.01314865,  0.00510189],\n",
       "       [ 0.01273059,  0.01416167],\n",
       "       [-0.00710064, -0.01984411],\n",
       "       [-0.02975933,  0.00459368],\n",
       "       [-0.01437084,  0.00067072],\n",
       "       [ 0.01294426,  0.02729374],\n",
       "       [-0.02051075, -0.02345113],\n",
       "       [ 0.0316306 ,  0.01259794],\n",
       "       [-0.0016515 ,  0.00738523],\n",
       "       [ 0.01201199, -0.00350337],\n",
       "       [ 0.0131466 ,  0.01564099],\n",
       "       [ 0.00770997, -0.00498231],\n",
       "       [-0.0116516 ,  0.01359717],\n",
       "       [ 0.01059225,  0.0138144 ]])"
      ]
     },
     "execution_count": 626,
     "metadata": {},
     "output_type": "execute_result"
    }
   ],
   "source": [
    "np.random.multivariate_normal((log_return.mean()),covi,20)"
   ]
  },
  {
   "cell_type": "code",
   "execution_count": null,
   "metadata": {},
   "outputs": [],
   "source": []
  }
 ],
 "metadata": {
  "kernelspec": {
   "display_name": "Python 3",
   "language": "python",
   "name": "python3"
  },
  "language_info": {
   "codemirror_mode": {
    "name": "ipython",
    "version": 3
   },
   "file_extension": ".py",
   "mimetype": "text/x-python",
   "name": "python",
   "nbconvert_exporter": "python",
   "pygments_lexer": "ipython3",
   "version": "3.7.4"
  }
 },
 "nbformat": 4,
 "nbformat_minor": 2
}
