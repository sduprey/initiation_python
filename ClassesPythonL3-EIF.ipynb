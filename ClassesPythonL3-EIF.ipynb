{
 "cells": [
  {
   "cell_type": "code",
   "execution_count": 43,
   "id": "6f9788e3",
   "metadata": {},
   "outputs": [],
   "source": [
    "from typing import List\n",
    "from enum import Enum\n",
    "from dataclasses import dataclass\n",
    "from numpy import random"
   ]
  },
  {
   "cell_type": "code",
   "execution_count": 25,
   "id": "38a0aa0a",
   "metadata": {},
   "outputs": [],
   "source": [
    "class Color(Enum):\n",
    "    BLUE=\"BLUE\"\n",
    "    RED=\"RED\"\n",
    "    WHITE=\"WHITE\"\n",
    "    GREEN=\"GREEN\""
   ]
  },
  {
   "cell_type": "code",
   "execution_count": 26,
   "id": "1be52f72",
   "metadata": {},
   "outputs": [],
   "source": [
    "class Car:\n",
    "    def __init__(self,\n",
    "    color:Color,\n",
    "    num_door:int,\n",
    "    id:str,\n",
    "    ):\n",
    "        self.color=color\n",
    "        self.num_door = num_door\n",
    "        self.id = id\n",
    "    \n",
    "    def __hash__(self):\n",
    "        return hash(self.id)\n",
    "    \n",
    "    def __repr__(self):\n",
    "        return str(self.__dict__)\n",
    "    \n",
    "        \n",
    "        "
   ]
  },
  {
   "cell_type": "code",
   "execution_count": 27,
   "id": "cfd0a285",
   "metadata": {},
   "outputs": [],
   "source": [
    "voiture = Car(Color.BLUE,5,\"AP-872-FP\")"
   ]
  },
  {
   "cell_type": "code",
   "execution_count": 28,
   "id": "3f0b0ecd",
   "metadata": {},
   "outputs": [
    {
     "data": {
      "text/plain": [
       "{'color': <Color.BLUE: 'BLUE'>, 'num_door': 5, 'id': 'AP-872-FP'}"
      ]
     },
     "execution_count": 28,
     "metadata": {},
     "output_type": "execute_result"
    }
   ],
   "source": [
    "voiture"
   ]
  },
  {
   "cell_type": "code",
   "execution_count": 29,
   "id": "09225269",
   "metadata": {},
   "outputs": [
    {
     "data": {
      "text/plain": [
       "-2555161654119926670"
      ]
     },
     "execution_count": 29,
     "metadata": {},
     "output_type": "execute_result"
    }
   ],
   "source": [
    "hash(voiture)"
   ]
  },
  {
   "cell_type": "code",
   "execution_count": 30,
   "id": "62135ecf",
   "metadata": {},
   "outputs": [],
   "source": [
    "@dataclass\n",
    "class CarDataClass:\n",
    "    color:Color\n",
    "    num_door:int\n",
    "    id:str\n",
    "        \n",
    "    def __post_init__(self):\n",
    "        print(\"Before creation of the instance\")\n",
    "    def __hash__(self):\n",
    "        return hash(self.id)\n",
    "    "
   ]
  },
  {
   "cell_type": "code",
   "execution_count": 31,
   "id": "1d21d8e3",
   "metadata": {},
   "outputs": [
    {
     "name": "stdout",
     "output_type": "stream",
     "text": [
      "Before creation of the instance\n"
     ]
    }
   ],
   "source": [
    "voiture_data_class = CarDataClass(Color.BLUE,5,\"AP-872-FP\")"
   ]
  },
  {
   "cell_type": "code",
   "execution_count": 32,
   "id": "a4b99345",
   "metadata": {},
   "outputs": [
    {
     "data": {
      "text/plain": [
       "CarDataClass(color=<Color.BLUE: 'BLUE'>, num_door=5, id='AP-872-FP')"
      ]
     },
     "execution_count": 32,
     "metadata": {},
     "output_type": "execute_result"
    }
   ],
   "source": [
    "voiture_data_class"
   ]
  },
  {
   "cell_type": "code",
   "execution_count": 33,
   "id": "b2c68d03",
   "metadata": {},
   "outputs": [
    {
     "data": {
      "text/plain": [
       "-2555161654119926670"
      ]
     },
     "execution_count": 33,
     "metadata": {},
     "output_type": "execute_result"
    }
   ],
   "source": [
    "hash(voiture_data_class)"
   ]
  },
  {
   "cell_type": "code",
   "execution_count": 34,
   "id": "fcc94907",
   "metadata": {},
   "outputs": [],
   "source": [
    "ids = (\"AP-872-FP\",\"AP-873-FP\",\"AP-874-FP\",\"AP-875-FP\")"
   ]
  },
  {
   "cell_type": "code",
   "execution_count": 35,
   "id": "2892ae22",
   "metadata": {},
   "outputs": [],
   "source": [
    "colors = (Color.BLUE,Color.RED,Color.WHITE,Color.GREEN)"
   ]
  },
  {
   "cell_type": "code",
   "execution_count": 36,
   "id": "efb208fb",
   "metadata": {},
   "outputs": [],
   "source": [
    "num_doors_of_cars = (5,5,5,3)"
   ]
  },
  {
   "cell_type": "code",
   "execution_count": 37,
   "id": "48b68b91",
   "metadata": {},
   "outputs": [
    {
     "name": "stdout",
     "output_type": "stream",
     "text": [
      "Before creation of the instance\n",
      "Before creation of the instance\n",
      "Before creation of the instance\n",
      "Before creation of the instance\n"
     ]
    }
   ],
   "source": [
    "list_of_cars = list((CarDataClass(*item) for item in zip(colors,num_doors_of_cars,ids)))"
   ]
  },
  {
   "cell_type": "code",
   "execution_count": 38,
   "id": "58ec0093",
   "metadata": {},
   "outputs": [
    {
     "data": {
      "text/plain": [
       "[CarDataClass(color=<Color.BLUE: 'BLUE'>, num_door=5, id='AP-872-FP'),\n",
       " CarDataClass(color=<Color.RED: 'RED'>, num_door=5, id='AP-873-FP'),\n",
       " CarDataClass(color=<Color.WHITE: 'WHITE'>, num_door=5, id='AP-874-FP'),\n",
       " CarDataClass(color=<Color.GREEN: 'GREEN'>, num_door=3, id='AP-875-FP')]"
      ]
     },
     "execution_count": 38,
     "metadata": {},
     "output_type": "execute_result"
    }
   ],
   "source": [
    "list_of_cars"
   ]
  },
  {
   "cell_type": "code",
   "execution_count": 39,
   "id": "3c34707f",
   "metadata": {},
   "outputs": [
    {
     "data": {
      "text/plain": [
       "[CarDataClass(color=<Color.RED: 'RED'>, num_door=5, id='AP-873-FP')]"
      ]
     },
     "execution_count": 39,
     "metadata": {},
     "output_type": "execute_result"
    }
   ],
   "source": [
    "list(filter(lambda x:x.color==Color.RED,list_of_cars))"
   ]
  },
  {
   "cell_type": "code",
   "execution_count": 40,
   "id": "534bcd09",
   "metadata": {},
   "outputs": [
    {
     "data": {
      "text/plain": [
       "[CarDataClass(color=<Color.GREEN: 'GREEN'>, num_door=3, id='AP-875-FP')]"
      ]
     },
     "execution_count": 40,
     "metadata": {},
     "output_type": "execute_result"
    }
   ],
   "source": [
    "list(filter(lambda x:x.color==Color.GREEN,list_of_cars))"
   ]
  },
  {
   "cell_type": "code",
   "execution_count": 41,
   "id": "8be9557e",
   "metadata": {},
   "outputs": [
    {
     "data": {
      "text/plain": [
       "[CarDataClass(color=<Color.RED: 'RED'>, num_door=5, id='AP-873-FP')]"
      ]
     },
     "execution_count": 41,
     "metadata": {},
     "output_type": "execute_result"
    }
   ],
   "source": [
    "list(filter(lambda x:x.id==\"AP-873-FP\",list_of_cars))"
   ]
  },
  {
   "cell_type": "code",
   "execution_count": 42,
   "id": "15033cc7",
   "metadata": {},
   "outputs": [],
   "source": [
    "@dataclass\n",
    "class IdCard:\n",
    "    id:int\n",
    "    name:str\n",
    "    surname:str\n",
    "        \n",
    "    def __hash__(self):\n",
    "        return hash(self.id)\n",
    "    \n",
    "    \n",
    "    "
   ]
  },
  {
   "cell_type": "code",
   "execution_count": 53,
   "id": "e4d54d20",
   "metadata": {},
   "outputs": [],
   "source": [
    "ids_cards = list(random.randint(low=10000, high=1000000,size=5))"
   ]
  },
  {
   "cell_type": "code",
   "execution_count": 54,
   "id": "95749175",
   "metadata": {},
   "outputs": [],
   "source": [
    "name = (\"Baba\",\"Rara\",\"Tata\",\"Brigt\",\"Long\")"
   ]
  },
  {
   "cell_type": "code",
   "execution_count": 55,
   "id": "4800eb2f",
   "metadata": {},
   "outputs": [],
   "source": [
    "prenom = (\"Hugo\",\"Thomas\",\"Lucas\",\"Léa\",\"Leo\")"
   ]
  },
  {
   "cell_type": "code",
   "execution_count": 57,
   "id": "cc50b6e4",
   "metadata": {},
   "outputs": [],
   "source": [
    "list_of_id = list((IdCard(*item) for item in zip(ids_cards,name,prenom)))"
   ]
  },
  {
   "cell_type": "code",
   "execution_count": 58,
   "id": "497d2d02",
   "metadata": {},
   "outputs": [
    {
     "data": {
      "text/plain": [
       "[IdCard(id=448383, name='Baba', surname='Hugo'),\n",
       " IdCard(id=796279, name='Rara', surname='Thomas'),\n",
       " IdCard(id=621947, name='Tata', surname='Lucas'),\n",
       " IdCard(id=672505, name='Brigt', surname='Léa'),\n",
       " IdCard(id=133950, name='Long', surname='Leo')]"
      ]
     },
     "execution_count": 58,
     "metadata": {},
     "output_type": "execute_result"
    }
   ],
   "source": [
    "list_of_id"
   ]
  },
  {
   "cell_type": "code",
   "execution_count": 65,
   "id": "74300e6b",
   "metadata": {},
   "outputs": [
    {
     "data": {
      "text/plain": [
       "[IdCard(id=133950, name='Long', surname='Leo'),\n",
       " IdCard(id=448383, name='Baba', surname='Hugo'),\n",
       " IdCard(id=621947, name='Tata', surname='Lucas'),\n",
       " IdCard(id=672505, name='Brigt', surname='Léa'),\n",
       " IdCard(id=796279, name='Rara', surname='Thomas')]"
      ]
     },
     "execution_count": 65,
     "metadata": {},
     "output_type": "execute_result"
    }
   ],
   "source": [
    "sorted(list_of_id,key=lambda x:x.id)"
   ]
  },
  {
   "cell_type": "code",
   "execution_count": 66,
   "id": "2e3ae8c4",
   "metadata": {},
   "outputs": [
    {
     "data": {
      "text/plain": [
       "[IdCard(id=133950, name='Long', surname='Leo'),\n",
       " IdCard(id=448383, name='Baba', surname='Hugo'),\n",
       " IdCard(id=621947, name='Tata', surname='Lucas'),\n",
       " IdCard(id=672505, name='Brigt', surname='Léa'),\n",
       " IdCard(id=796279, name='Rara', surname='Thomas')]"
      ]
     },
     "execution_count": 66,
     "metadata": {},
     "output_type": "execute_result"
    }
   ],
   "source": [
    "sorted(list_of_id,key=lambda x:x.id,reverse=False)"
   ]
  },
  {
   "cell_type": "code",
   "execution_count": 67,
   "id": "21a6f560",
   "metadata": {},
   "outputs": [
    {
     "data": {
      "text/plain": [
       "[IdCard(id=796279, name='Rara', surname='Thomas'),\n",
       " IdCard(id=672505, name='Brigt', surname='Léa'),\n",
       " IdCard(id=621947, name='Tata', surname='Lucas'),\n",
       " IdCard(id=448383, name='Baba', surname='Hugo'),\n",
       " IdCard(id=133950, name='Long', surname='Leo')]"
      ]
     },
     "execution_count": 67,
     "metadata": {},
     "output_type": "execute_result"
    }
   ],
   "source": [
    "sorted(list_of_id,key=lambda x:x.id,reverse=True)"
   ]
  },
  {
   "cell_type": "code",
   "execution_count": null,
   "id": "53f2ce6e",
   "metadata": {},
   "outputs": [],
   "source": []
  }
 ],
 "metadata": {
  "kernelspec": {
   "display_name": "Python 3 (ipykernel)",
   "language": "python",
   "name": "python3"
  },
  "language_info": {
   "codemirror_mode": {
    "name": "ipython",
    "version": 3
   },
   "file_extension": ".py",
   "mimetype": "text/x-python",
   "name": "python",
   "nbconvert_exporter": "python",
   "pygments_lexer": "ipython3",
   "version": "3.9.5"
  }
 },
 "nbformat": 4,
 "nbformat_minor": 5
}
