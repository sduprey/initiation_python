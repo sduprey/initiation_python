{
 "cells": [
  {
   "cell_type": "markdown",
   "metadata": {},
   "source": [
    "## Fonctions et conditions\n",
    "\n",
    "#### 1- Créer une fonction permettant de determiner la catégorie d'un quadrilatere (carré, rectangle, losange, quelquonque) en fonction de la position de ses sommets (sous la forme de tuple)\n",
    "(pour se simplier la vie, on pourra considerer que l'ordre des sommets mis en entré de la fonction est juste et forme bien un quadrilatère) "
   ]
  },
  {
   "cell_type": "code",
   "execution_count": null,
   "metadata": {},
   "outputs": [],
   "source": [
    "A=(0,1)\n",
    "B=(1,1)\n",
    "C=(1,0)\n",
    "D=(0,0)\n",
    "\n",
    "def categorie(A,B,C,D):\n",
    "    return None\n",
    "\n",
    "categorie(A,B,C,D)"
   ]
  },
  {
   "cell_type": "markdown",
   "metadata": {},
   "source": [
    "#### 2- Ne serait-il pas possible de separer cette fonction en plusieurs sous-fonction ? Trouver un découpage adapté."
   ]
  },
  {
   "cell_type": "code",
   "execution_count": null,
   "metadata": {},
   "outputs": [],
   "source": []
  },
  {
   "cell_type": "markdown",
   "metadata": {},
   "source": [
    "#### 3- Créer une fonction renvoyant le nombre de caractère commun à deux chaines de caractère puis à deux listes"
   ]
  },
  {
   "cell_type": "code",
   "execution_count": null,
   "metadata": {},
   "outputs": [],
   "source": []
  },
  {
   "cell_type": "markdown",
   "metadata": {},
   "source": [
    "## Classes:\n",
    "#### Créer une \"Histo\" qui permettra de stocker des \"bars\" (cf cours 1). La classe doit implementer des fonctions permettant d'ajouter de nouvelles bars, de renvoyer la date de la plus anciennes bar, et de la plus récente (le temps peut etre mis sous forme de nombre ou de Timestamp (pandas.Timestamp)), ainsi que de renvoyer l'ensemble des bars entre deux dates."
   ]
  },
  {
   "cell_type": "code",
   "execution_count": null,
   "metadata": {},
   "outputs": [],
   "source": []
  },
  {
   "cell_type": "markdown",
   "metadata": {},
   "source": [
    "## Packages:\n",
    "#### Pour utiliser des packages, il est necessaire de lire la documentation en ligne et d'être autonome. Utiliser la documentation de matplotlib.pyplot https://matplotlib.org/stable/api/_as_gen/matplotlib.pyplot.html et celle de pandas pour lire un csv de donnéee de prix puis tracer sa courbe. "
   ]
  },
  {
   "cell_type": "code",
   "execution_count": null,
   "metadata": {},
   "outputs": [],
   "source": []
  }
 ],
 "metadata": {
  "kernelspec": {
   "display_name": "Python 3",
   "language": "python",
   "name": "python3"
  },
  "language_info": {
   "codemirror_mode": {
    "name": "ipython",
    "version": 3
   },
   "file_extension": ".py",
   "mimetype": "text/x-python",
   "name": "python",
   "nbconvert_exporter": "python",
   "pygments_lexer": "ipython3",
   "version": "3.7.0"
  }
 },
 "nbformat": 4,
 "nbformat_minor": 4
}
