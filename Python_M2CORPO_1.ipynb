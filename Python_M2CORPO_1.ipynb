{
 "cells": [
  {
   "cell_type": "markdown",
   "metadata": {},
   "source": [
    "<center>\n",
    "    <img src=\"https://upload.wikimedia.org/wikipedia/commons/6/6f/Dauphine_logo_2019_-_Bleu.png\" style=\"width: 600px;\"/> \n",
    "</center>  "
   ]
  },
  {
   "cell_type": "markdown",
   "metadata": {},
   "source": [
    "<div align=\"center\"><span style=\"font-family:Arial Black;font-size:32px;color:darkblue\"> Python</span></div>"
   ]
  },
  {
   "cell_type": "markdown",
   "metadata": {},
   "source": [
    "<div align=\"center\"><span style=\"font-family:Arial Black;font-size:20px;color:darkblue\">Séances 1 et 2 - Cours</span></div>"
   ]
  },
  {
   "cell_type": "markdown",
   "metadata": {},
   "source": [
    "# Installation"
   ]
  },
  {
   "cell_type": "markdown",
   "metadata": {},
   "source": [
    "## Installation d'Anaconda"
   ]
  },
  {
   "cell_type": "markdown",
   "metadata": {
    "ExecuteTime": {
     "end_time": "2020-01-30T10:21:20.215100Z",
     "start_time": "2020-01-30T10:21:20.209849Z"
    }
   },
   "source": [
    "Depuis le site : https://www.anaconda.com/download/\n",
    "\n",
    "Il faut télécharger la distribution Anaconda avec Python 3, et prendre la version correspondant à votre installation de Windows : 32 ou 64 bits.\n",
    "\n",
    "(Vous pouvez trouver cette information dans \"Panneau de configuration\\Système\", à la ligne \"Type du système\")\n",
    "\n",
    "(Raccourci clavier : Windows + Pause)\n",
    "\n",
    "Puis il faut executer le fichier téléchargé et suivre la procédure. Les seuls éléments à vérifier sont :\n",
    "* Choisir \"Installer pour un seul utilisateur\" (permet de ne pas avoir besoin des droits d'administration de la machine)\n",
    "* Pour l'emplacement d'Anaconda, modifier en : C:\\Users\\\\{username}\\\\Anaconda3\n",
    "* Toujours rajouter l'installation au PATH afin de pouvoir y faire appel depuis cmd"
   ]
  },
  {
   "cell_type": "markdown",
   "metadata": {},
   "source": [
    "## How-to : Pour ouvrir une console de commande sous Windows"
   ]
  },
  {
   "cell_type": "markdown",
   "metadata": {},
   "source": [
    "Windows 7, 8 et 10:\n",
    "* Cliquer avec le bouton gauche de la souris dans le menu démarrer de Windows.\n",
    "* Cliquer sur la barre de recherche du menu démarrer\n",
    "* Taper cmd sur le clavier\n",
    "* Cliquer sur **Invite de commande**\n",
    "\n",
    "Ou\n",
    "\n",
    "* Appuyer sur les touches de clavier \"Windows\" et R en même temps (R pour run) \n",
    "* Dans la fenêtre qui apparait, taper **cmd** dans le champ Ouvrir.\n",
    "* Cliquer sur OK.\n"
   ]
  },
  {
   "cell_type": "markdown",
   "metadata": {},
   "source": [
    "Une ligne de l'invite de commande commence toujours par l'**adresse du dossier** dans lequel on se trouve.\n",
    "\n",
    "Cette adresse commence par la **lettre du périphérique**. **C** est toujours le disque dur principal, s'il y a deux disques durs, le deuxième est généralement **D**, etc.\n",
    "\n",
    "Par exemple **C:\\Users\\yourname>**"
   ]
  },
  {
   "cell_type": "markdown",
   "metadata": {},
   "source": [
    "## Installation des extensions de Notebook"
   ]
  },
  {
   "cell_type": "markdown",
   "metadata": {},
   "source": [
    "La première fois qu'on installe Anaconda, il faut installer les nbextensions en tappant dans une console Windows :"
   ]
  },
  {
   "cell_type": "markdown",
   "metadata": {},
   "source": [
    "> cd %USERPROFILE%\\Anaconda3\\Scripts"
   ]
  },
  {
   "cell_type": "markdown",
   "metadata": {},
   "source": [
    "Si à la suite de cette commande aucune erreur n'est affichée mais que l'adresse du dossier ne finit pas par **\\Scripts>**, c'est que le dossier en question n'est pas sur le bon périphérique, on peut alors essayer de changer de périphérique en tappant par exemple **D:** pour aller sur le périphérique **D**.\n",
    "\n",
    "Puis on tappe :"
   ]
  },
  {
   "cell_type": "markdown",
   "metadata": {},
   "source": [
    "> conda install -c conda-forge jupyter_contrib_nbextensions"
   ]
  },
  {
   "cell_type": "markdown",
   "metadata": {},
   "source": [
    "## Lancement de Jupyter"
   ]
  },
  {
   "cell_type": "markdown",
   "metadata": {},
   "source": [
    "Il existe un raccourci dans le dossier **Anaconda3 (XX-bit)** du **menu Démarrer**, un raccourci **Jupyter Notebook**. Celui-ci :\n",
    "\n",
    "- Lance le server local Jupyter (il ne faut surtout pas fermer la fenêtre de console)\n",
    "- Ouvre le navigateur par défaut à l'adresse http://localhost:8888\n",
    "\n",
    "C'est l'**interface de Jupyter**, c'est de là qu'on le contrôle.\n",
    "\n",
    "Elle dispose  de 4 onglets si les extensions ont bien été installées :\n",
    "- Files (un explorateur de fichier)\n",
    "- Running (une liste des des Notebooks actuellement ouverts)\n",
    "- Cluster (pour faire de la parallelisation de calcul)\n",
    "- Nbextensions (le menu permettant d'activer/désactiver des extensions)"
   ]
  },
  {
   "cell_type": "markdown",
   "metadata": {},
   "source": [
    "## Activation des extensions"
   ]
  },
  {
   "cell_type": "markdown",
   "metadata": {},
   "source": [
    "Jupyter dispose de nombreuses extensions, dont certaines sont très pratiques.\n",
    "\n",
    "Pour les activer, il faut aller dans l'onglet **Nbextensions** de l'**interface de Jupyter**"
   ]
  },
  {
   "cell_type": "markdown",
   "metadata": {},
   "source": [
    "Cases à cocher :\n",
    "* Collapsible Headings (permet de replier les sections)\n",
    "* ExecuteTime (permet d'indiquer le temps d'exécution des cellules de code)\n",
    "* Hinterland (permet l'autocomplétion)\n",
    "* Variable Inspector (permet d'afficher la valeur des variables en mémoire)\n",
    "* Table of Contents (2) (permet d'ajouter un sommaire)\n",
    "\n",
    "Cases qui sont normalement déjà cochées :\n",
    "* contrib_nbextensions_help_item\n",
    "* Nbextensions dashboard tab\n",
    "* Nbextensions edit menu item"
   ]
  },
  {
   "cell_type": "markdown",
   "metadata": {},
   "source": [
    "## Création d'un dossier de travail pour Jupyter"
   ]
  },
  {
   "cell_type": "markdown",
   "metadata": {},
   "source": [
    "On va commencer par créer un dossier qui contiendra l'ensemble de nos Notebooks Jupyter.\n",
    "\n",
    "Pour faire cela :\n",
    "- Aller sur l'**interface de Jupyter**, dans l'onglet **Files**\n",
    "- Cliquer sur le bouton **New** en haut à droite de l'onglet, puis cliquer sur **Folder** (dossier)\n",
    "- Cocher la case devant le dossier **Untitled Folder**\n",
    "- Cliquer sur le bouton **Rename** et entrer un nouveau nom pour le dossier, ici **Cours 1**"
   ]
  },
  {
   "cell_type": "markdown",
   "metadata": {},
   "source": [
    "# Elements nécessaires pour programmer en Python"
   ]
  },
  {
   "cell_type": "markdown",
   "metadata": {},
   "source": [
    "## Python"
   ]
  },
  {
   "cell_type": "markdown",
   "metadata": {},
   "source": [
    "Python est un langage crée en 1991. Il en est à sa troisième génération, **Python 3** est sorti en 2008.\n",
    "\n",
    "Actuellement la dernière version est la v3.8.\n",
    "\n",
    "Il existe toujours une **version 2 de Python**, sortie en 2000 et encore utilisée, mais qui ne sera plus entretenue officiellement à partir de 2020."
   ]
  },
  {
   "cell_type": "markdown",
   "metadata": {},
   "source": [
    "Python, c'est :\n",
    "- l'un des 5 langages les plus utilisés dans le monde (avec les langages de type C, le Java, le Javascript, le R, le Ruby...).\n",
    "\n",
    "- l'un des deux poids lourds (avec R) de la Data Science"
   ]
  },
  {
   "cell_type": "markdown",
   "metadata": {},
   "source": [
    "## Bibliothèques (libraries)"
   ]
  },
  {
   "cell_type": "markdown",
   "metadata": {},
   "source": [
    "Python possède un très grand nombre de bibliothèques (ou libraries en anglais) : \n",
    "* Pandas : gestion de tables de données\n",
    "* Numpy : fonctions et objets de calcul numerique (calculs matriciels et objets matrices par exemple)\n",
    "* Scipy : fonctions et objets scientifique (fonctions statistiques complexes par exemple)\n",
    "* Matplotlib : fonctions d'affichage de graphiques\n",
    "\n",
    "Nous y reviendrons plus tard..."
   ]
  },
  {
   "cell_type": "markdown",
   "metadata": {},
   "source": [
    "## Environnement de Développement Intégré (EDI/IDE)"
   ]
  },
  {
   "cell_type": "markdown",
   "metadata": {},
   "source": [
    "Un Environnement de Développement Intégré (EDI, IDE en anglais) est un logiciel contenant un éditeur de texte et tout ce qui est nécessaire pour exécuter et tester du code en Python. Il en existe beaucoup de différents, des plus simples (IDLE par exemple) aux plus complexes (PyCharm par exemple).\n",
    "\n",
    "Il faut voir cela comme pour le traitement de texte : on pourrait rédiger un rapport avec le Bloc-Notes de Windows, mais un logiciel comme Microsoft Word dispose d'un grand nombre de fonctions supplémentaires (vérificateur d'orthographe, outils de mise en page, création automatique de titres, possibilité d'ajouter des graphiques, etc.)."
   ]
  },
  {
   "cell_type": "markdown",
   "metadata": {},
   "source": [
    "Pour simplifier, il y a deux grandes familles d'IDE :\n",
    "- Ceux qui fonctionnent sur le mode de **l'exécution intégrale**, le mode classique des programmeurs. Lorsque l'on est dans ce mode, ça implique qu'à chaque fois que l'on veut tester son code (et lorsque l'on développe, c'est plusieurs fois par heure), l'ensemble du code est exécuté en repartant de zéro (de la première ligne). Les éléments ne sont gardés en mémoire que le temps de l'exécution.\n",
    "- Ceux qui fonctionnent sur le mode de **l'exécution interactive**, c'est-à-dire que l'on teste son code par étape sans perdre les effets de l'exécution des étapes précédentes. C'est le principe de RStudio, et de R en général d'ailleurs. Les éléments sont gardés en mémoire tant que l'IDE est ouvert et que le Kernel n'est pas redémarré.\n",
    "\n",
    "Pour illustrer l'apport de l'exécution interactive, on peut penser à un bout de code qui analyserait une base de données. Si cette base de données est longue à charger en mémoire, l'exécution interactive permet de ne faire l'opération de chargement qu'une seule fois, alors qu'en exécution intégrale il faut la recharger à chaque exécution du code.\n",
    "\n",
    "On peut dire que généralement l'exécution intégrale est le mode dans lequel travaillent les Programmeurs Informatiques, car elle permet de créer des logiciels plus complexes. Alors que l'exécution interactive est le mode de prédilection des Data Scientists."
   ]
  },
  {
   "cell_type": "markdown",
   "metadata": {},
   "source": [
    "### Jupyter"
   ]
  },
  {
   "cell_type": "markdown",
   "metadata": {},
   "source": [
    "Jupyter est l'IDE qui sera utilisé dans le cadre de ce cours, il fonctionne en **mode interactif**.\n",
    "\n",
    "Il sera présenté ci-dessous et tout au long de ce cours."
   ]
  },
  {
   "cell_type": "markdown",
   "metadata": {},
   "source": [
    "# Présentation de Jupyter"
   ]
  },
  {
   "cell_type": "markdown",
   "metadata": {
    "ExecuteTime": {
     "end_time": "2020-09-07T13:10:07.585942Z",
     "start_time": "2020-09-07T13:10:07.575937Z"
    }
   },
   "source": [
    "<center>\n",
    "    <img src=\"https://zupimages.net/up/20/37/wzyl.png\" style=\"width: 600px;\"/> \n",
    "</center>  "
   ]
  },
  {
   "cell_type": "markdown",
   "metadata": {},
   "source": [
    "## Les Notebooks"
   ]
  },
  {
   "cell_type": "markdown",
   "metadata": {},
   "source": [
    "Un Notebook est un fichier lisible par Jupyter et contenant à la fois du code et d'autres contenus, vous êtes actuellement sur un Notebook.\n",
    "\n",
    "Créons maintenant un Notebook."
   ]
  },
  {
   "cell_type": "markdown",
   "metadata": {},
   "source": [
    "Pour créer un nouveau Notebook :\n",
    "- Aller sur l'**interface de Jupyter**, dans l'onglet **Files**\n",
    "- Entrer dans le sous-dossier **Test** en cliquant sur son nom (pour revenir au dossier parent, on clique sur : **..** )\n",
    "- Cliquer sur **New** (en haut à droite de l'onglet), puis **Python 3**\n",
    "- Jupyter crée et ouvre directement ce nouveau Notebook\n",
    "- On renomme ce Notebook en cliquant sur **Untitled** et en entrant un nouveau nom."
   ]
  },
  {
   "cell_type": "markdown",
   "metadata": {},
   "source": [
    "Un fichier Jupyter Notebook en Python est reconnaissable par son extension **.ipynb**\n",
    "\n",
    "Même si un fichier **.ipynb** contient du code en Python, il n'est pas directement executable par Python comme l'est à l'inverse un fichier **.py**"
   ]
  },
  {
   "cell_type": "markdown",
   "metadata": {},
   "source": [
    "## Les cellules"
   ]
  },
  {
   "cell_type": "markdown",
   "metadata": {},
   "source": [
    "L'intérêt du Notebook est de permettre de méler des morceaux de codes et des contenus divers et variés (textes, images, titres de sections...).\n",
    "\n",
    "Le Notebook est un peu au code Python ce que le fichier Doc de Microsoft Word est au texte brut...\n",
    "\n",
    "Mais un Notebook n'est au final qu'un ensemble de cellules se suivant à la suite les unes des autres\n",
    "\n",
    "Ces cellules ont toutes un code sous-jacent indiquant à Jupyter ce qu'il doit en faire"
   ]
  },
  {
   "cell_type": "markdown",
   "metadata": {},
   "source": [
    "### Mode édition et mode commande"
   ]
  },
  {
   "cell_type": "markdown",
   "metadata": {},
   "source": [
    "Lorsque l'on navigue parmi les cellules (en utilisant les flèches haut et bas, ou le curseur de la souris), deux modes d'interaction sont possibles."
   ]
  },
  {
   "cell_type": "markdown",
   "metadata": {},
   "source": [
    "Lorsque l'indicateur de couleur à gauche de la cellule sélectionnée est en bleu, on est en **mode commande**"
   ]
  },
  {
   "cell_type": "markdown",
   "metadata": {},
   "source": [
    "Si, lorsque l'on est en **mode commande**, on clique sur le bouton **Entrée** du clavier (ou si on double-clique sur la cellule), on passe en **mode édition**"
   ]
  },
  {
   "cell_type": "markdown",
   "metadata": {},
   "source": [
    "Lorsque l'indicateur de couleur à gauche de la cellule sélectionnée est en vert, on est en **mode édition**. On peut alors modifier le code contenu dans la cellule. \n",
    "\n",
    "Lorsque l'on clique sur le bouton **Echap** du clavier depuis le **mode édition**, on revient en **mode commande** (mais sans exécuter le code de la cellule)"
   ]
  },
  {
   "cell_type": "markdown",
   "metadata": {},
   "source": [
    "Pour exécuter le code de la cellule, on clique (en mode édition ou en mode commande) soit :\n",
    "- Ctrl+Entrée : execute le code pour une cellule code ou affiche le résultat final d'une cellule de contenus.\n",
    "- Shift+Entrée : execute le code pour une cellule code ou affiche le résultat final d'une cellule de contenus, puis passe à la cellule suivante."
   ]
  },
  {
   "cell_type": "markdown",
   "metadata": {},
   "source": [
    "Soit en cliquant avec la souris sur le bouton **Run cell** de la barre d'outil (équivalent à Shift+Entrée)"
   ]
  },
  {
   "cell_type": "markdown",
   "metadata": {},
   "source": [
    "### Types de cellules"
   ]
  },
  {
   "cell_type": "markdown",
   "metadata": {},
   "source": [
    "Ces cellules peuvent être de deux types :\n",
    "- Les cellules de **contenu** (texte, titre de section, image, lien web...), appelées **Markdown** en anglais\n",
    "- Les cellules de **code** (de code Python en l'occurence)"
   ]
  },
  {
   "cell_type": "markdown",
   "metadata": {},
   "source": [
    "#### Cellules de contenu"
   ]
  },
  {
   "cell_type": "markdown",
   "metadata": {},
   "source": [
    "Lorsqu'on les \"exécute\", le résultat de leur contenu mis en forme est affiché\n",
    "\n",
    "Elles peuvent contenir plusieurs sortes de contenu :"
   ]
  },
  {
   "cell_type": "markdown",
   "metadata": {},
   "source": [
    "##### Du **texte brut**, ou du **texte légerement formaté**"
   ]
  },
  {
   "cell_type": "markdown",
   "metadata": {},
   "source": [
    "Attention pour revenir visuellement à la ligne il faut laisser une ligne blanche dans le code :\n",
    "\n",
    "Retour à la ligne\n",
    "\n",
    "Pas\n",
    "de\n",
    "retour\n",
    "à la\n",
    "ligne"
   ]
  },
  {
   "cell_type": "markdown",
   "metadata": {},
   "source": [
    "Voici les principaux éléments de formatage léger :\n",
    "- Liste\n",
    "- d'éléments\n",
    "- *Italique*\n",
    "- **Gras**"
   ]
  },
  {
   "cell_type": "markdown",
   "metadata": {},
   "source": [
    "##### Des titres de section"
   ]
  },
  {
   "cell_type": "markdown",
   "metadata": {},
   "source": [
    "Il suffit de mettre N caractères # dans le code en début de ligne pour signifier que c'est un titre au Nième niveau de hierarchie"
   ]
  },
  {
   "cell_type": "markdown",
   "metadata": {},
   "source": [
    "##### Des images"
   ]
  },
  {
   "cell_type": "markdown",
   "metadata": {},
   "source": [
    "##### Des formules en LateX"
   ]
  },
  {
   "cell_type": "markdown",
   "metadata": {},
   "source": [
    "$ y_t = \\beta_0 + \\beta_1 x_{1t} + \\beta_2 x_{2t} + \\varepsilon_t $"
   ]
  },
  {
   "cell_type": "markdown",
   "metadata": {},
   "source": [
    "##### Et pleins d'autres choses en utilisant du code HTML"
   ]
  },
  {
   "cell_type": "markdown",
   "metadata": {},
   "source": [
    "Comme par exemple des tableaux interactifs..."
   ]
  },
  {
   "cell_type": "markdown",
   "metadata": {},
   "source": [
    "<style>\n",
    "table {\n",
    "    font-family: arial, sans-serif;\n",
    "    border-collapse: collapse;\n",
    "    width: 100%;\n",
    "}\n",
    "\n",
    "td, th {\n",
    "    border: 1px solid #dddddd;\n",
    "    text-align: left;\n",
    "    padding: 8px;\n",
    "}\n",
    "\n",
    "tr:nth-child(even) {\n",
    "    background-color: #dddddd;\n",
    "}\n",
    "</style>\n",
    "\n",
    "<table align=\"left\">\n",
    "  <tr>\n",
    "    <th>Company</th>\n",
    "    <th>Contact</th>\n",
    "    <th>Country</th>\n",
    "  </tr>\n",
    "  <tr>\n",
    "    <td>Alfreds Futterkiste</td>\n",
    "    <td>Maria Anders</td>\n",
    "    <td>Germany</td>\n",
    "  </tr>\n",
    "  <tr>\n",
    "    <td>Centro comercial Moctezuma</td>\n",
    "    <td>Francisco Chang</td>\n",
    "    <td>Mexico</td>\n",
    "  </tr>\n",
    "  <tr>\n",
    "    <td>Ernst Handel</td>\n",
    "    <td>Roland Mendel</td>\n",
    "    <td>Austria</td>\n",
    "  </tr>\n",
    "  <tr>\n",
    "    <td>Island Trading</td>\n",
    "    <td>Helen Bennett</td>\n",
    "    <td>UK</td>\n",
    "  </tr>\n",
    "  <tr>\n",
    "    <td>Laughing Bacchus Winecellars</td>\n",
    "    <td>Yoshi Tannamuri</td>\n",
    "    <td>Canada</td>\n",
    "  </tr>\n",
    "  <tr>\n",
    "    <td>Magazzini Alimentari Riuniti</td>\n",
    "    <td>Giovanni Rovelli</td>\n",
    "    <td>Italy</td>\n",
    "  </tr>\n",
    "</table>"
   ]
  },
  {
   "cell_type": "markdown",
   "metadata": {},
   "source": [
    "Ou des textes formatés..."
   ]
  },
  {
   "cell_type": "markdown",
   "metadata": {},
   "source": [
    "Ca, c'est du <span style=\"color:red;font-family:Calibri;font-size:24px;\"> texte formaté </span> en utilisant des formats de styles CSS"
   ]
  },
  {
   "cell_type": "markdown",
   "metadata": {},
   "source": [
    "#### Cellules de code"
   ]
  },
  {
   "cell_type": "markdown",
   "metadata": {},
   "source": [
    "Les cellules de code doivent contenir du code en Python uniquement, elles sont exécutables."
   ]
  },
  {
   "cell_type": "code",
   "execution_count": 4,
   "metadata": {},
   "outputs": [
    {
     "data": {
      "text/plain": [
       "30"
      ]
     },
     "execution_count": 4,
     "metadata": {},
     "output_type": "execute_result"
    }
   ],
   "source": [
    "5*6"
   ]
  },
  {
   "cell_type": "markdown",
   "metadata": {},
   "source": [
    "Le code d'une cellule ce code doit respecter la syntaxe du langage Python, sinon son exécution entraîne des erreurs"
   ]
  },
  {
   "cell_type": "markdown",
   "metadata": {},
   "source": [
    "Les cellules de code ont un input, et une fois executée, un output, respectivement signifiées par les indications **In [N]** et **Out[N]** avec **N** indiquant qu'il s'agit de la Nième exécution d'une cellule depuis le démarrage du **Kernel**"
   ]
  },
  {
   "cell_type": "markdown",
   "metadata": {},
   "source": [
    "Pour information, un **troisième type** existe, les cellules de contenu brut (**Raw NBConvert**), elles ne peuvent être executées d'aucune manière, elles gardent toujours la même apparence. \n",
    "\n",
    "Elles ne sont quasiment jamais utilisées..."
   ]
  },
  {
   "cell_type": "markdown",
   "metadata": {},
   "source": [
    "## Kernel"
   ]
  },
  {
   "cell_type": "markdown",
   "metadata": {},
   "source": [
    "Le **Kernel** est une instance de Python lancée en arrière-tâche de chacun des notebooks actuellement ouverts sur l'ordinateur, c'est le Kernel qui exécute le code Python des cellules exécutées par l'utilisateur et qui stock le contenu des variables utilisées en mémoire."
   ]
  },
  {
   "cell_type": "markdown",
   "metadata": {},
   "source": [
    "Etant donné qu'il y a un Kernel différent pour chaque Notebook ouvert, le code executé dans un Notebook n'impacte pas celui d'un autre Notebook"
   ]
  },
  {
   "cell_type": "markdown",
   "metadata": {},
   "source": [
    "Le Kernel peut être redémarré en cliquant sur le menu Kernel -> Restart"
   ]
  },
  {
   "cell_type": "markdown",
   "metadata": {},
   "source": [
    "## Racourcis clavier"
   ]
  },
  {
   "cell_type": "markdown",
   "metadata": {},
   "source": [
    "**L'ensemble des raccourcis peut être consulté dans la rubrique Help -> Keyboard shortcuts**"
   ]
  },
  {
   "cell_type": "markdown",
   "metadata": {},
   "source": [
    "Les raccourcis suivant fonctionnent en mode commande"
   ]
  },
  {
   "cell_type": "markdown",
   "metadata": {
    "ExecuteTime": {
     "end_time": "2017-12-26T17:06:16.512404Z",
     "start_time": "2017-12-26T17:06:16.502404Z"
    }
   },
   "source": [
    "**M** : transformer une cellule en cellule **markdown**\n",
    "\n",
    "**Y** : transforme une cellule en cellule **code**"
   ]
  },
  {
   "cell_type": "markdown",
   "metadata": {},
   "source": [
    "**A** : Créer une nouvelle cellule au-dessus (Above) de la cellule actuelle \n",
    "\n",
    "**B** : Créer une nouvelle cellule au-dessous (Below) de la cellule actuelle "
   ]
  },
  {
   "cell_type": "markdown",
   "metadata": {
    "collapsed": true
   },
   "source": [
    "**X, C, V** : couper, copier, coller la (ou les) cellule(s) sélectionnée(s)"
   ]
  },
  {
   "cell_type": "markdown",
   "metadata": {},
   "source": [
    "**D deux fois** (sert de confirmation) : supprime la (ou les) cellule(s) sélectionnée(s)"
   ]
  },
  {
   "cell_type": "markdown",
   "metadata": {
    "collapsed": true
   },
   "source": [
    "**Z** : Annule la suppression de cellule"
   ]
  },
  {
   "cell_type": "markdown",
   "metadata": {},
   "source": [
    "**1, 2, 3...** : Transformer une cellule en titre de niveau 1, 2, 3..."
   ]
  },
  {
   "cell_type": "markdown",
   "metadata": {},
   "source": [
    "**S** : Enregistrer"
   ]
  },
  {
   "cell_type": "markdown",
   "metadata": {},
   "source": [
    "# Premiers pas ..."
   ]
  },
  {
   "cell_type": "markdown",
   "metadata": {},
   "source": [
    "Les cellules de code fonctionnent comme une console dans laquelle on inscrit des commandes (**input**), que l'on peut exécuter, et qui produisent alors un résultat (**output**)"
   ]
  },
  {
   "cell_type": "code",
   "execution_count": null,
   "metadata": {
    "ExecuteTime": {
     "end_time": "2020-01-30T10:57:10.989727Z",
     "start_time": "2020-01-30T10:57:10.981390Z"
    }
   },
   "outputs": [],
   "source": [
    "1 + 2"
   ]
  },
  {
   "cell_type": "markdown",
   "metadata": {},
   "source": [
    "## Commentaires"
   ]
  },
  {
   "cell_type": "markdown",
   "metadata": {},
   "source": [
    "On peut faire des commentaires en Python de la manière suivante"
   ]
  },
  {
   "cell_type": "code",
   "execution_count": 7,
   "metadata": {
    "ExecuteTime": {
     "end_time": "2020-01-30T10:57:11.061276Z",
     "start_time": "2020-01-30T10:57:11.057843Z"
    }
   },
   "outputs": [
    {
     "data": {
      "text/plain": [
       "2"
      ]
     },
     "execution_count": 7,
     "metadata": {},
     "output_type": "execute_result"
    }
   ],
   "source": [
    "# commentaire\n",
    "\n",
    "'''\n",
    "commentaire\n",
    "sur\n",
    "plusieurs lignes\n",
    "'''\n",
    "\n",
    "1+1"
   ]
  },
  {
   "cell_type": "markdown",
   "metadata": {},
   "source": [
    "## Opérations de base"
   ]
  },
  {
   "cell_type": "markdown",
   "metadata": {},
   "source": [
    "Les cellules de codes fonctionnent un peu comme des calculatrices. Elles permettent d'effectuer des opérations"
   ]
  },
  {
   "cell_type": "code",
   "execution_count": 1,
   "metadata": {
    "ExecuteTime": {
     "end_time": "2020-01-30T10:57:11.109756Z",
     "start_time": "2020-01-30T10:57:11.106653Z"
    },
    "scrolled": false
   },
   "outputs": [
    {
     "data": {
      "text/plain": [
       "4"
      ]
     },
     "execution_count": 1,
     "metadata": {},
     "output_type": "execute_result"
    }
   ],
   "source": [
    "# Addition\n",
    "1 + 3"
   ]
  },
  {
   "cell_type": "code",
   "execution_count": 5,
   "metadata": {
    "ExecuteTime": {
     "end_time": "2020-01-30T10:57:11.138852Z",
     "start_time": "2020-01-30T10:57:11.135844Z"
    },
    "scrolled": true
   },
   "outputs": [
    {
     "data": {
      "text/plain": [
       "-2"
      ]
     },
     "execution_count": 5,
     "metadata": {},
     "output_type": "execute_result"
    }
   ],
   "source": [
    "# Soustraction\n",
    "1 - 3"
   ]
  },
  {
   "cell_type": "code",
   "execution_count": 6,
   "metadata": {
    "ExecuteTime": {
     "end_time": "2020-01-30T10:57:11.167666Z",
     "start_time": "2020-01-30T10:57:11.164694Z"
    }
   },
   "outputs": [
    {
     "data": {
      "text/plain": [
       "3"
      ]
     },
     "execution_count": 6,
     "metadata": {},
     "output_type": "execute_result"
    }
   ],
   "source": [
    "# Multiplication\n",
    "1*3"
   ]
  },
  {
   "cell_type": "code",
   "execution_count": 7,
   "metadata": {
    "ExecuteTime": {
     "end_time": "2020-01-30T10:57:11.197513Z",
     "start_time": "2020-01-30T10:57:11.194316Z"
    }
   },
   "outputs": [
    {
     "data": {
      "text/plain": [
       "0.75"
      ]
     },
     "execution_count": 7,
     "metadata": {},
     "output_type": "execute_result"
    }
   ],
   "source": [
    "# Division\n",
    "3 / 4"
   ]
  },
  {
   "cell_type": "code",
   "execution_count": 8,
   "metadata": {
    "ExecuteTime": {
     "end_time": "2020-01-30T10:57:11.226259Z",
     "start_time": "2020-01-30T10:57:11.223235Z"
    }
   },
   "outputs": [
    {
     "data": {
      "text/plain": [
       "0"
      ]
     },
     "execution_count": 8,
     "metadata": {},
     "output_type": "execute_result"
    }
   ],
   "source": [
    "# Division entière\n",
    "3 // 4"
   ]
  },
  {
   "cell_type": "code",
   "execution_count": 9,
   "metadata": {
    "ExecuteTime": {
     "end_time": "2020-01-30T10:57:11.255365Z",
     "start_time": "2020-01-30T10:57:11.252336Z"
    }
   },
   "outputs": [
    {
     "data": {
      "text/plain": [
       "1"
      ]
     },
     "execution_count": 9,
     "metadata": {},
     "output_type": "execute_result"
    }
   ],
   "source": [
    "# Modulo (reste d'une division)\n",
    "4 % 3"
   ]
  },
  {
   "cell_type": "code",
   "execution_count": 10,
   "metadata": {
    "ExecuteTime": {
     "end_time": "2020-01-30T10:57:11.285919Z",
     "start_time": "2020-01-30T10:57:11.282743Z"
    }
   },
   "outputs": [
    {
     "data": {
      "text/plain": [
       "8"
      ]
     },
     "execution_count": 10,
     "metadata": {},
     "output_type": "execute_result"
    }
   ],
   "source": [
    "# Puissance\n",
    "2**3"
   ]
  },
  {
   "cell_type": "markdown",
   "metadata": {},
   "source": [
    "**Attention** : l'exécution d'une série d'opérations d'une même cellule a pour retour unique celui de la **dernière** opération"
   ]
  },
  {
   "cell_type": "code",
   "execution_count": 11,
   "metadata": {
    "ExecuteTime": {
     "end_time": "2020-01-30T10:57:11.326286Z",
     "start_time": "2020-01-30T10:57:11.323009Z"
    }
   },
   "outputs": [
    {
     "data": {
      "text/plain": [
       "7"
      ]
     },
     "execution_count": 11,
     "metadata": {},
     "output_type": "execute_result"
    }
   ],
   "source": [
    "1 + 2\n",
    "3 + 4"
   ]
  },
  {
   "cell_type": "markdown",
   "metadata": {
    "collapsed": true
   },
   "source": [
    "**Important** : Un affichage sur console n'a aucun impact sur le déroulement du programme (il ne modifie pas la mémoire du Kernel), il ne sert qu'à informer l'utilisateur"
   ]
  },
  {
   "cell_type": "markdown",
   "metadata": {},
   "source": [
    "## Nombres"
   ]
  },
  {
   "cell_type": "markdown",
   "metadata": {},
   "source": [
    "Il y a trois types de nombres en Python"
   ]
  },
  {
   "cell_type": "markdown",
   "metadata": {},
   "source": [
    "La fonction **type()** permet d'obtenir le type d'une variable ou du résultat d'une expression, elle renvoie (elle a pour résultat) un type Python"
   ]
  },
  {
   "cell_type": "markdown",
   "metadata": {},
   "source": [
    "Les entiers : **int**"
   ]
  },
  {
   "cell_type": "code",
   "execution_count": 12,
   "metadata": {
    "ExecuteTime": {
     "end_time": "2020-01-30T10:57:11.404113Z",
     "start_time": "2020-01-30T10:57:11.400749Z"
    }
   },
   "outputs": [
    {
     "data": {
      "text/plain": [
       "int"
      ]
     },
     "execution_count": 12,
     "metadata": {},
     "output_type": "execute_result"
    }
   ],
   "source": [
    "type(1 + 2)"
   ]
  },
  {
   "cell_type": "markdown",
   "metadata": {},
   "source": [
    "Les nombres à virgule : **float**"
   ]
  },
  {
   "cell_type": "code",
   "execution_count": 13,
   "metadata": {
    "ExecuteTime": {
     "end_time": "2020-01-30T10:57:11.444852Z",
     "start_time": "2020-01-30T10:57:11.441428Z"
    }
   },
   "outputs": [
    {
     "data": {
      "text/plain": [
       "float"
      ]
     },
     "execution_count": 13,
     "metadata": {},
     "output_type": "execute_result"
    }
   ],
   "source": [
    "type(2/3)"
   ]
  },
  {
   "cell_type": "markdown",
   "metadata": {},
   "source": [
    "Et les complexes : **complex**"
   ]
  },
  {
   "cell_type": "code",
   "execution_count": 14,
   "metadata": {
    "ExecuteTime": {
     "end_time": "2020-01-30T10:57:11.486362Z",
     "start_time": "2020-01-30T10:57:11.483225Z"
    },
    "run_control": {
     "marked": false
    }
   },
   "outputs": [
    {
     "data": {
      "text/plain": [
       "complex"
      ]
     },
     "execution_count": 14,
     "metadata": {},
     "output_type": "execute_result"
    }
   ],
   "source": [
    "# Attention : écrits en utilisant un j, pas un i\n",
    "type(1 + 2j)"
   ]
  },
  {
   "cell_type": "markdown",
   "metadata": {},
   "source": [
    "## Booleens (vrai ou faux)"
   ]
  },
  {
   "cell_type": "markdown",
   "metadata": {},
   "source": [
    "Un **bool** a uniquement deux valeurs possibles : **True** ou **False** (attention aux majuscules)"
   ]
  },
  {
   "cell_type": "code",
   "execution_count": 15,
   "metadata": {
    "ExecuteTime": {
     "end_time": "2020-01-30T10:57:11.535851Z",
     "start_time": "2020-01-30T10:57:11.532568Z"
    }
   },
   "outputs": [
    {
     "data": {
      "text/plain": [
       "bool"
      ]
     },
     "execution_count": 15,
     "metadata": {},
     "output_type": "execute_result"
    }
   ],
   "source": [
    "type(True)"
   ]
  },
  {
   "cell_type": "markdown",
   "metadata": {
    "ExecuteTime": {
     "end_time": "2017-12-26T14:26:33.592404Z",
     "start_time": "2017-12-26T14:26:33.582404Z"
    }
   },
   "source": [
    "### Opérateurs de comparaison"
   ]
  },
  {
   "cell_type": "markdown",
   "metadata": {},
   "source": [
    "Opérateurs :\n",
    "\n",
    "* égal ou différent : **==** ou **!=**\n",
    "* supérieur ou inférieur : **>** ou **<**\n",
    "* supérieur ou égal ou inférieur ou égal **>=** ou **<=**"
   ]
  },
  {
   "cell_type": "markdown",
   "metadata": {},
   "source": [
    "Attention : on utilise bien le double égal (**==**), qui est l'**opérateur d'égalité** le caractère égal (**=**) étant l'**opérateur d'affectation**"
   ]
  },
  {
   "cell_type": "code",
   "execution_count": 16,
   "metadata": {
    "ExecuteTime": {
     "end_time": "2020-01-30T10:57:11.595804Z",
     "start_time": "2020-01-30T10:57:11.592524Z"
    }
   },
   "outputs": [
    {
     "data": {
      "text/plain": [
       "False"
      ]
     },
     "execution_count": 16,
     "metadata": {},
     "output_type": "execute_result"
    }
   ],
   "source": [
    "5 <= 4"
   ]
  },
  {
   "cell_type": "code",
   "execution_count": 17,
   "metadata": {
    "ExecuteTime": {
     "end_time": "2020-01-30T10:57:11.625842Z",
     "start_time": "2020-01-30T10:57:11.622612Z"
    }
   },
   "outputs": [
    {
     "data": {
      "text/plain": [
       "True"
      ]
     },
     "execution_count": 17,
     "metadata": {},
     "output_type": "execute_result"
    }
   ],
   "source": [
    "1 + 1 == 2"
   ]
  },
  {
   "cell_type": "code",
   "execution_count": 18,
   "metadata": {
    "ExecuteTime": {
     "end_time": "2020-01-30T10:57:11.657532Z",
     "start_time": "2020-01-30T10:57:11.654196Z"
    }
   },
   "outputs": [
    {
     "data": {
      "text/plain": [
       "bool"
      ]
     },
     "execution_count": 18,
     "metadata": {},
     "output_type": "execute_result"
    }
   ],
   "source": [
    "type(1 + 1 == 2)"
   ]
  },
  {
   "cell_type": "markdown",
   "metadata": {},
   "source": [
    "Opérateur d'identité d'objet : **is** ou **is not**"
   ]
  },
  {
   "cell_type": "code",
   "execution_count": 19,
   "metadata": {
    "ExecuteTime": {
     "end_time": "2020-01-30T10:57:11.697933Z",
     "start_time": "2020-01-30T10:57:11.694441Z"
    }
   },
   "outputs": [
    {
     "data": {
      "text/plain": [
       "True"
      ]
     },
     "execution_count": 19,
     "metadata": {},
     "output_type": "execute_result"
    }
   ],
   "source": [
    "type(4/2) is float"
   ]
  },
  {
   "cell_type": "code",
   "execution_count": 20,
   "metadata": {
    "ExecuteTime": {
     "end_time": "2020-01-30T10:57:11.727498Z",
     "start_time": "2020-01-30T10:57:11.724066Z"
    }
   },
   "outputs": [
    {
     "data": {
      "text/plain": [
       "True"
      ]
     },
     "execution_count": 20,
     "metadata": {},
     "output_type": "execute_result"
    }
   ],
   "source": [
    "type(1 + 2) is not float"
   ]
  },
  {
   "cell_type": "markdown",
   "metadata": {},
   "source": [
    "### Opérateurs logiques"
   ]
  },
  {
   "cell_type": "markdown",
   "metadata": {},
   "source": [
    "\"Et\" logique **and**"
   ]
  },
  {
   "cell_type": "code",
   "execution_count": 21,
   "metadata": {
    "ExecuteTime": {
     "end_time": "2020-01-30T10:57:11.777851Z",
     "start_time": "2020-01-30T10:57:11.774468Z"
    }
   },
   "outputs": [
    {
     "data": {
      "text/plain": [
       "True"
      ]
     },
     "execution_count": 21,
     "metadata": {},
     "output_type": "execute_result"
    }
   ],
   "source": [
    "3 < 4 and 12 == 3*4"
   ]
  },
  {
   "cell_type": "markdown",
   "metadata": {},
   "source": [
    "\"Ou\" logique **or**"
   ]
  },
  {
   "cell_type": "code",
   "execution_count": 22,
   "metadata": {
    "ExecuteTime": {
     "end_time": "2020-01-30T10:57:11.817077Z",
     "start_time": "2020-01-30T10:57:11.813744Z"
    }
   },
   "outputs": [
    {
     "data": {
      "text/plain": [
       "True"
      ]
     },
     "execution_count": 22,
     "metadata": {},
     "output_type": "execute_result"
    }
   ],
   "source": [
    "True or True"
   ]
  },
  {
   "cell_type": "markdown",
   "metadata": {},
   "source": [
    "**Attention** : comme en statistiques, \"or\" c'est : l'un OU l'autre OU les deux à la fois"
   ]
  },
  {
   "cell_type": "markdown",
   "metadata": {},
   "source": [
    "Négation logique **not**"
   ]
  },
  {
   "cell_type": "code",
   "execution_count": 23,
   "metadata": {
    "ExecuteTime": {
     "end_time": "2020-01-30T10:57:11.867841Z",
     "start_time": "2020-01-30T10:57:11.864478Z"
    }
   },
   "outputs": [
    {
     "data": {
      "text/plain": [
       "False"
      ]
     },
     "execution_count": 23,
     "metadata": {},
     "output_type": "execute_result"
    }
   ],
   "source": [
    "not 1 + 1 == 2"
   ]
  },
  {
   "cell_type": "code",
   "execution_count": 24,
   "metadata": {
    "ExecuteTime": {
     "end_time": "2020-01-30T10:57:11.899337Z",
     "start_time": "2020-01-30T10:57:11.896010Z"
    }
   },
   "outputs": [
    {
     "data": {
      "text/plain": [
       "True"
      ]
     },
     "execution_count": 24,
     "metadata": {},
     "output_type": "execute_result"
    }
   ],
   "source": [
    "not False and True"
   ]
  },
  {
   "cell_type": "markdown",
   "metadata": {},
   "source": [
    "## None et le NoneType"
   ]
  },
  {
   "cell_type": "markdown",
   "metadata": {},
   "source": [
    "Il existe une valeur en Python qui désigne l'absence de valeur : **None**\n",
    "\n",
    "None peut par exemple être utilisé dans une liste représentant une série chronologique pour désigner les valeurs manquantes."
   ]
  },
  {
   "cell_type": "markdown",
   "metadata": {},
   "source": [
    "**None** est une valeur du type **NoneType**, c'est la seule valeur de ce type-là en Python"
   ]
  },
  {
   "cell_type": "code",
   "execution_count": 25,
   "metadata": {
    "ExecuteTime": {
     "end_time": "2020-01-30T10:57:11.961089Z",
     "start_time": "2020-01-30T10:57:11.957755Z"
    }
   },
   "outputs": [
    {
     "data": {
      "text/plain": [
       "NoneType"
      ]
     },
     "execution_count": 25,
     "metadata": {},
     "output_type": "execute_result"
    }
   ],
   "source": [
    "type(None)"
   ]
  },
  {
   "cell_type": "markdown",
   "metadata": {
    "ExecuteTime": {
     "end_time": "2017-12-26T13:58:54.228404Z",
     "start_time": "2017-12-26T13:58:54.222404Z"
    },
    "run_control": {
     "marked": true
    }
   },
   "source": [
    "## Conversion de types"
   ]
  },
  {
   "cell_type": "markdown",
   "metadata": {},
   "source": [
    "Les types peuvent être convertis en utilisant le nom du type dans lequel on souhaite convertir notre valeur."
   ]
  },
  {
   "cell_type": "markdown",
   "metadata": {},
   "source": [
    "On peut par exemple convertir un nombre entier en nombre à virgule :"
   ]
  },
  {
   "cell_type": "code",
   "execution_count": 26,
   "metadata": {
    "ExecuteTime": {
     "end_time": "2020-01-30T10:57:12.021684Z",
     "start_time": "2020-01-30T10:57:12.018415Z"
    }
   },
   "outputs": [
    {
     "data": {
      "text/plain": [
       "2.0"
      ]
     },
     "execution_count": 26,
     "metadata": {},
     "output_type": "execute_result"
    }
   ],
   "source": [
    "float(2)"
   ]
  },
  {
   "cell_type": "markdown",
   "metadata": {},
   "source": [
    "Ou convertir un nombre à virgule en nombre entier :"
   ]
  },
  {
   "cell_type": "code",
   "execution_count": 27,
   "metadata": {
    "ExecuteTime": {
     "end_time": "2020-01-30T10:57:12.063238Z",
     "start_time": "2020-01-30T10:57:12.060012Z"
    }
   },
   "outputs": [
    {
     "data": {
      "text/plain": [
       "1"
      ]
     },
     "execution_count": 27,
     "metadata": {},
     "output_type": "execute_result"
    }
   ],
   "source": [
    "int(1.9)"
   ]
  },
  {
   "cell_type": "markdown",
   "metadata": {},
   "source": [
    "**Attention** : la conversion d'un **float** en **int** est une simple troncature.\n",
    "\n",
    "Si l'on souhaire arrondir un nombre, il existe une fonction pour cela : **round()**"
   ]
  },
  {
   "cell_type": "code",
   "execution_count": 28,
   "metadata": {
    "ExecuteTime": {
     "end_time": "2020-01-30T10:57:12.103710Z",
     "start_time": "2020-01-30T10:57:12.100393Z"
    }
   },
   "outputs": [
    {
     "data": {
      "text/plain": [
       "2"
      ]
     },
     "execution_count": 28,
     "metadata": {},
     "output_type": "execute_result"
    }
   ],
   "source": [
    "round(1.9)"
   ]
  },
  {
   "cell_type": "markdown",
   "metadata": {},
   "source": [
    "Tous les types ne peuvent pas toujours être convertis en tout autre type."
   ]
  },
  {
   "cell_type": "markdown",
   "metadata": {},
   "source": [
    "# Variables"
   ]
  },
  {
   "cell_type": "markdown",
   "metadata": {},
   "source": [
    "## Bases"
   ]
  },
  {
   "cell_type": "markdown",
   "metadata": {},
   "source": [
    "Dans l'idée une variable est comme au sens mathématiques un objet nommé qui peut prendre un ensemble de valeurs d'un type donné"
   ]
  },
  {
   "cell_type": "markdown",
   "metadata": {},
   "source": [
    "Dans les faits, c'est un morceau de mémoire de l'ordinateur réservée par le Kernel auquel on attribue un nom (qui n'est pas modifiable), et une valeur précise (modifiable) :"
   ]
  },
  {
   "cell_type": "code",
   "execution_count": 29,
   "metadata": {
    "ExecuteTime": {
     "end_time": "2020-01-30T10:57:12.193962Z",
     "start_time": "2020-01-30T10:57:12.191658Z"
    }
   },
   "outputs": [],
   "source": [
    "age = 25"
   ]
  },
  {
   "cell_type": "markdown",
   "metadata": {},
   "source": [
    "Et qui aquiert automatiquement un type précis (modifiable) :"
   ]
  },
  {
   "cell_type": "code",
   "execution_count": 30,
   "metadata": {
    "ExecuteTime": {
     "end_time": "2020-01-30T10:57:12.266474Z",
     "start_time": "2020-01-30T10:57:12.263139Z"
    }
   },
   "outputs": [
    {
     "data": {
      "text/plain": [
       "int"
      ]
     },
     "execution_count": 30,
     "metadata": {},
     "output_type": "execute_result"
    }
   ],
   "source": [
    "type(age)"
   ]
  },
  {
   "cell_type": "markdown",
   "metadata": {},
   "source": [
    "La valeur et le type de la variable peut-être redéfinie en refaisant une opération d'affectation"
   ]
  },
  {
   "cell_type": "code",
   "execution_count": 31,
   "metadata": {
    "ExecuteTime": {
     "end_time": "2020-01-30T10:57:12.311281Z",
     "start_time": "2020-01-30T10:57:12.309048Z"
    }
   },
   "outputs": [],
   "source": [
    "age = 23.5"
   ]
  },
  {
   "cell_type": "markdown",
   "metadata": {},
   "source": [
    "**NB** : une affectation ne renvoie pas de résultat dans l'output, sauf s'il y a une erreur"
   ]
  },
  {
   "cell_type": "code",
   "execution_count": 32,
   "metadata": {
    "ExecuteTime": {
     "end_time": "2020-01-30T10:57:12.351115Z",
     "start_time": "2020-01-30T10:57:12.347766Z"
    }
   },
   "outputs": [
    {
     "data": {
      "text/plain": [
       "float"
      ]
     },
     "execution_count": 32,
     "metadata": {},
     "output_type": "execute_result"
    }
   ],
   "source": [
    "type(age)"
   ]
  },
  {
   "cell_type": "markdown",
   "metadata": {},
   "source": [
    "Contrairement à toutes les opérations effectuées jusqu'à présent, cette **affectation a impacté le déroulement du programme**, la variable **age** a été écrite dans la mémoire de l'ordinateur réservée par le Kernel"
   ]
  },
  {
   "cell_type": "markdown",
   "metadata": {},
   "source": [
    "Les variables entrent naturellement dans le cadre d'opérations, comme tous les autres types d'objets :"
   ]
  },
  {
   "cell_type": "code",
   "execution_count": 33,
   "metadata": {
    "ExecuteTime": {
     "end_time": "2020-01-30T10:57:12.400854Z",
     "start_time": "2020-01-30T10:57:12.397607Z"
    },
    "scrolled": true
   },
   "outputs": [
    {
     "data": {
      "text/plain": [
       "25.5"
      ]
     },
     "execution_count": 33,
     "metadata": {},
     "output_type": "execute_result"
    }
   ],
   "source": [
    "age + 2"
   ]
  },
  {
   "cell_type": "markdown",
   "metadata": {},
   "source": [
    "Par **convention** les noms de variables sont écrits en minuscules, les mots sont séparés par des underscores"
   ]
  },
  {
   "cell_type": "code",
   "execution_count": 34,
   "metadata": {
    "ExecuteTime": {
     "end_time": "2020-01-30T10:57:12.440711Z",
     "start_time": "2020-01-30T10:57:12.438497Z"
    }
   },
   "outputs": [],
   "source": [
    "bon_nom_de_variable = True"
   ]
  },
  {
   "cell_type": "code",
   "execution_count": 35,
   "metadata": {
    "ExecuteTime": {
     "end_time": "2020-01-30T10:57:12.472921Z",
     "start_time": "2020-01-30T10:57:12.469734Z"
    }
   },
   "outputs": [
    {
     "data": {
      "text/plain": [
       "bool"
      ]
     },
     "execution_count": 35,
     "metadata": {},
     "output_type": "execute_result"
    }
   ],
   "source": [
    "type(bon_nom_de_variable)"
   ]
  },
  {
   "cell_type": "markdown",
   "metadata": {},
   "source": [
    "Une fois définie, une variable reste en mémoire jusqu'à extinction ou redémarrage du Kernel \n",
    "\n",
    "On peut tout de même **supprimer une variable**, et donc libérer de la mémoire en utilisant l'opéteur **del**"
   ]
  },
  {
   "cell_type": "code",
   "execution_count": 36,
   "metadata": {
    "ExecuteTime": {
     "end_time": "2020-01-30T10:57:12.513655Z",
     "start_time": "2020-01-30T10:57:12.511431Z"
    }
   },
   "outputs": [],
   "source": [
    "del bon_nom_de_variable"
   ]
  },
  {
   "cell_type": "code",
   "execution_count": 37,
   "metadata": {
    "ExecuteTime": {
     "end_time": "2020-01-30T10:57:12.597626Z",
     "start_time": "2020-01-30T10:57:12.541542Z"
    }
   },
   "outputs": [
    {
     "ename": "NameError",
     "evalue": "name 'bon_nom_de_variable' is not defined",
     "output_type": "error",
     "traceback": [
      "\u001b[1;31m---------------------------------------------------------------------------\u001b[0m",
      "\u001b[1;31mNameError\u001b[0m                                 Traceback (most recent call last)",
      "\u001b[1;32m<ipython-input-37-0c33b6d88173>\u001b[0m in \u001b[0;36m<module>\u001b[1;34m\u001b[0m\n\u001b[1;32m----> 1\u001b[1;33m \u001b[0mbon_nom_de_variable\u001b[0m\u001b[1;33m\u001b[0m\u001b[1;33m\u001b[0m\u001b[0m\n\u001b[0m",
      "\u001b[1;31mNameError\u001b[0m: name 'bon_nom_de_variable' is not defined"
     ]
    }
   ],
   "source": [
    "bon_nom_de_variable"
   ]
  },
  {
   "cell_type": "markdown",
   "metadata": {},
   "source": [
    "## Opérateurs de réaffectation"
   ]
  },
  {
   "cell_type": "markdown",
   "metadata": {},
   "source": [
    "Lorsqu'une variable a été définie pour la première fois (on dit qu'elle a été initialisée, elle est créer dans la mémoire du Kernel et donc de l'ordinateur), il est possible de la modifier à travers plusieurs sortes d'opération."
   ]
  },
  {
   "cell_type": "markdown",
   "metadata": {},
   "source": [
    "La plus simple étant de la redéfinir directement"
   ]
  },
  {
   "cell_type": "code",
   "execution_count": null,
   "metadata": {
    "ExecuteTime": {
     "end_time": "2020-01-30T10:57:12.704130Z",
     "start_time": "2020-01-30T10:57:12.700744Z"
    }
   },
   "outputs": [],
   "source": [
    "age = 33\n",
    "age"
   ]
  },
  {
   "cell_type": "markdown",
   "metadata": {},
   "source": [
    "Ou de la redéfinir grâce à une opération"
   ]
  },
  {
   "cell_type": "code",
   "execution_count": null,
   "metadata": {
    "ExecuteTime": {
     "end_time": "2020-01-30T10:57:12.709431Z",
     "start_time": "2020-01-30T10:57:12.705705Z"
    }
   },
   "outputs": [],
   "source": [
    "age = 33 + 2\n",
    "age"
   ]
  },
  {
   "cell_type": "markdown",
   "metadata": {},
   "source": [
    "Ou de la redéfinir par rapport à elle-même"
   ]
  },
  {
   "cell_type": "code",
   "execution_count": null,
   "metadata": {
    "ExecuteTime": {
     "end_time": "2020-01-30T10:57:12.714140Z",
     "start_time": "2020-01-30T10:57:12.710895Z"
    }
   },
   "outputs": [],
   "source": [
    "age = age + 2\n",
    "age"
   ]
  },
  {
   "cell_type": "markdown",
   "metadata": {},
   "source": [
    "Pour faciliter l'écriture de telles opérations, on a inventé plusieurs opérateurs :"
   ]
  },
  {
   "cell_type": "markdown",
   "metadata": {},
   "source": [
    "* Ajouter à une variable : **+=** \n",
    "\n",
    "(**a = a + 1** étant équivalent à **a += 1**)\n",
    "* Soustraire à une variable : **-=** \n",
    "\n",
    "(**a = a - 1** étant équivalent à **a -= 1**)\n",
    "* Multiplier une variable : **\\*=** \n",
    "\n",
    "(**a = 2\\*a** étant équivalent à **a \\*= 2**)\n",
    "* Diviser une variable : **/=** \n",
    "\n",
    "(**a = a/2** étant équivalent à **a /= 2**)"
   ]
  },
  {
   "cell_type": "code",
   "execution_count": null,
   "metadata": {
    "ExecuteTime": {
     "end_time": "2020-01-30T10:57:12.737158Z",
     "start_time": "2020-01-30T10:57:12.734363Z"
    }
   },
   "outputs": [],
   "source": [
    "age += 2\n",
    "age"
   ]
  },
  {
   "cell_type": "code",
   "execution_count": null,
   "metadata": {
    "ExecuteTime": {
     "end_time": "2020-01-30T10:57:12.766571Z",
     "start_time": "2020-01-30T10:57:12.763392Z"
    }
   },
   "outputs": [],
   "source": [
    "age -= 7\n",
    "age"
   ]
  },
  {
   "cell_type": "code",
   "execution_count": null,
   "metadata": {
    "ExecuteTime": {
     "end_time": "2020-01-30T10:57:12.798351Z",
     "start_time": "2020-01-30T10:57:12.795311Z"
    }
   },
   "outputs": [],
   "source": [
    "age /= 5\n",
    "age"
   ]
  },
  {
   "cell_type": "code",
   "execution_count": null,
   "metadata": {
    "ExecuteTime": {
     "end_time": "2020-01-30T10:57:12.827973Z",
     "start_time": "2020-01-30T10:57:12.824823Z"
    },
    "scrolled": true
   },
   "outputs": [],
   "source": [
    "age *= 2\n",
    "age"
   ]
  },
  {
   "cell_type": "markdown",
   "metadata": {},
   "source": [
    "**NB** : une réaffectation ne renvoie pas de résultat dans l'output, sauf s'il y a une erreur"
   ]
  },
  {
   "cell_type": "markdown",
   "metadata": {},
   "source": [
    "Notons qu'en faisant ça, nous avons modifié le type de **age**"
   ]
  },
  {
   "cell_type": "code",
   "execution_count": null,
   "metadata": {
    "ExecuteTime": {
     "end_time": "2020-01-30T10:57:12.882555Z",
     "start_time": "2020-01-30T10:57:12.879225Z"
    }
   },
   "outputs": [],
   "source": [
    "type(age)"
   ]
  },
  {
   "cell_type": "markdown",
   "metadata": {},
   "source": [
    "## Constantes"
   ]
  },
  {
   "cell_type": "markdown",
   "metadata": {},
   "source": [
    "On ne parle que de variables, mais alors, et les constantes? Les constantes n'existent pas en Python.\n",
    "\n",
    "Mais comme il s'agit d'un objet utile on a décidé par convention que ce serait des variables dont on fixe la valeur en tout début de code ou de Notebook, qui portent un nom intégralement en majuscules et qu'il faut s'interdire de redéfinir dans le reste du code ou du Notebook."
   ]
  },
  {
   "cell_type": "code",
   "execution_count": null,
   "metadata": {
    "ExecuteTime": {
     "end_time": "2020-01-30T10:57:12.933063Z",
     "start_time": "2020-01-30T10:57:12.930734Z"
    }
   },
   "outputs": [],
   "source": [
    "MOT_DE_PASSE = 'SuperMot1de/Passe'"
   ]
  },
  {
   "cell_type": "markdown",
   "metadata": {},
   "source": [
    "# Types complexes"
   ]
  },
  {
   "cell_type": "markdown",
   "metadata": {},
   "source": [
    "## Strings (Chaines de caractères)"
   ]
  },
  {
   "cell_type": "markdown",
   "metadata": {},
   "source": [
    "### Bases"
   ]
  },
  {
   "cell_type": "markdown",
   "metadata": {
    "collapsed": true
   },
   "source": [
    "Mot-clé : **str**"
   ]
  },
  {
   "cell_type": "markdown",
   "metadata": {},
   "source": [
    "Une **chaine de caractères** est un ensemble **ordonné** de **caractères**. \n",
    "\n",
    "A noter qu'en Python un **caractère** est aussi une chaine de caractère (de longueur 1)"
   ]
  },
  {
   "cell_type": "markdown",
   "metadata": {},
   "source": [
    "On les définit en les encadrant par des **apostrophes** ou des **guillemets** : **'** ou **\"** (indifféremment, chacun fait comme il veut mais l'habitude en Python est d'utiliser des **'** car ils sont plus simples et agréables à la lecture). \n",
    "\n",
    "(On appelle ces caractères en anglais *quote* et *double quote*)"
   ]
  },
  {
   "cell_type": "code",
   "execution_count": null,
   "metadata": {
    "ExecuteTime": {
     "end_time": "2020-01-30T10:57:13.025105Z",
     "start_time": "2020-01-30T10:57:13.021814Z"
    }
   },
   "outputs": [],
   "source": [
    "'Chaine de caractères'"
   ]
  },
  {
   "cell_type": "code",
   "execution_count": 9,
   "metadata": {
    "ExecuteTime": {
     "end_time": "2020-01-30T10:57:13.056241Z",
     "start_time": "2020-01-30T10:57:13.052860Z"
    },
    "scrolled": true
   },
   "outputs": [
    {
     "data": {
      "text/plain": [
       "True"
      ]
     },
     "execution_count": 9,
     "metadata": {},
     "output_type": "execute_result"
    }
   ],
   "source": [
    "'chaine' == \"chaine\""
   ]
  },
  {
   "cell_type": "markdown",
   "metadata": {},
   "source": [
    "Attention : entre **apostrophes** (ou **guillemets**), c'est une chaine de caractères :"
   ]
  },
  {
   "cell_type": "code",
   "execution_count": null,
   "metadata": {
    "ExecuteTime": {
     "end_time": "2020-01-30T10:57:13.095814Z",
     "start_time": "2020-01-30T10:57:13.092517Z"
    }
   },
   "outputs": [],
   "source": [
    "'Chaine de caractères'"
   ]
  },
  {
   "cell_type": "markdown",
   "metadata": {},
   "source": [
    "Sans, c'est un nom de fonction ou de variable, et si ce nom n'existe pas en mémoire, ça produit une erreur :"
   ]
  },
  {
   "cell_type": "code",
   "execution_count": 10,
   "metadata": {
    "ExecuteTime": {
     "end_time": "2020-01-30T10:57:13.138457Z",
     "start_time": "2020-01-30T10:57:13.132843Z"
    }
   },
   "outputs": [
    {
     "ename": "NameError",
     "evalue": "name 'erreur' is not defined",
     "output_type": "error",
     "traceback": [
      "\u001b[1;31m---------------------------------------------------------------------------\u001b[0m",
      "\u001b[1;31mNameError\u001b[0m                                 Traceback (most recent call last)",
      "\u001b[1;32m<ipython-input-10-7fd5ada2d563>\u001b[0m in \u001b[0;36m<module>\u001b[1;34m\u001b[0m\n\u001b[1;32m----> 1\u001b[1;33m \u001b[0merreur\u001b[0m\u001b[1;33m\u001b[0m\u001b[1;33m\u001b[0m\u001b[0m\n\u001b[0m",
      "\u001b[1;31mNameError\u001b[0m: name 'erreur' is not defined"
     ]
    }
   ],
   "source": [
    "erreur"
   ]
  },
  {
   "cell_type": "markdown",
   "metadata": {},
   "source": [
    "On peut obtenir le **nombre de caractères** d'une chaine de caractères en utilisant la fonction **len()** (comme *length*)"
   ]
  },
  {
   "cell_type": "code",
   "execution_count": null,
   "metadata": {
    "ExecuteTime": {
     "end_time": "2020-01-30T10:57:13.244863Z",
     "start_time": "2020-01-30T10:57:13.241378Z"
    }
   },
   "outputs": [],
   "source": [
    "len('Chaine de caractères')"
   ]
  },
  {
   "cell_type": "markdown",
   "metadata": {},
   "source": [
    "Pour **imprimer dans l'output** la chaine de caractères au propre, sans ses opérateurs d'encadrement, on utilise la fonction **print()**"
   ]
  },
  {
   "cell_type": "code",
   "execution_count": null,
   "metadata": {
    "ExecuteTime": {
     "end_time": "2020-01-30T10:57:13.252256Z",
     "start_time": "2020-01-30T10:57:13.246503Z"
    },
    "scrolled": true
   },
   "outputs": [],
   "source": [
    "print('Chaine de caractères')"
   ]
  },
  {
   "cell_type": "markdown",
   "metadata": {},
   "source": [
    "On peut indiquer plusieurs entrées à imprimer dans la fonction print, elles seront alors imprimées, séparées par des espaces."
   ]
  },
  {
   "cell_type": "code",
   "execution_count": 2,
   "metadata": {
    "ExecuteTime": {
     "end_time": "2020-01-30T10:57:13.263190Z",
     "start_time": "2020-01-30T10:57:13.254296Z"
    }
   },
   "outputs": [
    {
     "name": "stdout",
     "output_type": "stream",
     "text": [
      "Chaine 2\n"
     ]
    }
   ],
   "source": [
    "print('Chaine', 2)"
   ]
  },
  {
   "cell_type": "markdown",
   "metadata": {},
   "source": [
    "Après chaque exécution de print, l'affichage revient à la ligne"
   ]
  },
  {
   "cell_type": "code",
   "execution_count": 3,
   "metadata": {
    "ExecuteTime": {
     "end_time": "2020-01-30T10:57:13.296963Z",
     "start_time": "2020-01-30T10:57:13.293959Z"
    }
   },
   "outputs": [
    {
     "name": "stdout",
     "output_type": "stream",
     "text": [
      "Chaine 1\n",
      "Chaine 2\n"
     ]
    }
   ],
   "source": [
    "print('Chaine', 1)\n",
    "print('Chaine', 2)"
   ]
  },
  {
   "cell_type": "markdown",
   "metadata": {},
   "source": [
    "Une chaine de caractères vide est représentée par **''** (deux apostrophes)"
   ]
  },
  {
   "cell_type": "code",
   "execution_count": null,
   "metadata": {
    "ExecuteTime": {
     "end_time": "2020-01-30T10:57:13.337995Z",
     "start_time": "2020-01-30T10:57:13.334859Z"
    }
   },
   "outputs": [],
   "source": [
    "''"
   ]
  },
  {
   "cell_type": "markdown",
   "metadata": {},
   "source": [
    "A ne pas confondre avec **' '** qui est le caractère **espace**"
   ]
  },
  {
   "cell_type": "markdown",
   "metadata": {},
   "source": [
    "On peut vérifier la présence d'une sous-chaine de caractères dans une chaine en utilisant l'opérateur **in**"
   ]
  },
  {
   "cell_type": "code",
   "execution_count": 4,
   "metadata": {
    "ExecuteTime": {
     "end_time": "2020-01-30T10:57:13.388236Z",
     "start_time": "2020-01-30T10:57:13.384742Z"
    }
   },
   "outputs": [
    {
     "data": {
      "text/plain": [
       "True"
      ]
     },
     "execution_count": 4,
     "metadata": {},
     "output_type": "execute_result"
    }
   ],
   "source": [
    "'ine' in 'Chaine de caractères'\n",
    "'zzz' not in 'Chaine de caractères'"
   ]
  },
  {
   "cell_type": "markdown",
   "metadata": {},
   "source": [
    "Un texte peut être déclaré sur plusieurs lignes en utilisant le même opérateur que les commentaires sur plusieurs lignes"
   ]
  },
  {
   "cell_type": "code",
   "execution_count": null,
   "metadata": {
    "ExecuteTime": {
     "end_time": "2020-01-30T10:57:13.428367Z",
     "start_time": "2020-01-30T10:57:13.425479Z"
    }
   },
   "outputs": [],
   "source": [
    "ma_chaine = '''Mon texte est plus\n",
    "clair sur plusieurs\n",
    "lignes'''\n",
    "\n",
    "print(ma_chaine)"
   ]
  },
  {
   "cell_type": "markdown",
   "metadata": {},
   "source": [
    "### Opérations"
   ]
  },
  {
   "cell_type": "markdown",
   "metadata": {},
   "source": [
    "On peut appliquer certaines opérations mathématiques habituelles aux chaines de caractères :"
   ]
  },
  {
   "cell_type": "markdown",
   "metadata": {},
   "source": [
    "Addition"
   ]
  },
  {
   "cell_type": "code",
   "execution_count": null,
   "metadata": {
    "ExecuteTime": {
     "end_time": "2020-01-30T10:57:13.508736Z",
     "start_time": "2020-01-30T10:57:13.505358Z"
    }
   },
   "outputs": [],
   "source": [
    "'Economie' + ' ' + 'appliquée' "
   ]
  },
  {
   "cell_type": "markdown",
   "metadata": {},
   "source": [
    "Multiplication"
   ]
  },
  {
   "cell_type": "code",
   "execution_count": null,
   "metadata": {
    "ExecuteTime": {
     "end_time": "2020-01-30T10:57:13.573311Z",
     "start_time": "2020-01-30T10:57:13.569904Z"
    }
   },
   "outputs": [],
   "source": [
    "5*'a'"
   ]
  },
  {
   "cell_type": "markdown",
   "metadata": {},
   "source": [
    "Et en conséquence, les opérateurs de réaffectation correspondants : **\\*=** et **+=**"
   ]
  },
  {
   "cell_type": "code",
   "execution_count": null,
   "metadata": {
    "ExecuteTime": {
     "end_time": "2020-01-30T10:57:13.635263Z",
     "start_time": "2020-01-30T10:57:13.632955Z"
    }
   },
   "outputs": [],
   "source": [
    "ma_chaine = 'Chaine de caractères'"
   ]
  },
  {
   "cell_type": "code",
   "execution_count": null,
   "metadata": {
    "ExecuteTime": {
     "end_time": "2020-01-30T10:57:13.692627Z",
     "start_time": "2020-01-30T10:57:13.690290Z"
    }
   },
   "outputs": [],
   "source": [
    "ma_chaine += ' complexe'"
   ]
  },
  {
   "cell_type": "code",
   "execution_count": null,
   "metadata": {
    "ExecuteTime": {
     "end_time": "2020-01-30T10:57:13.750956Z",
     "start_time": "2020-01-30T10:57:13.747814Z"
    }
   },
   "outputs": [],
   "source": [
    "ma_chaine"
   ]
  },
  {
   "cell_type": "code",
   "execution_count": null,
   "metadata": {
    "ExecuteTime": {
     "end_time": "2020-01-30T10:57:13.780384Z",
     "start_time": "2020-01-30T10:57:13.778051Z"
    }
   },
   "outputs": [],
   "source": [
    "ma_chaine *= 2"
   ]
  },
  {
   "cell_type": "code",
   "execution_count": null,
   "metadata": {
    "ExecuteTime": {
     "end_time": "2020-01-30T10:57:13.811641Z",
     "start_time": "2020-01-30T10:57:13.808424Z"
    }
   },
   "outputs": [],
   "source": [
    "ma_chaine"
   ]
  },
  {
   "cell_type": "markdown",
   "metadata": {},
   "source": [
    "### Indexation"
   ]
  },
  {
   "cell_type": "markdown",
   "metadata": {},
   "source": [
    "Soit une chaine :"
   ]
  },
  {
   "cell_type": "code",
   "execution_count": null,
   "metadata": {
    "ExecuteTime": {
     "end_time": "2020-01-30T10:57:13.862001Z",
     "start_time": "2020-01-30T10:57:13.859666Z"
    }
   },
   "outputs": [],
   "source": [
    "ma_chaine = 'Chaine de caractères'"
   ]
  },
  {
   "cell_type": "code",
   "execution_count": null,
   "metadata": {
    "ExecuteTime": {
     "end_time": "2020-01-30T10:57:13.893209Z",
     "start_time": "2020-01-30T10:57:13.890061Z"
    }
   },
   "outputs": [],
   "source": [
    "len(ma_chaine)"
   ]
  },
  {
   "cell_type": "markdown",
   "metadata": {},
   "source": [
    "On se réfère à un caractère précis de la chaine en utilisant l'opérateur **[i]** pour obtenir le **(i - 1)ième** caractère de cette chaine. On dit que **i** est l'**index** du caractère dans cette chaine.\n",
    "\n",
    "Le premier caractère de cette chaine a donc l'index **0**.\n",
    "\n",
    "Le dernier caractère de cette chaine a donc l'index **N - 1**. **N** étant la taille de cette chaine, **len(ma_chaine)**"
   ]
  },
  {
   "cell_type": "code",
   "execution_count": null,
   "metadata": {
    "ExecuteTime": {
     "end_time": "2020-01-30T10:57:13.934536Z",
     "start_time": "2020-01-30T10:57:13.931249Z"
    }
   },
   "outputs": [],
   "source": [
    "ma_chaine[0]"
   ]
  },
  {
   "cell_type": "code",
   "execution_count": null,
   "metadata": {
    "ExecuteTime": {
     "end_time": "2020-01-30T10:57:13.964954Z",
     "start_time": "2020-01-30T10:57:13.961822Z"
    }
   },
   "outputs": [],
   "source": [
    "ma_chaine[1]"
   ]
  },
  {
   "cell_type": "markdown",
   "metadata": {},
   "source": [
    "On peut aussi se référer à un caractère de la chaine en comptant à partir de la fin, pour cela on ajoute un **-** (moins, *dash* ou *minus* en anglais) devant l'indice. \n",
    "\n",
    "**[-1]** désigne le dernier caractère de la chaine."
   ]
  },
  {
   "cell_type": "code",
   "execution_count": null,
   "metadata": {
    "ExecuteTime": {
     "end_time": "2020-01-30T10:57:14.008026Z",
     "start_time": "2020-01-30T10:57:14.004716Z"
    }
   },
   "outputs": [],
   "source": [
    "ma_chaine[-1]"
   ]
  },
  {
   "cell_type": "markdown",
   "metadata": {
    "collapsed": true
   },
   "source": [
    "On peut aussi extraire un sous-ensemble de cette chaine en utilisant l'opérateur **:** (deux-points, *colon* en anglais)"
   ]
  },
  {
   "cell_type": "markdown",
   "metadata": {},
   "source": [
    "**ma_chaine[a:b]** est la chaine de caractères contenant les caractères numérotés **[a, a + 1..., b- 2, b - 1]**\n",
    "\n",
    "Cette chaine aura par construction **(b - a) caractères** de la chaine **ma_chaine**, dont le premier est à l'index **a**"
   ]
  },
  {
   "cell_type": "code",
   "execution_count": null,
   "metadata": {
    "ExecuteTime": {
     "end_time": "2020-01-30T10:57:14.057749Z",
     "start_time": "2020-01-30T10:57:14.054662Z"
    }
   },
   "outputs": [],
   "source": [
    "ma_chaine"
   ]
  },
  {
   "cell_type": "code",
   "execution_count": 38,
   "metadata": {
    "ExecuteTime": {
     "end_time": "2020-01-30T10:57:14.094210Z",
     "start_time": "2020-01-30T10:57:14.090823Z"
    }
   },
   "outputs": [
    {
     "ename": "NameError",
     "evalue": "name 'ma_chaine' is not defined",
     "output_type": "error",
     "traceback": [
      "\u001b[1;31m---------------------------------------------------------------------------\u001b[0m",
      "\u001b[1;31mNameError\u001b[0m                                 Traceback (most recent call last)",
      "\u001b[1;32m<ipython-input-38-f89bd0b54f5c>\u001b[0m in \u001b[0;36m<module>\u001b[1;34m\u001b[0m\n\u001b[1;32m----> 1\u001b[1;33m \u001b[0mma_chaine\u001b[0m\u001b[1;33m[\u001b[0m\u001b[1;36m6\u001b[0m\u001b[1;33m:\u001b[0m\u001b[1;36m10\u001b[0m\u001b[1;33m]\u001b[0m\u001b[1;33m\u001b[0m\u001b[1;33m\u001b[0m\u001b[0m\n\u001b[0m",
      "\u001b[1;31mNameError\u001b[0m: name 'ma_chaine' is not defined"
     ]
    }
   ],
   "source": [
    "ma_chaine[6:10]"
   ]
  },
  {
   "cell_type": "markdown",
   "metadata": {},
   "source": [
    "Si l'on omet l'un des deux indices, cela fonctionne comme une absence de limite (**depuis le début** ou **jusqu'à la fin**) "
   ]
  },
  {
   "cell_type": "code",
   "execution_count": null,
   "metadata": {
    "ExecuteTime": {
     "end_time": "2020-01-30T10:57:14.128236Z",
     "start_time": "2020-01-30T10:57:14.124953Z"
    }
   },
   "outputs": [],
   "source": [
    "ma_chaine[:5]"
   ]
  },
  {
   "cell_type": "code",
   "execution_count": null,
   "metadata": {
    "ExecuteTime": {
     "end_time": "2020-01-30T10:57:14.160040Z",
     "start_time": "2020-01-30T10:57:14.156158Z"
    }
   },
   "outputs": [],
   "source": [
    "ma_chaine[5:]"
   ]
  },
  {
   "cell_type": "markdown",
   "metadata": {},
   "source": [
    "On peut aussi utiliser l'opérateur de décompte depuis la fin (**-**)"
   ]
  },
  {
   "cell_type": "code",
   "execution_count": null,
   "metadata": {
    "ExecuteTime": {
     "end_time": "2020-01-30T10:57:14.199483Z",
     "start_time": "2020-01-30T10:57:14.196213Z"
    }
   },
   "outputs": [],
   "source": [
    "ma_chaine[-5:]"
   ]
  },
  {
   "cell_type": "code",
   "execution_count": null,
   "metadata": {
    "ExecuteTime": {
     "end_time": "2020-01-30T10:57:14.228850Z",
     "start_time": "2020-01-30T10:57:14.225542Z"
    }
   },
   "outputs": [],
   "source": [
    "ma_chaine[:-3]"
   ]
  },
  {
   "cell_type": "markdown",
   "metadata": {},
   "source": [
    "Sans indices, cela ne sert à rien, mais cela représente logiquement l'ensemble de la chaine"
   ]
  },
  {
   "cell_type": "code",
   "execution_count": null,
   "metadata": {
    "ExecuteTime": {
     "end_time": "2020-01-30T10:57:14.268833Z",
     "start_time": "2020-01-30T10:57:14.265576Z"
    }
   },
   "outputs": [],
   "source": [
    "ma_chaine[:] == ma_chaine"
   ]
  },
  {
   "cell_type": "markdown",
   "metadata": {},
   "source": [
    "### Mutabilité"
   ]
  },
  {
   "cell_type": "markdown",
   "metadata": {},
   "source": [
    "Une chaine de caractères est un objet **non-mutable**, c'est-à-dire qu'**on ne peut la modifier que et seulement que en la redéfinissant** à l'aide d'un opérateur d'affectation ou de réaffectation **=** ou **\\*=** ou **\\+=**"
   ]
  },
  {
   "cell_type": "markdown",
   "metadata": {},
   "source": [
    "Tous les types étudiés jusqu'à présent sont **non-mutables** : \n",
    "\n",
    "**int**, **float**, **complex**, **bool** ne peuvent être modifiés que par réaffectation"
   ]
  },
  {
   "cell_type": "markdown",
   "metadata": {},
   "source": [
    "### Caractères spéciaux"
   ]
  },
  {
   "cell_type": "markdown",
   "metadata": {},
   "source": [
    "Bien sûr l'opérateur d'encadrement (**apostrophes** ou **guillemets**) utilisé ne peux pas être simplement inclus comme caractère dans une chaine de caractères"
   ]
  },
  {
   "cell_type": "code",
   "execution_count": null,
   "metadata": {
    "ExecuteTime": {
     "end_time": "2020-01-30T10:57:14.349773Z",
     "start_time": "2020-01-30T10:57:14.346752Z"
    }
   },
   "outputs": [],
   "source": [
    "'attention lorsque l'on met des apostrophes dans une chaine de caractères'"
   ]
  },
  {
   "cell_type": "markdown",
   "metadata": {},
   "source": [
    "Il faut faire précéder le caractère d'encadrement (**'** ou **\"**) par un **\\\\**, qui lui aussi, étant donné le fait que c'est un caractère spécial, nécessite une écriture spéciale à l'intérieur de la chaine de caractères : **\\\\\\\\**"
   ]
  },
  {
   "cell_type": "code",
   "execution_count": null,
   "metadata": {
    "ExecuteTime": {
     "end_time": "2020-01-30T10:57:14.455976Z",
     "start_time": "2020-01-30T10:57:14.453057Z"
    }
   },
   "outputs": [],
   "source": [
    "print('il faut faire précéder le caractère d\\'encadrement par un \\\\')"
   ]
  },
  {
   "cell_type": "code",
   "execution_count": null,
   "metadata": {
    "ExecuteTime": {
     "end_time": "2020-01-30T10:57:14.461941Z",
     "start_time": "2020-01-30T10:57:14.457328Z"
    }
   },
   "outputs": [],
   "source": [
    "print(\"de la même manière pour les guillemets si c'est ce que vous utilisez dans une chaine de caractères qui en \\\"contient\\\"\")"
   ]
  },
  {
   "cell_type": "code",
   "execution_count": null,
   "metadata": {
    "ExecuteTime": {
     "end_time": "2020-01-30T10:57:14.467564Z",
     "start_time": "2020-01-30T10:57:14.463373Z"
    }
   },
   "outputs": [],
   "source": [
    "print('le retour à la ligne est exprimé par \\n pour \"new line\"')"
   ]
  },
  {
   "cell_type": "code",
   "execution_count": null,
   "metadata": {
    "ExecuteTime": {
     "end_time": "2020-01-30T10:57:14.483306Z",
     "start_time": "2020-01-30T10:57:14.480486Z"
    }
   },
   "outputs": [],
   "source": [
    "print('dernier caractère spécial pour la route le symbole de tabulation \\t : \\n\\t1 \\n\\t2 \\n\\t3')"
   ]
  },
  {
   "cell_type": "markdown",
   "metadata": {},
   "source": [
    "### Méthodes"
   ]
  },
  {
   "cell_type": "markdown",
   "metadata": {},
   "source": [
    "**NB :** la propriété de **non-mutabilité** des chaine de caractères font qu'aucune des fonctions suivantes ne peut modifier la chaine de caractères concernée, elles ne font que renvoyer une chaine de caractères comme résultat"
   ]
  },
  {
   "cell_type": "markdown",
   "metadata": {},
   "source": [
    "Il y a par exemple une fonction qui remplace toute sous-chaine d'une chaine par une autre chaine et renvoie le résultat"
   ]
  },
  {
   "cell_type": "code",
   "execution_count": null,
   "metadata": {
    "ExecuteTime": {
     "end_time": "2020-01-30T10:57:14.545450Z",
     "start_time": "2020-01-30T10:57:14.541842Z"
    }
   },
   "outputs": [],
   "source": [
    "ma_chaine.replace('c', 'n')"
   ]
  },
  {
   "cell_type": "code",
   "execution_count": 39,
   "metadata": {
    "ExecuteTime": {
     "end_time": "2020-01-30T10:57:14.576570Z",
     "start_time": "2020-01-30T10:57:14.573276Z"
    }
   },
   "outputs": [
    {
     "ename": "NameError",
     "evalue": "name 'ma_chaine' is not defined",
     "output_type": "error",
     "traceback": [
      "\u001b[1;31m---------------------------------------------------------------------------\u001b[0m",
      "\u001b[1;31mNameError\u001b[0m                                 Traceback (most recent call last)",
      "\u001b[1;32m<ipython-input-39-cde0b301b561>\u001b[0m in \u001b[0;36m<module>\u001b[1;34m\u001b[0m\n\u001b[1;32m----> 1\u001b[1;33m \u001b[0mma_chaine\u001b[0m\u001b[1;33m\u001b[0m\u001b[1;33m\u001b[0m\u001b[0m\n\u001b[0m",
      "\u001b[1;31mNameError\u001b[0m: name 'ma_chaine' is not defined"
     ]
    }
   ],
   "source": [
    "ma_chaine"
   ]
  },
  {
   "cell_type": "markdown",
   "metadata": {},
   "source": [
    "Pour modifier une chaine de caractère la seule possibilité est bien de la réaffecter"
   ]
  },
  {
   "cell_type": "code",
   "execution_count": null,
   "metadata": {
    "ExecuteTime": {
     "end_time": "2020-01-30T10:57:14.618012Z",
     "start_time": "2020-01-30T10:57:14.615543Z"
    }
   },
   "outputs": [],
   "source": [
    "ma_chaine = ma_chaine.replace('è', 'e')"
   ]
  },
  {
   "cell_type": "code",
   "execution_count": null,
   "metadata": {
    "ExecuteTime": {
     "end_time": "2020-01-30T10:57:14.654579Z",
     "start_time": "2020-01-30T10:57:14.651411Z"
    }
   },
   "outputs": [],
   "source": [
    "ma_chaine"
   ]
  },
  {
   "cell_type": "markdown",
   "metadata": {},
   "source": [
    "Cette fonction est aussi utilisée pour supprimer les occurences d'une chaine de caractères,"
   ]
  },
  {
   "cell_type": "code",
   "execution_count": null,
   "metadata": {
    "ExecuteTime": {
     "end_time": "2020-01-30T10:57:14.721303Z",
     "start_time": "2020-01-30T10:57:14.717849Z"
    }
   },
   "outputs": [],
   "source": [
    "ma_chaine.replace('c', '')"
   ]
  },
  {
   "cell_type": "markdown",
   "metadata": {},
   "source": [
    "Il y beaucoup d'autres méthodes qui s'appliquant aux chaines de caractères :"
   ]
  },
  {
   "cell_type": "markdown",
   "metadata": {},
   "source": [
    "Trouver la position du premier caractère correspondant à la chaine cherchée"
   ]
  },
  {
   "cell_type": "code",
   "execution_count": null,
   "metadata": {
    "ExecuteTime": {
     "end_time": "2020-01-30T10:57:14.753950Z",
     "start_time": "2020-01-30T10:57:14.750648Z"
    }
   },
   "outputs": [],
   "source": [
    "ma_chaine.find('carac')"
   ]
  },
  {
   "cell_type": "markdown",
   "metadata": {},
   "source": [
    "Compter le nombre de fois qu'une sous-chaine est présente dans une chaine"
   ]
  },
  {
   "cell_type": "code",
   "execution_count": null,
   "metadata": {
    "ExecuteTime": {
     "end_time": "2020-01-30T10:57:14.796863Z",
     "start_time": "2020-01-30T10:57:14.793530Z"
    }
   },
   "outputs": [],
   "source": [
    "ma_chaine.count('c')"
   ]
  },
  {
   "cell_type": "markdown",
   "metadata": {},
   "source": [
    "Retirer les caractères à gauche et à droite (par défaut le caractère **espace**)"
   ]
  },
  {
   "cell_type": "code",
   "execution_count": null,
   "metadata": {
    "ExecuteTime": {
     "end_time": "2020-01-30T10:57:14.847150Z",
     "start_time": "2020-01-30T10:57:14.843727Z"
    }
   },
   "outputs": [],
   "source": [
    "'   235   '.strip()"
   ]
  },
  {
   "cell_type": "markdown",
   "metadata": {},
   "source": [
    "Les fonctions spécifiques **lstrip** et **rstrip**, permettent de retirer les caractères uniquement à gauche (l) ou à droite(r)) "
   ]
  },
  {
   "cell_type": "code",
   "execution_count": null,
   "metadata": {
    "ExecuteTime": {
     "end_time": "2020-01-30T10:57:14.932265Z",
     "start_time": "2020-01-30T10:57:14.929177Z"
    },
    "scrolled": true
   },
   "outputs": [],
   "source": [
    "#ma_chaine.rstrip('es')\n",
    "ma_chaine.lstrip('es')"
   ]
  },
  {
   "cell_type": "markdown",
   "metadata": {},
   "source": [
    "Découpage d'une chaine de caractères en morceaux sur la base d'une sous-chaine de caractères et renvoie une liste des différentes parties découpées.\n",
    "\n",
    "Si aucun paramètre n'est indiqué la chaine sera découpée sur la base du caractère **espace**"
   ]
  },
  {
   "cell_type": "code",
   "execution_count": null,
   "metadata": {
    "ExecuteTime": {
     "end_time": "2020-01-30T10:57:14.985562Z",
     "start_time": "2020-01-30T10:57:14.982265Z"
    }
   },
   "outputs": [],
   "source": [
    "ma_chaine.split()"
   ]
  },
  {
   "cell_type": "code",
   "execution_count": null,
   "metadata": {
    "ExecuteTime": {
     "end_time": "2020-01-30T10:57:15.017297Z",
     "start_time": "2020-01-30T10:57:15.013659Z"
    }
   },
   "outputs": [],
   "source": [
    "ma_chaine.split('e')\n",
    "ma_chaine.split('ar')"
   ]
  },
  {
   "cell_type": "markdown",
   "metadata": {},
   "source": [
    "Attention par construction la chaine utilisée est omise, elle n'est dans aucun élément de la liste (ici, il n'y a plus de **e**)"
   ]
  },
  {
   "cell_type": "markdown",
   "metadata": {},
   "source": [
    "Il existe aussi un dérivé de la fonction split, la fonction **splitlines** qui permet de découper un texte en une liste de lignes"
   ]
  },
  {
   "cell_type": "code",
   "execution_count": 40,
   "metadata": {
    "ExecuteTime": {
     "end_time": "2020-01-30T10:57:15.067005Z",
     "start_time": "2020-01-30T10:57:15.064238Z"
    }
   },
   "outputs": [
    {
     "name": "stdout",
     "output_type": "stream",
     "text": [
      "Lapin\n",
      "Cheval\n",
      "Cochon\n",
      "Vache\n"
     ]
    }
   ],
   "source": [
    "ma_chaine = 'Lapin\\nCheval\\nCochon\\nVache'\n",
    "print(ma_chaine)"
   ]
  },
  {
   "cell_type": "code",
   "execution_count": 41,
   "metadata": {
    "ExecuteTime": {
     "end_time": "2020-01-30T10:57:15.099134Z",
     "start_time": "2020-01-30T10:57:15.095756Z"
    }
   },
   "outputs": [
    {
     "data": {
      "text/plain": [
       "['Lapin', 'Cheval', 'Cochon', 'Vache']"
      ]
     },
     "execution_count": 41,
     "metadata": {},
     "output_type": "execute_result"
    }
   ],
   "source": [
    "ma_chaine.splitlines()"
   ]
  },
  {
   "cell_type": "markdown",
   "metadata": {},
   "source": [
    "La fonction inverse de la fonction **split** est un peu surprenante dans sa formulation, elle permet de concatener les éléments d'un tableau contenant des chaines de caractères en utilisant un caractères"
   ]
  },
  {
   "cell_type": "code",
   "execution_count": 42,
   "metadata": {
    "ExecuteTime": {
     "end_time": "2020-01-30T10:57:15.140225Z",
     "start_time": "2020-01-30T10:57:15.138047Z"
    }
   },
   "outputs": [],
   "source": [
    "caractere_de_jointure = 'e'"
   ]
  },
  {
   "cell_type": "code",
   "execution_count": 43,
   "metadata": {
    "ExecuteTime": {
     "end_time": "2020-01-30T10:57:15.172836Z",
     "start_time": "2020-01-30T10:57:15.169183Z"
    }
   },
   "outputs": [
    {
     "data": {
      "text/plain": [
       "'Chaine de caracteres'"
      ]
     },
     "execution_count": 43,
     "metadata": {},
     "output_type": "execute_result"
    }
   ],
   "source": [
    "caractere_de_jointure.join(['Chain', ' d', ' caract', 'r', 's'])"
   ]
  },
  {
   "cell_type": "markdown",
   "metadata": {},
   "source": [
    "Ou plus simplement :"
   ]
  },
  {
   "cell_type": "code",
   "execution_count": 44,
   "metadata": {
    "ExecuteTime": {
     "end_time": "2020-01-30T10:57:15.213072Z",
     "start_time": "2020-01-30T10:57:15.209491Z"
    }
   },
   "outputs": [
    {
     "data": {
      "text/plain": [
       "'Chaine de caracteres'"
      ]
     },
     "execution_count": 44,
     "metadata": {},
     "output_type": "execute_result"
    }
   ],
   "source": [
    "'e'.join(['Chain', ' d', ' caract', 'r', 's'])"
   ]
  },
  {
   "cell_type": "markdown",
   "metadata": {},
   "source": [
    "Obtenir la chaine en majuscule ou en minuscule"
   ]
  },
  {
   "cell_type": "markdown",
   "metadata": {},
   "source": [
    "Il est d'ailleurs important que les chaines sont \"sensibles à la casse\" :"
   ]
  },
  {
   "cell_type": "code",
   "execution_count": 45,
   "metadata": {
    "ExecuteTime": {
     "end_time": "2020-01-30T10:57:15.263777Z",
     "start_time": "2020-01-30T10:57:15.260532Z"
    }
   },
   "outputs": [
    {
     "data": {
      "text/plain": [
       "False"
      ]
     },
     "execution_count": 45,
     "metadata": {},
     "output_type": "execute_result"
    }
   ],
   "source": [
    "'a' == 'A'"
   ]
  },
  {
   "cell_type": "code",
   "execution_count": 46,
   "metadata": {
    "ExecuteTime": {
     "end_time": "2020-01-30T10:57:15.296672Z",
     "start_time": "2020-01-30T10:57:15.293585Z"
    }
   },
   "outputs": [
    {
     "data": {
      "text/plain": [
       "'lapin\\ncheval\\ncochon\\nvache'"
      ]
     },
     "execution_count": 46,
     "metadata": {},
     "output_type": "execute_result"
    }
   ],
   "source": [
    "ma_chaine.lower()"
   ]
  },
  {
   "cell_type": "code",
   "execution_count": 47,
   "metadata": {
    "ExecuteTime": {
     "end_time": "2020-01-30T10:57:15.329595Z",
     "start_time": "2020-01-30T10:57:15.326353Z"
    }
   },
   "outputs": [
    {
     "data": {
      "text/plain": [
       "'LAPIN\\nCHEVAL\\nCOCHON\\nVACHE'"
      ]
     },
     "execution_count": 47,
     "metadata": {},
     "output_type": "execute_result"
    }
   ],
   "source": [
    "ma_chaine.upper()"
   ]
  },
  {
   "cell_type": "markdown",
   "metadata": {},
   "source": [
    "## Les ensembles"
   ]
  },
  {
   "cell_type": "markdown",
   "metadata": {},
   "source": [
    "Python dispose de 5 types d'ensembles principaux.\n",
    "\n",
    "Ces ensembles contiennent, comme leur nom l'indique, plusieurs éléments.\n",
    "\n",
    "On peut, pour tous ces ensembles obtenir le nombre d'éléments en utilisant la fonction **len()** (comme *length*)"
   ]
  },
  {
   "cell_type": "markdown",
   "metadata": {},
   "source": [
    "### Tuples (N-uplets)"
   ]
  },
  {
   "cell_type": "markdown",
   "metadata": {},
   "source": [
    "#### Bases"
   ]
  },
  {
   "cell_type": "markdown",
   "metadata": {},
   "source": [
    "Un tuple est un ensemble d'éléments **ordonnés** (et possiblement **répétés**)"
   ]
  },
  {
   "cell_type": "markdown",
   "metadata": {},
   "source": [
    "On le définit entre parenthèses :"
   ]
  },
  {
   "cell_type": "code",
   "execution_count": 48,
   "metadata": {
    "ExecuteTime": {
     "end_time": "2020-01-30T10:57:15.421608Z",
     "start_time": "2020-01-30T10:57:15.418321Z"
    }
   },
   "outputs": [
    {
     "data": {
      "text/plain": [
       "(4, 12, 1)"
      ]
     },
     "execution_count": 48,
     "metadata": {},
     "output_type": "execute_result"
    }
   ],
   "source": [
    "(4, 12, 1)"
   ]
  },
  {
   "cell_type": "code",
   "execution_count": 49,
   "metadata": {
    "ExecuteTime": {
     "end_time": "2020-01-30T10:57:15.450855Z",
     "start_time": "2020-01-30T10:57:15.447474Z"
    }
   },
   "outputs": [
    {
     "data": {
      "text/plain": [
       "tuple"
      ]
     },
     "execution_count": 49,
     "metadata": {},
     "output_type": "execute_result"
    }
   ],
   "source": [
    "type((4, 12, 1))"
   ]
  },
  {
   "cell_type": "markdown",
   "metadata": {},
   "source": [
    "Un tuple peut contenir des valeurs de types différents :"
   ]
  },
  {
   "cell_type": "code",
   "execution_count": 50,
   "metadata": {
    "ExecuteTime": {
     "end_time": "2020-01-30T10:57:15.494860Z",
     "start_time": "2020-01-30T10:57:15.491178Z"
    },
    "scrolled": true
   },
   "outputs": [
    {
     "data": {
      "text/plain": [
       "(1, 1.5, None, True)"
      ]
     },
     "execution_count": 50,
     "metadata": {},
     "output_type": "execute_result"
    }
   ],
   "source": [
    "(1, 1.5, None, True)"
   ]
  },
  {
   "cell_type": "markdown",
   "metadata": {},
   "source": [
    "Attention, si nécessaire, pour définir un N-uplet de taille 1 (ça peut arriver), on est obligé d'utiliser la formulation suivante (la virgule doit être indiquée)"
   ]
  },
  {
   "cell_type": "code",
   "execution_count": 51,
   "metadata": {
    "ExecuteTime": {
     "end_time": "2020-01-30T10:57:15.533637Z",
     "start_time": "2020-01-30T10:57:15.529361Z"
    }
   },
   "outputs": [
    {
     "data": {
      "text/plain": [
       "tuple"
      ]
     },
     "execution_count": 51,
     "metadata": {},
     "output_type": "execute_result"
    }
   ],
   "source": [
    "type((1, ))"
   ]
  },
  {
   "cell_type": "code",
   "execution_count": 52,
   "metadata": {
    "ExecuteTime": {
     "end_time": "2020-01-30T10:57:15.564639Z",
     "start_time": "2020-01-30T10:57:15.560445Z"
    }
   },
   "outputs": [
    {
     "data": {
      "text/plain": [
       "int"
      ]
     },
     "execution_count": 52,
     "metadata": {},
     "output_type": "execute_result"
    }
   ],
   "source": [
    "type((1))"
   ]
  },
  {
   "cell_type": "markdown",
   "metadata": {},
   "source": [
    "On peut vérifier la présence d'un élément dans un tuple en utilisant l'opérateur **in**"
   ]
  },
  {
   "cell_type": "code",
   "execution_count": 53,
   "metadata": {
    "ExecuteTime": {
     "end_time": "2020-01-30T10:57:15.605587Z",
     "start_time": "2020-01-30T10:57:15.601441Z"
    }
   },
   "outputs": [
    {
     "data": {
      "text/plain": [
       "True"
      ]
     },
     "execution_count": 53,
     "metadata": {},
     "output_type": "execute_result"
    }
   ],
   "source": [
    "1 in (1, 1.5, None, True)"
   ]
  },
  {
   "cell_type": "markdown",
   "metadata": {},
   "source": [
    "#### Indexation"
   ]
  },
  {
   "cell_type": "markdown",
   "metadata": {},
   "source": [
    "Soit un tuple :"
   ]
  },
  {
   "cell_type": "code",
   "execution_count": 54,
   "metadata": {
    "ExecuteTime": {
     "end_time": "2020-01-30T10:57:15.656714Z",
     "start_time": "2020-01-30T10:57:15.653816Z"
    }
   },
   "outputs": [],
   "source": [
    "quatre_elem = (1, 1.5, None, True)"
   ]
  },
  {
   "cell_type": "code",
   "execution_count": 55,
   "metadata": {
    "ExecuteTime": {
     "end_time": "2020-01-30T10:57:15.709449Z",
     "start_time": "2020-01-30T10:57:15.705431Z"
    }
   },
   "outputs": [
    {
     "data": {
      "text/plain": [
       "4"
      ]
     },
     "execution_count": 55,
     "metadata": {},
     "output_type": "execute_result"
    }
   ],
   "source": [
    "len(quatre_elem)"
   ]
  },
  {
   "cell_type": "markdown",
   "metadata": {},
   "source": [
    "Le fonctionnement de l'indexation est exactement le même pour un tuple que pour une chaine de caractères"
   ]
  },
  {
   "cell_type": "code",
   "execution_count": 56,
   "metadata": {
    "ExecuteTime": {
     "end_time": "2020-01-30T10:57:15.773566Z",
     "start_time": "2020-01-30T10:57:15.769411Z"
    }
   },
   "outputs": [
    {
     "data": {
      "text/plain": [
       "1"
      ]
     },
     "execution_count": 56,
     "metadata": {},
     "output_type": "execute_result"
    }
   ],
   "source": [
    "quatre_elem[0]"
   ]
  },
  {
   "cell_type": "code",
   "execution_count": 57,
   "metadata": {
    "ExecuteTime": {
     "end_time": "2020-01-30T10:57:15.803091Z",
     "start_time": "2020-01-30T10:57:15.799208Z"
    }
   },
   "outputs": [
    {
     "data": {
      "text/plain": [
       "True"
      ]
     },
     "execution_count": 57,
     "metadata": {},
     "output_type": "execute_result"
    }
   ],
   "source": [
    "quatre_elem[-1]"
   ]
  },
  {
   "cell_type": "markdown",
   "metadata": {},
   "source": [
    "#### Mutabilité"
   ]
  },
  {
   "cell_type": "markdown",
   "metadata": {},
   "source": [
    "Un tuple est **non-mutable** : il est impossible d'ajouter ou enlever un élément. \n",
    "\n",
    "Lors de sa création, un N-uplet fixe définitivement sa taille. (5, 2, 3) est un triplet, il restera un triplet."
   ]
  },
  {
   "cell_type": "markdown",
   "metadata": {},
   "source": [
    "### Ranges (Intervalles entiers)"
   ]
  },
  {
   "cell_type": "markdown",
   "metadata": {
    "collapsed": true
   },
   "source": [
    "Mot-clé : **range**"
   ]
  },
  {
   "cell_type": "markdown",
   "metadata": {},
   "source": [
    "Un range est un intervalle de nombres entiers (issus de ℕ en mathématiques). L'intervalle entier [1, 6[ se définit ainsi :"
   ]
  },
  {
   "cell_type": "code",
   "execution_count": 58,
   "metadata": {
    "ExecuteTime": {
     "end_time": "2020-01-30T10:57:15.899318Z",
     "start_time": "2020-01-30T10:57:15.895260Z"
    }
   },
   "outputs": [
    {
     "data": {
      "text/plain": [
       "range(1, 6)"
      ]
     },
     "execution_count": 58,
     "metadata": {},
     "output_type": "execute_result"
    }
   ],
   "source": [
    "range(1, 6)"
   ]
  },
  {
   "cell_type": "markdown",
   "metadata": {},
   "source": [
    "**Attention : la borne supérieur est exclue !**"
   ]
  },
  {
   "cell_type": "markdown",
   "metadata": {},
   "source": [
    "On peut aussi ne donner qu'un seul argument à **range()**, il s'agit alors de la borne supérieur (exclue!), et le premier élément de l'intervalle est alors **0** :"
   ]
  },
  {
   "cell_type": "code",
   "execution_count": 59,
   "metadata": {
    "ExecuteTime": {
     "end_time": "2020-01-30T10:57:15.950742Z",
     "start_time": "2020-01-30T10:57:15.946533Z"
    }
   },
   "outputs": [
    {
     "data": {
      "text/plain": [
       "True"
      ]
     },
     "execution_count": 59,
     "metadata": {},
     "output_type": "execute_result"
    }
   ],
   "source": [
    "range(5) == range(0, 5)"
   ]
  },
  {
   "cell_type": "markdown",
   "metadata": {
    "ExecuteTime": {
     "end_time": "2018-01-08T20:03:55.385024Z",
     "start_time": "2018-01-08T20:03:55.353824Z"
    }
   },
   "source": [
    "Ce qui est plus simple à comprendre en disant : **range(5) est l'intervalle contenant les 5 premiers entiers (dont le premier est 0)**"
   ]
  },
  {
   "cell_type": "markdown",
   "metadata": {},
   "source": [
    "Du coup, **range(len(ma_chaine))** renvoie l'intervalle contenant très exactement l'ensemble des indices d'une chaine"
   ]
  },
  {
   "cell_type": "code",
   "execution_count": 60,
   "metadata": {
    "ExecuteTime": {
     "end_time": "2020-01-30T10:57:16.001268Z",
     "start_time": "2020-01-30T10:57:15.997145Z"
    }
   },
   "outputs": [
    {
     "data": {
      "text/plain": [
       "range(0, 20)"
      ]
     },
     "execution_count": 60,
     "metadata": {},
     "output_type": "execute_result"
    }
   ],
   "source": [
    "range(len('Chaine de caractères'))"
   ]
  },
  {
   "cell_type": "markdown",
   "metadata": {},
   "source": [
    "On peut le convertir en tuple en utilisant la commande suivante"
   ]
  },
  {
   "cell_type": "code",
   "execution_count": 61,
   "metadata": {
    "ExecuteTime": {
     "end_time": "2020-01-30T10:57:16.045241Z",
     "start_time": "2020-01-30T10:57:16.039320Z"
    },
    "scrolled": true
   },
   "outputs": [
    {
     "data": {
      "text/plain": [
       "(0, 1, 2, 3, 4)"
      ]
     },
     "execution_count": 61,
     "metadata": {},
     "output_type": "execute_result"
    }
   ],
   "source": [
    "tuple(range(5))"
   ]
  },
  {
   "cell_type": "markdown",
   "metadata": {},
   "source": [
    "Un **range** est un objet **non-mutable**"
   ]
  },
  {
   "cell_type": "markdown",
   "metadata": {},
   "source": [
    "### Sets (Ensembles)"
   ]
  },
  {
   "cell_type": "markdown",
   "metadata": {},
   "source": [
    "#### Bases"
   ]
  },
  {
   "cell_type": "markdown",
   "metadata": {
    "collapsed": true
   },
   "source": [
    "Mot-clé : **set**"
   ]
  },
  {
   "cell_type": "markdown",
   "metadata": {},
   "source": [
    "Ensemble d'éléments **sans ordre**, et **sans répétition** (ensemble des éléments uniques)"
   ]
  },
  {
   "cell_type": "markdown",
   "metadata": {},
   "source": [
    "Ils sont définis entre accolades :"
   ]
  },
  {
   "cell_type": "code",
   "execution_count": 62,
   "metadata": {
    "ExecuteTime": {
     "end_time": "2020-01-30T10:57:16.158371Z",
     "start_time": "2020-01-30T10:57:16.153349Z"
    }
   },
   "outputs": [
    {
     "data": {
      "text/plain": [
       "True"
      ]
     },
     "execution_count": 62,
     "metadata": {},
     "output_type": "execute_result"
    }
   ],
   "source": [
    "{1, 1, 2, 3} == {2, 1, 3}"
   ]
  },
  {
   "cell_type": "markdown",
   "metadata": {},
   "source": [
    "**Les éléments (uniques donc) sont toujours présentés ordonnés dans un tuple**"
   ]
  },
  {
   "cell_type": "code",
   "execution_count": 63,
   "metadata": {
    "ExecuteTime": {
     "end_time": "2020-01-30T10:57:16.246907Z",
     "start_time": "2020-01-30T10:57:16.241288Z"
    }
   },
   "outputs": [
    {
     "data": {
      "text/plain": [
       "{1, 2, 3}"
      ]
     },
     "execution_count": 63,
     "metadata": {},
     "output_type": "execute_result"
    }
   ],
   "source": [
    "#{2, 1, 3}\n",
    "{1, 1, 2, 3}"
   ]
  },
  {
   "cell_type": "markdown",
   "metadata": {},
   "source": [
    "Comme un tuple, un set peut être constitué d'éléments de **types différents**"
   ]
  },
  {
   "cell_type": "code",
   "execution_count": 64,
   "metadata": {
    "ExecuteTime": {
     "end_time": "2020-01-30T10:57:16.297780Z",
     "start_time": "2020-01-30T10:57:16.294134Z"
    }
   },
   "outputs": [
    {
     "data": {
      "text/plain": [
       "{False, 1.1, 3.8, 5, 12}"
      ]
     },
     "execution_count": 64,
     "metadata": {},
     "output_type": "execute_result"
    }
   ],
   "source": [
    "{False, 5, 1.1, 12, 3.8}"
   ]
  },
  {
   "cell_type": "markdown",
   "metadata": {},
   "source": [
    "**Les sets sont très utiles pour obtenir le sous-ensemble des éléments uniques d'un ensemble plus large**"
   ]
  },
  {
   "cell_type": "markdown",
   "metadata": {},
   "source": [
    "Depuis un tuple par exemple :"
   ]
  },
  {
   "cell_type": "code",
   "execution_count": 65,
   "metadata": {
    "ExecuteTime": {
     "end_time": "2020-01-30T10:57:16.348166Z",
     "start_time": "2020-01-30T10:57:16.344387Z"
    },
    "run_control": {
     "marked": false
    },
    "scrolled": true
   },
   "outputs": [
    {
     "data": {
      "text/plain": [
       "{1, 2, 3, 5, 6}"
      ]
     },
     "execution_count": 65,
     "metadata": {},
     "output_type": "execute_result"
    }
   ],
   "source": [
    "set((1, 1, 6, 2, 2, 3, 5, 3, 6))"
   ]
  },
  {
   "cell_type": "markdown",
   "metadata": {},
   "source": [
    "Ou depuis une chaine de caractères :"
   ]
  },
  {
   "cell_type": "code",
   "execution_count": 66,
   "metadata": {
    "ExecuteTime": {
     "end_time": "2020-01-30T10:57:16.391310Z",
     "start_time": "2020-01-30T10:57:16.387999Z"
    }
   },
   "outputs": [
    {
     "data": {
      "text/plain": [
       "{' ', 'a', 'c', 'd', 'e', 'h', 'i', 'n', 'r', 's', 't', 'è'}"
      ]
     },
     "execution_count": 66,
     "metadata": {},
     "output_type": "execute_result"
    }
   ],
   "source": [
    "set('chaine de caractères')"
   ]
  },
  {
   "cell_type": "markdown",
   "metadata": {},
   "source": [
    "On peut vérifier la présence d'un élément dans un set en utilisant l'opérateur **in**"
   ]
  },
  {
   "cell_type": "code",
   "execution_count": 67,
   "metadata": {
    "ExecuteTime": {
     "end_time": "2020-01-30T10:57:16.430664Z",
     "start_time": "2020-01-30T10:57:16.427218Z"
    }
   },
   "outputs": [
    {
     "data": {
      "text/plain": [
       "True"
      ]
     },
     "execution_count": 67,
     "metadata": {},
     "output_type": "execute_result"
    }
   ],
   "source": [
    "1 in {1, 2, 3, 5, 6}"
   ]
  },
  {
   "cell_type": "markdown",
   "metadata": {},
   "source": [
    "#### Indexation"
   ]
  },
  {
   "cell_type": "markdown",
   "metadata": {},
   "source": [
    "**On ne peut pas indexer un set** (accéder individuellement à ses éléments sur la base d'un index), à l'inverse du tuple et de la chaine"
   ]
  },
  {
   "cell_type": "code",
   "execution_count": 14,
   "metadata": {
    "ExecuteTime": {
     "end_time": "2020-01-30T10:57:16.480985Z",
     "start_time": "2020-01-30T10:57:16.478530Z"
    }
   },
   "outputs": [],
   "source": [
    "mon_set = {False, 5, 1.1, 12, 3.8}"
   ]
  },
  {
   "cell_type": "code",
   "execution_count": 69,
   "metadata": {
    "ExecuteTime": {
     "end_time": "2020-01-30T10:57:16.521423Z",
     "start_time": "2020-01-30T10:57:16.515562Z"
    }
   },
   "outputs": [
    {
     "ename": "TypeError",
     "evalue": "'set' object is not subscriptable",
     "output_type": "error",
     "traceback": [
      "\u001b[1;31m---------------------------------------------------------------------------\u001b[0m",
      "\u001b[1;31mTypeError\u001b[0m                                 Traceback (most recent call last)",
      "\u001b[1;32m<ipython-input-69-00b0c9de26d4>\u001b[0m in \u001b[0;36m<module>\u001b[1;34m\u001b[0m\n\u001b[1;32m----> 1\u001b[1;33m \u001b[0mmon_set\u001b[0m\u001b[1;33m[\u001b[0m\u001b[1;36m1\u001b[0m\u001b[1;33m]\u001b[0m\u001b[1;33m\u001b[0m\u001b[1;33m\u001b[0m\u001b[0m\n\u001b[0m",
      "\u001b[1;31mTypeError\u001b[0m: 'set' object is not subscriptable"
     ]
    }
   ],
   "source": [
    "mon_set[1]"
   ]
  },
  {
   "cell_type": "markdown",
   "metadata": {},
   "source": [
    "#### Mutabilité"
   ]
  },
  {
   "cell_type": "markdown",
   "metadata": {},
   "source": [
    "Contrairement à un tuple, un set est **mutable** (il existe pour des questions de convenance une version non-mutable du **set** : le **frozenset**)\n",
    "\n",
    "On peut ajouter un élément comme ceci :"
   ]
  },
  {
   "cell_type": "code",
   "execution_count": null,
   "metadata": {
    "ExecuteTime": {
     "end_time": "2020-01-30T10:57:16.628116Z",
     "start_time": "2020-01-30T10:57:16.624728Z"
    }
   },
   "outputs": [],
   "source": [
    "mon_set.add(4)\n",
    "mon_set"
   ]
  },
  {
   "cell_type": "markdown",
   "metadata": {},
   "source": [
    "Et en enlever un comme cela :"
   ]
  },
  {
   "cell_type": "code",
   "execution_count": null,
   "metadata": {
    "ExecuteTime": {
     "end_time": "2020-01-30T10:57:16.635332Z",
     "start_time": "2020-01-30T10:57:16.632268Z"
    }
   },
   "outputs": [],
   "source": [
    "mon_set.remove(3.8)\n",
    "mon_set"
   ]
  },
  {
   "cell_type": "markdown",
   "metadata": {},
   "source": [
    "### Lists"
   ]
  },
  {
   "cell_type": "markdown",
   "metadata": {},
   "source": [
    "#### Bases"
   ]
  },
  {
   "cell_type": "markdown",
   "metadata": {
    "collapsed": true
   },
   "source": [
    "Mot-clé : **list**"
   ]
  },
  {
   "cell_type": "markdown",
   "metadata": {},
   "source": [
    "Il s'agit d'un ensemble de valeurs **ordonnées** (et potentiellement **répétées**).\n",
    "\n",
    "C'est l'un des types les plus utilisés en Python."
   ]
  },
  {
   "cell_type": "code",
   "execution_count": 16,
   "metadata": {
    "ExecuteTime": {
     "end_time": "2020-01-30T10:57:16.739542Z",
     "start_time": "2020-01-30T10:57:16.736086Z"
    }
   },
   "outputs": [
    {
     "data": {
      "text/plain": [
       "False"
      ]
     },
     "execution_count": 16,
     "metadata": {},
     "output_type": "execute_result"
    }
   ],
   "source": [
    "[1, 2, 3, 1] == [2, 1, 3, 1]"
   ]
  },
  {
   "cell_type": "code",
   "execution_count": 17,
   "metadata": {
    "ExecuteTime": {
     "end_time": "2020-01-30T10:57:16.775382Z",
     "start_time": "2020-01-30T10:57:16.771904Z"
    },
    "scrolled": true
   },
   "outputs": [
    {
     "data": {
      "text/plain": [
       "4"
      ]
     },
     "execution_count": 17,
     "metadata": {},
     "output_type": "execute_result"
    }
   ],
   "source": [
    "len([1, 2, 3, 1])"
   ]
  },
  {
   "cell_type": "markdown",
   "metadata": {},
   "source": [
    "On peut vérifier la présence d'un élément dans une liste en utilisant l'opérateur **in**"
   ]
  },
  {
   "cell_type": "code",
   "execution_count": 70,
   "metadata": {
    "ExecuteTime": {
     "end_time": "2020-01-30T10:57:16.825695Z",
     "start_time": "2020-01-30T10:57:16.822172Z"
    }
   },
   "outputs": [
    {
     "data": {
      "text/plain": [
       "True"
      ]
     },
     "execution_count": 70,
     "metadata": {},
     "output_type": "execute_result"
    }
   ],
   "source": [
    "1 in [1, 2, 3, 1]"
   ]
  },
  {
   "cell_type": "markdown",
   "metadata": {},
   "source": [
    "Une liste vide s'écrit []"
   ]
  },
  {
   "cell_type": "code",
   "execution_count": 71,
   "metadata": {
    "ExecuteTime": {
     "end_time": "2020-01-30T10:57:16.877143Z",
     "start_time": "2020-01-30T10:57:16.873728Z"
    },
    "scrolled": true
   },
   "outputs": [
    {
     "data": {
      "text/plain": [
       "[]"
      ]
     },
     "execution_count": 71,
     "metadata": {},
     "output_type": "execute_result"
    }
   ],
   "source": [
    "[]"
   ]
  },
  {
   "cell_type": "markdown",
   "metadata": {},
   "source": [
    "#### Indexation"
   ]
  },
  {
   "cell_type": "markdown",
   "metadata": {},
   "source": [
    "Soit la liste suivante :"
   ]
  },
  {
   "cell_type": "code",
   "execution_count": 72,
   "metadata": {
    "ExecuteTime": {
     "end_time": "2020-01-30T10:57:16.935872Z",
     "start_time": "2020-01-30T10:57:16.933431Z"
    }
   },
   "outputs": [],
   "source": [
    "ma_liste = [4, 8, 19, 12, 35]"
   ]
  },
  {
   "cell_type": "markdown",
   "metadata": {},
   "source": [
    "Le fonctionnement de l'indexation est exactement le même pour une liste que pour une string ou un tuple"
   ]
  },
  {
   "cell_type": "code",
   "execution_count": 73,
   "metadata": {
    "ExecuteTime": {
     "end_time": "2020-01-30T10:57:16.990247Z",
     "start_time": "2020-01-30T10:57:16.986902Z"
    }
   },
   "outputs": [
    {
     "data": {
      "text/plain": [
       "4"
      ]
     },
     "execution_count": 73,
     "metadata": {},
     "output_type": "execute_result"
    }
   ],
   "source": [
    "ma_liste[0]"
   ]
  },
  {
   "cell_type": "code",
   "execution_count": 74,
   "metadata": {
    "ExecuteTime": {
     "end_time": "2020-01-30T10:57:17.033586Z",
     "start_time": "2020-01-30T10:57:17.030054Z"
    }
   },
   "outputs": [
    {
     "data": {
      "text/plain": [
       "35"
      ]
     },
     "execution_count": 74,
     "metadata": {},
     "output_type": "execute_result"
    }
   ],
   "source": [
    "ma_liste[-1]"
   ]
  },
  {
   "cell_type": "markdown",
   "metadata": {},
   "source": [
    "#### Mutabilité"
   ]
  },
  {
   "cell_type": "markdown",
   "metadata": {},
   "source": [
    "Une **list** est un objet **mutable** contrairement aux **tuples** et **ranges**, mais comme les **sets**"
   ]
  },
  {
   "cell_type": "code",
   "execution_count": 75,
   "metadata": {
    "ExecuteTime": {
     "end_time": "2020-01-30T10:57:17.080459Z",
     "start_time": "2020-01-30T10:57:17.077985Z"
    }
   },
   "outputs": [],
   "source": [
    "ma_liste = [4, 8, 19, 12, 35]"
   ]
  },
  {
   "cell_type": "markdown",
   "metadata": {},
   "source": [
    "On peut ajouter un élément à la fin de la liste :"
   ]
  },
  {
   "cell_type": "code",
   "execution_count": 76,
   "metadata": {
    "ExecuteTime": {
     "end_time": "2020-01-30T10:57:17.125881Z",
     "start_time": "2020-01-30T10:57:17.122435Z"
    },
    "scrolled": true
   },
   "outputs": [
    {
     "data": {
      "text/plain": [
       "[4, 8, 19, 12, 35, 2]"
      ]
     },
     "execution_count": 76,
     "metadata": {},
     "output_type": "execute_result"
    }
   ],
   "source": [
    "ma_liste.append(2)\n",
    "ma_liste"
   ]
  },
  {
   "cell_type": "markdown",
   "metadata": {},
   "source": [
    "On peut aussi réaliser cette opération avec l'opérateur **+=**"
   ]
  },
  {
   "cell_type": "code",
   "execution_count": 77,
   "metadata": {
    "ExecuteTime": {
     "end_time": "2020-01-30T10:57:17.166926Z",
     "start_time": "2020-01-30T10:57:17.163566Z"
    }
   },
   "outputs": [
    {
     "data": {
      "text/plain": [
       "[4, 8, 19, 12, 35, 2, 2]"
      ]
     },
     "execution_count": 77,
     "metadata": {},
     "output_type": "execute_result"
    }
   ],
   "source": [
    "ma_liste += [2]\n",
    "ma_liste"
   ]
  },
  {
   "cell_type": "markdown",
   "metadata": {},
   "source": [
    "Ou en retirer un en utilisant sa valeur, comme pour les sets :"
   ]
  },
  {
   "cell_type": "code",
   "execution_count": 78,
   "metadata": {
    "ExecuteTime": {
     "end_time": "2020-01-30T10:57:17.211101Z",
     "start_time": "2020-01-30T10:57:17.207832Z"
    }
   },
   "outputs": [
    {
     "data": {
      "text/plain": [
       "[4, 8, 19, 12, 35, 2]"
      ]
     },
     "execution_count": 78,
     "metadata": {},
     "output_type": "execute_result"
    }
   ],
   "source": [
    "ma_liste.remove(2)\n",
    "ma_liste"
   ]
  },
  {
   "cell_type": "markdown",
   "metadata": {},
   "source": [
    "Ou encore en insérer un sur la base d'un index, on indique alors d'abord l'index où on veut insérer cet élément  :"
   ]
  },
  {
   "cell_type": "code",
   "execution_count": 79,
   "metadata": {
    "ExecuteTime": {
     "end_time": "2020-01-30T10:57:17.252008Z",
     "start_time": "2020-01-30T10:57:17.248696Z"
    }
   },
   "outputs": [
    {
     "data": {
      "text/plain": [
       "[4, 8, 3, 19, 12, 35, 2]"
      ]
     },
     "execution_count": 79,
     "metadata": {},
     "output_type": "execute_result"
    }
   ],
   "source": [
    "ma_liste.insert(2, 3)\n",
    "ma_liste"
   ]
  },
  {
   "cell_type": "markdown",
   "metadata": {},
   "source": [
    "Ou en retirer un en utilisant sa position (son index)"
   ]
  },
  {
   "cell_type": "code",
   "execution_count": 80,
   "metadata": {
    "ExecuteTime": {
     "end_time": "2020-01-30T10:57:17.294544Z",
     "start_time": "2020-01-30T10:57:17.291301Z"
    }
   },
   "outputs": [
    {
     "data": {
      "text/plain": [
       "[4, 8, 19, 12, 35, 2]"
      ]
     },
     "execution_count": 80,
     "metadata": {},
     "output_type": "execute_result"
    }
   ],
   "source": [
    "ma_liste.pop(2)\n",
    "ma_liste"
   ]
  },
  {
   "cell_type": "markdown",
   "metadata": {},
   "source": [
    "#### Autres méthodes importantes"
   ]
  },
  {
   "cell_type": "markdown",
   "metadata": {},
   "source": [
    "Obtenir l'index d'un élément en utilisant sa valeur"
   ]
  },
  {
   "cell_type": "code",
   "execution_count": 81,
   "metadata": {
    "ExecuteTime": {
     "end_time": "2020-01-30T10:57:17.348666Z",
     "start_time": "2020-01-30T10:57:17.345322Z"
    }
   },
   "outputs": [
    {
     "data": {
      "text/plain": [
       "2"
      ]
     },
     "execution_count": 81,
     "metadata": {},
     "output_type": "execute_result"
    }
   ],
   "source": [
    "ma_liste.index(19)"
   ]
  },
  {
   "cell_type": "markdown",
   "metadata": {},
   "source": [
    "**NB :** la propriété de **mutabilité** des listes font que les fonctions suivantes modifient la liste concernée"
   ]
  },
  {
   "cell_type": "markdown",
   "metadata": {},
   "source": [
    "Trier la liste"
   ]
  },
  {
   "cell_type": "code",
   "execution_count": 82,
   "metadata": {
    "ExecuteTime": {
     "end_time": "2020-01-30T10:57:17.405429Z",
     "start_time": "2020-01-30T10:57:17.402254Z"
    }
   },
   "outputs": [
    {
     "data": {
      "text/plain": [
       "[2, 4, 8, 12, 19, 35]"
      ]
     },
     "execution_count": 82,
     "metadata": {},
     "output_type": "execute_result"
    }
   ],
   "source": [
    "ma_liste.sort()\n",
    "ma_liste"
   ]
  },
  {
   "cell_type": "markdown",
   "metadata": {},
   "source": [
    "**Attention** : si les valeurs ne sont pas de même type, le tri peut aboutir à des résultats non désirés"
   ]
  },
  {
   "cell_type": "markdown",
   "metadata": {},
   "source": [
    "Inverser l'ordre des éléments"
   ]
  },
  {
   "cell_type": "code",
   "execution_count": 83,
   "metadata": {
    "ExecuteTime": {
     "end_time": "2020-01-30T10:57:17.453580Z",
     "start_time": "2020-01-30T10:57:17.450073Z"
    }
   },
   "outputs": [
    {
     "data": {
      "text/plain": [
       "[35, 19, 12, 8, 4, 2]"
      ]
     },
     "execution_count": 83,
     "metadata": {},
     "output_type": "execute_result"
    }
   ],
   "source": [
    "ma_liste.reverse()\n",
    "ma_liste"
   ]
  },
  {
   "cell_type": "markdown",
   "metadata": {},
   "source": [
    "### Dictionnaries"
   ]
  },
  {
   "cell_type": "markdown",
   "metadata": {},
   "source": [
    "#### Bases"
   ]
  },
  {
   "cell_type": "markdown",
   "metadata": {
    "collapsed": true
   },
   "source": [
    "Mot-clé : **dict**"
   ]
  },
  {
   "cell_type": "markdown",
   "metadata": {
    "ExecuteTime": {
     "end_time": "2017-12-26T15:49:39.966404Z",
     "start_time": "2017-12-26T15:49:39.956404Z"
    }
   },
   "source": [
    "C'est un type qui est généralement utilisé pour associer à une valeur une chaine de caractères (au lieu d'utiliser un **index** comme pour les **lists**, **tuples** et **strings**), cette chaine de caractères est nommée **clé** ou **entrée** du dictionnaire (**key** en anglais).\n",
    "\n",
    "C'est l'un des types les plus utilisés en Python"
   ]
  },
  {
   "cell_type": "markdown",
   "metadata": {},
   "source": [
    "Ces dictionnaires sont définis entre **accolades** avec utilisation de l'opérateur **:**"
   ]
  },
  {
   "cell_type": "code",
   "execution_count": 84,
   "metadata": {
    "ExecuteTime": {
     "end_time": "2020-01-30T10:57:17.610625Z",
     "start_time": "2020-01-30T10:57:17.608056Z"
    }
   },
   "outputs": [],
   "source": [
    "mon_dict = {'FR': 'France', 'DE': 'Allemagne'}\n",
    "# \"entrée\" : \"valeur\""
   ]
  },
  {
   "cell_type": "markdown",
   "metadata": {},
   "source": [
    "Pour des raisons de clarté, on les présente souvent plutôt comme cela :"
   ]
  },
  {
   "cell_type": "code",
   "execution_count": 85,
   "metadata": {
    "ExecuteTime": {
     "end_time": "2020-01-30T10:57:17.674874Z",
     "start_time": "2020-01-30T10:57:17.672329Z"
    }
   },
   "outputs": [],
   "source": [
    "mon_dict = {\n",
    "    'FR': 'France',\n",
    "    'DE': 'Allemagne',\n",
    "}"
   ]
  },
  {
   "cell_type": "markdown",
   "metadata": {},
   "source": [
    "Comme pour les lists et tuples, on peut obtenir un élément donné en utilisant son **entrée**"
   ]
  },
  {
   "cell_type": "code",
   "execution_count": 86,
   "metadata": {
    "ExecuteTime": {
     "end_time": "2020-01-30T10:57:17.723096Z",
     "start_time": "2020-01-30T10:57:17.717958Z"
    }
   },
   "outputs": [
    {
     "data": {
      "text/plain": [
       "'France'"
      ]
     },
     "execution_count": 86,
     "metadata": {},
     "output_type": "execute_result"
    }
   ],
   "source": [
    "mon_dict['FR']"
   ]
  },
  {
   "cell_type": "markdown",
   "metadata": {},
   "source": [
    "Les **entrées** sont nécessairement **uniques**. \n",
    "\n",
    "Les **valeurs** qui leur sont associées ne le sont **pas nécessairement**"
   ]
  },
  {
   "cell_type": "code",
   "execution_count": 87,
   "metadata": {
    "ExecuteTime": {
     "end_time": "2020-01-30T10:57:17.762323Z",
     "start_time": "2020-01-30T10:57:17.757932Z"
    }
   },
   "outputs": [
    {
     "data": {
      "text/plain": [
       "{'FR': 'Espagne', 'DE': 'Allemagne'}"
      ]
     },
     "execution_count": 87,
     "metadata": {},
     "output_type": "execute_result"
    }
   ],
   "source": [
    "mon_dict = {\n",
    "    'FR': 'France',\n",
    "    'DE': 'Allemagne',\n",
    "    'FR': 'Espagne',\n",
    "}\n",
    "mon_dict"
   ]
  },
  {
   "cell_type": "code",
   "execution_count": 88,
   "metadata": {
    "ExecuteTime": {
     "end_time": "2020-01-30T10:57:17.795354Z",
     "start_time": "2020-01-30T10:57:17.791097Z"
    }
   },
   "outputs": [
    {
     "data": {
      "text/plain": [
       "{'FR': 'France', 'DE': 'France', 'ES': 'France'}"
      ]
     },
     "execution_count": 88,
     "metadata": {},
     "output_type": "execute_result"
    }
   ],
   "source": [
    "mon_dict = {\n",
    "    'FR': 'France',\n",
    "    'DE': 'France',\n",
    "    'ES': 'France',\n",
    "}\n",
    "mon_dict"
   ]
  },
  {
   "cell_type": "markdown",
   "metadata": {},
   "source": [
    "Mais les dictionnaires permettent d'associer à des chaines de caractère, **tout type d'objet** en tant que **valeur** :"
   ]
  },
  {
   "cell_type": "code",
   "execution_count": 89,
   "metadata": {
    "ExecuteTime": {
     "end_time": "2020-01-30T10:57:17.836029Z",
     "start_time": "2020-01-30T10:57:17.832742Z"
    }
   },
   "outputs": [],
   "source": [
    "mon_dict = {\n",
    "    'Jours': ['Lundi', 'Mardi', 'Mercredi','Jeudi', 'Vendredi', 'Samedi', 'Dimanche'] ,\n",
    "    'Nombre de jours par an': 365\n",
    "}"
   ]
  },
  {
   "cell_type": "code",
   "execution_count": 90,
   "metadata": {
    "ExecuteTime": {
     "end_time": "2020-01-30T10:57:17.869872Z",
     "start_time": "2020-01-30T10:57:17.865678Z"
    }
   },
   "outputs": [
    {
     "data": {
      "text/plain": [
       "['Lundi', 'Mardi', 'Mercredi', 'Jeudi', 'Vendredi', 'Samedi', 'Dimanche']"
      ]
     },
     "execution_count": 90,
     "metadata": {},
     "output_type": "execute_result"
    }
   ],
   "source": [
    "mon_dict['Jours']"
   ]
  },
  {
   "cell_type": "code",
   "execution_count": 91,
   "metadata": {
    "ExecuteTime": {
     "end_time": "2020-01-30T10:57:17.905199Z",
     "start_time": "2020-01-30T10:57:17.901300Z"
    }
   },
   "outputs": [
    {
     "data": {
      "text/plain": [
       "365"
      ]
     },
     "execution_count": 91,
     "metadata": {},
     "output_type": "execute_result"
    }
   ],
   "source": [
    "mon_dict['Nombre de jours par an']"
   ]
  },
  {
   "cell_type": "markdown",
   "metadata": {},
   "source": [
    "L'ensemble des entrées d'un dictionnaire se comporte donc comme un **set**, d'où l'utilisation des symboles d'**accolades** dans la définition d'un dictionnaire"
   ]
  },
  {
   "cell_type": "markdown",
   "metadata": {},
   "source": [
    "On peut vérifier la présence d'une entrée dans un dictionnaire en utilisant l'opérateur **in**"
   ]
  },
  {
   "cell_type": "code",
   "execution_count": 92,
   "metadata": {
    "ExecuteTime": {
     "end_time": "2020-01-30T10:57:17.959481Z",
     "start_time": "2020-01-30T10:57:17.955401Z"
    }
   },
   "outputs": [
    {
     "data": {
      "text/plain": [
       "False"
      ]
     },
     "execution_count": 92,
     "metadata": {},
     "output_type": "execute_result"
    }
   ],
   "source": [
    "'Jours' in mon_dict #True\n",
    "365 in mon_dict #False"
   ]
  },
  {
   "cell_type": "markdown",
   "metadata": {},
   "source": [
    "Un dictionnaire vide s'écrit {}"
   ]
  },
  {
   "cell_type": "code",
   "execution_count": 93,
   "metadata": {
    "ExecuteTime": {
     "end_time": "2020-01-30T10:57:18.001540Z",
     "start_time": "2020-01-30T10:57:17.997650Z"
    },
    "scrolled": true
   },
   "outputs": [
    {
     "data": {
      "text/plain": [
       "{}"
      ]
     },
     "execution_count": 93,
     "metadata": {},
     "output_type": "execute_result"
    }
   ],
   "source": [
    "{}"
   ]
  },
  {
   "cell_type": "markdown",
   "metadata": {},
   "source": [
    "#### Entrées complexes"
   ]
  },
  {
   "cell_type": "markdown",
   "metadata": {},
   "source": [
    "Pour ce qui est des entrées, elles peuvent être de tout type **non mutable** (tels que les nombres, booléens, chaine de caractères et tuples)"
   ]
  },
  {
   "cell_type": "code",
   "execution_count": 94,
   "metadata": {
    "ExecuteTime": {
     "end_time": "2020-01-30T10:57:18.053299Z",
     "start_time": "2020-01-30T10:57:18.050275Z"
    }
   },
   "outputs": [],
   "source": [
    "mon_dict2 = {\n",
    "    ('Paris', 9): 'Paris-Dauphine',\n",
    "    ('Lyon', 1): 'Claude Bernard',  \n",
    "    False : 'Faux ??'\n",
    "}"
   ]
  },
  {
   "cell_type": "code",
   "execution_count": 95,
   "metadata": {
    "ExecuteTime": {
     "end_time": "2020-01-30T10:57:18.087081Z",
     "start_time": "2020-01-30T10:57:18.083037Z"
    }
   },
   "outputs": [
    {
     "data": {
      "text/plain": [
       "'Paris-Dauphine'"
      ]
     },
     "execution_count": 95,
     "metadata": {},
     "output_type": "execute_result"
    }
   ],
   "source": [
    "mon_dict2[('Paris', 9)]"
   ]
  },
  {
   "cell_type": "code",
   "execution_count": 96,
   "metadata": {
    "ExecuteTime": {
     "end_time": "2020-01-30T10:57:18.118838Z",
     "start_time": "2020-01-30T10:57:18.115032Z"
    }
   },
   "outputs": [
    {
     "data": {
      "text/plain": [
       "'Faux ??'"
      ]
     },
     "execution_count": 96,
     "metadata": {},
     "output_type": "execute_result"
    }
   ],
   "source": [
    "mon_dict2[False]"
   ]
  },
  {
   "cell_type": "markdown",
   "metadata": {},
   "source": [
    "#### Vues et sous-ensemble d'un dictionnaire"
   ]
  },
  {
   "cell_type": "markdown",
   "metadata": {},
   "source": [
    "Un dictionnaire est donc composé de l'ensemble de ses entrées (**keys** en anglais), qu'on peut obtenir ainsi :"
   ]
  },
  {
   "cell_type": "code",
   "execution_count": 97,
   "metadata": {
    "ExecuteTime": {
     "end_time": "2020-01-30T10:57:18.170733Z",
     "start_time": "2020-01-30T10:57:18.167323Z"
    }
   },
   "outputs": [
    {
     "data": {
      "text/plain": [
       "dict_keys(['Jours', 'Nombre de jours par an'])"
      ]
     },
     "execution_count": 97,
     "metadata": {},
     "output_type": "execute_result"
    }
   ],
   "source": [
    "mon_dict.keys()"
   ]
  },
  {
   "cell_type": "markdown",
   "metadata": {},
   "source": [
    "De l'ensemble de ses valeurs (**values** en anglais), qu'on peut obtenir ainsi :"
   ]
  },
  {
   "cell_type": "code",
   "execution_count": 98,
   "metadata": {
    "ExecuteTime": {
     "end_time": "2020-01-30T10:57:18.213764Z",
     "start_time": "2020-01-30T10:57:18.210377Z"
    }
   },
   "outputs": [
    {
     "data": {
      "text/plain": [
       "dict_values([['Lundi', 'Mardi', 'Mercredi', 'Jeudi', 'Vendredi', 'Samedi', 'Dimanche'], 365])"
      ]
     },
     "execution_count": 98,
     "metadata": {},
     "output_type": "execute_result"
    }
   ],
   "source": [
    "mon_dict.values()"
   ]
  },
  {
   "cell_type": "markdown",
   "metadata": {},
   "source": [
    "Et de l'ensemble des couples **(key, value)**, qu'on peut obtenir ainsi :"
   ]
  },
  {
   "cell_type": "code",
   "execution_count": 99,
   "metadata": {
    "ExecuteTime": {
     "end_time": "2020-01-30T10:57:18.255030Z",
     "start_time": "2020-01-30T10:57:18.251725Z"
    }
   },
   "outputs": [
    {
     "data": {
      "text/plain": [
       "dict_items([('Jours', ['Lundi', 'Mardi', 'Mercredi', 'Jeudi', 'Vendredi', 'Samedi', 'Dimanche']), ('Nombre de jours par an', 365)])"
      ]
     },
     "execution_count": 99,
     "metadata": {},
     "output_type": "execute_result"
    }
   ],
   "source": [
    "mon_dict.items()"
   ]
  },
  {
   "cell_type": "markdown",
   "metadata": {},
   "source": [
    "On peut convertir ces objets, dits **vues** en listes en utilisant la fonction **list()** :"
   ]
  },
  {
   "cell_type": "code",
   "execution_count": 100,
   "metadata": {
    "ExecuteTime": {
     "end_time": "2020-01-30T10:57:18.299244Z",
     "start_time": "2020-01-30T10:57:18.295400Z"
    }
   },
   "outputs": [
    {
     "data": {
      "text/plain": [
       "[('Jours',\n",
       "  ['Lundi', 'Mardi', 'Mercredi', 'Jeudi', 'Vendredi', 'Samedi', 'Dimanche']),\n",
       " ('Nombre de jours par an', 365)]"
      ]
     },
     "execution_count": 100,
     "metadata": {},
     "output_type": "execute_result"
    }
   ],
   "source": [
    "list(mon_dict.items())"
   ]
  },
  {
   "cell_type": "markdown",
   "metadata": {
    "collapsed": true
   },
   "source": [
    "#### Mutabilité"
   ]
  },
  {
   "cell_type": "markdown",
   "metadata": {
    "collapsed": true
   },
   "source": [
    "Un dictionnaire est un objet **mutable**.\n",
    "\n",
    "On peut ajouter une **entrée** simplement de la manière suivante :"
   ]
  },
  {
   "cell_type": "code",
   "execution_count": 101,
   "metadata": {
    "ExecuteTime": {
     "end_time": "2020-01-30T10:57:18.361246Z",
     "start_time": "2020-01-30T10:57:18.357855Z"
    }
   },
   "outputs": [
    {
     "data": {
      "text/plain": [
       "{'Jours': ['Lundi',\n",
       "  'Mardi',\n",
       "  'Mercredi',\n",
       "  'Jeudi',\n",
       "  'Vendredi',\n",
       "  'Samedi',\n",
       "  'Dimanche'],\n",
       " 'Nombre de jours par an': 365,\n",
       " 'IT': 'Italie'}"
      ]
     },
     "execution_count": 101,
     "metadata": {},
     "output_type": "execute_result"
    }
   ],
   "source": [
    "mon_dict['IT'] = 'Italie'\n",
    "mon_dict"
   ]
  },
  {
   "cell_type": "markdown",
   "metadata": {},
   "source": [
    "Et en supprimer une comme cela :"
   ]
  },
  {
   "cell_type": "code",
   "execution_count": 102,
   "metadata": {
    "ExecuteTime": {
     "end_time": "2020-01-30T10:57:18.402408Z",
     "start_time": "2020-01-30T10:57:18.400012Z"
    }
   },
   "outputs": [],
   "source": [
    "del mon_dict['IT']"
   ]
  },
  {
   "cell_type": "markdown",
   "metadata": {
    "collapsed": true,
    "run_control": {
     "marked": false
    }
   },
   "source": [
    "C'est la même opération que pour supprimer une variable...\n",
    "\n",
    "**Attention** d'ailleurs, **del mon_dict** supprimerait l'ensemble du dictionnaire pas uniquement une entrée"
   ]
  },
  {
   "cell_type": "markdown",
   "metadata": {},
   "source": [
    "## Synthèse des ensembles étudiés"
   ]
  },
  {
   "cell_type": "markdown",
   "metadata": {
    "ExecuteTime": {
     "end_time": "2018-01-10T15:38:38.253340Z",
     "start_time": "2018-01-10T15:38:38.245339Z"
    }
   },
   "source": [
    "<center>\n",
    "    <img src=\"https://zupimages.net/up/20/38/k5ok.png\" style=\"width: 900px;\"/> \n",
    "</center>  "
   ]
  },
  {
   "cell_type": "markdown",
   "metadata": {},
   "source": [
    "# Les structures programmatiques"
   ]
  },
  {
   "cell_type": "markdown",
   "metadata": {},
   "source": [
    "En Python, les blocs et sous-blocs programmatiques ne sont pas délimités par des symboles ou des mots-clés comme dans la plupart des autres langages (End en VBA par exemple)\n",
    "\n",
    "Ils sont déterminés simplement par **l'indentation (les alinéas)**. Un bloc se termine lorsque l'on revient au niveau d'indentation précédent. Une mauvaise indentation est donc une erreur en Python ! Ca force à faire du code propre, et c'est très bien...\n",
    "\n",
    "**L'indentation joue un rôle essentiel en Python. Toutes les lignes qui ont la même indentation appartiennent au même périmètre d'instructions.**"
   ]
  },
  {
   "cell_type": "markdown",
   "metadata": {},
   "source": [
    "## Structures conditionnelles"
   ]
  },
  {
   "cell_type": "markdown",
   "metadata": {},
   "source": [
    "### Bases"
   ]
  },
  {
   "cell_type": "markdown",
   "metadata": {},
   "source": [
    "Une structure conditionnelle permet l'évaluation d'une expression de type booléen (vrai ou faux) et d'y associer une réaction en conséquence:\n",
    "- si ceci est vrai alors faire quelque chose\n",
    "- sinon alors faire autre chose"
   ]
  },
  {
   "cell_type": "code",
   "execution_count": 103,
   "metadata": {
    "ExecuteTime": {
     "end_time": "2020-01-30T10:57:18.525703Z",
     "start_time": "2020-01-30T10:57:18.523294Z"
    }
   },
   "outputs": [],
   "source": [
    "nombre_eleves = 24"
   ]
  },
  {
   "cell_type": "code",
   "execution_count": 104,
   "metadata": {
    "ExecuteTime": {
     "end_time": "2020-01-30T10:57:18.565029Z",
     "start_time": "2020-01-30T10:57:18.555959Z"
    }
   },
   "outputs": [
    {
     "name": "stdout",
     "output_type": "stream",
     "text": [
      "Petite classe\n"
     ]
    }
   ],
   "source": [
    "if nombre_eleves > 30:\n",
    "    print('Grosse classe')\n",
    "else:\n",
    "    print('Petite classe')"
   ]
  },
  {
   "cell_type": "markdown",
   "metadata": {},
   "source": [
    "On peut aussi faire une structure avec plusieurs alternatives (autant qu'on veut) :\n",
    "- si ceci est vrai alors faire quelque chose\n",
    "- sinon si cela est vrai alors faire autre chose\n",
    "- sinon alors faire encore autre chose"
   ]
  },
  {
   "cell_type": "code",
   "execution_count": 105,
   "metadata": {
    "ExecuteTime": {
     "end_time": "2020-01-30T10:57:18.602001Z",
     "start_time": "2020-01-30T10:57:18.598540Z"
    }
   },
   "outputs": [
    {
     "name": "stdout",
     "output_type": "stream",
     "text": [
      "Classe moyenne\n"
     ]
    }
   ],
   "source": [
    "if nombre_eleves > 30:\n",
    "    print('Grosse classe')\n",
    "elif nombre_eleves > 20:\n",
    "    print('Classe moyenne')\n",
    "else:\n",
    "    print('Petite classe')"
   ]
  },
  {
   "cell_type": "markdown",
   "metadata": {},
   "source": [
    "### Conditions non-booléennes"
   ]
  },
  {
   "cell_type": "markdown",
   "metadata": {},
   "source": [
    "En dehors des valeurs booléennes qui peuvent être naturellement utilisées pour servir de condition à un **if**, d'autres valeurs peuvent être testées :"
   ]
  },
  {
   "cell_type": "markdown",
   "metadata": {},
   "source": [
    "Pour tous les types de nombres (**int**, **float**, **complexe**), **0** est considéré comme faux, à l'inverse de toutes les autres valeurs, négatives ou positives."
   ]
  },
  {
   "cell_type": "code",
   "execution_count": 106,
   "metadata": {
    "ExecuteTime": {
     "end_time": "2020-01-30T10:57:18.664924Z",
     "start_time": "2020-01-30T10:57:18.661944Z"
    }
   },
   "outputs": [
    {
     "name": "stdout",
     "output_type": "stream",
     "text": [
      "0 est considéré comme faux\n"
     ]
    }
   ],
   "source": [
    "if 0:\n",
    "    print('0 est considéré comme vrai')\n",
    "else:\n",
    "    print('0 est considéré comme faux')"
   ]
  },
  {
   "cell_type": "code",
   "execution_count": 107,
   "metadata": {
    "ExecuteTime": {
     "end_time": "2020-01-30T10:57:18.698734Z",
     "start_time": "2020-01-30T10:57:18.695805Z"
    }
   },
   "outputs": [
    {
     "name": "stdout",
     "output_type": "stream",
     "text": [
      "-1 est considéré comme vrai\n"
     ]
    }
   ],
   "source": [
    "if -1:\n",
    "    print('-1 est considéré comme vrai')\n",
    "else:\n",
    "    print('-1 est considéré comme faux')"
   ]
  },
  {
   "cell_type": "markdown",
   "metadata": {},
   "source": [
    "Pour les ensembles , un ensemble vide est considéré comme faux, un ensemble d'au-moins élément est considéré comme vrai"
   ]
  },
  {
   "cell_type": "code",
   "execution_count": 108,
   "metadata": {
    "ExecuteTime": {
     "end_time": "2020-01-30T10:57:18.743201Z",
     "start_time": "2020-01-30T10:57:18.740241Z"
    }
   },
   "outputs": [
    {
     "name": "stdout",
     "output_type": "stream",
     "text": [
      "une liste vide est considérée comme fausse\n"
     ]
    }
   ],
   "source": [
    "if []:\n",
    "    print('une liste vide est considérée comme vrai')\n",
    "else:\n",
    "    print('une liste vide est considérée comme fausse')"
   ]
  },
  {
   "cell_type": "code",
   "execution_count": 109,
   "metadata": {
    "ExecuteTime": {
     "end_time": "2020-01-30T10:57:18.776126Z",
     "start_time": "2020-01-30T10:57:18.773437Z"
    }
   },
   "outputs": [
    {
     "name": "stdout",
     "output_type": "stream",
     "text": [
      "à l'inverse d'une liste contenant un élément, attention : même si elle contient la valeur None\n"
     ]
    }
   ],
   "source": [
    "if [None]:\n",
    "    print('à l\\'inverse d\\'une liste contenant un élément, attention : même si elle contient la valeur None')"
   ]
  },
  {
   "cell_type": "markdown",
   "metadata": {},
   "source": [
    "La valeur **None** est considérée comme fausse"
   ]
  },
  {
   "cell_type": "code",
   "execution_count": 110,
   "metadata": {
    "ExecuteTime": {
     "end_time": "2020-01-30T10:57:18.831304Z",
     "start_time": "2020-01-30T10:57:18.828361Z"
    }
   },
   "outputs": [
    {
     "name": "stdout",
     "output_type": "stream",
     "text": [
      "None est considéré comme faux\n"
     ]
    }
   ],
   "source": [
    "if None:\n",
    "    print('None est considéré comme vrai')\n",
    "else:\n",
    "    print('None est considéré comme faux')"
   ]
  },
  {
   "cell_type": "markdown",
   "metadata": {},
   "source": [
    "## Boucles"
   ]
  },
  {
   "cell_type": "markdown",
   "metadata": {},
   "source": [
    "Les boucles permettent de faire quelque chose de manière répétée: \n",
    "- soit un nombre défini à l'avance de fois : boucles **for** (pour chaque ...)\n",
    "- soit tant qu'une condition est respectée : boucles **while** (tant que ...)"
   ]
  },
  {
   "cell_type": "markdown",
   "metadata": {},
   "source": [
    "### Boucles for"
   ]
  },
  {
   "cell_type": "markdown",
   "metadata": {},
   "source": [
    "Une boucle for définie une **variable d'itération** et donne successivement chaque valeur d'un ensemble à cette variable"
   ]
  },
  {
   "cell_type": "markdown",
   "metadata": {},
   "source": [
    "#### Parcours d'une list, set ou tuple par élément"
   ]
  },
  {
   "cell_type": "markdown",
   "metadata": {},
   "source": [
    "On peut faire des boucles for qui parcourent un ensemble (une list par exemple, ou un dict) et qui prend tour à tour les valeurs de cet ensemble"
   ]
  },
  {
   "cell_type": "code",
   "execution_count": 111,
   "metadata": {
    "ExecuteTime": {
     "end_time": "2020-01-30T10:57:18.973370Z",
     "start_time": "2020-01-30T10:57:18.970833Z"
    }
   },
   "outputs": [],
   "source": [
    "ma_liste = [12, 29, 38]"
   ]
  },
  {
   "cell_type": "code",
   "execution_count": 112,
   "metadata": {
    "ExecuteTime": {
     "end_time": "2020-01-30T10:57:19.023093Z",
     "start_time": "2020-01-30T10:57:19.020070Z"
    }
   },
   "outputs": [
    {
     "name": "stdout",
     "output_type": "stream",
     "text": [
      "12\n",
      "29\n",
      "38\n"
     ]
    }
   ],
   "source": [
    "for elem in ma_liste:\n",
    "    print(elem)"
   ]
  },
  {
   "cell_type": "markdown",
   "metadata": {},
   "source": [
    "#### Parcours d'une list, set ou tuple par indice"
   ]
  },
  {
   "cell_type": "markdown",
   "metadata": {},
   "source": [
    "Ou sinon on peut parcourir la liste en prenant tour à tour les valeurs d'indice"
   ]
  },
  {
   "cell_type": "markdown",
   "metadata": {},
   "source": [
    "C'est le cas typique ou un range sera utilisé"
   ]
  },
  {
   "cell_type": "code",
   "execution_count": 113,
   "metadata": {
    "ExecuteTime": {
     "end_time": "2020-01-30T10:57:19.084302Z",
     "start_time": "2020-01-30T10:57:19.081217Z"
    }
   },
   "outputs": [
    {
     "name": "stdout",
     "output_type": "stream",
     "text": [
      "0\n",
      "1\n",
      "2\n"
     ]
    }
   ],
   "source": [
    "for i in range(len(ma_liste)):\n",
    "    print(i)"
   ]
  },
  {
   "cell_type": "markdown",
   "metadata": {},
   "source": [
    "Pour obtenir l'élément correspondant, on utilise alors l'indexation"
   ]
  },
  {
   "cell_type": "code",
   "execution_count": 114,
   "metadata": {
    "ExecuteTime": {
     "end_time": "2020-01-30T10:57:19.127655Z",
     "start_time": "2020-01-30T10:57:19.124709Z"
    }
   },
   "outputs": [
    {
     "name": "stdout",
     "output_type": "stream",
     "text": [
      "12\n",
      "29\n",
      "38\n"
     ]
    }
   ],
   "source": [
    "for i in range(len(ma_liste)):\n",
    "    print(ma_liste[i])"
   ]
  },
  {
   "cell_type": "markdown",
   "metadata": {},
   "source": [
    "#### Parcours d'un dictionnaire"
   ]
  },
  {
   "cell_type": "markdown",
   "metadata": {},
   "source": [
    "Attention, dans le cas d'un dictionnaire, ce sont les entrées qui sont prises tour à tour lorsque l'on utilise l'opérateur **in** directement"
   ]
  },
  {
   "cell_type": "code",
   "execution_count": 115,
   "metadata": {
    "ExecuteTime": {
     "end_time": "2020-01-30T10:57:19.179488Z",
     "start_time": "2020-01-30T10:57:19.176760Z"
    }
   },
   "outputs": [],
   "source": [
    "mon_dict = {'DE': 'Allemagne', 'ES': 'Espagne', 'FR': 'France'}"
   ]
  },
  {
   "cell_type": "code",
   "execution_count": 116,
   "metadata": {
    "ExecuteTime": {
     "end_time": "2020-01-30T10:57:19.212142Z",
     "start_time": "2020-01-30T10:57:19.209210Z"
    }
   },
   "outputs": [
    {
     "name": "stdout",
     "output_type": "stream",
     "text": [
      "DE\n",
      "ES\n",
      "FR\n"
     ]
    }
   ],
   "source": [
    "for elem in mon_dict:\n",
    "    print(elem)"
   ]
  },
  {
   "cell_type": "markdown",
   "metadata": {},
   "source": [
    "Pour obtenir l'élément correspondant, on utilise l'indexation"
   ]
  },
  {
   "cell_type": "code",
   "execution_count": 117,
   "metadata": {
    "ExecuteTime": {
     "end_time": "2020-01-30T10:57:19.256346Z",
     "start_time": "2020-01-30T10:57:19.253420Z"
    }
   },
   "outputs": [
    {
     "name": "stdout",
     "output_type": "stream",
     "text": [
      "Allemagne\n",
      "Espagne\n",
      "France\n"
     ]
    }
   ],
   "source": [
    "for elem in mon_dict:\n",
    "    print(mon_dict[elem])"
   ]
  },
  {
   "cell_type": "markdown",
   "metadata": {},
   "source": [
    "Ou encore mieux, on utilise la méthode **items()** du dictionnaire"
   ]
  },
  {
   "cell_type": "code",
   "execution_count": 118,
   "metadata": {
    "ExecuteTime": {
     "end_time": "2020-01-30T10:57:19.299777Z",
     "start_time": "2020-01-30T10:57:19.296708Z"
    }
   },
   "outputs": [
    {
     "name": "stdout",
     "output_type": "stream",
     "text": [
      "Allemagne\n",
      "Espagne\n",
      "France\n"
     ]
    }
   ],
   "source": [
    "for key, val in mon_dict.items():\n",
    "    print(val)"
   ]
  },
  {
   "cell_type": "markdown",
   "metadata": {},
   "source": [
    "Nous avons indiqué ici deux noms de variables d'itération en raion du fait que **items()** renvoie un couple de valeurs qu'on peut assigner à deux variables différentes."
   ]
  },
  {
   "cell_type": "markdown",
   "metadata": {},
   "source": [
    "### Boucles while"
   ]
  },
  {
   "cell_type": "markdown",
   "metadata": {},
   "source": [
    "Une boucle while ne définit pas de **variable d'itération**. Si l'on veut en avoir une, il faut la définir manuellement. \n",
    "\n",
    "Une boucle continue à tourner tant que la condition de test est vraie"
   ]
  },
  {
   "cell_type": "code",
   "execution_count": 119,
   "metadata": {
    "ExecuteTime": {
     "end_time": "2020-01-30T10:57:19.362268Z",
     "start_time": "2020-01-30T10:57:19.359124Z"
    }
   },
   "outputs": [
    {
     "name": "stdout",
     "output_type": "stream",
     "text": [
      "2\n",
      "4\n",
      "8\n",
      "16\n",
      "32\n"
     ]
    }
   ],
   "source": [
    "a = 2\n",
    "while a < 50:\n",
    "    print(a)\n",
    "    a *= 2"
   ]
  },
  {
   "cell_type": "markdown",
   "metadata": {},
   "source": [
    "Attention à l'ordre des opérations :"
   ]
  },
  {
   "cell_type": "code",
   "execution_count": 120,
   "metadata": {
    "ExecuteTime": {
     "end_time": "2020-01-30T10:57:19.405579Z",
     "start_time": "2020-01-30T10:57:19.402499Z"
    }
   },
   "outputs": [
    {
     "name": "stdout",
     "output_type": "stream",
     "text": [
      "4\n",
      "8\n",
      "16\n",
      "32\n",
      "64\n"
     ]
    }
   ],
   "source": [
    "a = 2\n",
    "while a < 50:\n",
    "    a *= 2\n",
    "    print(a)"
   ]
  },
  {
   "cell_type": "markdown",
   "metadata": {},
   "source": [
    "### Interruption et reprise d'une boucle"
   ]
  },
  {
   "cell_type": "markdown",
   "metadata": {},
   "source": [
    "Que ce soit dans une boucle while ou for, on peut rajouter un **break**, généralement sous forme d'une condition de rupture, cela indique au programme que même s'il n'a pas fini de faire tourner la boucle, il ne doit pas repartir pour un tour de cette boucle (mais il finit tout de même le tour actuel)"
   ]
  },
  {
   "cell_type": "code",
   "execution_count": 121,
   "metadata": {
    "ExecuteTime": {
     "end_time": "2020-01-30T10:57:19.458305Z",
     "start_time": "2020-01-30T10:57:19.454957Z"
    }
   },
   "outputs": [
    {
     "name": "stdout",
     "output_type": "stream",
     "text": [
      "12\n",
      "29\n",
      "38\n"
     ]
    }
   ],
   "source": [
    "for i in range(9999):\n",
    "    if i == len(ma_liste):\n",
    "        break\n",
    "    print(ma_liste[i])"
   ]
  },
  {
   "cell_type": "markdown",
   "metadata": {},
   "source": [
    "**Astuce** : un break peut être utilisé temporairement pour essayer une boucle sur son premier élément avant de l'exécuter sur tout (on enlevera). On peut dire que le break peut servir de câle"
   ]
  },
  {
   "cell_type": "code",
   "execution_count": 122,
   "metadata": {
    "ExecuteTime": {
     "end_time": "2020-01-30T10:57:19.500604Z",
     "start_time": "2020-01-30T10:57:19.498157Z"
    }
   },
   "outputs": [],
   "source": [
    "for i in range(9999):\n",
    "    \n",
    "    break"
   ]
  },
  {
   "cell_type": "markdown",
   "metadata": {},
   "source": [
    "Il existe aussi un opérateur **continue** qui force le programme à sauter directement au tour suivant de la boucle (sauf si c'était le dernier tour)"
   ]
  },
  {
   "cell_type": "code",
   "execution_count": 123,
   "metadata": {
    "ExecuteTime": {
     "end_time": "2020-01-30T10:57:19.545035Z",
     "start_time": "2020-01-30T10:57:19.540531Z"
    }
   },
   "outputs": [
    {
     "name": "stdout",
     "output_type": "stream",
     "text": [
      "Chiffre pair : 2\n",
      "Autre chiffre : 3\n",
      "Chiffre pair : 4\n",
      "Autre chiffre : 5\n",
      "Chiffre pair : 6\n",
      "Autre chiffre : 7\n",
      "Chiffre pair : 8\n",
      "Autre chiffre : 9\n",
      "Chiffre pair : 10\n"
     ]
    }
   ],
   "source": [
    "for num in range(2, 11):\n",
    "    if num % 2 == 0:\n",
    "        print(\"Chiffre pair :\", num)\n",
    "        continue\n",
    "    print(\"Autre chiffre :\", num)"
   ]
  },
  {
   "cell_type": "markdown",
   "metadata": {},
   "source": [
    "### Imbrication de boucles"
   ]
  },
  {
   "cell_type": "markdown",
   "metadata": {},
   "source": [
    "Les boucles, comme les structures conditionnelles peuvent être imbriquées"
   ]
  },
  {
   "cell_type": "code",
   "execution_count": 124,
   "metadata": {
    "ExecuteTime": {
     "end_time": "2020-01-30T10:57:19.605376Z",
     "start_time": "2020-01-30T10:57:19.602671Z"
    }
   },
   "outputs": [],
   "source": [
    "tableau = [\n",
    "    [3, 5],\n",
    "    [4, 6],\n",
    "    [7, 8],\n",
    "]"
   ]
  },
  {
   "cell_type": "code",
   "execution_count": 125,
   "metadata": {
    "ExecuteTime": {
     "end_time": "2020-01-30T10:57:19.638486Z",
     "start_time": "2020-01-30T10:57:19.635443Z"
    }
   },
   "outputs": [
    {
     "name": "stdout",
     "output_type": "stream",
     "text": [
      "3\n",
      "5\n",
      "4\n",
      "6\n",
      "7\n",
      "8\n"
     ]
    }
   ],
   "source": [
    "for ligne in tableau:\n",
    "    for elem in ligne:\n",
    "        print(elem)"
   ]
  },
  {
   "cell_type": "markdown",
   "metadata": {},
   "source": [
    "# Les fonctions"
   ]
  },
  {
   "cell_type": "markdown",
   "metadata": {},
   "source": [
    "## Bases"
   ]
  },
  {
   "cell_type": "markdown",
   "metadata": {},
   "source": [
    "### Qu'est-ce ?"
   ]
  },
  {
   "cell_type": "markdown",
   "metadata": {},
   "source": [
    "Une fonction rassemble un ensemble d'opérations qui, à une ou des valeur(s) d'entrée associe une ou des valeur(s) de sortie"
   ]
  },
  {
   "cell_type": "markdown",
   "metadata": {},
   "source": [
    "Exemple : un être humain est doté d'une fonction interne \"réagir à une question qu'on lui pose\" et qui, à une valeur d'entrée, la question, associe des valeur(s) de sortie, ses réactions..."
   ]
  },
  {
   "cell_type": "markdown",
   "metadata": {},
   "source": [
    "### Déclaration"
   ]
  },
  {
   "cell_type": "markdown",
   "metadata": {},
   "source": [
    "Les fonctions Python n’ont pas de begin ou end explicites, ni d’accolades qui pourraient marquer là où commence et où se termine le code de la fonction. **Le seul délimiteur est les deux points(«:») et l’indentation du code lui-même.**"
   ]
  },
  {
   "cell_type": "markdown",
   "metadata": {},
   "source": [
    "Les blocs de code(fonctions,instructions if, boucles for ou while etc) sont déﬁnis par leur indentation."
   ]
  },
  {
   "cell_type": "markdown",
   "metadata": {},
   "source": [
    "L’indentation démarre le bloc et la désindentation le termine. Il n’y a pas d’accolades, de crochets ou de mots clés spéciﬁques. Cela signiﬁe que **les espaces blancs sont signiﬁcatifs et qu’ils doivent être cohérents.**"
   ]
  },
  {
   "cell_type": "markdown",
   "metadata": {},
   "source": [
    "> Une fonction se définit à l'aide de l'opérateur **def**\n",
    "\n",
    "Dès que la cellule contenant sa définition est executée, la fonction existe et est stockée en mémoire, comme après initialisation d'une variable"
   ]
  },
  {
   "cell_type": "code",
   "execution_count": 126,
   "metadata": {
    "ExecuteTime": {
     "end_time": "2020-01-30T10:57:19.743131Z",
     "start_time": "2020-01-30T10:57:19.740710Z"
    }
   },
   "outputs": [],
   "source": [
    "def ma_fonction():\n",
    "    pass"
   ]
  },
  {
   "cell_type": "markdown",
   "metadata": {
    "ExecuteTime": {
     "end_time": "2018-01-08T23:34:21.427834Z",
     "start_time": "2018-01-08T23:34:21.420834Z"
    },
    "collapsed": true
   },
   "source": [
    "**NB :** le mot-clé **pass** est une instruction permettant d'indiquer à Python de ne rien faire... Elle ne sert à rien en dehors d'éviter une erreur de syntaxe lors de l'exécution de cette cellule."
   ]
  },
  {
   "cell_type": "code",
   "execution_count": 127,
   "metadata": {
    "ExecuteTime": {
     "end_time": "2020-01-30T10:57:19.787346Z",
     "start_time": "2020-01-30T10:57:19.783826Z"
    }
   },
   "outputs": [
    {
     "data": {
      "text/plain": [
       "function"
      ]
     },
     "execution_count": 127,
     "metadata": {},
     "output_type": "execute_result"
    }
   ],
   "source": [
    "type(ma_fonction)"
   ]
  },
  {
   "cell_type": "markdown",
   "metadata": {},
   "source": [
    "On execute une fonction en l'invocant avec des parenthèses"
   ]
  },
  {
   "cell_type": "code",
   "execution_count": 5,
   "metadata": {
    "ExecuteTime": {
     "end_time": "2020-01-30T10:57:19.828190Z",
     "start_time": "2020-01-30T10:57:19.826077Z"
    }
   },
   "outputs": [
    {
     "ename": "NameError",
     "evalue": "name 'ma_fonction' is not defined",
     "output_type": "error",
     "traceback": [
      "\u001b[1;31m---------------------------------------------------------------------------\u001b[0m",
      "\u001b[1;31mNameError\u001b[0m                                 Traceback (most recent call last)",
      "\u001b[1;32m<ipython-input-5-b20fc4808f49>\u001b[0m in \u001b[0;36m<module>\u001b[1;34m\u001b[0m\n\u001b[1;32m----> 1\u001b[1;33m \u001b[0mma_fonction\u001b[0m\u001b[1;33m(\u001b[0m\u001b[1;33m)\u001b[0m\u001b[1;33m\u001b[0m\u001b[1;33m\u001b[0m\u001b[0m\n\u001b[0m",
      "\u001b[1;31mNameError\u001b[0m: name 'ma_fonction' is not defined"
     ]
    }
   ],
   "source": [
    "ma_fonction()"
   ]
  },
  {
   "cell_type": "markdown",
   "metadata": {},
   "source": [
    "Si l'on ne met pas les parenthèses, Python nous répond juste que c'est un \"objet\" fonction et donne son nom"
   ]
  },
  {
   "cell_type": "code",
   "execution_count": 129,
   "metadata": {
    "ExecuteTime": {
     "end_time": "2020-01-30T10:57:19.871650Z",
     "start_time": "2020-01-30T10:57:19.868426Z"
    }
   },
   "outputs": [
    {
     "data": {
      "text/plain": [
       "<function __main__.ma_fonction()>"
      ]
     },
     "execution_count": 129,
     "metadata": {},
     "output_type": "execute_result"
    }
   ],
   "source": [
    "ma_fonction"
   ]
  },
  {
   "cell_type": "markdown",
   "metadata": {},
   "source": [
    "## Composants"
   ]
  },
  {
   "cell_type": "markdown",
   "metadata": {},
   "source": [
    "### Valeur de retour"
   ]
  },
  {
   "cell_type": "markdown",
   "metadata": {},
   "source": [
    "Une fonction peut avoir une valeur de retour"
   ]
  },
  {
   "cell_type": "code",
   "execution_count": 130,
   "metadata": {
    "ExecuteTime": {
     "end_time": "2020-01-30T10:57:19.936746Z",
     "start_time": "2020-01-30T10:57:19.934545Z"
    }
   },
   "outputs": [],
   "source": [
    "def ma_fonction():\n",
    "    return 12"
   ]
  },
  {
   "cell_type": "code",
   "execution_count": 131,
   "metadata": {
    "ExecuteTime": {
     "end_time": "2020-01-30T10:57:19.971589Z",
     "start_time": "2020-01-30T10:57:19.968551Z"
    }
   },
   "outputs": [
    {
     "data": {
      "text/plain": [
       "12"
      ]
     },
     "execution_count": 131,
     "metadata": {},
     "output_type": "execute_result"
    }
   ],
   "source": [
    "ma_fonction()"
   ]
  },
  {
   "cell_type": "code",
   "execution_count": 132,
   "metadata": {
    "ExecuteTime": {
     "end_time": "2020-01-30T10:57:20.012334Z",
     "start_time": "2020-01-30T10:57:20.010089Z"
    }
   },
   "outputs": [],
   "source": [
    "ma_variable = ma_fonction()"
   ]
  },
  {
   "cell_type": "code",
   "execution_count": 133,
   "metadata": {
    "ExecuteTime": {
     "end_time": "2020-01-30T10:57:20.051468Z",
     "start_time": "2020-01-30T10:57:20.048307Z"
    }
   },
   "outputs": [
    {
     "data": {
      "text/plain": [
       "12"
      ]
     },
     "execution_count": 133,
     "metadata": {},
     "output_type": "execute_result"
    }
   ],
   "source": [
    "ma_variable"
   ]
  },
  {
   "cell_type": "markdown",
   "metadata": {},
   "source": [
    "Ou pas"
   ]
  },
  {
   "cell_type": "code",
   "execution_count": 134,
   "metadata": {
    "ExecuteTime": {
     "end_time": "2020-01-30T10:57:20.118435Z",
     "start_time": "2020-01-30T10:57:20.115968Z"
    }
   },
   "outputs": [],
   "source": [
    "def ma_fonction():\n",
    "    print(12)"
   ]
  },
  {
   "cell_type": "code",
   "execution_count": 135,
   "metadata": {
    "ExecuteTime": {
     "end_time": "2020-01-30T10:57:20.162288Z",
     "start_time": "2020-01-30T10:57:20.159664Z"
    },
    "scrolled": true
   },
   "outputs": [
    {
     "name": "stdout",
     "output_type": "stream",
     "text": [
      "12\n"
     ]
    }
   ],
   "source": [
    "ma_fonction()"
   ]
  },
  {
   "cell_type": "code",
   "execution_count": 136,
   "metadata": {
    "ExecuteTime": {
     "end_time": "2020-01-30T10:57:20.201995Z",
     "start_time": "2020-01-30T10:57:20.199302Z"
    },
    "scrolled": true
   },
   "outputs": [
    {
     "name": "stdout",
     "output_type": "stream",
     "text": [
      "12\n"
     ]
    }
   ],
   "source": [
    "ma_variable = ma_fonction()"
   ]
  },
  {
   "cell_type": "code",
   "execution_count": 137,
   "metadata": {
    "ExecuteTime": {
     "end_time": "2020-01-30T10:57:20.268393Z",
     "start_time": "2020-01-30T10:57:20.265193Z"
    }
   },
   "outputs": [
    {
     "data": {
      "text/plain": [
       "NoneType"
      ]
     },
     "execution_count": 137,
     "metadata": {},
     "output_type": "execute_result"
    }
   ],
   "source": [
    "type(ma_variable)"
   ]
  },
  {
   "cell_type": "markdown",
   "metadata": {},
   "source": [
    "Ou encore plusieurs valeurs, dans ce cas, Python considère que la valeur de retour est un tuple contenant n variables"
   ]
  },
  {
   "cell_type": "code",
   "execution_count": 138,
   "metadata": {
    "ExecuteTime": {
     "end_time": "2020-01-30T10:57:20.333756Z",
     "start_time": "2020-01-30T10:57:20.331211Z"
    }
   },
   "outputs": [],
   "source": [
    "def ma_fonction():\n",
    "    #return 1, 2\n",
    "    return 1, 'a'"
   ]
  },
  {
   "cell_type": "code",
   "execution_count": 139,
   "metadata": {
    "ExecuteTime": {
     "end_time": "2020-01-30T10:57:20.369404Z",
     "start_time": "2020-01-30T10:57:20.364766Z"
    }
   },
   "outputs": [
    {
     "data": {
      "text/plain": [
       "(1, 'a')"
      ]
     },
     "execution_count": 139,
     "metadata": {},
     "output_type": "execute_result"
    }
   ],
   "source": [
    "ma_fonction()"
   ]
  },
  {
   "cell_type": "markdown",
   "metadata": {
    "collapsed": true
   },
   "source": [
    "### Arguments (ou paramètres)"
   ]
  },
  {
   "cell_type": "markdown",
   "metadata": {},
   "source": [
    "Comme on l'a vu une fonction peut ne pas avoir d'arguments, mais la grande majorité d'entre elles en ont"
   ]
  },
  {
   "cell_type": "code",
   "execution_count": 140,
   "metadata": {
    "ExecuteTime": {
     "end_time": "2020-01-30T10:57:20.422166Z",
     "start_time": "2020-01-30T10:57:20.419571Z"
    }
   },
   "outputs": [],
   "source": [
    "def carre(x):\n",
    "    return x*x"
   ]
  },
  {
   "cell_type": "code",
   "execution_count": 141,
   "metadata": {
    "ExecuteTime": {
     "end_time": "2020-01-30T10:57:20.456212Z",
     "start_time": "2020-01-30T10:57:20.452975Z"
    }
   },
   "outputs": [
    {
     "data": {
      "text/plain": [
       "225"
      ]
     },
     "execution_count": 141,
     "metadata": {},
     "output_type": "execute_result"
    }
   ],
   "source": [
    "carre(15)"
   ]
  },
  {
   "cell_type": "markdown",
   "metadata": {},
   "source": [
    "Une fonction peut avoir des arguments obligatoires et/ou facultatifs, les arguments facultatifs se distinguent par le fait qu'on donne à l'argument une valeur par défaut (au cas où l'argument ne serait pas utilisé)\n",
    "\n",
    "Les arguments facultatifs viennent obligatoirement après les arguments obligatoires"
   ]
  },
  {
   "cell_type": "code",
   "execution_count": 142,
   "metadata": {
    "ExecuteTime": {
     "end_time": "2020-01-30T10:57:20.498864Z",
     "start_time": "2020-01-30T10:57:20.496428Z"
    }
   },
   "outputs": [],
   "source": [
    "def puissance(x, exposant=2):\n",
    "    return x**exposant"
   ]
  },
  {
   "cell_type": "code",
   "execution_count": 143,
   "metadata": {
    "ExecuteTime": {
     "end_time": "2020-01-30T10:57:20.533945Z",
     "start_time": "2020-01-30T10:57:20.530706Z"
    }
   },
   "outputs": [
    {
     "data": {
      "text/plain": [
       "9"
      ]
     },
     "execution_count": 143,
     "metadata": {},
     "output_type": "execute_result"
    }
   ],
   "source": [
    "puissance(3)"
   ]
  },
  {
   "cell_type": "code",
   "execution_count": 144,
   "metadata": {
    "ExecuteTime": {
     "end_time": "2020-01-30T10:57:20.567266Z",
     "start_time": "2020-01-30T10:57:20.563944Z"
    }
   },
   "outputs": [
    {
     "data": {
      "text/plain": [
       "27"
      ]
     },
     "execution_count": 144,
     "metadata": {},
     "output_type": "execute_result"
    }
   ],
   "source": [
    "puissance(3, 3)"
   ]
  },
  {
   "cell_type": "markdown",
   "metadata": {},
   "source": [
    "Il est d'usage (mais ce n'est pas obligatoire) de donner le nom des arguments facultatifs lors de l'appel de la fonction"
   ]
  },
  {
   "cell_type": "code",
   "execution_count": 145,
   "metadata": {
    "ExecuteTime": {
     "end_time": "2020-01-30T10:57:20.610840Z",
     "start_time": "2020-01-30T10:57:20.607546Z"
    }
   },
   "outputs": [
    {
     "data": {
      "text/plain": [
       "27"
      ]
     },
     "execution_count": 145,
     "metadata": {},
     "output_type": "execute_result"
    }
   ],
   "source": [
    "puissance(3, exposant=3)"
   ]
  },
  {
   "cell_type": "markdown",
   "metadata": {},
   "source": [
    "Une fonction ne peut être appelée que si l'ensemble de ses arguments obligatoires sont renseignés"
   ]
  },
  {
   "cell_type": "markdown",
   "metadata": {},
   "source": [
    "### Variables locales"
   ]
  },
  {
   "cell_type": "markdown",
   "metadata": {},
   "source": [
    "Une fonction peut aussi avoir des variables locales"
   ]
  },
  {
   "cell_type": "code",
   "execution_count": 146,
   "metadata": {
    "ExecuteTime": {
     "end_time": "2020-01-30T10:57:20.678131Z",
     "start_time": "2020-01-30T10:57:20.674482Z"
    }
   },
   "outputs": [],
   "source": [
    "def division(a, b):\n",
    "    if b == 0:\n",
    "        return 'infini'\n",
    "    else:\n",
    "        reste = a % b\n",
    "        partie_entiere = int(a / b)\n",
    "        div = a / b\n",
    "        return ((partie_entiere, reste), div)"
   ]
  },
  {
   "cell_type": "code",
   "execution_count": 147,
   "metadata": {
    "ExecuteTime": {
     "end_time": "2020-01-30T10:57:20.711592Z",
     "start_time": "2020-01-30T10:57:20.708075Z"
    }
   },
   "outputs": [
    {
     "data": {
      "text/plain": [
       "((4, 1), 4.5)"
      ]
     },
     "execution_count": 147,
     "metadata": {},
     "output_type": "execute_result"
    }
   ],
   "source": [
    "division(9, 2)"
   ]
  },
  {
   "cell_type": "code",
   "execution_count": 148,
   "metadata": {
    "ExecuteTime": {
     "end_time": "2020-01-30T10:57:20.744302Z",
     "start_time": "2020-01-30T10:57:20.741554Z"
    }
   },
   "outputs": [],
   "source": [
    "a = 2\n",
    "def ma_fonc2(x):\n",
    "    return x+a"
   ]
  },
  {
   "cell_type": "code",
   "execution_count": 149,
   "metadata": {
    "ExecuteTime": {
     "end_time": "2020-01-30T10:57:20.779530Z",
     "start_time": "2020-01-30T10:57:20.776088Z"
    }
   },
   "outputs": [
    {
     "data": {
      "text/plain": [
       "7"
      ]
     },
     "execution_count": 149,
     "metadata": {},
     "output_type": "execute_result"
    }
   ],
   "source": [
    "ma_fonc2(5)"
   ]
  },
  {
   "cell_type": "markdown",
   "metadata": {},
   "source": [
    "La variable **reste** est une variable locale, elle n'existe que dans le cadre de l'exécution de la fonction"
   ]
  },
  {
   "cell_type": "code",
   "execution_count": 150,
   "metadata": {
    "ExecuteTime": {
     "end_time": "2020-01-30T10:57:20.832080Z",
     "start_time": "2020-01-30T10:57:20.822604Z"
    }
   },
   "outputs": [
    {
     "ename": "NameError",
     "evalue": "name 'reste' is not defined",
     "output_type": "error",
     "traceback": [
      "\u001b[1;31m---------------------------------------------------------------------------\u001b[0m",
      "\u001b[1;31mNameError\u001b[0m                                 Traceback (most recent call last)",
      "\u001b[1;32m<ipython-input-150-c45d8b0b0f07>\u001b[0m in \u001b[0;36m<module>\u001b[1;34m\u001b[0m\n\u001b[1;32m----> 1\u001b[1;33m \u001b[0mreste\u001b[0m\u001b[1;33m\u001b[0m\u001b[1;33m\u001b[0m\u001b[0m\n\u001b[0m",
      "\u001b[1;31mNameError\u001b[0m: name 'reste' is not defined"
     ]
    }
   ],
   "source": [
    "reste"
   ]
  },
  {
   "cell_type": "markdown",
   "metadata": {},
   "source": [
    "A l'inverse une fonction peut accéder aux variables (ou aux fonctions) définies dans le même module qu'elles, en l'occurence, ce Notebook.\n",
    "\n",
    "(Contrairement à R où une fonction peut accéder aux variables globales du module où elle est appelée)\n",
    "\n",
    "C'est particulièrement utile avec les constantes"
   ]
  },
  {
   "cell_type": "markdown",
   "metadata": {},
   "source": [
    "## Passage de fonction en argument d'une autre fonction"
   ]
  },
  {
   "cell_type": "markdown",
   "metadata": {},
   "source": [
    "Une fonction, aussi bizarre que ça puisse paraitre peut aussi être passé comme argument d'une autre fonction"
   ]
  },
  {
   "cell_type": "code",
   "execution_count": 160,
   "metadata": {
    "ExecuteTime": {
     "end_time": "2020-01-30T10:57:20.938011Z",
     "start_time": "2020-01-30T10:57:20.934997Z"
    }
   },
   "outputs": [],
   "source": [
    "def imbrication(fonction, liste):\n",
    "    for i in range(len(liste)):\n",
    "        liste[i] = fonction(liste[i])"
   ]
  },
  {
   "cell_type": "code",
   "execution_count": 161,
   "metadata": {
    "ExecuteTime": {
     "end_time": "2020-01-30T10:57:20.944852Z",
     "start_time": "2020-01-30T10:57:20.939451Z"
    }
   },
   "outputs": [],
   "source": [
    "ma_liste = [12, 18, 35]"
   ]
  },
  {
   "cell_type": "code",
   "execution_count": 162,
   "metadata": {
    "ExecuteTime": {
     "end_time": "2020-01-30T10:57:20.958856Z",
     "start_time": "2020-01-30T10:57:20.956583Z"
    }
   },
   "outputs": [],
   "source": [
    "imbrication(carre, ma_liste)"
   ]
  },
  {
   "cell_type": "code",
   "execution_count": 163,
   "metadata": {
    "ExecuteTime": {
     "end_time": "2020-01-30T10:57:20.994505Z",
     "start_time": "2020-01-30T10:57:20.991178Z"
    }
   },
   "outputs": [
    {
     "data": {
      "text/plain": [
       "[144, 324, 1225]"
      ]
     },
     "execution_count": 163,
     "metadata": {},
     "output_type": "execute_result"
    }
   ],
   "source": [
    "ma_liste"
   ]
  },
  {
   "cell_type": "markdown",
   "metadata": {},
   "source": [
    "Attention lorsqu'on passe une fonction en argument, il faut enlever les parenthèses, sinon c'est le résultat de cette fonction qui passera en argument"
   ]
  },
  {
   "cell_type": "markdown",
   "metadata": {},
   "source": [
    "**C'est une possibilité extremement puissante du langage Python**"
   ]
  },
  {
   "cell_type": "markdown",
   "metadata": {},
   "source": [
    "## Fonctions prédéfinies"
   ]
  },
  {
   "cell_type": "markdown",
   "metadata": {},
   "source": [
    "Il existe quelques dizaines de fonctions prédéfinies en Python, vous en connaissez déjà plusieurs : **print()**, **len()**, **int()**, **float()**, **round()**...\n",
    "\n",
    "Il en existe une qui est particulièrement pratique, et qui concerne toutes les autres : c'est la fonction **help()**\n",
    "\n",
    "Elle est utilisée pour obtenir de l'aide sur les types et les fonctions"
   ]
  },
  {
   "cell_type": "code",
   "execution_count": 164,
   "metadata": {
    "ExecuteTime": {
     "end_time": "2020-01-30T10:57:21.083281Z",
     "start_time": "2020-01-30T10:57:21.066411Z"
    }
   },
   "outputs": [
    {
     "name": "stdout",
     "output_type": "stream",
     "text": [
      "Help on class int in module builtins:\n",
      "\n",
      "class int(object)\n",
      " |  int([x]) -> integer\n",
      " |  int(x, base=10) -> integer\n",
      " |  \n",
      " |  Convert a number or string to an integer, or return 0 if no arguments\n",
      " |  are given.  If x is a number, return x.__int__().  For floating point\n",
      " |  numbers, this truncates towards zero.\n",
      " |  \n",
      " |  If x is not a number or if base is given, then x must be a string,\n",
      " |  bytes, or bytearray instance representing an integer literal in the\n",
      " |  given base.  The literal can be preceded by '+' or '-' and be surrounded\n",
      " |  by whitespace.  The base defaults to 10.  Valid bases are 0 and 2-36.\n",
      " |  Base 0 means to interpret the base from the string as an integer literal.\n",
      " |  >>> int('0b100', base=0)\n",
      " |  4\n",
      " |  \n",
      " |  Built-in subclasses:\n",
      " |      bool\n",
      " |  \n",
      " |  Methods defined here:\n",
      " |  \n",
      " |  __abs__(self, /)\n",
      " |      abs(self)\n",
      " |  \n",
      " |  __add__(self, value, /)\n",
      " |      Return self+value.\n",
      " |  \n",
      " |  __and__(self, value, /)\n",
      " |      Return self&value.\n",
      " |  \n",
      " |  __bool__(self, /)\n",
      " |      self != 0\n",
      " |  \n",
      " |  __ceil__(...)\n",
      " |      Ceiling of an Integral returns itself.\n",
      " |  \n",
      " |  __divmod__(self, value, /)\n",
      " |      Return divmod(self, value).\n",
      " |  \n",
      " |  __eq__(self, value, /)\n",
      " |      Return self==value.\n",
      " |  \n",
      " |  __float__(self, /)\n",
      " |      float(self)\n",
      " |  \n",
      " |  __floor__(...)\n",
      " |      Flooring an Integral returns itself.\n",
      " |  \n",
      " |  __floordiv__(self, value, /)\n",
      " |      Return self//value.\n",
      " |  \n",
      " |  __format__(self, format_spec, /)\n",
      " |      Default object formatter.\n",
      " |  \n",
      " |  __ge__(self, value, /)\n",
      " |      Return self>=value.\n",
      " |  \n",
      " |  __getattribute__(self, name, /)\n",
      " |      Return getattr(self, name).\n",
      " |  \n",
      " |  __getnewargs__(self, /)\n",
      " |  \n",
      " |  __gt__(self, value, /)\n",
      " |      Return self>value.\n",
      " |  \n",
      " |  __hash__(self, /)\n",
      " |      Return hash(self).\n",
      " |  \n",
      " |  __index__(self, /)\n",
      " |      Return self converted to an integer, if self is suitable for use as an index into a list.\n",
      " |  \n",
      " |  __int__(self, /)\n",
      " |      int(self)\n",
      " |  \n",
      " |  __invert__(self, /)\n",
      " |      ~self\n",
      " |  \n",
      " |  __le__(self, value, /)\n",
      " |      Return self<=value.\n",
      " |  \n",
      " |  __lshift__(self, value, /)\n",
      " |      Return self<<value.\n",
      " |  \n",
      " |  __lt__(self, value, /)\n",
      " |      Return self<value.\n",
      " |  \n",
      " |  __mod__(self, value, /)\n",
      " |      Return self%value.\n",
      " |  \n",
      " |  __mul__(self, value, /)\n",
      " |      Return self*value.\n",
      " |  \n",
      " |  __ne__(self, value, /)\n",
      " |      Return self!=value.\n",
      " |  \n",
      " |  __neg__(self, /)\n",
      " |      -self\n",
      " |  \n",
      " |  __or__(self, value, /)\n",
      " |      Return self|value.\n",
      " |  \n",
      " |  __pos__(self, /)\n",
      " |      +self\n",
      " |  \n",
      " |  __pow__(self, value, mod=None, /)\n",
      " |      Return pow(self, value, mod).\n",
      " |  \n",
      " |  __radd__(self, value, /)\n",
      " |      Return value+self.\n",
      " |  \n",
      " |  __rand__(self, value, /)\n",
      " |      Return value&self.\n",
      " |  \n",
      " |  __rdivmod__(self, value, /)\n",
      " |      Return divmod(value, self).\n",
      " |  \n",
      " |  __repr__(self, /)\n",
      " |      Return repr(self).\n",
      " |  \n",
      " |  __rfloordiv__(self, value, /)\n",
      " |      Return value//self.\n",
      " |  \n",
      " |  __rlshift__(self, value, /)\n",
      " |      Return value<<self.\n",
      " |  \n",
      " |  __rmod__(self, value, /)\n",
      " |      Return value%self.\n",
      " |  \n",
      " |  __rmul__(self, value, /)\n",
      " |      Return value*self.\n",
      " |  \n",
      " |  __ror__(self, value, /)\n",
      " |      Return value|self.\n",
      " |  \n",
      " |  __round__(...)\n",
      " |      Rounding an Integral returns itself.\n",
      " |      Rounding with an ndigits argument also returns an integer.\n",
      " |  \n",
      " |  __rpow__(self, value, mod=None, /)\n",
      " |      Return pow(value, self, mod).\n",
      " |  \n",
      " |  __rrshift__(self, value, /)\n",
      " |      Return value>>self.\n",
      " |  \n",
      " |  __rshift__(self, value, /)\n",
      " |      Return self>>value.\n",
      " |  \n",
      " |  __rsub__(self, value, /)\n",
      " |      Return value-self.\n",
      " |  \n",
      " |  __rtruediv__(self, value, /)\n",
      " |      Return value/self.\n",
      " |  \n",
      " |  __rxor__(self, value, /)\n",
      " |      Return value^self.\n",
      " |  \n",
      " |  __sizeof__(self, /)\n",
      " |      Returns size in memory, in bytes.\n",
      " |  \n",
      " |  __sub__(self, value, /)\n",
      " |      Return self-value.\n",
      " |  \n",
      " |  __truediv__(self, value, /)\n",
      " |      Return self/value.\n",
      " |  \n",
      " |  __trunc__(...)\n",
      " |      Truncating an Integral returns itself.\n",
      " |  \n",
      " |  __xor__(self, value, /)\n",
      " |      Return self^value.\n",
      " |  \n",
      " |  as_integer_ratio(self, /)\n",
      " |      Return integer ratio.\n",
      " |      \n",
      " |      Return a pair of integers, whose ratio is exactly equal to the original int\n",
      " |      and with a positive denominator.\n",
      " |      \n",
      " |      >>> (10).as_integer_ratio()\n",
      " |      (10, 1)\n",
      " |      >>> (-10).as_integer_ratio()\n",
      " |      (-10, 1)\n",
      " |      >>> (0).as_integer_ratio()\n",
      " |      (0, 1)\n",
      " |  \n",
      " |  bit_length(self, /)\n",
      " |      Number of bits necessary to represent self in binary.\n",
      " |      \n",
      " |      >>> bin(37)\n",
      " |      '0b100101'\n",
      " |      >>> (37).bit_length()\n",
      " |      6\n",
      " |  \n",
      " |  conjugate(...)\n",
      " |      Returns self, the complex conjugate of any int.\n",
      " |  \n",
      " |  to_bytes(self, /, length, byteorder, *, signed=False)\n",
      " |      Return an array of bytes representing an integer.\n",
      " |      \n",
      " |      length\n",
      " |        Length of bytes object to use.  An OverflowError is raised if the\n",
      " |        integer is not representable with the given number of bytes.\n",
      " |      byteorder\n",
      " |        The byte order used to represent the integer.  If byteorder is 'big',\n",
      " |        the most significant byte is at the beginning of the byte array.  If\n",
      " |        byteorder is 'little', the most significant byte is at the end of the\n",
      " |        byte array.  To request the native byte order of the host system, use\n",
      " |        `sys.byteorder' as the byte order value.\n",
      " |      signed\n",
      " |        Determines whether two's complement is used to represent the integer.\n",
      " |        If signed is False and a negative integer is given, an OverflowError\n",
      " |        is raised.\n",
      " |  \n",
      " |  ----------------------------------------------------------------------\n",
      " |  Class methods defined here:\n",
      " |  \n",
      " |  from_bytes(bytes, byteorder, *, signed=False) from builtins.type\n",
      " |      Return the integer represented by the given array of bytes.\n",
      " |      \n",
      " |      bytes\n",
      " |        Holds the array of bytes to convert.  The argument must either\n",
      " |        support the buffer protocol or be an iterable object producing bytes.\n",
      " |        Bytes and bytearray are examples of built-in objects that support the\n",
      " |        buffer protocol.\n",
      " |      byteorder\n",
      " |        The byte order used to represent the integer.  If byteorder is 'big',\n",
      " |        the most significant byte is at the beginning of the byte array.  If\n",
      " |        byteorder is 'little', the most significant byte is at the end of the\n",
      " |        byte array.  To request the native byte order of the host system, use\n",
      " |        `sys.byteorder' as the byte order value.\n",
      " |      signed\n",
      " |        Indicates whether two's complement is used to represent the integer.\n",
      " |  \n",
      " |  ----------------------------------------------------------------------\n",
      " |  Static methods defined here:\n",
      " |  \n",
      " |  __new__(*args, **kwargs) from builtins.type\n",
      " |      Create and return a new object.  See help(type) for accurate signature.\n",
      " |  \n",
      " |  ----------------------------------------------------------------------\n",
      " |  Data descriptors defined here:\n",
      " |  \n",
      " |  denominator\n",
      " |      the denominator of a rational number in lowest terms\n",
      " |  \n",
      " |  imag\n",
      " |      the imaginary part of a complex number\n",
      " |  \n",
      " |  numerator\n",
      " |      the numerator of a rational number in lowest terms\n",
      " |  \n",
      " |  real\n",
      " |      the real part of a complex number\n",
      "\n"
     ]
    }
   ],
   "source": [
    "help(int)"
   ]
  },
  {
   "cell_type": "code",
   "execution_count": 165,
   "metadata": {
    "ExecuteTime": {
     "end_time": "2020-01-30T10:57:21.103280Z",
     "start_time": "2020-01-30T10:57:21.100392Z"
    }
   },
   "outputs": [
    {
     "name": "stdout",
     "output_type": "stream",
     "text": [
      "Help on built-in function len in module builtins:\n",
      "\n",
      "len(obj, /)\n",
      "    Return the number of items in a container.\n",
      "\n"
     ]
    }
   ],
   "source": [
    "help(len)"
   ]
  },
  {
   "cell_type": "markdown",
   "metadata": {},
   "source": [
    "# Importance de la mutabilité"
   ]
  },
  {
   "cell_type": "markdown",
   "metadata": {},
   "source": [
    "## Mutabilité et variables"
   ]
  },
  {
   "cell_type": "markdown",
   "metadata": {},
   "source": [
    "Lorsque l'on définit une variable de type **non-mutable**"
   ]
  },
  {
   "cell_type": "code",
   "execution_count": 166,
   "metadata": {
    "ExecuteTime": {
     "end_time": "2020-01-30T10:57:21.176714Z",
     "start_time": "2020-01-30T10:57:21.174302Z"
    }
   },
   "outputs": [],
   "source": [
    "ma_chaine = 'test'"
   ]
  },
  {
   "cell_type": "markdown",
   "metadata": {},
   "source": [
    "Si l'on définit une deuxième variable comme étant égale à la première :"
   ]
  },
  {
   "cell_type": "code",
   "execution_count": 167,
   "metadata": {
    "ExecuteTime": {
     "end_time": "2020-01-30T10:57:21.243734Z",
     "start_time": "2020-01-30T10:57:21.241406Z"
    }
   },
   "outputs": [],
   "source": [
    "chaine_secondaire = ma_chaine"
   ]
  },
  {
   "cell_type": "markdown",
   "metadata": {},
   "source": [
    "Cette deuxième chaine a effectivement la **même valeur** que la première"
   ]
  },
  {
   "cell_type": "code",
   "execution_count": 168,
   "metadata": {
    "ExecuteTime": {
     "end_time": "2020-01-30T10:57:21.314929Z",
     "start_time": "2020-01-30T10:57:21.311710Z"
    }
   },
   "outputs": [
    {
     "data": {
      "text/plain": [
       "True"
      ]
     },
     "execution_count": 168,
     "metadata": {},
     "output_type": "execute_result"
    }
   ],
   "source": [
    "chaine_secondaire == ma_chaine"
   ]
  },
  {
   "cell_type": "markdown",
   "metadata": {},
   "source": [
    "Mais si l'on redéfinit la première (à défaut de pouvoir la modifier en raison de sa non-mutabilité)"
   ]
  },
  {
   "cell_type": "code",
   "execution_count": 169,
   "metadata": {
    "ExecuteTime": {
     "end_time": "2020-01-30T10:57:21.358015Z",
     "start_time": "2020-01-30T10:57:21.355624Z"
    }
   },
   "outputs": [],
   "source": [
    "chaine_secondaire = 'Autre chaine'"
   ]
  },
  {
   "cell_type": "code",
   "execution_count": 170,
   "metadata": {
    "ExecuteTime": {
     "end_time": "2020-01-30T10:57:21.393389Z",
     "start_time": "2020-01-30T10:57:21.390096Z"
    }
   },
   "outputs": [
    {
     "data": {
      "text/plain": [
       "False"
      ]
     },
     "execution_count": 170,
     "metadata": {},
     "output_type": "execute_result"
    }
   ],
   "source": [
    "chaine_secondaire == ma_chaine"
   ]
  },
  {
   "cell_type": "markdown",
   "metadata": {},
   "source": [
    "Logiquement, elles n'ont plus la même valeur... C'est ce à quoi on s'attendait..."
   ]
  },
  {
   "cell_type": "markdown",
   "metadata": {},
   "source": [
    " "
   ]
  },
  {
   "cell_type": "markdown",
   "metadata": {},
   "source": [
    "En revanche, lorsque l'on définit une variable **mutable**"
   ]
  },
  {
   "cell_type": "code",
   "execution_count": 171,
   "metadata": {
    "ExecuteTime": {
     "end_time": "2020-01-30T10:57:21.455498Z",
     "start_time": "2020-01-30T10:57:21.453086Z"
    }
   },
   "outputs": [],
   "source": [
    "ma_liste = ['liste', 'de', 'chaines']"
   ]
  },
  {
   "cell_type": "markdown",
   "metadata": {},
   "source": [
    "Si l'on définit une deuxième variable comme étant égale à la première :"
   ]
  },
  {
   "cell_type": "code",
   "execution_count": 172,
   "metadata": {
    "ExecuteTime": {
     "end_time": "2020-01-30T10:57:21.498964Z",
     "start_time": "2020-01-30T10:57:21.496736Z"
    }
   },
   "outputs": [],
   "source": [
    "liste_secondaire = ma_liste"
   ]
  },
  {
   "cell_type": "markdown",
   "metadata": {},
   "source": [
    "Cette deuxième liste a effectivement la **même valeur** que la première"
   ]
  },
  {
   "cell_type": "code",
   "execution_count": 173,
   "metadata": {
    "ExecuteTime": {
     "end_time": "2020-01-30T10:57:21.556064Z",
     "start_time": "2020-01-30T10:57:21.552776Z"
    }
   },
   "outputs": [
    {
     "data": {
      "text/plain": [
       "True"
      ]
     },
     "execution_count": 173,
     "metadata": {},
     "output_type": "execute_result"
    }
   ],
   "source": [
    "liste_secondaire == ma_liste"
   ]
  },
  {
   "cell_type": "markdown",
   "metadata": {},
   "source": [
    "Si l'on modifie notre deuxième liste en ajoutant un élément"
   ]
  },
  {
   "cell_type": "code",
   "execution_count": 174,
   "metadata": {
    "ExecuteTime": {
     "end_time": "2020-01-30T10:57:21.643858Z",
     "start_time": "2020-01-30T10:57:21.641384Z"
    }
   },
   "outputs": [],
   "source": [
    "liste_secondaire.append('test')"
   ]
  },
  {
   "cell_type": "markdown",
   "metadata": {},
   "source": [
    "Normalement on s'attend à ce que les deux listes soient désormais différentes..."
   ]
  },
  {
   "cell_type": "code",
   "execution_count": 175,
   "metadata": {
    "ExecuteTime": {
     "end_time": "2020-01-30T10:57:21.714218Z",
     "start_time": "2020-01-30T10:57:21.710848Z"
    }
   },
   "outputs": [
    {
     "data": {
      "text/plain": [
       "True"
      ]
     },
     "execution_count": 175,
     "metadata": {},
     "output_type": "execute_result"
    }
   ],
   "source": [
    "liste_secondaire == ma_liste"
   ]
  },
  {
   "cell_type": "markdown",
   "metadata": {},
   "source": [
    "???"
   ]
  },
  {
   "cell_type": "code",
   "execution_count": 176,
   "metadata": {
    "ExecuteTime": {
     "end_time": "2020-01-30T10:57:21.755032Z",
     "start_time": "2020-01-30T10:57:21.751910Z"
    }
   },
   "outputs": [
    {
     "data": {
      "text/plain": [
       "['liste', 'de', 'chaines', 'test']"
      ]
     },
     "execution_count": 176,
     "metadata": {},
     "output_type": "execute_result"
    }
   ],
   "source": [
    "ma_liste"
   ]
  },
  {
   "cell_type": "markdown",
   "metadata": {},
   "source": [
    "??? ???"
   ]
  },
  {
   "cell_type": "markdown",
   "metadata": {},
   "source": [
    "Lorsque l'on fait l'affectation, à partir d'un objet mutable, de cette manière **liste_secondaire = ma_liste**, on ne dit pas **affecte les valeurs contenues dans mon premier objet à mon second objet**, on dit : **considère que mon deuxième objet désigne le même objet que le premier** (un peu comme si on créait simplement un alias...), ce qui est TRES différent..."
   ]
  },
  {
   "cell_type": "markdown",
   "metadata": {},
   "source": [
    "Si l'on voulait faire une copie du **contenu** de mon premier objet et le mettre dans un second objet, il faudrait faire"
   ]
  },
  {
   "cell_type": "code",
   "execution_count": 177,
   "metadata": {
    "ExecuteTime": {
     "end_time": "2020-01-30T10:57:21.817995Z",
     "start_time": "2020-01-30T10:57:21.815508Z"
    }
   },
   "outputs": [],
   "source": [
    "liste_secondaire = ma_liste.copy()"
   ]
  },
  {
   "cell_type": "code",
   "execution_count": 178,
   "metadata": {
    "ExecuteTime": {
     "end_time": "2020-01-30T10:57:21.852224Z",
     "start_time": "2020-01-30T10:57:21.849882Z"
    }
   },
   "outputs": [],
   "source": [
    "liste_secondaire.append('test')"
   ]
  },
  {
   "cell_type": "code",
   "execution_count": 179,
   "metadata": {
    "ExecuteTime": {
     "end_time": "2020-01-30T10:57:21.890948Z",
     "start_time": "2020-01-30T10:57:21.887713Z"
    }
   },
   "outputs": [
    {
     "data": {
      "text/plain": [
       "['liste', 'de', 'chaines', 'test', 'test']"
      ]
     },
     "execution_count": 179,
     "metadata": {},
     "output_type": "execute_result"
    }
   ],
   "source": [
    "liste_secondaire"
   ]
  },
  {
   "cell_type": "code",
   "execution_count": 180,
   "metadata": {
    "ExecuteTime": {
     "end_time": "2020-01-30T10:57:21.926331Z",
     "start_time": "2020-01-30T10:57:21.923157Z"
    }
   },
   "outputs": [
    {
     "data": {
      "text/plain": [
       "['liste', 'de', 'chaines', 'test']"
      ]
     },
     "execution_count": 180,
     "metadata": {},
     "output_type": "execute_result"
    }
   ],
   "source": [
    "ma_liste"
   ]
  },
  {
   "cell_type": "markdown",
   "metadata": {},
   "source": [
    "Lorsque l'on fait une copie, les deux objets deviennent vraiment des objets distincts"
   ]
  },
  {
   "cell_type": "markdown",
   "metadata": {},
   "source": [
    "## Mutabilité et fonctions"
   ]
  },
  {
   "cell_type": "markdown",
   "metadata": {},
   "source": [
    "Considérons la variable suivante, de type string, non-mutable :"
   ]
  },
  {
   "cell_type": "code",
   "execution_count": 181,
   "metadata": {
    "ExecuteTime": {
     "end_time": "2020-01-30T10:57:21.989997Z",
     "start_time": "2020-01-30T10:57:21.987727Z"
    }
   },
   "outputs": [],
   "source": [
    "ma_chaine = 'test'"
   ]
  },
  {
   "cell_type": "code",
   "execution_count": 182,
   "metadata": {
    "ExecuteTime": {
     "end_time": "2020-01-30T10:57:22.025824Z",
     "start_time": "2020-01-30T10:57:22.023405Z"
    }
   },
   "outputs": [],
   "source": [
    "def ma_fonction(chaine):\n",
    "    chaine += ' modifié'\n",
    "    print(chaine)"
   ]
  },
  {
   "cell_type": "code",
   "execution_count": 183,
   "metadata": {
    "ExecuteTime": {
     "end_time": "2020-01-30T10:57:22.060866Z",
     "start_time": "2020-01-30T10:57:22.058244Z"
    }
   },
   "outputs": [
    {
     "name": "stdout",
     "output_type": "stream",
     "text": [
      "test modifié\n"
     ]
    }
   ],
   "source": [
    "ma_fonction(ma_chaine)"
   ]
  },
  {
   "cell_type": "code",
   "execution_count": 184,
   "metadata": {
    "ExecuteTime": {
     "end_time": "2020-01-30T10:57:22.096144Z",
     "start_time": "2020-01-30T10:57:22.093091Z"
    }
   },
   "outputs": [
    {
     "data": {
      "text/plain": [
       "'test'"
      ]
     },
     "execution_count": 184,
     "metadata": {},
     "output_type": "execute_result"
    }
   ],
   "source": [
    "ma_chaine"
   ]
  },
  {
   "cell_type": "markdown",
   "metadata": {},
   "source": [
    "Lorsque l'on passe une **variable de type non-mutable** à une **fonction**, même si l'on modifie l'argument correspondant dans le cadre de la fonction, la variable d'entrée **n'est pas impactée**. On dit que l'on a passé la variable **par valeur**"
   ]
  },
  {
   "cell_type": "markdown",
   "metadata": {},
   "source": [
    "Considérons maintenant la variable suivante, de type **list** :"
   ]
  },
  {
   "cell_type": "code",
   "execution_count": 10,
   "metadata": {
    "ExecuteTime": {
     "end_time": "2020-01-30T10:57:22.149160Z",
     "start_time": "2020-01-30T10:57:22.146731Z"
    }
   },
   "outputs": [],
   "source": [
    "ma_liste = ['liste', 'de', 'chaines']"
   ]
  },
  {
   "cell_type": "code",
   "execution_count": 11,
   "metadata": {
    "ExecuteTime": {
     "end_time": "2020-01-30T10:57:22.183862Z",
     "start_time": "2020-01-30T10:57:22.181411Z"
    }
   },
   "outputs": [],
   "source": [
    "def ma_fonction(liste):\n",
    "    liste += ['modifiée']\n",
    "    print(liste)"
   ]
  },
  {
   "cell_type": "code",
   "execution_count": 25,
   "metadata": {},
   "outputs": [],
   "source": [
    "def ma_fonction(liste):\n",
    "    liste += ['modifiée']\n",
    "    print(liste)"
   ]
  },
  {
   "cell_type": "code",
   "execution_count": 26,
   "metadata": {
    "ExecuteTime": {
     "end_time": "2020-01-30T10:57:22.218858Z",
     "start_time": "2020-01-30T10:57:22.216084Z"
    }
   },
   "outputs": [
    {
     "name": "stdout",
     "output_type": "stream",
     "text": [
      "['liste', 'de', 'chaines', 'modifiée', 'modifiée', 'modifiée', 'modifiée', 'modifiée', 'modifiée', 'modifiée', 'modifiée']\n"
     ]
    }
   ],
   "source": [
    "ma_fonction(ma_liste)"
   ]
  },
  {
   "cell_type": "code",
   "execution_count": 27,
   "metadata": {
    "ExecuteTime": {
     "end_time": "2020-01-30T10:57:22.253821Z",
     "start_time": "2020-01-30T10:57:22.250739Z"
    }
   },
   "outputs": [
    {
     "data": {
      "text/plain": [
       "['liste',\n",
       " 'de',\n",
       " 'chaines',\n",
       " 'modifiée',\n",
       " 'modifiée',\n",
       " 'modifiée',\n",
       " 'modifiée',\n",
       " 'modifiée',\n",
       " 'modifiée',\n",
       " 'modifiée',\n",
       " 'modifiée']"
      ]
     },
     "execution_count": 27,
     "metadata": {},
     "output_type": "execute_result"
    }
   ],
   "source": [
    "ma_liste"
   ]
  },
  {
   "cell_type": "markdown",
   "metadata": {},
   "source": [
    "Lorsque l'on passe une **variable de type mutable** à une **fonction**, si l'on modifie l'argument correspondant dans le cadre de la fonction, la variable d'entrée **est impactée**. On dit que l'on a passé la variable **par référence**"
   ]
  },
  {
   "cell_type": "markdown",
   "metadata": {},
   "source": [
    "# Les classes"
   ]
  },
  {
   "cell_type": "markdown",
   "metadata": {},
   "source": [
    "En plus des objets de bases que nous avons vu, il est aussi possible en python de créer ses propres objets à l'aide de classe. On parle alors de Programmation orientée objet (POO). Ces objets un peu plus abstrait peuvent s'averer très utile même pour des codes assez simple, et s'averer une necessité sur des projets complexes."
   ]
  },
  {
   "cell_type": "markdown",
   "metadata": {},
   "source": [
    "Une classe est donc un objet que l'on définit, il possède des attributs et des fonctions propre"
   ]
  },
  {
   "cell_type": "code",
   "execution_count": 1,
   "metadata": {},
   "outputs": [
    {
     "name": "stdout",
     "output_type": "stream",
     "text": [
      "12\n"
     ]
    }
   ],
   "source": [
    "class bar:\n",
    "    def __init__(self,time,high, low,opens, close):\n",
    "        self.time=time\n",
    "        self.high=high\n",
    "        self.low=low\n",
    "        self.opens=opens\n",
    "        self.close=close\n",
    "\n",
    "my_bar=bar(12,9,10,11)\n",
    "print(my_bar.high)"
   ]
  },
  {
   "cell_type": "code",
   "execution_count": 2,
   "metadata": {},
   "outputs": [
    {
     "data": {
      "text/plain": [
       "__main__.bar"
      ]
     },
     "execution_count": 2,
     "metadata": {},
     "output_type": "execute_result"
    }
   ],
   "source": [
    "type(my_bar)"
   ]
  },
  {
   "cell_type": "markdown",
   "metadata": {},
   "source": [
    "La classe ci-dessus permet ainsi de stocker dans un objet l'ensemble des informations de prix composant une bougie. Une classe peut aussi posseder ses propres fonctions."
   ]
  },
  {
   "cell_type": "code",
   "execution_count": 5,
   "metadata": {},
   "outputs": [
    {
     "name": "stdout",
     "output_type": "stream",
     "text": [
      "plane moved from [0, 0] to [0.0, 0.0]\n",
      "plane accelerated\n",
      "plane accelerated\n",
      "plane accelerated\n",
      "plane moved from [0.0, 0.0] to [22.0, 0.0]\n",
      "plane moved from [22.0, 0.0] to [43.89406398678833, -2.156377087250333]\n",
      "plane moved from [43.89406398678833, -2.156377087250333] to [65.4713401556594, -6.448364171605155]\n"
     ]
    }
   ],
   "source": [
    "from math import *\n",
    "class Plane:\n",
    "    def __init__(self, name, x_pos, y_pos, speed, angle, verbose=False):\n",
    "        self.name=name\n",
    "        self.x_pos=x_pos\n",
    "        self.y_pos=y_pos\n",
    "        self.speed=speed\n",
    "        self.angle=angle\n",
    "        self.verbose=verbose\n",
    "    \n",
    "    def accelerate(self):\n",
    "        if self.speed>1:\n",
    "            self.speed*=1.1\n",
    "        else:\n",
    "            self.speed+=1\n",
    "        if self.verbose:\n",
    "            print(\"plane accelerated\")\n",
    "    \n",
    "    def decelerate(self):\n",
    "        if self.speed>1:\n",
    "            self.speed*=0.9\n",
    "        else:\n",
    "            self.speed=0\n",
    "        if self.verbose:\n",
    "            print(\"plane decelerated\")\n",
    "    \n",
    "    def wait(self, time):\n",
    "        d=time*self.speed\n",
    "        last_pos=[self.x_pos,self.y_pos]\n",
    "        self.x_pos+=cos(self.angle)*d\n",
    "        self.y_pos+=sin(self.angle)*d\n",
    "        if self.verbose:\n",
    "            print(f'plane moved from {last_pos} to {[self.x_pos,self.y_pos]}')\n",
    "    \n",
    "    def turn_left(self):\n",
    "        self.angle+=pi/32\n",
    "\n",
    "    \n",
    "    def turn_right(self):\n",
    "        self.angle-=pi/32\n",
    "\n",
    "my_plane=Plane(\"concorde\",0,0,0,0,verbose=True)        \n",
    "my_plane.wait(10)\n",
    "my_plane.accelerate()\n",
    "my_plane.accelerate()\n",
    "my_plane.accelerate()\n",
    "my_plane.wait(10)\n",
    "my_plane.turn_right()\n",
    "my_plane.wait(10)\n",
    "my_plane.turn_right()\n",
    "my_plane.wait(10)"
   ]
  },
  {
   "cell_type": "markdown",
   "metadata": {},
   "source": [
    "# Les packages"
   ]
  },
  {
   "cell_type": "markdown",
   "metadata": {},
   "source": [
    "L'une des forces de python est la pléthore de librairie qui existe. Celles-ci, codées par d'autres utilisateurs, peuvent être importé facilement pour eviter de refaire inutilement des codes déjà existant, ou trop complexe. \n",
    "Anaconda apporte avec lui l'ensemble des packages essentiels (numpy, matplotlib, pandas,..) mais d'autres plus spécifique sont disponible sur internet sur https://pypi.org/"
   ]
  },
  {
   "cell_type": "markdown",
   "metadata": {},
   "source": [
    "Pour installer un package, il suffit de taper pip install package_name dans l'invité de commande.\n",
    "Pour donner les droits utilisateurs à l'installation ce qui peut parfois être necessaire, il faut ajouter --user.\n",
    "Enfin il est possible de specifier la version du package pip install package_name==1.0.23\n"
   ]
  },
  {
   "cell_type": "markdown",
   "metadata": {},
   "source": [
    "Pour utiliser un package installé il faut ensuite l'importer avant de l'utiliser. "
   ]
  },
  {
   "cell_type": "code",
   "execution_count": 6,
   "metadata": {},
   "outputs": [],
   "source": [
    "import math"
   ]
  },
  {
   "cell_type": "markdown",
   "metadata": {},
   "source": [
    "Dans le cas ci-dessus, pour appeller une fonction de math il me faudra taper math.nom_de_la_fonction, ce qui pour un nom de package long peut s'averer fastidieux.\n",
    "Il est donc possible de donner une pseudo au package."
   ]
  },
  {
   "cell_type": "code",
   "execution_count": 8,
   "metadata": {},
   "outputs": [],
   "source": [
    "import numpy as np"
   ]
  },
  {
   "cell_type": "markdown",
   "metadata": {},
   "source": [
    "Dans ce cas je n'aurai plus qu'à taper np.nom_de_la_fonction au lieu de numpy.nom_de_la_fonction\n",
    "Il existe enfin une derniere solution, importer certaines fonction spécifique, ou l'ensemble des fonctions du package directement. Attention, la seconde solution n'est pas recommander, car il est possible et probable que deux packages possède des fonctions ayant le même nom ce qui peut conduire à des erreures par la suite."
   ]
  },
  {
   "cell_type": "code",
   "execution_count": 9,
   "metadata": {},
   "outputs": [],
   "source": [
    "from sklearn.linear_model import LinearRegression\n",
    "from matplotlib.pyplot import *"
   ]
  }
 ],
 "metadata": {
  "kernelspec": {
   "display_name": "Python 3",
   "language": "python",
   "name": "python3"
  },
  "language_info": {
   "codemirror_mode": {
    "name": "ipython",
    "version": 3
   },
   "file_extension": ".py",
   "mimetype": "text/x-python",
   "name": "python",
   "nbconvert_exporter": "python",
   "pygments_lexer": "ipython3",
   "version": "3.7.0"
  },
  "toc": {
   "base_numbering": 1,
   "nav_menu": {
    "height": "512px",
    "width": "252px"
   },
   "number_sections": true,
   "sideBar": true,
   "skip_h1_title": false,
   "title_cell": "Table of Contents",
   "title_sidebar": "Contents",
   "toc_cell": false,
   "toc_position": {
    "height": "827px",
    "left": "69px",
    "right": "1328px",
    "top": "110.92px",
    "width": "458.767px"
   },
   "toc_section_display": true,
   "toc_window_display": true
  },
  "varInspector": {
   "cols": {
    "lenName": 16,
    "lenType": 16,
    "lenVar": 40
   },
   "kernels_config": {
    "python": {
     "delete_cmd_postfix": "",
     "delete_cmd_prefix": "del ",
     "library": "var_list.py",
     "varRefreshCmd": "print(var_dic_list())"
    },
    "r": {
     "delete_cmd_postfix": ") ",
     "delete_cmd_prefix": "rm(",
     "library": "var_list.r",
     "varRefreshCmd": "cat(var_dic_list()) "
    }
   },
   "position": {
    "height": "459px",
    "left": "913.2px",
    "right": "20px",
    "top": "120px",
    "width": "350px"
   },
   "types_to_exclude": [
    "module",
    "function",
    "builtin_function_or_method",
    "instance",
    "_Feature"
   ],
   "window_display": false
  }
 },
 "nbformat": 4,
 "nbformat_minor": 2
}
