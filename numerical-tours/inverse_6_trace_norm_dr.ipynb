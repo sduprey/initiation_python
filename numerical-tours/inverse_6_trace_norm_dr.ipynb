{
  "cells": [
    {
      "cell_type": "markdown",
      "source": [
        "**Matrix completion using trace norm regularization**\n",
        "\n",
        "This shows the use of Douglas-Rachford's algorithm to perform matrix completion with trace norm (nuclear norm) regularization."
      ],
      "metadata": {
        "id": "2PL4yuRZK1tO"
      },
      "id": "2PL4yuRZK1tO"
    },
    {
      "cell_type": "code",
      "execution_count": null,
      "id": "obvious-parker",
      "metadata": {
        "id": "obvious-parker"
      },
      "outputs": [],
      "source": [
        "import numpy as np\n",
        "import matplotlib.pyplot as plt"
      ]
    },
    {
      "cell_type": "markdown",
      "id": "silver-facing",
      "metadata": {
        "id": "silver-facing"
      },
      "source": [
        "We consider $n \\times n$ matrices."
      ]
    },
    {
      "cell_type": "code",
      "execution_count": null,
      "id": "silver-boost",
      "metadata": {
        "id": "silver-boost"
      },
      "outputs": [],
      "source": [
        "n = 100"
      ]
    },
    {
      "cell_type": "markdown",
      "id": "defensive-butler",
      "metadata": {
        "id": "defensive-butler"
      },
      "source": [
        "Generate a rank $r$ random matrix."
      ]
    },
    {
      "cell_type": "code",
      "execution_count": null,
      "id": "upset-government",
      "metadata": {
        "id": "upset-government"
      },
      "outputs": [],
      "source": [
        "r = 10\n",
        "x0 = np.dot(np.random.randn(n,r),np.random.randn(r,n))"
      ]
    },
    {
      "cell_type": "markdown",
      "id": "unavailable-knitting",
      "metadata": {
        "id": "unavailable-knitting"
      },
      "source": [
        "Display the singular values."
      ]
    },
    {
      "cell_type": "code",
      "execution_count": null,
      "id": "constitutional-realtor",
      "metadata": {
        "colab": {
          "base_uri": "https://localhost:8080/",
          "height": 282
        },
        "id": "constitutional-realtor",
        "outputId": "7e202837-25d2-41a4-fcc1-22781455b987"
      },
      "outputs": [
        {
          "output_type": "execute_result",
          "data": {
            "text/plain": [
              "[<matplotlib.lines.Line2D at 0x7f2a0b413d90>]"
            ]
          },
          "metadata": {},
          "execution_count": 5
        },
        {
          "output_type": "display_data",
          "data": {
            "image/png": "[encoded data removed]",
            "text/plain": [
              "<Figure size 432x288 with 1 Axes>"
            ]
          },
          "metadata": {
            "needs_background": "light"
          }
        }
      ],
      "source": [
        "plt.plot(np.linalg.svd(x0)[1], '.-')"
      ]
    },
    {
      "cell_type": "markdown",
      "id": "baking-filling",
      "metadata": {
        "id": "baking-filling"
      },
      "source": [
        "Random selection of $p$ indices."
      ]
    },
    {
      "cell_type": "code",
      "source": [
        "def indices(n,p): return np.random.permutation(n**2)[0:p]"
      ],
      "metadata": {
        "id": "ib3a5jIycHdq"
      },
      "id": "ib3a5jIycHdq",
      "execution_count": null,
      "outputs": []
    },
    {
      "cell_type": "markdown",
      "id": "blind-sterling",
      "metadata": {
        "id": "blind-sterling"
      },
      "source": [
        "Associated forward (measurement) operator $\\Phi$ and its adjoint $\\Phi^\\top$."
      ]
    },
    {
      "cell_type": "code",
      "source": [
        "def phi(x,I): return x.flatten()[I]\n",
        "def phi_adj(y,I):\n",
        "  x = np.zeros(n**2)\n",
        "  x[I] = y\n",
        "  return x.reshape((n,n))\n",
        "def dotp(x,y): return np.sum( x.flatten()*y.flatten() )"
      ],
      "metadata": {
        "id": "495hi7G-gnFC"
      },
      "id": "495hi7G-gnFC",
      "execution_count": null,
      "outputs": []
    },
    {
      "cell_type": "markdown",
      "source": [
        "Check adjointness of $\\Phi$ and $\\Phi^\\top$."
      ],
      "metadata": {
        "id": "xFYkXpdAhedA"
      },
      "id": "xFYkXpdAhedA"
    },
    {
      "cell_type": "code",
      "source": [
        "p = 12\n",
        "x = np.random.randn(n,n)\n",
        "y = np.random.randn(p)\n",
        "I = indices(n,p)\n",
        "# must be 0\n",
        "print( dotp(y,phi(x,I)) - dotp(phi_adj(y,I),x) )"
      ],
      "metadata": {
        "colab": {
          "base_uri": "https://localhost:8080/"
        },
        "id": "DRjpQVILet4Q",
        "outputId": "b659d88e-44fe-4ac4-bbed-8d3951ec8a5d"
      },
      "id": "DRjpQVILet4Q",
      "execution_count": null,
      "outputs": [
        {
          "output_type": "stream",
          "name": "stdout",
          "text": [
            "-8.881784197001252e-16\n"
          ]
        }
      ]
    },
    {
      "cell_type": "markdown",
      "id": "intermediate-surveillance",
      "metadata": {
        "id": "intermediate-surveillance"
      },
      "source": [
        "Define the proximal operator of $F(x) = \\iota_{\\Phi \\cdot = y}(x)$ (ie the ortho-projector).\n",
        "\n"
      ]
    },
    {
      "cell_type": "code",
      "execution_count": null,
      "id": "systematic-today",
      "metadata": {
        "id": "systematic-today"
      },
      "outputs": [],
      "source": [
        "def prox_F(x,y,I):  return x+phi_adj(y-phi(x,I),I)"
      ]
    },
    {
      "cell_type": "markdown",
      "source": [
        "Check that prox$_F \\circ$ prox$_F$ = prox$_F$ (since it is a projector)."
      ],
      "metadata": {
        "id": "eYQHpFP2LnIm"
      },
      "id": "eYQHpFP2LnIm"
    },
    {
      "cell_type": "code",
      "source": [
        "x1 = prox_F(x,y,I)\n",
        "print( np.linalg.norm(x1-prox_F(x1,y,I)) )"
      ],
      "metadata": {
        "colab": {
          "base_uri": "https://localhost:8080/"
        },
        "id": "fc0C9tOxh7AN",
        "outputId": "0fd78b7c-c636-482e-b23f-68ab8d8d2d56"
      },
      "id": "fc0C9tOxh7AN",
      "execution_count": null,
      "outputs": [
        {
          "output_type": "stream",
          "name": "stdout",
          "text": [
            "2.1677797545656835e-16\n"
          ]
        }
      ]
    },
    {
      "cell_type": "markdown",
      "source": [
        "Compute the proximal operator of $G(x):=\\|x\\|_*$ the nuclear norm, which is the soft-thesholding of the singular values."
      ],
      "metadata": {
        "id": "mwOxb8ygLzRx"
      },
      "id": "mwOxb8ygLzRx"
    },
    {
      "cell_type": "code",
      "execution_count": null,
      "id": "upper-harvest",
      "metadata": {
        "id": "upper-harvest"
      },
      "outputs": [],
      "source": [
        "def soft_thresholding(x, u): return np.minimum(x+u, np.maximum(0,x-u))"
      ]
    },
    {
      "cell_type": "markdown",
      "source": [
        "Displays the soft thresholding."
      ],
      "metadata": {
        "id": "WWpANhUzL5Th"
      },
      "id": "WWpANhUzL5Th"
    },
    {
      "cell_type": "code",
      "source": [
        "t = np.linspace(-3,3,1000)\n",
        "plt.plot(t, soft_thresholding(t,1.1));"
      ],
      "metadata": {
        "colab": {
          "base_uri": "https://localhost:8080/",
          "height": 184
        },
        "id": "qFBCditCiO1B",
        "outputId": "4a1c36c5-2c78-40c4-9b5d-a788fe106174"
      },
      "id": "qFBCditCiO1B",
      "execution_count": 1,
      "outputs": [
        {
          "output_type": "error",
          "ename": "NameError",
          "evalue": "ignored",
          "traceback": [
            "\u001b[0;31m---------------------------------------------------------------------------\u001b[0m",
            "\u001b[0;31mNameError\u001b[0m                                 Traceback (most recent call last)",
            "\u001b[0;32m<ipython-input-1-9a2d8f83ceca>\u001b[0m in \u001b[0;36m<module>\u001b[0;34m()\u001b[0m\n\u001b[0;32m----> 1\u001b[0;31m \u001b[0mt\u001b[0m \u001b[0;34m=\u001b[0m \u001b[0mnp\u001b[0m\u001b[0;34m.\u001b[0m\u001b[0mlinspace\u001b[0m\u001b[0;34m(\u001b[0m\u001b[0;34m-\u001b[0m\u001b[0;36m3\u001b[0m\u001b[0;34m,\u001b[0m\u001b[0;36m3\u001b[0m\u001b[0;34m,\u001b[0m\u001b[0;36m1000\u001b[0m\u001b[0;34m)\u001b[0m\u001b[0;34m\u001b[0m\u001b[0;34m\u001b[0m\u001b[0m\n\u001b[0m\u001b[1;32m      2\u001b[0m \u001b[0mplt\u001b[0m\u001b[0;34m.\u001b[0m\u001b[0mplot\u001b[0m\u001b[0;34m(\u001b[0m\u001b[0mt\u001b[0m\u001b[0;34m,\u001b[0m \u001b[0msoft_thresholding\u001b[0m\u001b[0;34m(\u001b[0m\u001b[0mt\u001b[0m\u001b[0;34m,\u001b[0m\u001b[0;36m1.1\u001b[0m\u001b[0;34m)\u001b[0m\u001b[0;34m)\u001b[0m\u001b[0;34m;\u001b[0m\u001b[0;34m\u001b[0m\u001b[0;34m\u001b[0m\u001b[0m\n",
            "\u001b[0;31mNameError\u001b[0m: name 'np' is not defined"
          ]
        }
      ]
    },
    {
      "cell_type": "code",
      "execution_count": null,
      "id": "flying-monitoring",
      "metadata": {
        "id": "flying-monitoring"
      },
      "outputs": [],
      "source": [
        "def prox_G(x, gamma): \n",
        "    u,s,vh = np.linalg.svd(x)\n",
        "    soft_s=soft_thresholding(s,gamma)\n",
        "    return (u*soft_s)@vh"
      ]
    },
    {
      "cell_type": "code",
      "source": [
        "_,a,_ = np.linalg.svd(x)\n",
        "_,b,_ = np.linalg.svd(prox_G(x,6))\n",
        "plt.plot(a)\n",
        "plt.plot(b);"
      ],
      "metadata": {
        "colab": {
          "base_uri": "https://localhost:8080/",
          "height": 265
        },
        "id": "5jnjaU8Tiirx",
        "outputId": "3a62a387-cc2e-4bb4-94d2-475ce80a9586"
      },
      "id": "5jnjaU8Tiirx",
      "execution_count": null,
      "outputs": [
        {
          "output_type": "display_data",
          "data": {
            "image/png": "[encoded data removed]",
            "text/plain": [
              "<Figure size 432x288 with 1 Axes>"
            ]
          },
          "metadata": {
            "needs_background": "light"
          }
        }
      ]
    },
    {
      "cell_type": "markdown",
      "source": [
        "Compute the symmetrized proximal operator (rprox)."
      ],
      "metadata": {
        "id": "9d5IuO_sL9Rw"
      },
      "id": "9d5IuO_sL9Rw"
    },
    {
      "cell_type": "code",
      "execution_count": null,
      "id": "designing-first",
      "metadata": {
        "id": "designing-first"
      },
      "outputs": [],
      "source": [
        "def rprox_F(x,gamma,y,I):\n",
        "    return 2*prox_F(x,y,I)-x\n",
        "def rprox_G(x,gamma):\n",
        "    return 2*prox_G(x,gamma)-x"
      ]
    },
    {
      "cell_type": "code",
      "source": [
        "def n_norm(x): return np.linalg.norm(x,'nuc')"
      ],
      "metadata": {
        "id": "CGN3cn10jAqE"
      },
      "id": "CGN3cn10jAqE",
      "execution_count": null,
      "outputs": []
    },
    {
      "cell_type": "markdown",
      "id": "latest-request",
      "metadata": {
        "id": "latest-request"
      },
      "source": [
        "Douglas-Rachford's algorithm. "
      ]
    },
    {
      "cell_type": "code",
      "execution_count": null,
      "id": "appropriate-adventure",
      "metadata": {
        "id": "appropriate-adventure"
      },
      "outputs": [],
      "source": [
        "def DR(y, mu, gamma,n_iter,I): \n",
        "    x_t = np.zeros((n,n))\n",
        "    x_list = []\n",
        "    x_t_list = []\n",
        "    nucl_norm=[]\n",
        "    for i in range(n_iter):\n",
        "        x_t_list.append(x_t.copy())\n",
        "        x_t=(1-mu/2)*x_t+mu/2*rprox_G(rprox_F(x_t,gamma,y,I),gamma)\n",
        "        x=prox_F(x_t,y,I)\n",
        "        x_list.append(x.copy())\n",
        "        nucl_norm.append(n_norm(x))\n",
        "    return x, nucl_norm "
      ]
    },
    {
      "cell_type": "markdown",
      "id": "magnetic-property",
      "metadata": {
        "id": "magnetic-property"
      },
      "source": [
        "Test the DR algorithm."
      ]
    },
    {
      "cell_type": "code",
      "execution_count": null,
      "id": "interpreted-search",
      "metadata": {
        "id": "interpreted-search"
      },
      "outputs": [],
      "source": [
        "mu = 1\n",
        "gamma = 1\n",
        "p = int( .5*n*n )\n",
        "I = indices(n,p)\n",
        "x,nucl_norm = DR(phi(x0,I), mu, gamma, 500, I )"
      ]
    },
    {
      "cell_type": "code",
      "execution_count": null,
      "id": "missing-scenario",
      "metadata": {
        "colab": {
          "base_uri": "https://localhost:8080/",
          "height": 282
        },
        "id": "missing-scenario",
        "outputId": "e54afb42-5dcc-4bc0-ad36-7c7467daf4b0"
      },
      "outputs": [
        {
          "output_type": "execute_result",
          "data": {
            "text/plain": [
              "[<matplotlib.lines.Line2D at 0x7f2a0ae17c90>]"
            ]
          },
          "metadata": {},
          "execution_count": 20
        },
        {
          "output_type": "display_data",
          "data": {
            "image/png": "[encoded data removed]",
            "text/plain": [
              "<Figure size 432x288 with 1 Axes>"
            ]
          },
          "metadata": {
            "needs_background": "light"
          }
        }
      ],
      "source": [
        "plt.plot(np.log10( nucl_norm-np.min(nucl_norm)+1e-20 ))"
      ]
    },
    {
      "cell_type": "markdown",
      "source": [
        "Test with varying number $p$ of measurements."
      ],
      "metadata": {
        "id": "0Hp7W0IabuFC"
      },
      "id": "0Hp7W0IabuFC"
    },
    {
      "cell_type": "code",
      "source": [
        "r = 4\n",
        "x0 = np.random.randn(n,r) @ np.random.randn(r,n)\n",
        "# we varie p\n",
        "n_test = 10 # number of tests\n",
        "p_list = np.round( np.linspace(.02,.5,n_test)*n**2 )\n",
        "err = []\n",
        "n_iter = 500\n",
        "import progressbar\n",
        "for i in progressbar.progressbar(range(n_test)):\n",
        "  p = int( p_list[i] )\n",
        "  I = indices(n,p)\n",
        "  y = phi(x0,I)\n",
        "  x,nucl_norm = DR(y, mu, gamma, n_iter, I )\n",
        "  err.append( np.linalg.norm(x-x0) )"
      ],
      "metadata": {
        "colab": {
          "base_uri": "https://localhost:8080/"
        },
        "id": "2IsPW9-YzjJ_",
        "outputId": "7dfd8c35-6dca-4d42-fa11-95933071d043"
      },
      "id": "2IsPW9-YzjJ_",
      "execution_count": null,
      "outputs": [
        {
          "output_type": "stream",
          "name": "stderr",
          "text": [
            "100% (10 of 10) |########################| Elapsed Time: 0:00:27 Time:  0:00:27\n"
          ]
        }
      ]
    },
    {
      "cell_type": "code",
      "source": [
        "plt.plot(p_list/(n**2), err/np.linalg.norm(x0));"
      ],
      "metadata": {
        "colab": {
          "base_uri": "https://localhost:8080/",
          "height": 282
        },
        "id": "J7kQcVFPIQiV",
        "outputId": "e099cce5-fe34-48dc-fa70-12e222a5f52f"
      },
      "id": "J7kQcVFPIQiV",
      "execution_count": null,
      "outputs": [
        {
          "output_type": "execute_result",
          "data": {
            "text/plain": [
              "[<matplotlib.lines.Line2D at 0x7f2a0ac19b90>]"
            ]
          },
          "metadata": {},
          "execution_count": 25
        },
        {
          "output_type": "display_data",
          "data": {
            "image/png": "[encoded data removed]",
            "text/plain": [
              "<Figure size 432x288 with 1 Axes>"
            ]
          },
          "metadata": {
            "needs_background": "light"
          }
        }
      ]
    }
  ],
  "metadata": {
    "kernelspec": {
      "display_name": "Python 3",
      "language": "python",
      "name": "python3"
    },
    "language_info": {
      "codemirror_mode": {
        "name": "ipython",
        "version": 3
      },
      "file_extension": ".py",
      "mimetype": "text/x-python",
      "name": "python",
      "nbconvert_exporter": "python",
      "pygments_lexer": "ipython3",
      "version": "3.9.1"
    },
    "colab": {
      "name": "Trace Norme Douglas-Rachford",
      "provenance": []
    }
  },
  "nbformat": 4,
  "nbformat_minor": 5
}