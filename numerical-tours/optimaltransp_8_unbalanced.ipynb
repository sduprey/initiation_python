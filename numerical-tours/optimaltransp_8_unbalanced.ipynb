{
 "cells": [
  {
   "cell_type": "markdown",
   "metadata": {
    "collapsed": true
   },
   "source": [
    "Unbalanced Optimal Transport\n",
    "=========================================\n",
    "\n",
    "*Important:* Please read the [installation page](http://gpeyre.github.io/numerical-tours/installation_python/) for details about how to install the toolboxes.\n",
    "$\\newcommand{\\dotp}[2]{\\langle #1, #2 \\rangle}$\n",
    "$\\newcommand{\\enscond}[2]{\\lbrace #1, #2 \\rbrace}$\n",
    "$\\newcommand{\\pd}[2]{ \\frac{ \\partial #1}{\\partial #2} }$\n",
    "$\\newcommand{\\umin}[1]{\\underset{#1}{\\min}\\;}$\n",
    "$\\newcommand{\\umax}[1]{\\underset{#1}{\\max}\\;}$\n",
    "$\\newcommand{\\umin}[1]{\\underset{#1}{\\min}\\;}$\n",
    "$\\newcommand{\\uargmin}[1]{\\underset{#1}{argmin}\\;}$\n",
    "$\\newcommand{\\norm}[1]{\\|#1\\|}$\n",
    "$\\newcommand{\\abs}[1]{\\left|#1\\right|}$\n",
    "$\\newcommand{\\choice}[1]{ \\left\\{  \\begin{array}{l} #1 \\end{array} \\right. }$\n",
    "$\\newcommand{\\pa}[1]{\\left(#1\\right)}$\n",
    "$\\newcommand{\\diag}[1]{{diag}\\left( #1 \\right)}$\n",
    "$\\newcommand{\\qandq}{\\quad\\text{and}\\quad}$\n",
    "$\\newcommand{\\qwhereq}{\\quad\\text{where}\\quad}$\n",
    "$\\newcommand{\\qifq}{ \\quad \\text{if} \\quad }$\n",
    "$\\newcommand{\\qarrq}{ \\quad \\Longrightarrow \\quad }$\n",
    "$\\newcommand{\\ZZ}{\\mathbb{Z}}$\n",
    "$\\newcommand{\\CC}{\\mathbb{C}}$\n",
    "$\\newcommand{\\RR}{\\mathbb{R}}$\n",
    "$\\newcommand{\\EE}{\\mathbb{E}}$\n",
    "$\\newcommand{\\Zz}{\\mathcal{Z}}$\n",
    "$\\newcommand{\\Ww}{\\mathcal{W}}$\n",
    "$\\newcommand{\\Vv}{\\mathcal{V}}$\n",
    "$\\newcommand{\\Nn}{\\mathcal{N}}$\n",
    "$\\newcommand{\\NN}{\\mathcal{N}}$\n",
    "$\\newcommand{\\Hh}{\\mathcal{H}}$\n",
    "$\\newcommand{\\Bb}{\\mathcal{B}}$\n",
    "$\\newcommand{\\Ee}{\\mathcal{E}}$\n",
    "$\\newcommand{\\Cc}{\\mathcal{C}}$\n",
    "$\\newcommand{\\Gg}{\\mathcal{G}}$\n",
    "$\\newcommand{\\Ss}{\\mathcal{S}}$\n",
    "$\\newcommand{\\Pp}{\\mathcal{P}}$\n",
    "$\\newcommand{\\Ff}{\\mathcal{F}}$\n",
    "$\\newcommand{\\Xx}{\\mathcal{X}}$\n",
    "$\\newcommand{\\Mm}{\\mathcal{M}}$\n",
    "$\\newcommand{\\Ii}{\\mathcal{I}}$\n",
    "$\\newcommand{\\Dd}{\\mathcal{D}}$\n",
    "$\\newcommand{\\Ll}{\\mathcal{L}}$\n",
    "$\\newcommand{\\Tt}{\\mathcal{T}}$\n",
    "$\\newcommand{\\si}{\\sigma}$\n",
    "$\\newcommand{\\al}{\\alpha}$\n",
    "$\\newcommand{\\la}{\\lambda}$\n",
    "$\\newcommand{\\ga}{\\gamma}$\n",
    "$\\newcommand{\\Ga}{\\Gamma}$\n",
    "$\\newcommand{\\La}{\\Lambda}$\n",
    "$\\newcommand{\\si}{\\sigma}$\n",
    "$\\newcommand{\\Si}{\\Sigma}$\n",
    "$\\newcommand{\\be}{\\beta}$\n",
    "$\\newcommand{\\de}{\\delta}$\n",
    "$\\newcommand{\\De}{\\Delta}$\n",
    "$\\newcommand{\\phi}{\\varphi}$\n",
    "$\\newcommand{\\th}{\\theta}$\n",
    "$\\newcommand{\\om}{\\omega}$\n",
    "$\\newcommand{\\Om}{\\Omega}$"
   ]
  },
  {
   "cell_type": "markdown",
   "metadata": {},
   "source": [
    "This numerical tour details how to perform \"unbalanced\" OT, which allows one to compare measures with different total mass, and also leads to more regular transportation plans by enabling creation/destruction of mass. This extension of classicl (\"balanced\") OT is crucial for applications of OT to imaging sciences and machine learning, since it makes OT more robust to noise and outliers. The modification with respect to the usual OT is very minor, since it corresponds a penalization of the mass conservation constraint.\n",
    "\n",
    "The original idea can be found in the paper of [Matthias Liero, Alexander Mielke and Giuseppe Savaré](https://arxiv.org/abs/1508.07941). The entropic regularized version with the corresponding Sinkhorn's algorithm can be found in the paper of [Lenaic Chizat, Gabriel Peyré, Bernhard Schmitzer and François-Xavier Vialard](https://arxiv.org/abs/1607.05816)."
   ]
  },
  {
   "cell_type": "markdown",
   "metadata": {},
   "source": [
    "You need to install [CVXPY](https://www.cvxpy.org/). _Warning:_ seems to not be working on Python 3.7, use rather 3.6."
   ]
  },
  {
   "cell_type": "code",
   "execution_count": 2,
   "metadata": {},
   "outputs": [],
   "source": [
    "import numpy as np\n",
    "import matplotlib.pyplot as plt\n",
    "import cvxpy as cp"
   ]
  },
  {
   "cell_type": "markdown",
   "metadata": {},
   "source": [
    "Definition of the input measures\n",
    "------------------------------------------\n",
    "\n",
    "For the sake of concreteness and to ease the display, we consider the transport between 1D distributions. But this can be applied to any OT problem.\n",
    "\n",
    "We consider two dicretes distributions\n",
    "$$ \\sum_{i=1}^n a_i \\de_{x_i} \\qandq \n",
    "   \\sum_{j=1}^m b_j \\de_{y_j}, $$\n",
    "where $n,m$ are the number of points, $\\de_x$ is the Dirac at\n",
    "location $x$, and $(x_i)_i, (y_j)_j$ are the positions of the diracs (in some metric space, in the following we consider the space to be $\\RR$)."
   ]
  },
  {
   "cell_type": "code",
   "execution_count": 3,
   "metadata": {},
   "outputs": [],
   "source": [
    "n = int(120)\n",
    "m = int(110)"
   ]
  },
  {
   "cell_type": "markdown",
   "metadata": {},
   "source": [
    "We consider two Gaussian measures sampled on a 1-D grid."
   ]
  },
  {
   "cell_type": "code",
   "execution_count": 4,
   "metadata": {},
   "outputs": [],
   "source": [
    "Gaussian = lambda t0,sigma,N: np.exp(-(np.arange(0,N)/N-t0)**2/(2*sigma**2))\n",
    "normalize = lambda p: p/np.sum(p)\n",
    "sigma = .06;\n",
    "a = Gaussian(.25,sigma,n)\n",
    "b = Gaussian(.8,sigma,m)"
   ]
  },
  {
   "cell_type": "markdown",
   "metadata": {},
   "source": [
    "Add some minimal mass and normalize. Here we do not use the same total mass for $a$ and $b$."
   ]
  },
  {
   "cell_type": "code",
   "execution_count": 5,
   "metadata": {},
   "outputs": [],
   "source": [
    "vmin = .01;\n",
    "a = 0.95*normalize( a+np.max(a)*vmin)\n",
    "b = 1.05*normalize( b+np.max(b)*vmin)\n",
    "x = np.arange(0,n)/n\n",
    "y = np.arange(0,m)/m"
   ]
  },
  {
   "cell_type": "markdown",
   "metadata": {},
   "source": [
    "Display the histograms."
   ]
  },
  {
   "cell_type": "code",
   "execution_count": 6,
   "metadata": {},
   "outputs": [
    {
     "data": {
      "image/png": "[encoded data removed]",
      "text/plain": [
       "<Figure size 432x288 with 1 Axes>"
      ]
     },
     "metadata": {
      "needs_background": "light"
     },
     "output_type": "display_data"
    }
   ],
   "source": [
    "plt.bar(x, a, width = 1/n, color = \"b\")\n",
    "plt.bar(y, b, width = 1/m, color = \"r\");"
   ]
  },
  {
   "cell_type": "markdown",
   "metadata": {},
   "source": [
    "Compute the cost matrix, here we use Euclidean distance squared, $C_{i,j} = \\norm{x_i-x_j}^2$."
   ]
  },
  {
   "cell_type": "code",
   "execution_count": 7,
   "metadata": {},
   "outputs": [
    {
     "data": {
      "image/png": "[encoded data removed]",
      "text/plain": [
       "<Figure size 432x288 with 1 Axes>"
      ]
     },
     "metadata": {
      "needs_background": "light"
     },
     "output_type": "display_data"
    }
   ],
   "source": [
    "C = np.abs(x[:,None]-y[None,:])**2\n",
    "plt.imshow(C);"
   ]
  },
  {
   "cell_type": "markdown",
   "metadata": {},
   "source": [
    "Kantorovitch-Hellinger / Wasserstein-Fisher-Rao Transport\n",
    "------------------------------------------"
   ]
  },
  {
   "cell_type": "markdown",
   "metadata": {},
   "source": [
    "The unbalanced OT problem corresponds to\n",
    "$$\n",
    "    W_\\rho(a,b) \\triangleq \\umin{P \\in \\RR_+^{n \\times m}} \\dotp{P}{C}\n",
    "    + \\rho D_\\phi( P 1_m|a )\n",
    "    + \\rho D_\\phi( P^\\top  1_n|b ), \n",
    "$$\n",
    "\n",
    "where here $D_\\phi$ is a so-called [Cizarr f-divergence](https://en.wikipedia.org/wiki/F-divergence)\n",
    "$$\n",
    "    D_\\phi(h|b) \\triangleq \\sum_{i} \\phi(h_i/b_i) b_i.\n",
    "$$\n",
    "\n",
    "The most well known are the KL divergence obaind when using $\\phi(s)=s \\log(s)-s+1$ and the total variation for $\\phi(s)=|s-1|$. These are the two examples we will consider in this tour.\n",
    "\n",
    "The parameter $\\rho$ controls the amount of mass conservation relaxation. When $\\rho \\rightarrow +\\infty$ one recovers the usual (balanced) OT. When $\\rho \\rightarrow 0$, no transport is performed. "
   ]
  },
  {
   "cell_type": "markdown",
   "metadata": {},
   "source": [
    "Define the optimiztion variable $P$, the OT coupling."
   ]
  },
  {
   "cell_type": "code",
   "execution_count": 8,
   "metadata": {},
   "outputs": [],
   "source": [
    "P = cp.Variable((n,m))"
   ]
  },
  {
   "cell_type": "markdown",
   "metadata": {},
   "source": [
    "We first consider the case of $\\phi(s)=s \\log(s)-s+1$, in which case the unbalanced OT problem is called either \"Kantorovitch-Hellinger\" or \"Wasserstein-Fisher-Rao\".\n",
    "\n",
    "In this case, assuming $n=m$ and that the sampling points are equal, $x_i=y_i$, one has that $W_\\rho/\\rho$ converges toward the squared Hellinger distance as $\\rho \\to +\\infty$\n",
    "$$\n",
    "    W_\\rho(a,b)/\\rho \\longrightarrow \\sum_{i} (\\sqrt{a_i}-\\sqrt{b_i})^2.\n",
    "$$"
   ]
  },
  {
   "cell_type": "markdown",
   "metadata": {},
   "source": [
    "We define the CVXPY problem and solve it."
   ]
  },
  {
   "cell_type": "code",
   "execution_count": 9,
   "metadata": {},
   "outputs": [],
   "source": [
    "u = np.ones((n,1))\n",
    "v = np.ones((m,1))\n",
    "q = cp.sum( cp.kl_div(cp.matmul(P,v),a[:,None]) )\n",
    "r = cp.sum( cp.kl_div(cp.matmul(P.T,u),b[:,None]) )\n",
    "\n",
    "constr = [0 <= P]\n",
    "# uncomment to perform balanced OT\n",
    "#constr = [0 <= P, cp.matmul(P,u)==a[:,None], cp.matmul(P.T,v)==b[:,None]]\n",
    "\n",
    "rho = .1\n",
    "objective = cp.Minimize( cp.sum(cp.multiply(P,C)) + rho*q + rho*r )\n",
    "\n",
    "prob = cp.Problem(objective, constr)\n",
    "result = prob.solve()"
   ]
  },
  {
   "cell_type": "markdown",
   "metadata": {},
   "source": [
    "Display the solution coupling."
   ]
  },
  {
   "cell_type": "code",
   "execution_count": 10,
   "metadata": {},
   "outputs": [
    {
     "data": {
      "image/png": "[encoded data removed]",
      "text/plain": [
       "<Figure size 360x360 with 1 Axes>"
      ]
     },
     "metadata": {
      "needs_background": "light"
     },
     "output_type": "display_data"
    }
   ],
   "source": [
    "def remap_plan(P): # boost contrast\n",
    "    return np.log(.001+P)\n",
    "plt.figure(figsize = (5,5))\n",
    "plt.imshow(remap_plan(P.value));"
   ]
  },
  {
   "cell_type": "markdown",
   "metadata": {},
   "source": [
    "Display the marginals."
   ]
  },
  {
   "cell_type": "code",
   "execution_count": 11,
   "metadata": {},
   "outputs": [
    {
     "data": {
      "image/png": "[encoded data removed]",
      "text/plain": [
       "<Figure size 432x288 with 1 Axes>"
      ]
     },
     "metadata": {
      "needs_background": "light"
     },
     "output_type": "display_data"
    }
   ],
   "source": [
    "a1 = np.sum(P.value, axis=1)\n",
    "b1 = np.sum(P.value.T, axis=1)\n",
    "plt.bar(x, a1, width = 1/n, color = \"b\")\n",
    "plt.bar(y, b1, width = 1/m, color = \"r\")\n",
    "plt.bar(x, a, width = 1/n, color = \"b\", alpha=.2)\n",
    "plt.bar(y, b, width = 1/m, color = \"r\", alpha=.2);"
   ]
  },
  {
   "cell_type": "markdown",
   "metadata": {},
   "source": [
    "Shows the impact of $\\rho$ on the solution."
   ]
  },
  {
   "cell_type": "code",
   "execution_count": 12,
   "metadata": {},
   "outputs": [
    {
     "data": {
      "image/png": "[encoded data removed]",
      "text/plain": [
       "<Figure size 432x288 with 4 Axes>"
      ]
     },
     "metadata": {},
     "output_type": "display_data"
    }
   ],
   "source": [
    "rho_list = np.array([.03, .1, .5, 1])\n",
    "for k in range(len(rho_list)):\n",
    "    rho = rho_list[k]\n",
    "    objective = cp.Minimize( cp.sum(cp.multiply(P,C)) + rho*q + rho*r )\n",
    "    prob = cp.Problem(objective, constr)\n",
    "    result = prob.solve()\n",
    "    ax = plt.subplot(1,len(rho_list),k+1)\n",
    "    plt.imshow(remap_plan(P.value));\n",
    "    ax.set(xticks=[], yticks=[])\n",
    "plt.tight_layout()"
   ]
  },
  {
   "cell_type": "code",
   "execution_count": 13,
   "metadata": {},
   "outputs": [
    {
     "data": {
      "image/png": "[encoded data removed]",
      "text/plain": [
       "<Figure size 432x288 with 4 Axes>"
      ]
     },
     "metadata": {},
     "output_type": "display_data"
    }
   ],
   "source": [
    "for k in range(len(rho_list)):\n",
    "    rho = rho_list[k]\n",
    "    objective = cp.Minimize( cp.sum(cp.multiply(P,C)) + rho*q + rho*r )\n",
    "    prob = cp.Problem(objective, constr)\n",
    "    result = prob.solve()\n",
    "    a1 = np.sum(P.value, axis=1)\n",
    "    b1 = np.sum(P.value.T, axis=1)\n",
    "    ax = plt.subplot(len(rho_list),1,k+1)\n",
    "    plt.bar(x, a1, width = 1/n, color = \"b\")\n",
    "    plt.bar(y, b1, width = 1/m, color = \"r\")\n",
    "    plt.bar(x, a, width = 1/n, color = \"b\", alpha=.2)\n",
    "    plt.bar(y, b, width = 1/m, color = \"r\", alpha=.2)\n",
    "    ax.set(xticks=[], yticks=[])\n",
    "plt.tight_layout()"
   ]
  },
  {
   "cell_type": "markdown",
   "metadata": {},
   "source": [
    "Partial Optimal Transport\n",
    "========="
   ]
  },
  {
   "cell_type": "markdown",
   "metadata": {},
   "source": [
    "We can consider other divergences, such as the total variation, which corresponds to the $\\ell^1$ norm of densities, obtained for $\\phi(s)=|s-1|$\n",
    "$$\n",
    "    D_\\phi(h|a) = \\norm{a-h}_1 = \\sum_i |a_i-h_i|.\n",
    "$$\n",
    "The resulting OT problem corresponds to a penalized version of the celebrated partial transport problem. In sharp contrast to the KL problem, this partial OT either transport the mass or detroys it."
   ]
  },
  {
   "cell_type": "code",
   "execution_count": 14,
   "metadata": {},
   "outputs": [],
   "source": [
    "q = cp.sum( cp.abs(cp.matmul(P,v)-a[:,None]) )\n",
    "r = cp.sum( cp.abs(cp.matmul(P.T,u)-b[:,None]) )"
   ]
  },
  {
   "cell_type": "markdown",
   "metadata": {},
   "source": [
    "Display the marginals of the optimal plan. One can see the presence of small spikes, which \n",
    "are caused by the discretization of the problem. We have displayed up-side down the densities to \n",
    "highlight that these error actually almost cancel."
   ]
  },
  {
   "cell_type": "code",
   "execution_count": 15,
   "metadata": {},
   "outputs": [
    {
     "data": {
      "image/png": "[encoded data removed]",
      "text/plain": [
       "<Figure size 432x288 with 1 Axes>"
      ]
     },
     "metadata": {
      "needs_background": "light"
     },
     "output_type": "display_data"
    }
   ],
   "source": [
    "rho =.1\n",
    "objective = cp.Minimize( cp.sum(cp.multiply(P,C)) + rho*q + rho*r )\n",
    "prob = cp.Problem(objective, constr)\n",
    "result = prob.solve()\n",
    "a1 = np.sum(P.value, axis=1)\n",
    "b1 = np.sum(P.value.T, axis=1)\n",
    "plt.bar(x, a1, width = 1/n, color = \"b\")\n",
    "plt.bar(y, -b1, width = 1/m, color = \"r\")\n",
    "plt.bar(x, a, width = 1/n, color = \"b\", alpha=.2)\n",
    "plt.bar(y,-b, width = 1/m, color = \"r\", alpha=.2);"
   ]
  },
  {
   "cell_type": "markdown",
   "metadata": {},
   "source": [
    "Display the impact of $\\rho$."
   ]
  },
  {
   "cell_type": "code",
   "execution_count": 16,
   "metadata": {},
   "outputs": [
    {
     "data": {
      "image/png": "[encoded data removed]",
      "text/plain": [
       "<Figure size 432x288 with 4 Axes>"
      ]
     },
     "metadata": {},
     "output_type": "display_data"
    }
   ],
   "source": [
    "rho_list = np.array([.05, .1, .2, 5])\n",
    "for k in range(len(rho_list)):\n",
    "    rho = rho_list[k]\n",
    "    objective = cp.Minimize( cp.sum(cp.multiply(P,C)) + rho*q + rho*r )\n",
    "    prob = cp.Problem(objective, constr)\n",
    "    result = prob.solve()\n",
    "    a1 = np.sum(P.value, axis=1)\n",
    "    b1 = np.sum(P.value.T, axis=1)\n",
    "    ax = plt.subplot(len(rho_list),1,k+1)\n",
    "    plt.bar(x, a1, width = 1/n, color = \"b\")\n",
    "    plt.bar(y, b1, width = 1/m, color = \"r\")\n",
    "    plt.bar(x, a, width = 1/n, color = \"b\", alpha=.2)\n",
    "    plt.bar(y, b, width = 1/m, color = \"r\", alpha=.2)\n",
    "    ax.set(xticks=[], yticks=[])\n",
    "plt.tight_layout()"
   ]
  },
  {
   "cell_type": "markdown",
   "metadata": {},
   "source": [
    "We can compare several $\\phi$-divergence."
   ]
  },
  {
   "cell_type": "markdown",
   "metadata": {},
   "source": [
    "Entropic Regularization and Sinkhorn\n",
    "=========\n",
    "\n",
    "It is possible to regularized the initial problem using entropic regularization and consider\n",
    "$$\n",
    "\\umin{P \\in \\RR_+^{n \\times m}} \\dotp{P}{C}\n",
    "    + \\rho KL( P 1_m|a )\n",
    "    + \\rho KL( P^\\top  1_n|b )\n",
    "    + \\varepsilon KL(P|ab^\\top).\n",
    "$$\n",
    "Here $\\varepsilon>0$ controls the strength of the regularization, increasing it results in faster algorithms but degrades the approximation."
   ]
  },
  {
   "cell_type": "markdown",
   "metadata": {},
   "source": [
    "The solution $P$ can be shown to be of the form \n",
    "$$\n",
    "    P_{i,j} = e^{ \\frac{f_i+g_j-C_{i,j}}{\\epsilon} } a_i b_j\n",
    "$$\n",
    "where the dual variables $f \\in \\RR^n, g \\in \\RR^m$ satisfies the following scaled Sinkhorn iterations (written here in log domain):\n",
    "$$\n",
    "    f_i = -\\varepsilon \\kappa \\log \\sum_{j} \\exp\\pa{ \\frac{g_j-C_{i,j}}{\\epsilon} } b_j\n",
    "$$\n",
    "$$\n",
    "    g_j = -\\varepsilon\\kappa \\log \\sum_{i} \\exp\\pa{ \\frac{f_i-C_{i,j}}{\\epsilon} } a_j\n",
    "$$\n",
    "where we noted\n",
    "$$\n",
    "    \\kappa \\triangleq  \\frac{\\rho}{\\varepsilon + \\rho} .\n",
    "$$\n",
    "Sinkhorn's algoritm simply iterates these two fixed points. \n"
   ]
  },
  {
   "cell_type": "markdown",
   "metadata": {},
   "source": [
    "We define the log-sum-exp operator (which corresponds to soft $C$-transforms)."
   ]
  },
  {
   "cell_type": "code",
   "execution_count": 17,
   "metadata": {},
   "outputs": [],
   "source": [
    "def mina_u(H,epsilon): return -epsilon*np.log( np.sum(a[:,None] * np.exp(-H/epsilon),0) )\n",
    "def minb_u(H,epsilon): return -epsilon*np.log( np.sum(b[None,:] * np.exp(-H/epsilon),1) )"
   ]
  },
  {
   "cell_type": "markdown",
   "metadata": {},
   "source": [
    " They can be stabilized using the usual [log-sum-exp trick](https://en.wikipedia.org/wiki/LogSumExp#log-sum-exp_trick_for_log-domain_calculations)."
   ]
  },
  {
   "cell_type": "code",
   "execution_count": 18,
   "metadata": {},
   "outputs": [],
   "source": [
    "def mina(H,epsilon): return mina_u(H-np.min(H,0),epsilon) + np.min(H,0);\n",
    "def minb(H,epsilon): return minb_u(H-np.min(H,1)[:,None],epsilon) + np.min(H,1);"
   ]
  },
  {
   "cell_type": "markdown",
   "metadata": {},
   "source": [
    "Values of $\\varepsilon, \\rho$ and $\\kappa$."
   ]
  },
  {
   "cell_type": "code",
   "execution_count": 19,
   "metadata": {},
   "outputs": [],
   "source": [
    "epsilon = .001\n",
    "rho = .2\n",
    "kappa = rho/(rho+epsilon)"
   ]
  },
  {
   "cell_type": "markdown",
   "metadata": {},
   "source": [
    "Implement Sinkhorn's iterates."
   ]
  },
  {
   "cell_type": "code",
   "execution_count": 20,
   "metadata": {},
   "outputs": [],
   "source": [
    "f = np.zeros(n)\n",
    "niter = 1000\n",
    "for it in range(niter):\n",
    "    g = kappa*mina(C-f[:,None],epsilon)\n",
    "    f = kappa*minb(C-g[None,:],epsilon)\n",
    "# generate the coupling\n",
    "P = a[:,None] * np.exp((f[:,None]+g[None,:]-C)/epsilon) * b[None,:]"
   ]
  },
  {
   "cell_type": "markdown",
   "metadata": {},
   "source": [
    "Display the optimal plan."
   ]
  },
  {
   "cell_type": "code",
   "execution_count": 21,
   "metadata": {},
   "outputs": [
    {
     "data": {
      "text/plain": [
       "<matplotlib.image.AxesImage at 0x7fe3b7c34a58>"
      ]
     },
     "execution_count": 21,
     "metadata": {},
     "output_type": "execute_result"
    },
    {
     "data": {
      "image/png": "[encoded data removed]",
      "text/plain": [
       "<Figure size 432x288 with 1 Axes>"
      ]
     },
     "metadata": {
      "needs_background": "light"
     },
     "output_type": "display_data"
    }
   ],
   "source": [
    "plt.imshow(remap_plan(P))"
   ]
  },
  {
   "cell_type": "markdown",
   "metadata": {},
   "source": [
    "Display the marginals."
   ]
  },
  {
   "cell_type": "code",
   "execution_count": 22,
   "metadata": {},
   "outputs": [
    {
     "data": {
      "image/png": "[encoded data removed]",
      "text/plain": [
       "<Figure size 432x288 with 1 Axes>"
      ]
     },
     "metadata": {
      "needs_background": "light"
     },
     "output_type": "display_data"
    }
   ],
   "source": [
    "a1 = np.sum(P, axis=1)\n",
    "b1 = np.sum(P.T, axis=1)\n",
    "plt.bar(x, a1, width = 1/n, color = \"b\")\n",
    "plt.bar(y, b1, width = 1/m, color = \"r\")\n",
    "plt.bar(x, a, width = 1/n, color = \"b\", alpha=.2)\n",
    "plt.bar(y, b, width = 1/m, color = \"r\", alpha=.2);"
   ]
  },
  {
   "cell_type": "markdown",
   "metadata": {},
   "source": [
    "**Exercise (easy):** Experiments with different values of $\\varepsilon$ and $\\rho$. Study the rate of convergence of the method."
   ]
  },
  {
   "cell_type": "markdown",
   "metadata": {},
   "source": [
    "**Exercise (hard):** Extend Sinkhorn for other type of divergence, starting with TV."
   ]
  },
  {
   "cell_type": "raw",
   "metadata": {},
   "source": [
    "<script>\n",
    "  $(document).ready(function(){\n",
    "      $('div.prompt').hide();\n",
    "  });\n",
    "</script>"
   ]
  }
 ],
 "metadata": {
  "anaconda-cloud": {},
  "kernelspec": {
   "display_name": "Python 3",
   "language": "python",
   "name": "python3"
  },
  "language_info": {
   "codemirror_mode": {
    "name": "ipython",
    "version": 3
   },
   "file_extension": ".py",
   "mimetype": "text/x-python",
   "name": "python",
   "nbconvert_exporter": "python",
   "pygments_lexer": "ipython3",
   "version": "3.7.1"
  }
 },
 "nbformat": 4,
 "nbformat_minor": 1
}
