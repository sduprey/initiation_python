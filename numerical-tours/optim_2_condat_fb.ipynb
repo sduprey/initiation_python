{
 "cells": [
  {
   "cell_type": "markdown",
   "metadata": {
    "deletable": true,
    "editable": true
   },
   "source": [
    "Forward-Backward Splitting\n",
    "===================================\n",
    "\n",
    "$\\newcommand{\\dotp}[2]{\\langle #1, #2 \\rangle}$\n",
    "$\\newcommand{\\enscond}[2]{\\lbrace #1, #2 \\rbrace}$\n",
    "$\\newcommand{\\pd}[2]{ \\frac{ \\partial #1}{\\partial #2} }$\n",
    "$\\newcommand{\\umin}[1]{\\underset{#1}{\\min}\\;}$\n",
    "$\\newcommand{\\umax}[1]{\\underset{#1}{\\max}\\;}$\n",
    "$\\newcommand{\\umin}[1]{\\underset{#1}{\\min}\\;}$\n",
    "$\\newcommand{\\uargmin}[1]{\\underset{#1}{\\arg\\min}\\;}$\n",
    "$\\newcommand{\\norm}[1]{\\|#1\\|}$\n",
    "$\\newcommand{\\abs}[1]{\\left|#1\\right|}$\n",
    "$\\newcommand{\\choice}[1]{ \\left\\{  \\begin{array}{l} #1 \\end{array} \\right. }$\n",
    "$\\newcommand{\\pa}[1]{\\left(#1\\right)}$\n",
    "$\\newcommand{\\diag}[1]{{diag}\\left( #1 \\right)}$\n",
    "$\\newcommand{\\qandq}{\\quad\\text{and}\\quad}$\n",
    "$\\newcommand{\\qwhereq}{\\quad\\text{where}\\quad}$\n",
    "$\\newcommand{\\qifq}{ \\quad \\text{if} \\quad }$\n",
    "$\\newcommand{\\qarrq}{ \\quad \\Longrightarrow \\quad }$\n",
    "$\\newcommand{\\ZZ}{\\mathbb{Z}}$\n",
    "$\\newcommand{\\CC}{\\mathbb{C}}$\n",
    "$\\newcommand{\\RR}{\\mathbb{R}}$\n",
    "$\\newcommand{\\EE}{\\mathbb{E}}$\n",
    "$\\newcommand{\\Zz}{\\mathcal{Z}}$\n",
    "$\\newcommand{\\Ww}{\\mathcal{W}}$\n",
    "$\\newcommand{\\Vv}{\\mathcal{V}}$\n",
    "$\\newcommand{\\Nn}{\\mathcal{N}}$\n",
    "$\\newcommand{\\NN}{\\mathcal{N}}$\n",
    "$\\newcommand{\\Hh}{\\mathcal{H}}$\n",
    "$\\newcommand{\\Bb}{\\mathcal{B}}$\n",
    "$\\newcommand{\\Ee}{\\mathcal{E}}$\n",
    "$\\newcommand{\\Cc}{\\mathcal{C}}$\n",
    "$\\newcommand{\\Gg}{\\mathcal{G}}$\n",
    "$\\newcommand{\\Ss}{\\mathcal{S}}$\n",
    "$\\newcommand{\\Pp}{\\mathcal{P}}$\n",
    "$\\newcommand{\\Ff}{\\mathcal{F}}$\n",
    "$\\newcommand{\\Xx}{\\mathcal{X}}$\n",
    "$\\newcommand{\\Mm}{\\mathcal{M}}$\n",
    "$\\newcommand{\\Ii}{\\mathcal{I}}$\n",
    "$\\newcommand{\\Dd}{\\mathcal{D}}$\n",
    "$\\newcommand{\\Ll}{\\mathcal{L}}$\n",
    "$\\newcommand{\\Tt}{\\mathcal{T}}$\n",
    "$\\newcommand{\\si}{\\sigma}$\n",
    "$\\newcommand{\\al}{\\alpha}$\n",
    "$\\newcommand{\\la}{\\lambda}$\n",
    "$\\newcommand{\\ga}{\\gamma}$\n",
    "$\\newcommand{\\Ga}{\\Gamma}$\n",
    "$\\newcommand{\\La}{\\Lambda}$\n",
    "$\\newcommand{\\si}{\\sigma}$\n",
    "$\\newcommand{\\Si}{\\Sigma}$\n",
    "$\\newcommand{\\be}{\\beta}$\n",
    "$\\newcommand{\\de}{\\delta}$\n",
    "$\\newcommand{\\De}{\\Delta}$\n",
    "$\\newcommand{\\phi}{\\varphi}$\n",
    "$\\newcommand{\\th}{\\theta}$\n",
    "$\\newcommand{\\om}{\\omega}$\n",
    "$\\newcommand{\\Om}{\\Omega}$\n"
   ]
  },
  {
   "cell_type": "code",
   "execution_count": 1,
   "metadata": {
    "collapsed": false,
    "deletable": true,
    "editable": true
   },
   "outputs": [
    {
     "name": "stdout",
     "output_type": "stream",
     "text": [
      "Populating the interactive namespace from numpy and matplotlib\n"
     ]
    }
   ],
   "source": [
    "from __future__ import division\n",
    "%pylab inline\n",
    "%load_ext autoreload\n",
    "%autoreload 2"
   ]
  },
  {
   "cell_type": "markdown",
   "metadata": {
    "deletable": true,
    "editable": true
   },
   "source": [
    "This numerical tour presents the Forward-Backward (FB) algorithm to\n",
    "minimize the sum of a smooth and a simple function. It shows an\n",
    "application to sparse deconvolution."
   ]
  },
  {
   "cell_type": "markdown",
   "metadata": {
    "deletable": true,
    "editable": true
   },
   "source": [
    "Forward-Backward Algorithm\n",
    "--------------------------\n",
    "We consider the problem of minimizing the sum of two functions\n",
    "$$ E^\\star = \\umin{x \\in \\RR^N} E(x) = f(x) + g(x). $$\n",
    "\n",
    "So, we want to find a vector $x^\\star$ solution to the problem, i.e. a minimizer of $E=f+g$.\n",
    "\n",
    "\n",
    "We assume that $f$ is a $C^1$ function with $\\beta$-Lipschitz gradient.\n",
    "\n",
    "\n",
    "\n",
    "We also assume that $g$ is \"simple\", in the sense that one can compute exactly and quickly its proximity operator, which is defined as\n",
    "$$ \\text{prox}_{\\ga g}(x) = \\uargmin{y \\in \\RR^N} \\frac{1}{2}\\norm{x-y}^2 + \\ga g(y). $$\n",
    "for any $\\ga > 0$.\n",
    "\n",
    "\n",
    "The forward-backward algorithm reads, after initializing $x^{(0)} \\in \\RR^N$,\n",
    "$$ x^{(k+1)} = \\text{prox}_{\\ga g}\\pa{ x^{(k)} - \\ga \\nabla f( x^{(k)} )  }. $$\n",
    "\n",
    "\n",
    "If $0 < \\ga < 2/\\beta$, then this scheme converges to a minimizer of\n",
    "$f+g$.\n",
    "\n",
    "Sparse Regularization of Inverse Problems\n",
    "-----------------------------------------\n",
    "We consider a linear inverse problem\n",
    "$$ y = A x^\\sharp + w  \\in \\RR^P$$\n",
    "where $x^\\sharp \\in \\RR^N$ is the (unknown) signal to recover, $w \\in\n",
    "\\RR^P$ is a noise vector, and $A \\in \\RR^{P \\times N}$ models the\n",
    "acquisition device.\n",
    "\n",
    "\n",
    "To recover an estimate of the signal $x^\\sharp$, we consider  basis\n",
    "pursuit denoising, which makes use of the $\\ell^1$ norm as sparsity\n",
    "enforcing penalty:\n",
    "$$ \\umin{x \\in \\RR^N} \\frac{1}{2} \\norm{A x-y}^2 + \\la \\norm{x}_1, $$\n",
    "where the $\\ell^1$ norm is defined as\n",
    "$$ \\norm{x}_1 = \\sum_i \\abs{x_i}. $$\n",
    "\n",
    "\n",
    "The parameter $\\la$ should be set in accordance to the noise level\n",
    "$\\norm{w}$.\n",
    "\n",
    "\n",
    "This minimization problem can be cast in the form of minimizing $f+g$\n",
    "where\n",
    "$$ f(x) = \\frac{1}{2} \\norm{Ax-y}^2\n",
    "\\qandq g(x) = \\la \\norm{x}_1. $$\n",
    "\n",
    "\n",
    "$f$ is smooth; we have\n",
    "$$ \\nabla f(x) = A^* (A x - y),  $$\n",
    "which is $\\beta$-Lipschitz continuous, with\n",
    "$$ \\beta = \\norm{ A^* A }. $$\n",
    "\n",
    "\n",
    "The $\\ell^1$-norm is \"simple\", because its proximal operator is soft\n",
    "thresholding:\n",
    "$$ \\big(\\text{prox}_{\\ga g}(x)\\big)_n = \\max\\pa{ 0, 1 - \\frac{\\la \\ga}{\\abs{x_n}} } x_n. $$\n",
    "\n",
    "Signal Deconvolution on Synthetic Sparse Data\n",
    "-----------------------------------------------------\n",
    "A simple linearized model of seismic acquisition considers a linear filtering\n",
    "operator (convolution):\n",
    "$$ A x = h \\ast x $$\n",
    "\n",
    "The filter $h$ is called the impulse response, or the poind spread function, of the acquisition process $x\\mapsto Ax$."
   ]
  },
  {
   "cell_type": "code",
   "execution_count": 2,
   "metadata": {
    "collapsed": false,
    "deletable": true,
    "editable": true
   },
   "outputs": [],
   "source": [
    "N = 1024"
   ]
  },
  {
   "cell_type": "markdown",
   "metadata": {
    "deletable": true,
    "editable": true
   },
   "source": [
    "We define the width of the filter $h$."
   ]
  },
  {
   "cell_type": "code",
   "execution_count": 3,
   "metadata": {
    "collapsed": false,
    "deletable": true,
    "editable": true
   },
   "outputs": [],
   "source": [
    "s = 5"
   ]
  },
  {
   "cell_type": "markdown",
   "metadata": {
    "deletable": true,
    "editable": true
   },
   "source": [
    "We define $h$ as the second derivative of a\n",
    "Gaussian."
   ]
  },
  {
   "cell_type": "code",
   "execution_count": 4,
   "metadata": {
    "collapsed": false,
    "deletable": true,
    "editable": true
   },
   "outputs": [],
   "source": [
    "t = arange(-N/2,N/2)\n",
    "h = (1-t**2/s**2)*exp(-(t**2)/(2*s**2))\n",
    "h = h - h.mean()"
   ]
  },
  {
   "cell_type": "markdown",
   "metadata": {
    "deletable": true,
    "editable": true
   },
   "source": [
    "We define the operator $A$. For simplicity, here periodic boundary conditions are used, so that the convolution is efficiently implemented as a product in Fourier domain."
   ]
  },
  {
   "cell_type": "code",
   "execution_count": 5,
   "metadata": {
    "collapsed": false,
    "deletable": true,
    "editable": true
   },
   "outputs": [],
   "source": [
    "h_tf = fft.fft(fft.fftshift(h))\n",
    "opA = lambda u : real(fft.ifft(fft.fft(u) * h_tf))"
   ]
  },
  {
   "cell_type": "markdown",
   "metadata": {
    "deletable": true,
    "editable": true
   },
   "source": [
    "We display the filter $h$ and its spectrum (amplitude of its Fourier transform)."
   ]
  },
  {
   "cell_type": "code",
   "execution_count": 6,
   "metadata": {
    "collapsed": false,
    "deletable": true,
    "editable": true
   },
   "outputs": [
    {
     "data": {
      "text/plain": [
       "(-100, 100)"
      ]
     },
     "execution_count": 6,
     "metadata": {},
     "output_type": "execute_result"
    },
    {
     "data": {
      "image/png": "[encoded data removed]",
      "text/plain": [
       "<matplotlib.figure.Figure at 0x1062a3e50>"
      ]
     },
     "metadata": {},
     "output_type": "display_data"
    }
   ],
   "source": [
    "figsize(7,5)\n",
    "plot(t,h)\n",
    "xlim(-100,100)"
   ]
  },
  {
   "cell_type": "code",
   "execution_count": 7,
   "metadata": {
    "collapsed": false,
    "deletable": true,
    "editable": true
   },
   "outputs": [
    {
     "data": {
      "text/plain": [
       "[<matplotlib.lines.Line2D at 0x108607d10>]"
      ]
     },
     "execution_count": 7,
     "metadata": {},
     "output_type": "execute_result"
    },
    {
     "data": {
      "image/png": "[encoded data removed]",
      "text/plain": [
       "<matplotlib.figure.Figure at 0x1084f45d0>"
      ]
     },
     "metadata": {},
     "output_type": "display_data"
    }
   ],
   "source": [
    "plot(t,fft.fftshift(abs(h_tf)))"
   ]
  },
  {
   "cell_type": "markdown",
   "metadata": {
    "deletable": true,
    "editable": true
   },
   "source": [
    "We generate a synthetic sparse signal $x^\\sharp$, with only a small number of nonzero\n",
    "coefficients."
   ]
  },
  {
   "cell_type": "code",
   "execution_count": 8,
   "metadata": {
    "collapsed": false,
    "deletable": true,
    "editable": true
   },
   "outputs": [],
   "source": [
    "random.seed(80) # we set the seed of the random number generator for reproducibility purpose."
   ]
  },
  {
   "cell_type": "code",
   "execution_count": 9,
   "metadata": {
    "collapsed": false,
    "deletable": true,
    "editable": true
   },
   "outputs": [],
   "source": [
    "s = round(N*.01) # number of nonzero elements of xsharp\n",
    "sel = random.permutation(N)\n",
    "sel = sel[0:s]   # indices of the nonzero elements of xsharp\n",
    "xsharp = zeros(N)\n",
    "xsharp[sel] = sign(randn(s)) * (1-0.3*rand(s))"
   ]
  },
  {
   "cell_type": "code",
   "execution_count": 10,
   "metadata": {
    "collapsed": false,
    "deletable": true,
    "editable": true
   },
   "outputs": [],
   "source": [
    "noiselevel = 0.2"
   ]
  },
  {
   "cell_type": "markdown",
   "metadata": {
    "deletable": true,
    "editable": true
   },
   "source": [
    "Compute the measurements $y=A x^\\sharp + w$ where $w$ is a realization\n",
    "of white Gaussian noise."
   ]
  },
  {
   "cell_type": "code",
   "execution_count": 11,
   "metadata": {
    "collapsed": false,
    "deletable": true,
    "editable": true
   },
   "outputs": [],
   "source": [
    "y = opA(xsharp) + noiselevel * randn(N)"
   ]
  },
  {
   "cell_type": "code",
   "execution_count": 12,
   "metadata": {
    "collapsed": false,
    "deletable": true,
    "editable": true
   },
   "outputs": [
    {
     "data": {
      "text/plain": [
       "<matplotlib.text.Text at 0x108711090>"
      ]
     },
     "execution_count": 12,
     "metadata": {},
     "output_type": "execute_result"
    },
    {
     "data": {
      "image/png": "[encoded data removed]",
      "text/plain": [
       "<matplotlib.figure.Figure at 0x108567e10>"
      ]
     },
     "metadata": {},
     "output_type": "display_data"
    }
   ],
   "source": [
    "figsize(14,5)\n",
    "stem(sel,xsharp[sel])\n",
    "xlim(0,N-1)\n",
    "title('signal $x^\\sharp$')"
   ]
  },
  {
   "cell_type": "code",
   "execution_count": 13,
   "metadata": {
    "collapsed": false,
    "deletable": true,
    "editable": true
   },
   "outputs": [
    {
     "data": {
      "text/plain": [
       "<matplotlib.text.Text at 0x108a92110>"
      ]
     },
     "execution_count": 13,
     "metadata": {},
     "output_type": "execute_result"
    },
    {
     "data": {
      "image/png": "[encoded data removed]",
      "text/plain": [
       "<matplotlib.figure.Figure at 0x1085705d0>"
      ]
     },
     "metadata": {},
     "output_type": "display_data"
    }
   ],
   "source": [
    "figsize(14,5)\n",
    "plot(range(N),y)\n",
    "xlim(0,N-1)\n",
    "title('signal $y$')"
   ]
  },
  {
   "cell_type": "markdown",
   "metadata": {
    "deletable": true,
    "editable": true
   },
   "source": [
    "Deconvolution\n",
    "---------------------------\n",
    "We now implement the foward-backward algorithm to recover an estimate of the sparse signal\n",
    "\n",
    "\n",
    "We define the regularization parameter $\\la$."
   ]
  },
  {
   "cell_type": "code",
   "execution_count": 14,
   "metadata": {
    "collapsed": false,
    "deletable": true,
    "editable": true
   },
   "outputs": [],
   "source": [
    "Lambda = 3"
   ]
  },
  {
   "cell_type": "markdown",
   "metadata": {
    "deletable": true,
    "editable": true
   },
   "source": [
    "We define the proximity operator of $\\ga g$."
   ]
  },
  {
   "cell_type": "code",
   "execution_count": 15,
   "metadata": {
    "collapsed": false,
    "deletable": true,
    "editable": true
   },
   "outputs": [],
   "source": [
    "def prox_gamma_g (x, gamma, Lambda) :\n",
    "    return x - x/maximum(abs(x)/(Lambda*gamma),1) # soft-thresholding"
   ]
  },
  {
   "cell_type": "markdown",
   "metadata": {
    "deletable": true,
    "editable": true
   },
   "source": [
    "We define the gradient operator of $f$. Note that $A^*=A$ because the filter $h$ is symmetric."
   ]
  },
  {
   "cell_type": "markdown",
   "metadata": {
    "deletable": true,
    "editable": true
   },
   "source": [
    "__Exercise__ \n",
    "\n",
    "Write the code of the function grad_f."
   ]
  },
  {
   "cell_type": "code",
   "execution_count": 16,
   "metadata": {
    "collapsed": false,
    "deletable": true,
    "editable": true
   },
   "outputs": [],
   "source": [
    "grad_f = lambda x : # put your code here"
   ]
  },
  {
   "cell_type": "markdown",
   "metadata": {
    "deletable": true,
    "editable": true
   },
   "source": [
    "We define the Lipschitz constant $\\beta$ of $\\nabla f$."
   ]
  },
  {
   "cell_type": "code",
   "execution_count": 17,
   "metadata": {
    "collapsed": false,
    "deletable": true,
    "editable": true
   },
   "outputs": [
    {
     "data": {
      "text/plain": [
       "85.032184045506753"
      ]
     },
     "execution_count": 17,
     "metadata": {},
     "output_type": "execute_result"
    }
   ],
   "source": [
    "beta = abs(fft.fft(h)).max()**2\n",
    "beta"
   ]
  },
  {
   "cell_type": "markdown",
   "metadata": {
    "deletable": true,
    "editable": true
   },
   "source": [
    "We define the stepsize $\\ga$, which must be smaller than $2/\\beta$."
   ]
  },
  {
   "cell_type": "code",
   "execution_count": 18,
   "metadata": {
    "collapsed": false,
    "deletable": true,
    "editable": true
   },
   "outputs": [],
   "source": [
    "gamma = 1.9 / beta"
   ]
  },
  {
   "cell_type": "markdown",
   "metadata": {
    "deletable": true,
    "editable": true
   },
   "source": [
    "We compute the solution of $\\ell_1$ deconvolution (basis pursuit denoising).\n",
    "We keep track of the energy $E_k=f(x^{(k)})+g(x^{(k)})$."
   ]
  },
  {
   "cell_type": "markdown",
   "metadata": {
    "deletable": true,
    "editable": true
   },
   "source": [
    "__Exercise__ \n",
    "\n",
    "Write the code of the forward-backward iteration."
   ]
  },
  {
   "cell_type": "code",
   "execution_count": 19,
   "metadata": {
    "collapsed": false,
    "deletable": true,
    "editable": true
   },
   "outputs": [],
   "source": [
    "nbiter = 2000\n",
    "x = y\n",
    "En_array = zeros(nbiter+1)\n",
    "En_array[0] = norm(opA(x) - y)**2/2 + Lambda*norm(x, ord=1)\n",
    "for iter in range(nbiter):  # iter goes from 0 to nbiter-1\n",
    "    # put your code here\n",
    "    En_array[iter+1] = norm(opA(x) - y)**2/2 + Lambda*norm(x, ord=1)  \n",
    "x_restored = x"
   ]
  },
  {
   "cell_type": "markdown",
   "metadata": {
    "deletable": true,
    "editable": true
   },
   "source": [
    "We display the result."
   ]
  },
  {
   "cell_type": "code",
   "execution_count": 21,
   "metadata": {
    "collapsed": false,
    "deletable": true,
    "editable": true
   },
   "outputs": [
    {
     "data": {
      "text/plain": [
       "<matplotlib.text.Text at 0x1091d6e50>"
      ]
     },
     "execution_count": 21,
     "metadata": {},
     "output_type": "execute_result"
    },
    {
     "data": {
      "image/png": "[encoded data removed]",
      "text/plain": [
       "<matplotlib.figure.Figure at 0x108c884d0>"
      ]
     },
     "metadata": {},
     "output_type": "display_data"
    }
   ],
   "source": [
    "fig, (subfig1,subfig2) = subplots(1,2,figsize=(16,7)) # one figure with two horizontal subfigures\n",
    "subfig1.stem(xsharp)\n",
    "subfig2.stem(x_restored)\n",
    "subfig1.set_title('$x^\\sharp$')\n",
    "subfig2.set_title('$x_\\mathrm{restored}$')"
   ]
  },
  {
   "cell_type": "markdown",
   "metadata": {
    "deletable": true,
    "editable": true
   },
   "source": [
    "We plot the relative error $(E_k-E^\\star)/(E_0-E^\\star)$ in log-scale with respect to $k$."
   ]
  },
  {
   "cell_type": "code",
   "execution_count": 22,
   "metadata": {
    "collapsed": false,
    "deletable": true,
    "editable": true
   },
   "outputs": [
    {
     "data": {
      "text/plain": [
       "[<matplotlib.lines.Line2D at 0x10cf32b90>]"
      ]
     },
     "execution_count": 22,
     "metadata": {},
     "output_type": "execute_result"
    },
    {
     "data": {
      "image/png": "[encoded data removed]",
      "text/plain": [
       "<matplotlib.figure.Figure at 0x108c92ad0>"
      ]
     },
     "metadata": {},
     "output_type": "display_data"
    }
   ],
   "source": [
    "plot(log10((En_array[0:1800]-En_array[-1])/(En_array[0]-En_array[-1])))"
   ]
  },
  {
   "cell_type": "markdown",
   "metadata": {
    "deletable": true,
    "editable": true
   },
   "source": [
    "Over-relaxed Forward-Backward\n",
    "-----------------------------\n",
    "It is possible to introduce a relaxation parameter $\\rho$ with $0 < \\rho < 1$. The over-relaxed foward-backward algorithm initializes $x^{(0)} \\in \\RR^N$,\n",
    "and then iterates, for $k=1,2,\\ldots$\n",
    "$$ z^{(k)} = \\text{prox}_{\\ga g}\\pa{\n",
    "              x^{(k-1)} - \\ga \\nabla f( x^{(k-1)} )  }.\n",
    "$$\n",
    "$$ x^{(k)} = z^{(k)} +\n",
    "      \\rho \\pa{ z^{(k)} - x^{(k-1)} } $$\n",
    "\n",
    "\n",
    "Let us assume $\\gamma=1/\\beta$. Convergence of the iterates $x^{(k)}$ and $z^{(k)}$ to a solution is guaranteed\n",
    "for $ 0 < \\rho < 1/2 $. The weaker property of convergence of $ E(x^{(k)}) $\n",
    "to $E^\\star$ is proved, when $ 1/2\\leq \\rho <1 $."
   ]
  },
  {
   "cell_type": "markdown",
   "metadata": {
    "deletable": true,
    "editable": true
   },
   "source": [
    "__Exercise__ \n",
    "\n",
    "Write the code of the over-relaxed forward-backward iteration."
   ]
  },
  {
   "cell_type": "code",
   "execution_count": 27,
   "metadata": {
    "collapsed": true,
    "deletable": true,
    "editable": true
   },
   "outputs": [],
   "source": [
    "gamma = 1/beta\n",
    "nbiter = 1700\n",
    "rho = 0.95\n",
    "x = y\n",
    "En_array_overrelaxed = zeros(nbiter+1)\n",
    "En_array_overrelaxed[0] = norm(opA(x) - y)**2/2 + Lambda*norm(x, ord=1)\n",
    "for iter in range(nbiter):  \n",
    "    # put your code here\n",
    "    En_array_overrelaxed[iter+1] = norm(opA(x) - y)**2/2 + Lambda*norm(x, ord=1)  "
   ]
  },
  {
   "cell_type": "code",
   "execution_count": 28,
   "metadata": {
    "collapsed": false,
    "deletable": true,
    "editable": true
   },
   "outputs": [
    {
     "data": {
      "text/plain": [
       "[<matplotlib.lines.Line2D at 0x1085a78d0>]"
      ]
     },
     "execution_count": 28,
     "metadata": {},
     "output_type": "execute_result"
    },
    {
     "data": {
      "image/png": "[encoded data removed]",
      "text/plain": [
       "<matplotlib.figure.Figure at 0x10d21ee10>"
      ]
     },
     "metadata": {},
     "output_type": "display_data"
    }
   ],
   "source": [
    "plot(log10((En_array[0:1800]-En_array[-1])/(En_array[0]-En_array[-1])))\n",
    "plot(log10((En_array_overrelaxed[0:1800]-En_array[-1])/(En_array[0]-En_array[-1])))"
   ]
  },
  {
   "cell_type": "markdown",
   "metadata": {
    "deletable": true,
    "editable": true
   },
   "source": [
    "As we see, in this example, over-relaxation does not bring any speedup, because $\\gamma$ is lower than without over-relaxation. There are other setting parameters or other problems, for which over-relaxation does bring a significant speedup. "
   ]
  },
  {
   "cell_type": "markdown",
   "metadata": {
    "deletable": true,
    "editable": true
   },
   "source": [
    "FISTA-like Accelerated Forward-Backward Algorithm\n",
    "---------------------------\n",
    "We consider the FISTA algorithm introduced in:\n",
    "\n",
    "\n",
    "A. Beck and M. Teboulle,\n",
    "\"A Fast Iterative Shrinkage-Thresholding Algorithm for Linear Inverse Problems\",\n",
    "_SIAM Journal on Imaging Sciences_, 2009.\n",
    "\n",
    "More precisely, we consider a slightly modified version of FISTA, whose convergence is proved, see\n",
    "A. Chambolle and C. Dossal, \"On the convergence of the iterates of \"FISTA\"\", preprint, 2015."
   ]
  },
  {
   "cell_type": "markdown",
   "metadata": {
    "deletable": true,
    "editable": true
   },
   "source": [
    "Given an initial estimate $x^{(0)}$ of the solution and a parameter $a>2$, the algorithm sets $\\gamma=1/\\beta$, sets $z^{(0)}=x^{(0)} \\in \\RR^N$,\n",
    "and iterates, for $k=1,2,\\ldots$\n",
    "$$ x^{(k)} = \\text{prox}_{\\ga g}\\pa{\n",
    "              z^{(k-1)} - \\ga \\nabla f( z^{(k-1)} )  }.\n",
    "$$\n",
    "$$ \\alpha_k=(k-1)/(k+a) $$\n",
    "$$ z^{(k)} = x^{(k)} +\n",
    "      \\alpha_k\n",
    "  \\pa{ x^{(k)} - x^{(k-1)} } $$\n",
    "\n",
    "\n",
    "It is proved that the iterates $x^{(k)}$ converge to a solution $x^\\star$ of the problem. Moreover, \n",
    "the  optimal convergence rate for this class of problems is reached,\n",
    "namely\n",
    "$$ E_k - E^\\star = O(1/k^2), $$\n",
    "whereas the convergence rate for the normal forward-backward is only\n",
    "$O(1/k)$.\n",
    "\n",
    "Note the difference between the over-relaxed forward-backward and the accelerated forward-backward: the later is based on an inertia mechanism, of different nature than over-relaxation."
   ]
  },
  {
   "cell_type": "markdown",
   "metadata": {
    "deletable": true,
    "editable": true
   },
   "source": [
    "__Exercise__\n",
    "\n",
    "Write the code of the accelerated forward-backward iteration."
   ]
  },
  {
   "cell_type": "code",
   "execution_count": 31,
   "metadata": {
    "collapsed": false,
    "deletable": true,
    "editable": true
   },
   "outputs": [],
   "source": [
    "gamma = 1/beta\n",
    "nbiter = 1700\n",
    "a = 10\n",
    "x = y\n",
    "En_array_fista = zeros(nbiter+1)\n",
    "En_array_fista[0] = norm(opA(x) - y)**2/2 + Lambda*norm(x, ord=1)\n",
    "for iter in range(nbiter): \n",
    "    # put your code here\n",
    "    En_array_fista[iter+1] = norm(opA(x) - y)**2/2 + Lambda*norm(x, ord=1)  "
   ]
  },
  {
   "cell_type": "code",
   "execution_count": 32,
   "metadata": {
    "collapsed": false,
    "deletable": true,
    "editable": true
   },
   "outputs": [
    {
     "name": "stderr",
     "output_type": "stream",
     "text": [
      "/Users/condatl/anaconda/lib/python2.7/site-packages/IPython/kernel/__main__.py:3: RuntimeWarning: divide by zero encountered in log10\n",
      "  app.launch_new_instance()\n",
      "/Users/condatl/anaconda/lib/python2.7/site-packages/IPython/kernel/__main__.py:3: RuntimeWarning: invalid value encountered in log10\n",
      "  app.launch_new_instance()\n"
     ]
    },
    {
     "data": {
      "text/plain": [
       "[<matplotlib.lines.Line2D at 0x10d984c90>]"
      ]
     },
     "execution_count": 32,
     "metadata": {},
     "output_type": "execute_result"
    },
    {
     "data": {
      "image/png": "[encoded data removed]",
      "text/plain": [
       "<matplotlib.figure.Figure at 0x10d8092d0>"
      ]
     },
     "metadata": {},
     "output_type": "display_data"
    }
   ],
   "source": [
    "plot(log10((En_array[0:1800]-En_array[-1])/(En_array[0]-En_array[-1])))\n",
    "plot(log10((En_array_overrelaxed[0:1800]-En_array[-1])/(En_array[0]-En_array[-1])))\n",
    "plot(log10((En_array_fista[0:1800]-En_array[-1])/(En_array[0]-En_array[-1])))"
   ]
  },
  {
   "cell_type": "markdown",
   "metadata": {
    "deletable": true,
    "editable": true
   },
   "source": [
    "__Exercise__ \n",
    "\n",
    "Try different values of a. You can try a=3,10,30,50,100."
   ]
  },
  {
   "cell_type": "markdown",
   "metadata": {
    "deletable": true,
    "editable": true
   },
   "source": [
    "We can note that the accelerated forward-backward is not monotonic: the cost function E is not decreasing along with the iterations and some oscillations are present."
   ]
  },
  {
   "cell_type": "raw",
   "metadata": {},
   "source": [
    "<script>\n",
    "  $(document).ready(function(){\n",
    "      $('div.prompt').hide();\n",
    "  });\n",
    "</script>"
   ]
  }
 ],
 "metadata": {
  "kernelspec": {
   "display_name": "Python 3",
   "language": "python",
   "name": "python3"
  },
  "language_info": {
   "codemirror_mode": {
    "name": "ipython",
    "version": 3
   },
   "file_extension": ".py",
   "mimetype": "text/x-python",
   "name": "python",
   "nbconvert_exporter": "python",
   "pygments_lexer": "ipython3",
   "version": "3.4.5"
  }
 },
 "nbformat": 4,
 "nbformat_minor": 0
}
