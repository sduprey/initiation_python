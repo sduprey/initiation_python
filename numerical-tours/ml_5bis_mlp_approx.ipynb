{
 "cells": [
  {
   "cell_type": "markdown",
   "metadata": {
    "id": "mvUrWkVuD4Ty"
   },
   "source": [
    "## Approximation using Multi-layers Perceptrons\n",
    "\n",
    "This code benchmark the approximation of functions using a Multi-Layer Perceptron (MLP) with 2 layers. A MLP with $q$ neurons is defined as\n",
    "$$\n",
    "  \\forall x \\in \\mathbb{R}^d, \n",
    " \\quad\n",
    "  f_q(x) \\triangleq  \\sum_{k=1}^q c_k \\phi( \\langle x,a_k \\rangle + b_k )\n",
    "$$\n",
    "where the parameters are \n",
    "$(a_k,b_k,c_k) \\in \\mathbb{R}^{d} \\times \\mathbb{R} \\times \\mathbb{R}$, so that the total number of parameters is $q (d+2)$. Here $\\phi : \\mathbb{R} \\to \\mathbb{R}$ is a sigmoid function with bounded range (assumed to be $[0,1]$).\n",
    "\n",
    "The theorem of Barron ensures that for a class of smooth function with \n",
    "$$\n",
    "  \\|f\\|_B \\triangleq\n",
    "  \\int_{\\mathbb{R}^d} \\|\\omega\\| |\\hat f(\\omega)| \\text{d} \\omega  < +\\infty\n",
    " $$\n",
    "and a probability distribution $\\mu$ supported on a ball of radius $R$, there exists a neural MLP $f_n$ with $n$ neurons such that\n",
    "\n",
    "$$\n",
    "  \\int (f(x)-f_q(x))^2 \\text{d} \\mu(x) \n",
    "  = \n",
    "  O(\\|f\\|_B R / \\sqrt{q}).\n",
    "$$\n",
    "\n",
    "The goal of this tour is to illustrate this theorem."
   ]
  },
  {
   "cell_type": "code",
   "execution_count": 1,
   "metadata": {
    "id": "k94CXY6boWwB"
   },
   "outputs": [],
   "source": [
    "import numpy as np\n",
    "import matplotlib.pyplot as plt\n",
    "import torch\n",
    "import torch.nn as nn\n",
    "import torch.optim as optim"
   ]
  },
  {
   "cell_type": "code",
   "execution_count": 2,
   "metadata": {
    "colab": {
     "base_uri": "https://localhost:8080/"
    },
    "id": "S6S0FdSXoeW7",
    "outputId": "3ed3f267-3213-42f1-87f1-88696c2a2eaa"
   },
   "outputs": [
    {
     "name": "stdout",
     "output_type": "stream",
     "text": [
      "cuda\n"
     ]
    }
   ],
   "source": [
    "device = torch.device(\"cuda\" if torch.cuda.is_available() else \"cpu\")\n",
    "print(device)"
   ]
  },
  {
   "cell_type": "markdown",
   "metadata": {
    "id": "WGTXGnb28dQr"
   },
   "source": [
    "# Approximation using gradient descent"
   ]
  },
  {
   "cell_type": "markdown",
   "metadata": {
    "id": "nbQQDOGVtaOE"
   },
   "source": [
    "Create synthetic data in dimension $d$."
   ]
  },
  {
   "cell_type": "code",
   "execution_count": 4,
   "metadata": {
    "colab": {
     "base_uri": "https://localhost:8080/",
     "height": 267
    },
    "id": "uCa_XT6motKo",
    "outputId": "f1919eba-a70e-4a91-82f3-582bc8be5644"
   },
   "outputs": [
    {
     "data": {
      "image/png": "[encoded data removed]",
      "text/plain": [
       "<Figure size 432x288 with 1 Axes>"
      ]
     },
     "metadata": {
      "needs_background": "light",
      "tags": []
     },
     "output_type": "display_data"
    }
   ],
   "source": [
    "d = 1 \n",
    "d = 3\n",
    "d = 2\n",
    "if d==1:\n",
    "  n = 256; # #samples\n",
    "  x = np.linspace(-1,1,n)\n",
    "  y = np.sin(6*np.pi*np.abs(x)**1.5) + np.abs(x)**2\n",
    "  x = x[:,None]\n",
    "  y = y[:,None]\n",
    "  plt.clf\n",
    "  plt.plot(x, y);\n",
    "if d==2:\n",
    "  n0 = 50\n",
    "  n = n0**2\n",
    "  t = np.linspace(-1,1,n0)\n",
    "  s = .4 # width of the Gaussian\n",
    "  y = np.exp( - (t[:,None]**2 + t[None,:]**2)/(2*s**2) )\n",
    "  y = y.flatten()\n",
    "  [u,v] = np.meshgrid(t,t)\n",
    "  x = np.concatenate([u.flatten()[:,None],v.flatten()[:,None]], axis=1)\n",
    "  plt.imshow( np.reshape(y, [n0,n0]) )\n",
    "if d>2:\n",
    "  # random point on a cube\n",
    "  n = 1000\n",
    "  x = 2*np.random.rand(n,d)-1\n",
    "  s = .4 # width of the Gaussian\n",
    "  y = np.exp( - np.sum(x**2, axis=1)/(2*s**2) )\n",
    "  y = y.flatten()\n",
    "  plt.plot( np.sum(x, axis=1), y, '.' )"
   ]
  },
  {
   "cell_type": "markdown",
   "metadata": {
    "id": "WUiIr80DpSQR"
   },
   "source": [
    "Convert into Torch array of size $(n,d+1)$"
   ]
  },
  {
   "cell_type": "code",
   "execution_count": 5,
   "metadata": {
    "id": "eyrzPRKQpL5K"
   },
   "outputs": [],
   "source": [
    "X = torch.Tensor(x).to(device)\n",
    "Y = torch.Tensor(y[:,None]).to(device)"
   ]
  },
  {
   "cell_type": "markdown",
   "metadata": {
    "id": "mh8vy527pHBB"
   },
   "source": [
    "Define a MLP with $q$ hidden neurons."
   ]
  },
  {
   "cell_type": "code",
   "execution_count": 6,
   "metadata": {
    "id": "jV0LPXIgo1LV"
   },
   "outputs": [],
   "source": [
    "def create_mlp(q):\n",
    "  model = nn.Sequential(\n",
    "        nn.Linear(d, q),\n",
    "        nn.Tanh(),\n",
    "        #nn.Sigmoid(),\n",
    "        #nn.ReLU(),\n",
    "        nn.Linear(q, 1),\n",
    "  )\n",
    "  if torch.cuda.is_available():\n",
    "      model.cuda()\n",
    "  return model"
   ]
  },
  {
   "cell_type": "markdown",
   "metadata": {
    "id": "poL8b45ppJ3j"
   },
   "source": [
    "Initialize the weights."
   ]
  },
  {
   "cell_type": "code",
   "execution_count": 7,
   "metadata": {
    "id": "VrrMcB-QpEBN"
   },
   "outputs": [],
   "source": [
    "def my_init(m):\n",
    "  nn.init.normal_(m[0].bias, 0, 1)\n",
    "  nn.init.normal_(m[0].weight, 0,1)\n",
    "  nn.init.normal_(m[2].bias, 0, 0.001) # set it to 0 for the global bias \n",
    "  nn.init.normal_(m[2].weight, 0.0001)"
   ]
  },
  {
   "cell_type": "code",
   "execution_count": 8,
   "metadata": {
    "id": "lOEzk4jWHU3c"
   },
   "outputs": [],
   "source": [
    "q = 10 # neurons\n",
    "model = create_mlp(q)\n",
    "my_init(model)"
   ]
  },
  {
   "cell_type": "markdown",
   "metadata": {
    "id": "_u8qopb1p-cF"
   },
   "source": [
    "Define the $\\ell^2$ loss function."
   ]
  },
  {
   "cell_type": "code",
   "execution_count": 9,
   "metadata": {
    "colab": {
     "base_uri": "https://localhost:8080/"
    },
    "id": "Dv0gSs4FpW0G",
    "outputId": "6d6b7f63-950a-46a0-a0da-45d81729248d"
   },
   "outputs": [
    {
     "name": "stdout",
     "output_type": "stream",
     "text": [
      "2.5575342178344727\n"
     ]
    }
   ],
   "source": [
    "loss_func = torch.nn.MSELoss() \n",
    "loss = loss_func(model(X), Y)\n",
    "print( loss.item() )"
   ]
  },
  {
   "cell_type": "markdown",
   "metadata": {
    "id": "0eWtZ-5R0WyV"
   },
   "source": [
    "implementing \"by hand\" the gradient descent. "
   ]
  },
  {
   "cell_type": "code",
   "execution_count": 13,
   "metadata": {
    "colab": {
     "base_uri": "https://localhost:8080/",
     "height": 265
    },
    "id": "2r8lNfl3qEmR",
    "outputId": "7cea3efb-de2b-4395-d729-36ac7761d538"
   },
   "outputs": [
    {
     "data": {
      "image/png": "[encoded data removed]",
      "text/plain": [
       "<Figure size 432x288 with 1 Axes>"
      ]
     },
     "metadata": {
      "needs_background": "light",
      "tags": []
     },
     "output_type": "display_data"
    }
   ],
   "source": [
    "my_init(model)\n",
    "tau = .01\n",
    "niter = 1000\n",
    "L = np.zeros((niter,1))\n",
    "for i in range(niter):\n",
    "    loss = loss_func(model(X), Y)\n",
    "    L[i] = loss.item()\n",
    "    model.zero_grad()\n",
    "    loss.backward()\n",
    "    with torch.no_grad():\n",
    "      for theta in model.parameters():\n",
    "        theta -= tau * theta.grad\n",
    "plt.plot(np.log(L));"
   ]
  },
  {
   "cell_type": "markdown",
   "metadata": {
    "id": "uLbdgC3g0dVT"
   },
   "source": [
    "Same using Pytorch."
   ]
  },
  {
   "cell_type": "code",
   "execution_count": 14,
   "metadata": {
    "colab": {
     "base_uri": "https://localhost:8080/",
     "height": 265
    },
    "id": "CaUw3xQAz-83",
    "outputId": "58ef7f7d-40e6-4fa6-d817-035d2736f859"
   },
   "outputs": [
    {
     "data": {
      "image/png": "[encoded data removed]",
      "text/plain": [
       "<Figure size 432x288 with 1 Axes>"
      ]
     },
     "metadata": {
      "needs_background": "light",
      "tags": []
     },
     "output_type": "display_data"
    }
   ],
   "source": [
    "my_init(model)\n",
    "optimizer = torch.optim.SGD(model.parameters(), lr = 0.01)\n",
    "optimizer = torch.optim.Adam(model.parameters(), lr = 0.01)\n",
    "model.train()\n",
    "niter = 5000\n",
    "L = []\n",
    "for it in range(niter):\n",
    "    loss = loss_func(model(X), Y)\n",
    "    model.zero_grad() # reset the gradient\n",
    "    loss.backward()\n",
    "    L.append(loss.item())   \n",
    "    optimizer.step()\n",
    "plt.plot(np.log(L));"
   ]
  },
  {
   "cell_type": "markdown",
   "metadata": {
    "id": "wEeFldJ_0fhD"
   },
   "source": [
    "Quasi-Newton."
   ]
  },
  {
   "cell_type": "code",
   "execution_count": 15,
   "metadata": {
    "colab": {
     "base_uri": "https://localhost:8080/",
     "height": 265
    },
    "id": "Bra2JK9mrRgw",
    "outputId": "c8ec150d-8480-4134-ef9e-6f98dfa4f313"
   },
   "outputs": [
    {
     "data": {
      "image/png": "[encoded data removed]",
      "text/plain": [
       "<Figure size 432x288 with 1 Axes>"
      ]
     },
     "metadata": {
      "needs_background": "light",
      "tags": []
     },
     "output_type": "display_data"
    }
   ],
   "source": [
    "my_init(model)\n",
    "optimizer = optim.LBFGS(model.parameters());\n",
    "niter = 40\n",
    "L = []\n",
    "for it in range(niter):\n",
    "  def closure():    \n",
    "    optimizer.zero_grad() # reset the gradient\n",
    "    loss = loss_func(model(X), Y)\n",
    "    model.zero_grad()\n",
    "    loss.backward()\n",
    "    L.append(loss.item())    \n",
    "    return loss\n",
    "  optimizer.step(closure)\n",
    "plt.plot(np.log(L));"
   ]
  },
  {
   "cell_type": "code",
   "execution_count": null,
   "metadata": {
    "colab": {
     "base_uri": "https://localhost:8080/",
     "height": 265
    },
    "id": "PXjf3zCGqnv2",
    "outputId": "b3019523-ee73-4cef-b6ce-7b8614f8a803"
   },
   "outputs": [
    {
     "data": {
      "image/png": "[encoded data removed]",
      "text/plain": [
       "<Figure size 432x288 with 1 Axes>"
      ]
     },
     "metadata": {
      "needs_background": "light",
      "tags": []
     },
     "output_type": "display_data"
    }
   ],
   "source": [
    "plt.plot(np.log(L));"
   ]
  },
  {
   "cell_type": "markdown",
   "metadata": {
    "id": "0A7A_U_X8wqb"
   },
   "source": [
    "Display the repartition of the weights."
   ]
  },
  {
   "cell_type": "code",
   "execution_count": 20,
   "metadata": {
    "colab": {
     "base_uri": "https://localhost:8080/",
     "height": 282
    },
    "id": "3NO0n8DC-Etj",
    "outputId": "a13b9794-08c1-4a64-ab24-0ebb2f18f35d"
   },
   "outputs": [
    {
     "name": "stdout",
     "output_type": "stream",
     "text": [
      "Output bias:[0.13394806]\n"
     ]
    },
    {
     "data": {
      "image/png": "[encoded data removed]",
      "text/plain": [
       "<Figure size 432x288 with 3 Axes>"
      ]
     },
     "metadata": {
      "needs_background": "light",
      "tags": []
     },
     "output_type": "display_data"
    }
   ],
   "source": [
    "def torch2np(x):\n",
    "  return x.detach().cpu().numpy()\n",
    "\n",
    "plt.subplot(2,2,1)\n",
    "plt.plot(torch2np(model[0].bias))\n",
    "plt.subplot(2,2,2)\n",
    "plt.plot( np.std(torch2np(model[0].weight), axis=1) )\n",
    "plt.subplot(2,2,3)\n",
    "plt.plot(torch2np(model[2].weight).flatten())\n",
    "print( 'Output bias:' + str(torch2np(model[2].bias.data)) )"
   ]
  },
  {
   "cell_type": "markdown",
   "metadata": {
    "id": "b50EJ5_Qqz1I"
   },
   "source": [
    "Display the fitted function."
   ]
  },
  {
   "cell_type": "code",
   "execution_count": 21,
   "metadata": {
    "colab": {
     "base_uri": "https://localhost:8080/",
     "height": 267
    },
    "id": "9pJBk2iVqsNc",
    "outputId": "1a4c7300-324d-4c8b-ed2c-7a06b53117b9"
   },
   "outputs": [
    {
     "data": {
      "image/png": "[encoded data removed]",
      "text/plain": [
       "<Figure size 432x288 with 1 Axes>"
      ]
     },
     "metadata": {
      "needs_background": "light",
      "tags": []
     },
     "output_type": "display_data"
    }
   ],
   "source": [
    "y1 = model(X).detach().cpu().numpy()\n",
    "if d==1:\n",
    "  plt.plot(x,y, 'b')\n",
    "  plt.plot(x,y1, 'r')\n",
    "if d==2:\n",
    "  y1 = np.reshape(y1, [n0,n0])\n",
    "  plt.imshow( y1 )\n",
    "if d>2:\n",
    "  plt.plot( np.sum(x, axis=1), y, 'b.' )\n",
    "  plt.plot( np.sum(x, axis=1), y1, 'r.' )"
   ]
  },
  {
   "cell_type": "markdown",
   "metadata": {
    "id": "9ncC5JlEgRIH"
   },
   "source": [
    "# Geedy neuron-by-neuron training\n",
    "\n",
    "In order to illustrate Barron's theorem, we train the network in a greedy fashion, neuron per neuron."
   ]
  },
  {
   "cell_type": "code",
   "execution_count": 22,
   "metadata": {
    "colab": {
     "base_uri": "https://localhost:8080/"
    },
    "id": "LY4QLwyPgUkE",
    "outputId": "ab498d3d-1e7d-4d1d-c8ae-ef5140009ed1"
   },
   "outputs": [
    {
     "name": "stderr",
     "output_type": "stream",
     "text": [
      "100% (500 of 500) |######################| Elapsed Time: 0:03:56 Time:  0:03:56\n"
     ]
    }
   ],
   "source": [
    "import time\n",
    "import progressbar\n",
    "\n",
    "R = Y # residual to fit\n",
    "qmax = 500 # maximum # neurons\n",
    "niter = 500 # for the optimizer \n",
    "\n",
    "L = [loss_func(R*0, R).item()] # bug, model(X) doit model=0\n",
    "for iq in progressbar.progressbar(range(qmax)):\n",
    "  # create a MLP with a single neuron\n",
    "  model = create_mlp(1)\n",
    "  my_init(model)\n",
    "  # be sure to start from 0\n",
    "  model[2].bias.data=0*model[2].bias.data\n",
    "  model[2].weight.data=0*model[2].weight.data\n",
    "\n",
    "  #optimizer = optim.LBFGS(model.parameters());\n",
    "  #optimizer = torch.optim.SGD(model.parameters(), lr = 0.01)\n",
    "  optimizer = torch.optim.Adam(model.parameters(), lr = 0.01)\n",
    "  model.train()\n",
    "\n",
    "  l = []\n",
    "  for it in range(niter):\n",
    "    if 0:\n",
    "      def closure():    \n",
    "        optimizer.zero_grad() # reset the gradient\n",
    "        loss = loss_func(model(X), R)\n",
    "        model.zero_grad()\n",
    "        loss.backward()\n",
    "        l.append(loss.item())    \n",
    "        return loss\n",
    "      optimizer.step(closure)\n",
    "    else:\n",
    "      loss = loss_func(model(X), R)\n",
    "      model.zero_grad() # reset the gradient\n",
    "      loss.backward()\n",
    "      l.append(loss.item())   \n",
    "      optimizer.step()\n",
    "    \n",
    "  # update residual\n",
    "  L.append( loss_func(model(X), R).item() ) # loss.item())\n",
    "  R = R - model(X).detach()"
   ]
  },
  {
   "cell_type": "markdown",
   "metadata": {
    "id": "YwkhlJ-D9Mms"
   },
   "source": [
    "Display the evolution of the loss in log-domain, and compare with the theoretical bound in $O(1/\\sqrt{q})$."
   ]
  },
  {
   "cell_type": "code",
   "execution_count": 24,
   "metadata": {
    "colab": {
     "base_uri": "https://localhost:8080/",
     "height": 269
    },
    "id": "ZbBguCC7h7gd",
    "outputId": "286cf109-1538-4e5e-8032-4996ca74bea8"
   },
   "outputs": [
    {
     "data": {
      "image/png": "[encoded data removed]",
      "text/plain": [
       "<Figure size 432x288 with 1 Axes>"
      ]
     },
     "metadata": {
      "needs_background": "light",
      "tags": []
     },
     "output_type": "display_data"
    }
   ],
   "source": [
    "qlist = np.arange(qmax+1)\n",
    "plt.loglog(qlist, np.sqrt(L), 'b.-')\n",
    "plt.loglog(qlist[1:], np.sqrt(L[0])/np.sqrt(qlist[1:]), 'k--');"
   ]
  },
  {
   "cell_type": "code",
   "execution_count": null,
   "metadata": {
    "id": "UDbM4wKNkoLM"
   },
   "outputs": [],
   "source": []
  }
 ],
 "metadata": {
  "accelerator": "GPU",
  "colab": {
   "collapsed_sections": [],
   "name": "MLP Approximation",
   "provenance": []
  },
  "kernelspec": {
   "display_name": "Python 3",
   "language": "python",
   "name": "python3"
  },
  "language_info": {
   "codemirror_mode": {
    "name": "ipython",
    "version": 3
   },
   "file_extension": ".py",
   "mimetype": "text/x-python",
   "name": "python",
   "nbconvert_exporter": "python",
   "pygments_lexer": "ipython3",
   "version": "3.7.1"
  }
 },
 "nbformat": 4,
 "nbformat_minor": 1
}
