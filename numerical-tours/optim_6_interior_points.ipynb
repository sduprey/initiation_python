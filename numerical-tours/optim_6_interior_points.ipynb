{
 "cells": [
  {
   "cell_type": "markdown",
   "metadata": {
    "deletable": true,
    "editable": true
   },
   "source": [
    "# Interior Point Methods"
   ]
  },
  {
   "cell_type": "markdown",
   "metadata": {
    "deletable": true,
    "editable": true
   },
   "source": [
    "This tour explores the use of [interior point methods](https://en.wikipedia.org/wiki/Interior-point_method) for constraint minimization under positivity constraints.\n",
    "\n",
    "The definite reference for this Numerical Tour is the book [\"Convex Optimization\"](https://web.stanford.edu/~boyd/cvxbook/) of Boyd and Vandenberghe, which is a must read.\n",
    "\n",
    "$\\newcommand{\\dotp}[2]{\\langle #1, #2 \\rangle}$\n",
    "$\\newcommand{\\enscond}[2]{\\lbrace #1, #2 \\rbrace}$\n",
    "$\\newcommand{\\pd}[2]{ \\frac{ \\partial #1}{\\partial #2} }$\n",
    "$\\newcommand{\\umin}[1]{\\underset{#1}{\\min}\\;}$\n",
    "$\\newcommand{\\umax}[1]{\\underset{#1}{\\max}\\;}$\n",
    "$\\newcommand{\\umin}[1]{\\underset{#1}{\\min}\\;}$\n",
    "$\\newcommand{\\uargmin}[1]{\\underset{#1}{argmin}\\;}$\n",
    "$\\newcommand{\\norm}[1]{\\|#1\\|}$\n",
    "$\\newcommand{\\abs}[1]{\\left|#1\\right|}$\n",
    "$\\newcommand{\\choice}[1]{ \\left\\{  \\begin{array}{l} #1 \\end{array} \\right. }$\n",
    "$\\newcommand{\\pa}[1]{\\left(#1\\right)}$\n",
    "$\\newcommand{\\diag}[1]{{diag}\\left( #1 \\right)}$\n",
    "$\\newcommand{\\qandq}{\\quad\\text{and}\\quad}$\n",
    "$\\newcommand{\\qwhereq}{\\quad\\text{where}\\quad}$\n",
    "$\\newcommand{\\qifq}{ \\quad \\text{if} \\quad }$\n",
    "$\\newcommand{\\qarrq}{ \\quad \\Longrightarrow \\quad }$\n",
    "$\\newcommand{\\ZZ}{\\mathbb{Z}}$\n",
    "$\\newcommand{\\CC}{\\mathbb{C}}$\n",
    "$\\newcommand{\\RR}{\\mathbb{R}}$\n",
    "$\\newcommand{\\EE}{\\mathbb{E}}$\n",
    "$\\newcommand{\\Zz}{\\mathcal{Z}}$\n",
    "$\\newcommand{\\Ww}{\\mathcal{W}}$\n",
    "$\\newcommand{\\Vv}{\\mathcal{V}}$\n",
    "$\\newcommand{\\Nn}{\\mathcal{N}}$\n",
    "$\\newcommand{\\NN}{\\mathcal{N}}$\n",
    "$\\newcommand{\\Hh}{\\mathcal{H}}$\n",
    "$\\newcommand{\\Bb}{\\mathcal{B}}$\n",
    "$\\newcommand{\\Ee}{\\mathcal{E}}$\n",
    "$\\newcommand{\\Cc}{\\mathcal{C}}$\n",
    "$\\newcommand{\\Gg}{\\mathcal{G}}$\n",
    "$\\newcommand{\\Ss}{\\mathcal{S}}$\n",
    "$\\newcommand{\\Pp}{\\mathcal{P}}$\n",
    "$\\newcommand{\\Ff}{\\mathcal{F}}$\n",
    "$\\newcommand{\\Xx}{\\mathcal{X}}$\n",
    "$\\newcommand{\\Mm}{\\mathcal{M}}$\n",
    "$\\newcommand{\\Ii}{\\mathcal{I}}$\n",
    "$\\newcommand{\\Dd}{\\mathcal{D}}$\n",
    "$\\newcommand{\\Ll}{\\mathcal{L}}$\n",
    "$\\newcommand{\\Tt}{\\mathcal{T}}$\n",
    "$\\newcommand{\\si}{\\sigma}$\n",
    "$\\newcommand{\\al}{\\alpha}$\n",
    "$\\newcommand{\\la}{\\lambda}$\n",
    "$\\newcommand{\\ga}{\\gamma}$\n",
    "$\\newcommand{\\Ga}{\\Gamma}$\n",
    "$\\newcommand{\\La}{\\Lambda}$\n",
    "$\\newcommand{\\si}{\\sigma}$\n",
    "$\\newcommand{\\Si}{\\Sigma}$\n",
    "$\\newcommand{\\be}{\\beta}$\n",
    "$\\newcommand{\\de}{\\delta}$\n",
    "$\\newcommand{\\De}{\\Delta}$\n",
    "$\\newcommand{\\phi}{\\varphi}$\n",
    "$\\newcommand{\\th}{\\theta}$\n",
    "$\\newcommand{\\om}{\\omega}$\n",
    "$\\newcommand{\\Om}{\\Omega}$\n",
    "$\\DeclareMathOperator{\\eqdef}{\\overset{\\tiny def}{=}}$"
   ]
  },
  {
   "cell_type": "code",
   "execution_count": 1,
   "metadata": {
    "collapsed": true,
    "deletable": true,
    "editable": true
   },
   "outputs": [],
   "source": [
    "import math as m\n",
    "import numpy as np\n",
    "import matplotlib.pyplot as plt"
   ]
  },
  {
   "cell_type": "markdown",
   "metadata": {
    "deletable": true,
    "editable": true
   },
   "source": [
    "Useful helpers."
   ]
  },
  {
   "cell_type": "code",
   "execution_count": 2,
   "metadata": {
    "collapsed": true,
    "deletable": true,
    "editable": true
   },
   "outputs": [],
   "source": [
    "def dotp(x,y):\n",
    "    return np.sum( x.flatten()*y.flatten() )\n",
    "np.random.seed(123) # to ensure reproductibitily "
   ]
  },
  {
   "cell_type": "markdown",
   "metadata": {
    "deletable": true,
    "editable": true
   },
   "source": [
    "## Problem formulation\n",
    "\n",
    "The goal is to solve problem of the form:\n",
    "$$\n",
    "    (\\mathcal{S}_\\infty) \\qquad \\umin{x\\in \\RR^d, A x \\leq b} f(x)\n",
    "$$\n",
    "for $A \\in \\RR^{m \\times d}$.\n",
    "\n",
    "This can be generalized for instance by replacing $A x$ by a matrix and $\\leq$ by PSD matrix inequalities."
   ]
  },
  {
   "cell_type": "markdown",
   "metadata": {
    "deletable": true,
    "editable": true
   },
   "source": [
    "## Lasso Primal Problem\n",
    "\n",
    "The [Lasso problem](https://en.wikipedia.org/wiki/Lasso_(statistics)) (applied to the regression problem $Bw \\approx y$ for the design matrix $B \\in \\RR^{n \\times p}$)\n",
    "$$\n",
    "\t\t(\\mathcal{P}_\\la) \\qquad \n",
    "        \\umin{w \\in \\RR^p} \\frac{1}{2}\\norm{Bw-y}^2 + \\la \\norm{w}_1\n",
    "$$"
   ]
  },
  {
   "cell_type": "markdown",
   "metadata": {
    "deletable": true,
    "editable": true
   },
   "source": [
    "Set the parameters $(n,p)$ of the Lasso problem and generate a random Gaussian matrix (so that the problem is a [compressed sensing](https://en.wikipedia.org/wiki/Compressed_sensing) problem, with $n<p$)."
   ]
  },
  {
   "cell_type": "code",
   "execution_count": 3,
   "metadata": {
    "collapsed": true,
    "deletable": true,
    "editable": true
   },
   "outputs": [],
   "source": [
    "n = 40\n",
    "p = 60\n",
    "B = np.random.randn(n,p)"
   ]
  },
  {
   "cell_type": "markdown",
   "metadata": {
    "deletable": true,
    "editable": true
   },
   "source": [
    "Generate the observations as $y = B w_0 + N$ where $N$ is a small additive noise and $w_0$ is a sparse vector that we aim at recovering."
   ]
  },
  {
   "cell_type": "code",
   "execution_count": 4,
   "metadata": {
    "collapsed": true,
    "deletable": true,
    "editable": true
   },
   "outputs": [],
   "source": [
    "w0 = np.zeros((p,1)) \n",
    "I = ( np.array([.1, .25, .6, .9])*p ).astype(int)\n",
    "w0[I] = np.array([.8, -.6, .7, -.9])[:,None]\n",
    "N = np.random.randn(n,1)*np.max(np.abs(B@w0))*.02\n",
    "y = (B@w0) + N"
   ]
  },
  {
   "cell_type": "markdown",
   "metadata": {
    "deletable": true,
    "editable": true
   },
   "source": [
    "We set $\\lambda = \\lambda_{\\max}/10$ where $\\lambda_{\\max} \\eqdef \\norm{B^\\top y}_\\infty$ is the parameter for witch the solution of the Lasso is 0."
   ]
  },
  {
   "cell_type": "code",
   "execution_count": 5,
   "metadata": {
    "collapsed": true,
    "deletable": true,
    "editable": true
   },
   "outputs": [],
   "source": [
    "lamda = np.max(np.abs(B.T @ y))/10"
   ]
  },
  {
   "cell_type": "markdown",
   "metadata": {
    "deletable": true,
    "editable": true
   },
   "source": [
    "The Lasso $(\\mathcal{P}_\\la)$ can be re-casted as the generic problem $(\\mathcal{S}_\\infty)$ by introducing the positive/negative decomposition $x=(x_-,x_+) \\in \\RR^{2p}$ (so that $d=2p$)  and $w = x_+ - x_-$ with $(x_+,x_-) \\geq 0$, so that  \n",
    "$$ \n",
    "    f(x) = \\frac{1}{2}\\norm{B(x_+-x_-)-y}^2 + \\la \\dotp{x}{1}\n",
    "$$ \n",
    "and $A=-\\text{Id}_{2p}$, $b=0$ (so that $m=2p$)."
   ]
  },
  {
   "cell_type": "code",
   "execution_count": 6,
   "metadata": {
    "collapsed": true,
    "deletable": true,
    "editable": true
   },
   "outputs": [],
   "source": [
    "m = 2*p\n",
    "d = 2*p\n",
    "A = -np.eye(d)\n",
    "b = np.zeros((d,1))"
   ]
  },
  {
   "cell_type": "markdown",
   "metadata": {
    "deletable": true,
    "editable": true
   },
   "source": [
    "Define the function $f$ and check its correctness."
   ]
  },
  {
   "cell_type": "code",
   "execution_count": 7,
   "metadata": {
    "collapsed": true,
    "deletable": true,
    "editable": true
   },
   "outputs": [],
   "source": [
    "def f(x):\n",
    "    return 1/2*np.linalg.norm( B@(x[0:p]-x[p:]) - y )**2 + lamda*np.sum(x)"
   ]
  },
  {
   "cell_type": "code",
   "execution_count": 8,
   "metadata": {
    "collapsed": false,
    "deletable": true,
    "editable": true
   },
   "outputs": [
    {
     "name": "stdout",
     "output_type": "stream",
     "text": [
      "Should be 0: 0.0\n"
     ]
    }
   ],
   "source": [
    "w = w0\n",
    "x = np.concatenate([np.maximum(w,0),np.maximum(-w,0)])\n",
    "a = 1/2*np.linalg.norm(B@w-y)**2 + lamda*np.linalg.norm(w,1)\n",
    "print('Should be 0: ' + str(a - f(x))) "
   ]
  },
  {
   "cell_type": "markdown",
   "metadata": {
    "deletable": true,
    "editable": true
   },
   "source": [
    "Implements its gradient $\\nabla f(x) = (h,-h) + \\lambda$ where $h \\eqdef B^\\top ( B (x_+-x_-)-y)$."
   ]
  },
  {
   "cell_type": "code",
   "execution_count": 9,
   "metadata": {
    "collapsed": true,
    "deletable": true,
    "editable": true
   },
   "outputs": [],
   "source": [
    "def nablaf(x):\n",
    "    h = B.T@( B@(x[0:p]-x[p:]) - y )\n",
    "    return np.concatenate([h,-h]) + lamda"
   ]
  },
  {
   "cell_type": "markdown",
   "metadata": {
    "deletable": true,
    "editable": true
   },
   "source": [
    "Check its correctness using finite differences\n",
    "$$\n",
    "    \\frac{f(x+\\tau u)-f(x)}{\\tau} \\approx \\dotp{\\nabla f(x)}{u}\n",
    "$$"
   ]
  },
  {
   "cell_type": "code",
   "execution_count": 10,
   "metadata": {
    "collapsed": false,
    "deletable": true,
    "editable": true
   },
   "outputs": [
    {
     "name": "stdout",
     "output_type": "stream",
     "text": [
      "Should be 0: 1.46806858635393e-05\n"
     ]
    }
   ],
   "source": [
    "tau = 1e-7\n",
    "u = np.random.randn(d,1)\n",
    "m2 = (f(x+tau*u)-f(x))/tau\n",
    "m1 = dotp( u, nablaf(x) );\n",
    "print('Should be 0: ' + str( abs(m1-m2)/abs(m1) ) )"
   ]
  },
  {
   "cell_type": "markdown",
   "metadata": {
    "deletable": true,
    "editable": true
   },
   "source": [
    "Implements its hessian \n",
    "$$\n",
    "    \\partial^2 f(x) = \\begin{pmatrix} B^\\top B & -B^\\top B \\\\ -B^\\top B & B^\\top B\\end{pmatrix}.\n",
    "$$"
   ]
  },
  {
   "cell_type": "code",
   "execution_count": 11,
   "metadata": {
    "collapsed": true,
    "deletable": true,
    "editable": true
   },
   "outputs": [],
   "source": [
    "BB = B.T @ B\n",
    "H = np.block([[BB,-BB], [-BB, BB]])\n",
    "def hessianf(x):\n",
    "    return H"
   ]
  },
  {
   "cell_type": "markdown",
   "metadata": {
    "deletable": true,
    "editable": true
   },
   "source": [
    "Check its correctness using finite differences\n",
    "$$\n",
    "    \\frac{\\nabla f(x+\\tau u)-\\nabla f(x)}{\\tau} \\approx \\partial^2 f(x) u\n",
    "$$"
   ]
  },
  {
   "cell_type": "code",
   "execution_count": 12,
   "metadata": {
    "collapsed": false,
    "deletable": true,
    "editable": true
   },
   "outputs": [
    {
     "name": "stdout",
     "output_type": "stream",
     "text": [
      "Should be 0: 1.6742776164296532e-10\n"
     ]
    }
   ],
   "source": [
    "m2 = (nablaf(x+tau*u)-nablaf(x))/tau\n",
    "m1 = hessianf(x)@u;\n",
    "print('Should be 0: ' + str(np.linalg.norm(m1-m2)/np.linalg.norm(m1)) )"
   ]
  },
  {
   "cell_type": "markdown",
   "metadata": {
    "deletable": true,
    "editable": true
   },
   "source": [
    "## Newton method to compute the central path"
   ]
  },
  {
   "cell_type": "markdown",
   "metadata": {
    "deletable": true,
    "editable": true
   },
   "source": [
    "The main idea of interior point methods is to approximate $(\\mathcal{S}_\\infty)$ using a logarithmic [barrier function](https://en.wikipedia.org/wiki/Barrier_function)\n",
    "$$\n",
    "\t(\\mathcal{S}_t) \\qquad \\umin{x\\in \\RR^d, } f_t(x) \\eqdef f(x) - \\frac{1}{t} \\text{Log}( b-A x  )\n",
    "$$\n",
    "where \n",
    "$$\n",
    "\t\\text{Log}(u) \\eqdef \\sum_i \\log(u_i)\n",
    "$$\n",
    "so that -Log is a strictly concave function which acts as a barrier for positivity. \n",
    "On recovers the initial problem $(\\mathcal{S}_\\infty)$ in the limit of $(\\mathcal{S}_t)$ when $t \\rightarrow +\\infty$, i.e. in some sense $f + \\iota_{A \\cdot \\leq y} = f_\\infty$. "
   ]
  },
  {
   "cell_type": "markdown",
   "metadata": {
    "deletable": true,
    "editable": true
   },
   "source": [
    "The fonction $\\log(s)$ should be $-\\infty$ for $s < 0$, this is extremely important for the following."
   ]
  },
  {
   "cell_type": "code",
   "execution_count": 13,
   "metadata": {
    "collapsed": true,
    "deletable": true,
    "editable": true
   },
   "outputs": [],
   "source": [
    "def Log(v):\n",
    "    w = v\n",
    "    w[v<=0] = -np.inf\n",
    "    w[v>0] = np.log(w[v>0])\n",
    "    return np.sum(w)"
   ]
  },
  {
   "cell_type": "markdown",
   "metadata": {
    "deletable": true,
    "editable": true
   },
   "source": [
    "The gradient and hessian of $f_t$ read\n",
    "$$\n",
    "\t\\nabla f_t(x) = \\nabla f(x) + \\frac{1}{t} A^\\top \\frac{1}{y-Ax}\n",
    "\t\\qandq\n",
    "\t\\partial^2 f_t(x) = \\partial^2 f(x) + \\frac{1}{t} A^\\top \\text{diag}\\pa{\\frac{1}{(y-Ax)^2}} A.\n",
    "$$"
   ]
  },
  {
   "cell_type": "code",
   "execution_count": 14,
   "metadata": {
    "collapsed": true,
    "deletable": true,
    "editable": true
   },
   "outputs": [],
   "source": [
    "def ft(x,t):\n",
    "    if t<0:\n",
    "        return f(x)\n",
    "    else:\n",
    "        return f(x) - 1/t * Log(b - A@x)\n",
    "def nablaft(x,t):\n",
    "    return nablaf(x) + 1/t * A.T @ (1/(b - A@x))\n",
    "def hessianft(x,t):\n",
    "    return hessianf(x) + 1/t * A.T @ np.diag( 1/(b-(A@x))[:,0]**2 ) @ A"
   ]
  },
  {
   "cell_type": "code",
   "execution_count": 15,
   "metadata": {
    "collapsed": false,
    "deletable": true,
    "editable": true
   },
   "outputs": [
    {
     "name": "stdout",
     "output_type": "stream",
     "text": [
      "Should be 0: 6.905096885932568e-07\n",
      "Should be 0: 2.9706266473930562e-09\n"
     ]
    }
   ],
   "source": [
    "t = 10\n",
    "x = .5 + np.random.rand(d,1)\n",
    "u = .5*np.random.randn(d,1)\n",
    "m2 = (ft(x+tau*u,t)-ft(x,t))/tau\n",
    "m1 = dotp( u, nablaft(x,t) );\n",
    "print('Should be 0: ' + str(abs(m1-m2)/abs(m1)) )\n",
    "m2 = (nablaft(x+tau*u,t)-nablaft(x,t))/tau\n",
    "m1 = hessianft(x,t)@u;\n",
    "print('Should be 0: ' + str(np.linalg.norm(m1-m2)/np.linalg.norm(m1)) )"
   ]
  },
  {
   "cell_type": "markdown",
   "metadata": {
    "deletable": true,
    "editable": true
   },
   "source": [
    "Initialize the algorithm using a feasible point, i.e. here $x>0$."
   ]
  },
  {
   "cell_type": "code",
   "execution_count": 16,
   "metadata": {
    "collapsed": true,
    "deletable": true,
    "editable": true
   },
   "outputs": [],
   "source": [
    "x = .01*np.ones((d,1))"
   ]
  },
  {
   "cell_type": "markdown",
   "metadata": {
    "deletable": true,
    "editable": true
   },
   "source": [
    "For a fixed $t$, one can solve $(\\mathcal{S}_t)$ using [Newton method](https://en.wikipedia.org/wiki/Newton%27s_method) with some [line search](https://en.wikipedia.org/wiki/Line_search) procedure to select the step size $0<\\tau_\\ell\\leq 1$\n",
    "$$\n",
    "\t(N) \\qquad  x_{k+1} \\eqdef x_k + \\tau_\\ell d_k \n",
    "    \\quad\\text{where}\\quad\n",
    "    d_k \\eqdef -[ \\partial^2 f_t(x_k)]^{-1} \\nabla f_t(x_k)\n",
    "$$\n"
   ]
  },
  {
   "cell_type": "code",
   "execution_count": 17,
   "metadata": {
    "collapsed": true,
    "deletable": true,
    "editable": true
   },
   "outputs": [],
   "source": [
    "dk = - np.linalg.solve(hessianft(x,t),nablaft(x,t))"
   ]
  },
  {
   "cell_type": "markdown",
   "metadata": {
    "deletable": true,
    "editable": true
   },
   "source": [
    "The use of a backtracking is extremely important in our case to ensure that the iterate stays within the constraints."
   ]
  },
  {
   "cell_type": "markdown",
   "metadata": {
    "deletable": true,
    "editable": true
   },
   "source": [
    "The simplest linesearch rule is [Armijo](https://en.wikipedia.org/wiki/Backtracking_line_search), which imposes that, for some $0 < \\al < 1/2$ one has\n",
    "$$\n",
    "    \\text{(AC)}\\qquad\n",
    "    \\phi_k(\\tau_k) \\eqdef f(x_k + \\tau_k d_k )\n",
    "    <\n",
    "    \\psi_k(\\tau_k) \\eqdef f(x_k) + \\alpha \\tau \\dotp{d_k}{\\nabla f(x_k)}. \n",
    "$$"
   ]
  },
  {
   "cell_type": "code",
   "execution_count": 18,
   "metadata": {
    "collapsed": false,
    "deletable": true,
    "editable": true
   },
   "outputs": [
    {
     "data": {
      "image/png": "[encoded data removed]",
      "text/plain": [
       "<Figure size 432x288 with 1 Axes>"
      ]
     },
     "metadata": {
      "needs_background": "light"
     },
     "output_type": "display_data"
    }
   ],
   "source": [
    "alpha = .3\n",
    "def phik(tau):\n",
    "    return ft(x+tau*dk,t)\n",
    "def psik(tau):\n",
    "    return ft(x,t) + tau*alpha*dotp(dk,nablaft(x,t))\n",
    "phik = np.vectorize(phik)\n",
    "psik = np.vectorize(psik)\n",
    "tau = np.linspace(0,1,1000)\n",
    "plt.plot(tau, phik(tau), 'b', label='$\\phi_k$')\n",
    "plt.plot(tau, psik(tau), 'r', label='$\\psi_k$')\n",
    "plt.legend();"
   ]
  },
  {
   "cell_type": "markdown",
   "metadata": {
    "deletable": true,
    "editable": true
   },
   "source": [
    "A backtracking method then selects the step size by initializing $\\tau_k=1$, and following a geometric decay by a factor $0<\\be<1$ until Armijo conditon (AC) is satisfies. "
   ]
  },
  {
   "cell_type": "code",
   "execution_count": 19,
   "metadata": {
    "collapsed": true,
    "deletable": true,
    "editable": true
   },
   "outputs": [],
   "source": [
    "beta = 0.7\n",
    "tauk = 1\n",
    "while ft(x+tauk*dk,t)>ft(x,t)+alpha*tauk*dotp(nablaft(x,t),dk):\n",
    "    tauk = beta*tauk"
   ]
  },
  {
   "cell_type": "markdown",
   "metadata": {
    "deletable": true,
    "editable": true
   },
   "source": [
    "Once the step size is selected, perform the descent step $x_{k+1} \\eqdef x_k+\\tau_k d_k$."
   ]
  },
  {
   "cell_type": "code",
   "execution_count": 20,
   "metadata": {
    "collapsed": true,
    "deletable": true,
    "editable": true
   },
   "outputs": [],
   "source": [
    "x = x + tauk*dk"
   ]
  },
  {
   "cell_type": "markdown",
   "metadata": {
    "deletable": true,
    "editable": true
   },
   "source": [
    "Now we implement the full Newton method by putting all these steps together. We also record the number of backtracking steps at each iterations."
   ]
  },
  {
   "cell_type": "code",
   "execution_count": 21,
   "metadata": {
    "collapsed": true,
    "deletable": true,
    "editable": true
   },
   "outputs": [],
   "source": [
    "def newton(ft,nablaft,hessianft,x,t,epsilon):\n",
    "    ftlist = np.array([])\n",
    "    flist = np.array([])\n",
    "    backtrack = np.array([])\n",
    "    while True:\n",
    "        ftlist = np.append(ftlist, ft(x,t))\n",
    "        flist = np.append(flist, ft(x,-1))\n",
    "        dk = -np.linalg.solve(hessianft(x,t),nablaft(x,t))\n",
    "        deltak = -dotp(nablaft(x,t),dk)\n",
    "        if deltak<epsilon:\n",
    "            break\n",
    "        tauk = 1\n",
    "        it = 0\n",
    "        while ft(x+tauk*dk,t)>ft(x,t) - alpha*tauk*deltak:\n",
    "            it = it+1\n",
    "            tauk = beta*tauk\n",
    "        backtrack = np.append(backtrack, it)\n",
    "        x = x+tauk*dk\n",
    "    return x, ftlist, backtrack, flist"
   ]
  },
  {
   "cell_type": "markdown",
   "metadata": {
    "deletable": true,
    "editable": true
   },
   "source": [
    "Display in log scale the decay of the error and the numbr of backtracking step. When the number of such steps reaches 0, Newton's algortihm enter a quadratically convergence rate regime."
   ]
  },
  {
   "cell_type": "code",
   "execution_count": 22,
   "metadata": {
    "collapsed": false,
    "deletable": true,
    "editable": true
   },
   "outputs": [
    {
     "data": {
      "image/png": "[encoded data removed]",
      "text/plain": [
       "<Figure size 432x288 with 2 Axes>"
      ]
     },
     "metadata": {
      "needs_background": "light"
     },
     "output_type": "display_data"
    }
   ],
   "source": [
    "epsilon = 1e-6\n",
    "t = 100\n",
    "x = np.ones((d,1))\n",
    "x, ftlist, backtrack, flist = newton(ft,nablaft,hessianft,x,t,epsilon)\n",
    "plt.subplot(2, 1, 1)\n",
    "plt.plot(ftlist, 'b', label='$f_t(x_k)$')\n",
    "plt.legend()\n",
    "plt.subplot(2, 1, 2)\n",
    "plt.plot(backtrack, 'r', label='#backtrack');\n",
    "plt.legend();"
   ]
  },
  {
   "cell_type": "markdown",
   "metadata": {
    "deletable": true,
    "editable": true
   },
   "source": [
    "Display the solution $(x_+,x_-)$ computed, supperposed over the groud trust to recover $w_0$."
   ]
  },
  {
   "cell_type": "code",
   "execution_count": 23,
   "metadata": {
    "collapsed": false,
    "deletable": true,
    "editable": true
   },
   "outputs": [
    {
     "data": {
      "image/png": "[encoded data removed]",
      "text/plain": [
       "<Figure size 432x288 with 1 Axes>"
      ]
     },
     "metadata": {
      "needs_background": "light"
     },
     "output_type": "display_data"
    }
   ],
   "source": [
    "plt.stem( w0, linefmt='--k', markerfmt='ko', label='$w_0$' )\n",
    "plt.stem( x[0:p], linefmt='-r', markerfmt='ro', label='$x_+$' )\n",
    "plt.stem( -x[p:], linefmt='-b', markerfmt='bo', label='$-x_-$' )\n",
    "plt.legend();"
   ]
  },
  {
   "cell_type": "markdown",
   "metadata": {
    "deletable": true,
    "editable": true
   },
   "source": [
    "Display the evolution with $t$ of the solution computed."
   ]
  },
  {
   "cell_type": "code",
   "execution_count": 24,
   "metadata": {
    "collapsed": false,
    "deletable": true,
    "editable": true
   },
   "outputs": [
    {
     "data": {
      "image/png": "[encoded data removed]",
      "text/plain": [
       "<Figure size 432x288 with 4 Axes>"
      ]
     },
     "metadata": {
      "needs_background": "light"
     },
     "output_type": "display_data"
    }
   ],
   "source": [
    "tlist = np.array([1, 10, 100, 1000])\n",
    "for it in range(0,4):\n",
    "    x, ftlist, backtrack, flist = newton(ft,nablaft,hessianft,x,tlist[it],epsilon)\n",
    "    plt.subplot(2,2,it+1)\n",
    "    plt.stem( w0, linefmt='--k', markerfmt='ko' )\n",
    "    plt.stem( x[0:p], linefmt='-r', markerfmt='ro' )\n",
    "    plt.stem( -x[p:], linefmt='-b', markerfmt='bo' )"
   ]
  },
  {
   "cell_type": "markdown",
   "metadata": {
    "deletable": true,
    "editable": true
   },
   "source": [
    "Note that on this example, the primal solution $w^\\star$ is supported on the same locations as the ground trust $w_0$ to recover. This indicates that $\\ell^1$ regularization has succeeded in almost exactly (up to the impact of the noise) recover the unknown ground trust vector $w_0$, with the exact correct non zero locations. This is guaranteed by the theory of compressed sensing, which ensure exact recovery if $n = O(s \\log(p/s))$ where $s$ is the number of non zero entries in $w_0$ (here $s=4$)."
   ]
  },
  {
   "cell_type": "markdown",
   "metadata": {
    "deletable": true,
    "editable": true
   },
   "source": [
    "The interior point method\n",
    "======\n",
    "\n",
    "The [interior point method](https://en.wikipedia.org/wiki/Interior-point_method) proceeds by $f_t$ using (N) (defining an approximated \"central\" path $t \\mapsto x(t)$) for a series of increasing step sizes $t \\eqdef t_\\ell=\\mu^\\ell t_0$ for some $\\mu > 1$. The crucial point here is to use a \"warm restart\" strategy: in order to solve for $x(t_{\\ell})$, one should initialize the Newton steps (N) using $x(t_{\\ell-1})$. This is what makes interior point methods efficient.  Thanks to the use of a logarithmic barrier, one can show the upper bound $f(x(t_\\ell))-f(x^\\star) \\leq m/t_\\ell$ ($m$ being the number of scalar constraints), so that in order to a final error of $\\epsilon$, one needs to use $\\ell=0, \\ldots, L$ such that \n",
    "$$\n",
    "\t\\frac{m}{t_{L}} = \\frac{m}{t_0 \\mu^{L}} \\leq \\epsilon.\n",
    "$$\n",
    "This shows that only $O(|\\log(\\epsilon)|)$ steps are necessary to reach $\\epsilon$ precision."
   ]
  },
  {
   "cell_type": "markdown",
   "metadata": {
    "deletable": true,
    "editable": true
   },
   "source": [
    "Implement the method, and store the values of $f(x_{k,\\ell})$ during all the Newton steps $k$ for $t=t_\\ell$. "
   ]
  },
  {
   "cell_type": "code",
   "execution_count": 25,
   "metadata": {
    "collapsed": true,
    "deletable": true,
    "editable": true
   },
   "outputs": [],
   "source": [
    "mu = 50\n",
    "t = 1 \n",
    "x = np.ones((d,1))\n",
    "Flist = np.array([])\n",
    "while m/t >= epsilon:\n",
    "    x, ftlist, backtrack, flist = newton(ft,nablaft,hessianft,x,t,epsilon)\n",
    "    Flist = np.append(Flist, flist)\n",
    "    t = mu*t"
   ]
  },
  {
   "cell_type": "markdown",
   "metadata": {
    "deletable": true,
    "editable": true
   },
   "source": [
    "Display the evolution of $f(x_{k,\\ell})-f(x^\\star)$ in logarithmic scale. This highlights the different steps of the algorithm (and migh even be non-decreasing), where the energy starts decaying and then stagnates, until $t=t_k$ is changed to $t=t_{k+1}$"
   ]
  },
  {
   "cell_type": "code",
   "execution_count": 26,
   "metadata": {
    "collapsed": false,
    "deletable": true,
    "editable": true
   },
   "outputs": [
    {
     "data": {
      "image/png": "[encoded data removed]",
      "text/plain": [
       "<Figure size 432x288 with 1 Axes>"
      ]
     },
     "metadata": {
      "needs_background": "light"
     },
     "output_type": "display_data"
    }
   ],
   "source": [
    "plt.plot( np.log10(Flist[0:-1]-np.min(Flist)), label='$f(x_{k,\\ell})-f(x^\\star)$' )\n",
    "plt.legend();"
   ]
  },
  {
   "cell_type": "markdown",
   "metadata": {
    "deletable": true,
    "editable": true
   },
   "source": [
    "To bound the running time of the IP method, the important question to bound the complexity of the method is thus to bound the number of Newton steps (N). This requires additional hypotheses on $f$. If the function $f$ has a so-called self-concordance property, namely that for any $(x,y)$, $\\phi(s) \\eqdef f(s x + (1-s)y)$ satisfies\n",
    "$$\n",
    "\t|\\phi'''(s)| \\leq 2 \\phi''(s)^{3/2}, \n",
    "$$\n",
    "one can then that only a constant number of Newton steps are required per iterations (note that $-\\log$ being self-concordant, and quadratic function are self concordant, $f_t$ is itself self-concordant) when using the warm-restart initialization to computes the succession of $x(t_\\ell)$. \n",
    "This result might look surprising, but is possible because of the combination of the warm restart strategy with the self-concordance property of $f_t$: although problems become more and more difficult ($f_t$ is becoming less regular) as $t$ increases, the number of iterations of Newton stays constant.\n",
    "This fundamental result supports the claim that interior point methods solve linear programs (and more general types of problems including SDP problems) in polynomial time (where polynomial refers to polynomial in $\\log(\\epsilon)$)."
   ]
  },
  {
   "cell_type": "markdown",
   "metadata": {
    "deletable": true,
    "editable": true
   },
   "source": [
    "We want to display the influence of $\\mu$ on the decay of the energy. For this we first compute an accurate appoximation of $f(x^\\star)$ using a small $\\epsilon$."
   ]
  },
  {
   "cell_type": "code",
   "execution_count": 27,
   "metadata": {
    "collapsed": true,
    "deletable": true,
    "editable": true
   },
   "outputs": [],
   "source": [
    "mu = 200\n",
    "t = 1 \n",
    "x = np.ones((d,1))\n",
    "Flist = np.array([])\n",
    "while m/t >= epsilon/100:\n",
    "    x, ftlist, backtrack, flist = newton(ft,nablaft,hessianft,x,t,epsilon/100)\n",
    "    t = mu*t\n",
    "fmin = np.min(flist)"
   ]
  },
  {
   "cell_type": "markdown",
   "metadata": {
    "deletable": true,
    "editable": true
   },
   "source": [
    "Display the influence of $\\mu$. One can see that unless one used very small or very large $\\mu$, all the runs are in the same ballpark, and one observe approximately a linear rate of convergence, with a constant number of inner Newton steps (index $k$) per interior point step (index $\\ell$)."
   ]
  },
  {
   "cell_type": "code",
   "execution_count": 28,
   "metadata": {
    "collapsed": false,
    "deletable": true,
    "editable": true
   },
   "outputs": [
    {
     "data": {
      "image/png": "[encoded data removed]",
      "text/plain": [
       "<Figure size 432x288 with 1 Axes>"
      ]
     },
     "metadata": {
      "needs_background": "light"
     },
     "output_type": "display_data"
    }
   ],
   "source": [
    "mulist = np.array([4, 10, 50, 100, 500, 1000, 5000])\n",
    "for it in range(0,len(mulist)):\n",
    "    mu = mulist[it]\n",
    "    t = 1 \n",
    "    x = np.ones((d,1))\n",
    "    Flist = np.array([])\n",
    "    while m/t >= epsilon:\n",
    "        x, ftlist, backtrack, flist = newton(ft,nablaft,hessianft,x,t,epsilon)\n",
    "        Flist = np.append(Flist, flist)\n",
    "        t = mu*t\n",
    "    s = it/(len(mulist)-1)\n",
    "    plt.plot( np.log10(Flist[0:-1]-fmin), color=(s,0,1-s), label='$\\mu=' + str(mu) +'$' )\n",
    "plt.legend();"
   ]
  },
  {
   "cell_type": "markdown",
   "metadata": {
    "deletable": true,
    "editable": true
   },
   "source": [
    "Interior Point Method for the Dual of the Lasso\n",
    "=====\n",
    "\n",
    "The dual of the Lasso $(\\mathcal{P}_\\la)$ (written for simplicity as a convex minimization instead of a concave maximization) reads\n",
    "$$\n",
    "\t\t(\\mathcal{D}_\\la) \\qquad\n",
    "        \\umin{\\norm{B^\\top q}_\\infty \\leq 1} f(q) = \\frac{\\la}{2}\\norm{q}^2 - \\dotp{q}{y}.\n",
    "$$\n",
    "It has the form $(\\mathcal{S}_\\infty)$ when setting $A=\\begin{pmatrix} B^\\top \\\\-B^\\top \\end{pmatrix}$ and $b = 1_{2p}$ (so that $d=n$ and $m=2p$)."
   ]
  },
  {
   "cell_type": "code",
   "execution_count": 29,
   "metadata": {
    "collapsed": true,
    "deletable": true,
    "editable": true
   },
   "outputs": [],
   "source": [
    "m1 = 2*p\n",
    "d1 = n\n",
    "A = np.concatenate((B.T,-B.T), axis=0)\n",
    "b = np.ones((m1,1))"
   ]
  },
  {
   "cell_type": "markdown",
   "metadata": {
    "deletable": true,
    "editable": true
   },
   "source": [
    "Implement $f$ and its derivative."
   ]
  },
  {
   "cell_type": "code",
   "execution_count": 30,
   "metadata": {
    "collapsed": true,
    "deletable": true,
    "editable": true
   },
   "outputs": [],
   "source": [
    "def f1(q):\n",
    "    return lamda/2*np.linalg.norm(q)**2 - dotp(q,y)\n",
    "def nablaf1(q):\n",
    "    return lamda*q - y\n",
    "def hessianf1(q):\n",
    "    return lamda*np.eye(n)"
   ]
  },
  {
   "cell_type": "markdown",
   "metadata": {
    "deletable": true,
    "editable": true
   },
   "source": [
    "Re-define the function $f_t$ and its derivatives."
   ]
  },
  {
   "cell_type": "code",
   "execution_count": 31,
   "metadata": {
    "collapsed": true,
    "deletable": true,
    "editable": true
   },
   "outputs": [],
   "source": [
    "def f1t(q,t):\n",
    "    if t<0:\n",
    "        return f1(q)\n",
    "    else:\n",
    "        return f1(q) - 1/t * Log(b - A@q)    \n",
    "def nablaf1t(q,t):\n",
    "    return nablaf1(q) + 1/t * A.T @ (1/(b - A@q))\n",
    "def hessianf1t(q,t):\n",
    "    return hessianf1(q) + 1/t * A.T @ np.diag( 1/(b-(A@q))[:,0]**2 ) @ A"
   ]
  },
  {
   "cell_type": "markdown",
   "metadata": {
    "deletable": true,
    "editable": true
   },
   "source": [
    "Run Newton with the logarithmic barrier on the dual problem $(\\mathcal{D}_\\la)$.\n",
    "A feasible initialization is simply $q=0$."
   ]
  },
  {
   "cell_type": "code",
   "execution_count": 32,
   "metadata": {
    "collapsed": false,
    "deletable": true,
    "editable": true
   },
   "outputs": [
    {
     "data": {
      "image/png": "[encoded data removed]",
      "text/plain": [
       "<Figure size 432x288 with 2 Axes>"
      ]
     },
     "metadata": {
      "needs_background": "light"
     },
     "output_type": "display_data"
    }
   ],
   "source": [
    "t = 100\n",
    "q, ftlist, backtrack, flist = newton(f1t,nablaf1t,hessianf1t,np.zeros((d1,1)),t,epsilon)\n",
    "plt.subplot(2, 1, 1)\n",
    "plt.plot(flist, 'b', label='$f_t(x_k)$')\n",
    "plt.legend()\n",
    "plt.subplot(2, 1, 2)\n",
    "plt.plot(backtrack, 'r', label='#backtrack');\n",
    "plt.legend();"
   ]
  },
  {
   "cell_type": "markdown",
   "metadata": {
    "deletable": true,
    "editable": true
   },
   "source": [
    "Display how much the dual solution is strictly inside the constraints."
   ]
  },
  {
   "cell_type": "code",
   "execution_count": 33,
   "metadata": {
    "collapsed": false,
    "deletable": true,
    "editable": true
   },
   "outputs": [
    {
     "data": {
      "image/png": "[encoded data removed]",
      "text/plain": [
       "<Figure size 432x288 with 1 Axes>"
      ]
     },
     "metadata": {
      "needs_background": "light"
     },
     "output_type": "display_data"
    }
   ],
   "source": [
    "eta = B.T @ q\n",
    "plt.stem( eta, linefmt='-r', markerfmt='ro', label='$B^T x$' )  \n",
    "plt.plot( eta*0+1, 'k--' )    \n",
    "plt.plot( eta*0-1, 'k--' ) \n",
    "plt.stem( w0, linefmt='--k', markerfmt='ko', label='$w_0$' ) \n",
    "plt.legend();"
   ]
  },
  {
   "cell_type": "markdown",
   "metadata": {
    "deletable": true,
    "editable": true
   },
   "source": [
    "The primal-dual relation between optimal primal/dual solutions $(w^\\star,x^\\star)$ (note that $q^\\star$ is unique because the dual problem is srongly convex) reads\n",
    "$$\n",
    "       q^\\star = \\frac{y-B w^\\star}{\\la}\n",
    "       \\qandq\n",
    "       \\{ i : w^\\star_i \\neq 0 \\} \\subset \n",
    "       \\{ i : |(B^\\top q^\\star)_i| = 1\\}\n",
    "$$\n",
    "which explains why in the above plot the points where $B^\\top q$ approximatively saturates the constraints match the locations of the diracs in $w_0$ (since in this case, the primal solution $w^\\star$ is supported on the same locations as the ground trust $w_0$ to recover). "
   ]
  },
  {
   "cell_type": "markdown",
   "metadata": {
    "deletable": true,
    "editable": true
   },
   "source": [
    "It is now possible to also implement the interior point method using Newton on the dual functional. The conclusion are the same as on the primal problem regarding the impact of $\\mu$."
   ]
  },
  {
   "cell_type": "code",
   "execution_count": 34,
   "metadata": {
    "collapsed": false,
    "deletable": true,
    "editable": true
   },
   "outputs": [
    {
     "data": {
      "image/png": "[encoded data removed]",
      "text/plain": [
       "<Figure size 432x288 with 1 Axes>"
      ]
     },
     "metadata": {
      "needs_background": "light"
     },
     "output_type": "display_data"
    }
   ],
   "source": [
    "mu = 200\n",
    "t = 1 \n",
    "q = np.zeros((d1,1))\n",
    "while m1/t >= epsilon/100:\n",
    "    q, ftlist, backtrack, flist = newton(f1t,nablaf1t,hessianf1t,q,t,epsilon/100)\n",
    "    t = mu*t\n",
    "fmin = np.min(flist)\n",
    "mulist = np.array([4, 10, 50, 100, 500, 1000, 5000])\n",
    "for it in range(0,len(mulist)):\n",
    "    mu = mulist[it]\n",
    "    t = 1 \n",
    "    q = np.zeros((d1,1))\n",
    "    Flist = np.array([])\n",
    "    while m/t >= epsilon:\n",
    "        q, ftlist, backtrack, flist = newton(f1t,nablaf1t,hessianf1t,q,t,epsilon)\n",
    "        Flist = np.append(Flist, flist)\n",
    "        t = mu*t\n",
    "    s = it/(len(mulist)-1)\n",
    "    plt.plot( np.log10(Flist[0:-1]-fmin), color=(s,0,1-s), label='$\\mu=' + str(mu) +'$' )\n",
    "plt.legend();"
   ]
  },
  {
   "cell_type": "markdown",
   "metadata": {
    "deletable": true,
    "editable": true
   },
   "source": [
    "<script>\n",
    "  $(document).ready(function(){\n",
    "      $('div.prompt').hide();\n",
    "  });\n",
    "</script>"
   ]
  }
 ],
 "metadata": {
  "kernelspec": {
   "display_name": "Python 3",
   "language": "python",
   "name": "python3"
  },
  "language_info": {
   "codemirror_mode": {
    "name": "ipython",
    "version": 3
   },
   "file_extension": ".py",
   "mimetype": "text/x-python",
   "name": "python",
   "nbconvert_exporter": "python",
   "pygments_lexer": "ipython3",
   "version": "3.4.5"
  }
 },
 "nbformat": 4,
 "nbformat_minor": 2
}
