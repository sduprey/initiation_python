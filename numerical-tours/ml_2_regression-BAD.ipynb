{
 "cells": [
  {
   "cell_type": "markdown",
   "metadata": {
    "deletable": true,
    "editable": true
   },
   "source": [
    "Linear Regression\n",
    "====================================\n",
    "\n",
    "*Important:* Please read the [installation page](http://gpeyre.github.io/numerical-tours/installation_python/) for details about how to install the toolboxes.\n",
    "$\\newcommand{\\dotp}[2]{\\langle #1, #2 \\rangle}$\n",
    "$\\newcommand{\\enscond}[2]{\\lbrace #1, #2 \\rbrace}$\n",
    "$\\newcommand{\\pd}[2]{ \\frac{ \\partial #1}{\\partial #2} }$\n",
    "$\\newcommand{\\umin}[1]{\\underset{#1}{\\min}\\;}$\n",
    "$\\newcommand{\\umax}[1]{\\underset{#1}{\\max}\\;}$\n",
    "$\\newcommand{\\umin}[1]{\\underset{#1}{\\min}\\;}$\n",
    "$\\newcommand{\\uargmin}[1]{\\underset{#1}{argmin}\\;}$\n",
    "$\\newcommand{\\norm}[1]{\\|#1\\|}$\n",
    "$\\newcommand{\\abs}[1]{\\left|#1\\right|}$\n",
    "$\\newcommand{\\choice}[1]{ \\left\\{  \\begin{array}{l} #1 \\end{array} \\right. }$\n",
    "$\\newcommand{\\pa}[1]{\\left(#1\\right)}$\n",
    "$\\newcommand{\\diag}[1]{{diag}\\left( #1 \\right)}$\n",
    "$\\newcommand{\\qandq}{\\quad\\text{and}\\quad}$\n",
    "$\\newcommand{\\qwhereq}{\\quad\\text{where}\\quad}$\n",
    "$\\newcommand{\\qifq}{ \\quad \\text{if} \\quad }$\n",
    "$\\newcommand{\\qarrq}{ \\quad \\Longrightarrow \\quad }$\n",
    "$\\newcommand{\\ZZ}{\\mathbb{Z}}$\n",
    "$\\newcommand{\\CC}{\\mathbb{C}}$\n",
    "$\\newcommand{\\RR}{\\mathbb{R}}$\n",
    "$\\newcommand{\\EE}{\\mathbb{E}}$\n",
    "$\\newcommand{\\Zz}{\\mathcal{Z}}$\n",
    "$\\newcommand{\\Ww}{\\mathcal{W}}$\n",
    "$\\newcommand{\\Vv}{\\mathcal{V}}$\n",
    "$\\newcommand{\\Nn}{\\mathcal{N}}$\n",
    "$\\newcommand{\\NN}{\\mathcal{N}}$\n",
    "$\\newcommand{\\Hh}{\\mathcal{H}}$\n",
    "$\\newcommand{\\Bb}{\\mathcal{B}}$\n",
    "$\\newcommand{\\Ee}{\\mathcal{E}}$\n",
    "$\\newcommand{\\Cc}{\\mathcal{C}}$\n",
    "$\\newcommand{\\Gg}{\\mathcal{G}}$\n",
    "$\\newcommand{\\Ss}{\\mathcal{S}}$\n",
    "$\\newcommand{\\Pp}{\\mathcal{P}}$\n",
    "$\\newcommand{\\Ff}{\\mathcal{F}}$\n",
    "$\\newcommand{\\Xx}{\\mathcal{X}}$\n",
    "$\\newcommand{\\Mm}{\\mathcal{M}}$\n",
    "$\\newcommand{\\Ii}{\\mathcal{I}}$\n",
    "$\\newcommand{\\Dd}{\\mathcal{D}}$\n",
    "$\\newcommand{\\Ll}{\\mathcal{L}}$\n",
    "$\\newcommand{\\Tt}{\\mathcal{T}}$\n",
    "$\\newcommand{\\si}{\\sigma}$\n",
    "$\\newcommand{\\al}{\\alpha}$\n",
    "$\\newcommand{\\la}{\\lambda}$\n",
    "$\\newcommand{\\ga}{\\gamma}$\n",
    "$\\newcommand{\\Ga}{\\Gamma}$\n",
    "$\\newcommand{\\La}{\\Lambda}$\n",
    "$\\newcommand{\\si}{\\sigma}$\n",
    "$\\newcommand{\\Si}{\\Sigma}$\n",
    "$\\newcommand{\\be}{\\beta}$\n",
    "$\\newcommand{\\de}{\\delta}$\n",
    "$\\newcommand{\\De}{\\Delta}$\n",
    "$\\newcommand{\\phi}{\\varphi}$\n",
    "$\\newcommand{\\th}{\\theta}$\n",
    "$\\newcommand{\\om}{\\omega}$\n",
    "$\\newcommand{\\Om}{\\Omega}$\n",
    "$\\newcommand{\\eqdef}{\\equiv}$"
   ]
  },
  {
   "cell_type": "markdown",
   "metadata": {
    "deletable": true,
    "editable": true
   },
   "source": [
    "This tour studies linear regression method in conjunction with\n",
    "regularization.\n",
    "It contrasts ridge regression and the Lasso."
   ]
  },
  {
   "cell_type": "markdown",
   "metadata": {
    "deletable": true,
    "editable": true
   },
   "source": [
    "We recommend that after doing this Numerical Tours, you apply it to your\n",
    "own data, for instance using a dataset from <https://www.csie.ntu.edu.tw/~cjlin/libsvmtools/datasets/ LibSVM>.\n",
    "\n",
    "_Disclaimer:_ these machine learning tours are intended to be\n",
    "overly-simplistic implementations and applications of baseline machine learning methods.\n",
    "For more advanced uses and implementations, we recommend\n",
    "to use a state-of-the-art library, the most well known being\n",
    "<http://scikit-learn.org/ Scikit-Learn>"
   ]
  },
  {
   "cell_type": "code",
   "execution_count": 1,
   "metadata": {
    "collapsed": false,
    "deletable": true,
    "editable": true
   },
   "outputs": [],
   "source": [
    "%matplotlib inline\n",
    "import numpy as np\n",
    "import matplotlib.pyplot as plt\n",
    "%load_ext autoreload\n",
    "%autoreload 2"
   ]
  },
  {
   "cell_type": "markdown",
   "metadata": {
    "deletable": true,
    "editable": true
   },
   "source": [
    "Usefull functions to convert to a column/row vectors."
   ]
  },
  {
   "cell_type": "code",
   "execution_count": 2,
   "metadata": {
    "collapsed": false,
    "deletable": true,
    "editable": true
   },
   "outputs": [],
   "source": [
    "#  convert to a column vector\n",
    "def MakeCol(y): return y.reshape(-1,1)\n",
    "#  convert to a row vector\n",
    "def MakeRow(y): return y.reshape(1,-1)\n",
    "# find non zero/true elements\n",
    "def find(x): return np.nonzero(x)[0]"
   ]
  },
  {
   "cell_type": "markdown",
   "metadata": {
    "deletable": true,
    "editable": true
   },
   "source": [
    "Dataset Loading\n",
    "---------------\n",
    "We test the method on the prostate dataset in $n=97$ samples with\n",
    "features $x_i \\in \\RR^p$ in dimension $p=8$. The goal is to predict the price value\n",
    "$y_i \\in \\RR$."
   ]
  },
  {
   "cell_type": "markdown",
   "metadata": {
    "deletable": true,
    "editable": true
   },
   "source": [
    "Load the dataset."
   ]
  },
  {
   "cell_type": "code",
<<<<<<< HEAD
   "execution_count": 5,
   "metadata": {
    "collapsed": false,
    "deletable": true,
    "editable": true
   },
   "outputs": [
    {
     "name": "stdout",
     "output_type": "stream",
     "text": [
      "[[array([u'lcavol'], \n",
      "      dtype='<U6')\n",
      "  array([u'lweight'], \n",
      "      dtype='<U7')\n",
      "  array([u'age'], \n",
      "      dtype='<U3') array([u'lbph'], \n",
      "      dtype='<U4')\n",
      "  array([u'svi'], \n",
      "      dtype='<U3') array([u'lcp'], \n",
      "      dtype='<U3')\n",
      "  array([u'gleason'], \n",
      "      dtype='<U7')\n",
      "  array([u'pgg45'], \n",
      "      dtype='<U5')\n",
      "  array([u'lpsa'], \n",
      "      dtype='<U4')\n",
      "  array([u'train'], \n",
      "      dtype='<U5')\n",
      "  array([u'istest'], \n",
      "      dtype='<U6')]]\n"
     ]
    }
   ],
   "source": [
    "print(class_names)"
   ]
  },
  {
   "cell_type": "code",
=======
>>>>>>> 72247a68b2decbcd86be4b3fd1c2f72d892387fa
   "execution_count": 6,
   "metadata": {
    "collapsed": false,
    "deletable": true,
    "editable": true
   },
   "outputs": [],
   "source": [
    "from scipy import io\n",
    "name = 'prostate';\n",
    "U = io.loadmat('nt_toolbox/data/ml-' + name)\n",
    "A = U['A']\n",
    "class_names = U['class_names']"
   ]
  },
  {
   "cell_type": "markdown",
   "metadata": {
    "deletable": true,
    "editable": true
   },
   "source": [
    "Randomly permute it."
   ]
  },
  {
   "cell_type": "code",
   "execution_count": 7,
   "metadata": {
    "collapsed": false,
    "deletable": true,
    "editable": true
   },
   "outputs": [],
   "source": [
    "A = A[np.random.permutation(A.shape[0]),:]"
   ]
  },
  {
   "cell_type": "markdown",
   "metadata": {
    "deletable": true,
    "editable": true
   },
   "source": [
    "Separate the features $X$ from the data $y$ to predict information."
   ]
  },
  {
   "cell_type": "code",
   "execution_count": 8,
   "metadata": {
    "collapsed": false,
    "deletable": true,
    "editable": true
   },
   "outputs": [],
   "source": [
    "X = A[:,0:-2];\n",
    "y = MakeCol( A[:,-2] )\n",
    "c = MakeCol( A[:,-1] )"
   ]
  },
  {
   "cell_type": "markdown",
   "metadata": {
    "deletable": true,
    "editable": true
   },
   "source": [
    "$n$ is the number of samples, $p$ is the dimensionality of the features,"
   ]
  },
  {
   "cell_type": "code",
   "execution_count": 9,
   "metadata": {
    "collapsed": false,
    "deletable": true,
    "editable": true
   },
   "outputs": [
    {
     "name": "stdout",
     "output_type": "stream",
     "text": [
      "(97, 8)\n"
     ]
    }
   ],
   "source": [
    "[n,p] = X.shape\n",
    "print(n,p)"
   ]
  },
  {
   "cell_type": "markdown",
   "metadata": {
    "deletable": true,
    "editable": true
   },
   "source": [
    "Split into training and testing."
   ]
  },
  {
   "cell_type": "code",
   "execution_count": 10,
   "metadata": {
    "collapsed": false,
    "deletable": true,
    "editable": true
   },
   "outputs": [],
   "source": [
    "I0 = find(c==1) # train\n",
    "I1 = find(c==0) # test\n",
    "n0 = I0.size\n",
    "n1 = n-n0\n",
    "X0 = X[I0,:]\n",
    "y0 = y[I0]\n",
    "X1 = X[I1,:]\n",
    "y1 = y[I1]"
   ]
  },
  {
   "cell_type": "markdown",
   "metadata": {
    "deletable": true,
    "editable": true
   },
   "source": [
    "Normalize the features by the mean and std of the *training* set.\n",
    "This is optional."
   ]
  },
  {
   "cell_type": "code",
   "execution_count": 11,
   "metadata": {
    "collapsed": false,
    "deletable": true,
    "editable": true
   },
   "outputs": [],
   "source": [
    "mX0 = X0.mean(axis=0)\n",
    "sX0 = X0.std(axis=0)\n",
    "X0 = (X0-mX0)/sX0\n",
    "X1 = (X1-mX0)/sX0"
   ]
  },
  {
   "cell_type": "markdown",
   "metadata": {
    "deletable": true,
    "editable": true
   },
   "source": [
    "Remove the mean (computed from the *test* set) to avoid introducing a bias term and a constant regressor.\n",
    "This is optional."
   ]
  },
  {
   "cell_type": "code",
   "execution_count": 12,
   "metadata": {
    "collapsed": false,
    "deletable": true,
    "editable": true
   },
   "outputs": [],
   "source": [
    "m0 = y0.mean()\n",
    "y0 = y0-m0\n",
    "y1 = y1-m0"
   ]
  },
  {
   "cell_type": "markdown",
   "metadata": {
    "deletable": true,
    "editable": true
   },
   "source": [
    "Dimenionality Reduction and PCA\n",
    "-------------------------------\n",
    "In order to display in 2-D or 3-D the data, dimensionality is needed.\n",
    "The simplest method is the principal component analysis, which perform an\n",
    "orthogonal linear projection on the principal axsis (eigenvector) of the\n",
    "covariance matrix.\n",
    "\n",
    "\n",
    "Display the covariance matrix of the training set."
   ]
  },
  {
   "cell_type": "code",
   "execution_count": 16,
   "metadata": {
    "collapsed": false
   },
   "outputs": [
    {
     "data": {
      "text/plain": [
       "array([ 0.28107063,  0.98875265,  0.13999076, -0.50300267,  1.09258592,\n",
       "        1.14682673,  0.28414784,  2.03320176, -1.42690643,  0.37965154,\n",
       "       -1.4019554 ,  0.33906587,  1.21148426,  0.88880906, -0.17965735,\n",
       "       -0.45575567,  1.18563051,  0.97314651,  1.56736151,  1.27227305,\n",
       "        0.24320332, -1.52082799,  0.13261939, -1.87122084, -0.69413678,\n",
       "        0.20178245, -2.04127153,  0.57626825, -0.22153469, -0.59295089,\n",
       "       -1.47923712,  0.56548558,  0.71747029,  1.08232193,  0.20178245,\n",
       "        1.36686824, -0.69413678, -0.85856191, -1.506726  ,  0.1846029 ,\n",
       "       -0.41838296,  0.08888214, -0.62529655, -0.09695191, -0.68902102,\n",
       "       -2.15730403, -0.9172027 , -0.13467239, -0.03091648,  1.61305928,\n",
       "       -0.03773989,  0.9926077 ,  1.48193054, -0.56184621,  0.44644159,\n",
       "       -1.53517959,  0.1251804 ,  0.57519641, -1.07318635, -0.20452334,\n",
       "        1.05370436, -1.91627934, -0.12444078,  0.79056879, -0.83380138,\n",
       "       -0.649217  ,  1.22986935])"
      ]
     },
     "execution_count": 16,
     "metadata": {},
     "output_type": "execute_result"
    }
   ],
   "source": [
    "X0[:,0]"
   ]
  },
  {
   "cell_type": "code",
   "execution_count": 13,
   "metadata": {
    "collapsed": false,
    "deletable": true,
    "editable": true
   },
   "outputs": [
    {
     "data": {
      "image/png": "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\n",
      "text/plain": [
       "<matplotlib.figure.Figure at 0x114fb3810>"
      ]
     },
     "metadata": {},
     "output_type": "display_data"
    }
   ],
   "source": [
    "C = X0.transpose().dot(X0)\n",
    "plt.imshow(C);"
   ]
  },
  {
   "cell_type": "code",
   "execution_count": 11,
   "metadata": {
    "collapsed": false,
    "deletable": true,
    "editable": true
   },
   "outputs": [
    {
     "data": {
      "image/png": "iVBORw0KGgoAAAANSUhEUgAAAXQAAAD8CAYAAABn919SAAAABHNCSVQICAgIfAhkiAAAAAlwSFlz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\nSUVORK5CYII=\n",
      "text/plain": [
       "<matplotlib.figure.Figure at 0x11b816908>"
      ]
     },
     "metadata": {},
     "output_type": "display_data"
    }
   ],
   "source": [
    "plt.clf\n",
    "plt.bar(np.arange(1,p+1),X0.transpose().dot(y0))\n",
    "plt.axis('tight');"
   ]
  },
  {
   "cell_type": "markdown",
   "metadata": {
    "deletable": true,
    "editable": true
   },
   "source": [
    "Compute PCA ortho-basis and\n",
    "the feature in the PCA basis."
   ]
  },
  {
   "cell_type": "code",
   "execution_count": 19,
   "metadata": {
    "collapsed": false,
    "deletable": true,
    "editable": true
   },
   "outputs": [],
   "source": [
    "U, s, V = np.linalg.svd(X0)\n",
    "X0r = X0.dot( V.transpose() )"
   ]
  },
  {
   "cell_type": "markdown",
   "metadata": {
    "deletable": true,
    "editable": true
   },
   "source": [
    "Plot sqrt of the eigenvalues."
   ]
  },
  {
   "cell_type": "code",
   "execution_count": 20,
   "metadata": {
    "collapsed": false,
    "deletable": true,
    "editable": true
   },
   "outputs": [
    {
     "data": {
      "image/png": "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\n",
      "text/plain": [
       "<matplotlib.figure.Figure at 0x1153459d0>"
      ]
     },
     "metadata": {},
     "output_type": "display_data"
    }
   ],
   "source": [
    "plt.plot(s, '.-');"
   ]
  },
  {
   "cell_type": "markdown",
   "metadata": {
    "deletable": true,
    "editable": true
   },
   "source": [
    "Display the features."
   ]
  },
  {
   "cell_type": "code",
   "execution_count": 15,
   "metadata": {
    "collapsed": false,
    "deletable": true,
    "editable": true
   },
   "outputs": [
    {
     "data": {
      "image/png": "iVBORw0KGgoAAAANSUhEUgAAAWQAAADuCAYAAAAOR30qAAAABHNCSVQICAgIfAhkiAAAAAlwSFlz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\nBL5A9uHDh48ygS+Qffjw4aNM8P8DlT1H3C/fL44AAAAASUVORK5CYII=\n",
      "text/plain": [
       "<matplotlib.figure.Figure at 0x117ae9eb8>"
      ]
     },
     "metadata": {},
     "output_type": "display_data"
    }
   ],
   "source": [
    "pmax = min(p,8)\n",
    "k = 0\n",
    "plt.clf\n",
    "for i in np.arange(0,pmax):\n",
    "    for j in np.arange(0,pmax):\n",
    "        k = k+1\n",
    "        plt.subplot(pmax,pmax,k)\n",
    "        if i==j:\n",
    "            plt.hist(X0[:,i],6)\n",
    "            plt.axis('tight')\n",
    "        else:\n",
    "            plt.plot(X0[:,j],X0[:,i], '.')\n",
    "        plt.axis('tight')\n",
    "        if i==1:\n",
    "            plt.title(class_names[0][j][0])\n",
    "        plt.tick_params(axis='x', labelbottom='off')\n",
    "        plt.tick_params(axis='y', labelleft='off')"
   ]
  },
  {
   "cell_type": "markdown",
   "metadata": {
    "deletable": true,
    "editable": true
   },
   "source": [
    "Display the points cloud of feature vectors in 2-D PCA space."
   ]
  },
  {
   "cell_type": "code",
   "execution_count": 15,
   "metadata": {
    "collapsed": false,
    "deletable": true,
    "editable": true
   },
   "outputs": [
    {
     "data": {
      "image/png": "iVBORw0KGgoAAAANSUhEUgAAAXYAAAD8CAYAAABjAo9vAAAABHNCSVQICAgIfAhkiAAAAAlwSFlz\nAAALEgAACxIB0t1+/AAAEk5JREFUeJzt3X+o3fV9x/HXK4nOYR0NMdTNeJOGiiDibHOQWxzbtLZk\nnVTartAt65BOLgWFlhVKJVAZpVAQywYVthCllIV2G61Y1M4oE6Sw23qvs06NKSHsYlwha5rNjsL0\n7r73xzl3u8Z77vnx/Z7v5/P9fJ8PCMnJPfl+3znf832fz/f9eX8/xxEhAEA5tqUOAABQLxI7ABSG\nxA4AhSGxA0BhSOwAUBgSOwAUhsQOAIUhsQNAYUjsAFCYHSl2evnll8e+fftS7BoAWmt5eflnEbF7\n1POSJPZ9+/ZpaWkpxa4BoLVsr4zzPEoxAFAYEjsAFIbEDgCFIbEDQGFI7ABQGBI7ABSmNYl9eeW8\nHnj6lJZXzqcOBUiG8wDjSNLHPqnllfM6dHRRb6yu6eId23Tsznkd2LszdVhAozgPMK5WjNgXT5/T\nG6trWgvpzdU1LZ4+lzokoHGcBxhXKxL7/P5dunjHNm23dNGObZrfvyt1SEDjOA8wrsqlGNtXSfqm\npHdJCklHIuIvq253eeW8Fk+f0/z+XTqwd6eO3Tn/lsdA13AeYFx11NhXJX0+Ip6zfZmkZdtPRsTL\n025wWC2RNzK6jvMA46hciomIn0bEc4M//0LSCUlXVtkmtUQAmF6tNXbb+yS9V9IPq2yHWiIATK+2\ndkfb75D0HUmfi4jXN/n5gqQFSZqbm9tyW12tJV44rwAA03BEVN+IfZGkRyU9ERFfG/X8Xq8XrMf+\nVvQoAxjF9nJE9EY9r3IpxrYlPSjpxDhJHZtjXgFAXeqosd8k6VOSbrH9/ODXh2vYbqcwrwCgLpVr\n7BHxA0muIZZO6+q8AoD6tWKtmK6gRxlAHVqxpAAAYHwkdgAoDIkdAApDYkdn8CUV6AomT9EJ3ACG\nLmHEjk7I/QYwriZQJ0bs6IT1G8DeXF3L7gYwriZQt9YkdhbIQhU53wC22dVE6vg439qtFYmdEQ3q\nkOsNYLldTXC+tV8rEnuOIxqUI/XoNLerCc639mtFYs9tRINy5DI6zelqgvOt/VqR2HMb0aAcjE7f\njvOt/VqR2KW8RjQoB6PTzXG+tVtrEjswC4xOUSISOzqP0SlKw52nAFAYEjsmxu3vQN4oxWAiubQH\nIp3Uff8YjcSOidAe2G18sLcDpRhMZL09cLtFe2AH5b5KJvoYsWMitAd2G33/7eCIaHynvV4vlpaW\nGt8vgOqosadjezkieqOex4gdwETo+88fNXYAKAyJHQAKQ2IHgMIUldi5IxIACpo85cYJAOirZcRu\n+yHbZ22/WMf2pnHhjRPffe5MMaN3rkQwa7zHylLXiP0bkr4u6Zs1bW9iG2+c2L59m/5+6VWtrkXr\nR+9ciWDWeI+Vp5YRe0Q8I+nndWxrWut3RP7Zh67RHxzYo9W1KOK2Z27hxqzxHitPUZOnB/bu1F03\nv0cff9+eYtYzqbI2C5fXGAfr/5SntiUFbO+T9GhEXDfk5wuSFiRpbm7uwMrKSi37Haap256b2M80\n++DyGpOY9fuYZQjqkd2SAhFxRNIRqb9WzKz318Rtz00lz2n+Lyyvi0nM8nxhkNG8okoxTcu5Nsnl\nNXKR83lSqlpG7La/Jel3JV1u+4ykeyPiwTq2nbOclzBNtbwul9y4UM7nSalYtreiKomstCTIJTeG\nKe29nkp2NfZSDatNjnojl5gEu1bXb2uyShE3S/02i8Q+A+Mk7RKTYJcuudv6wdzWuDEZJk9nYJzJ\nohInNzfeJFZ6wmjrhGBb48ZkGLHPwDgj11K/O7Qrl9xtvTppa9yYDJOnM9LW+ivG19Zj3Na4Mf7k\nKYm9AJyo3cWx7xa6YsZQwknBZFh3cewxTGcnT9dPivuPn9Sho4u1LZTV9MJbTIZ1F8cew3R2xD6L\ndsMUI6i2TobVfbVUwtXXpNp67DF7nU3sszgpUvSmt7G7pu4PwK6WJNp47NGMzib2WZwUqUZQbWsx\nrPsDsMSbvcbVtmOPZnQ2sUv1nxSMoMZT9wcgJQngrWh3RBLU2IHJ0e6IrM3iaomEDvR1tt0RAEpF\nYkdyfOk2UC9KMUgqVasiNXmUjMSOpFK0Kna17x3dQSkGQzVRIkmxLj234qN0jNixqaZGtSl6/+l7\nR+lI7DUrpXbbZImk6VZFbiRD6UjsNSqpdlv6qJa+d5SMxF6jktYsYVQLtBeJvUaljXIZ1QLtRGKv\nEaNcADkgsdeMUS6A1OhjB1ALlobIByN2AJWV1BFWAkbsACrjbt681JLYbR+0fdL2KdtfrGObANoj\nxdIQGK5yKcb2dkkPSPqgpDOSnrX9vYh4ueq2AbQDHWF5qaPGfqOkUxFxWpJsf1vS7ZJI7ECH0BGW\njzpKMVdKenXD4zODv0Pm6GIYD68T2qaxrhjbC5IWJGlubq6p3WIIuhjGw+uENqpjxP6apKs2PN4z\n+Lu3iIgjEdGLiN7u3btr2C2qSNHF0MaRL90eaKM6RuzPSrra9rvVT+iflPRHNWwXM9T0ujZtHfmW\ntv4PuqFyYo+IVdt3S3pC0nZJD0XES5Ujw0w13cXQ1pUv6fZAG9VSY4+IxyU9Xse20JwmuxjaPPKl\n2wNtw5ICaAQjX6A5JHY0hpEv0AzWigGAwpDYAUykjW2rXUMpZgvLK+epCbcIx2v22tq22jUk9iF4\nA7dLF45XDh9cbW1b7RpKMUNwx2G7lH681j+47j9+UoeOLiYrg7A8bzswYh+izX3XXVT68cplpEzb\najuQ2IfgDdwupR+vnD64aFvNnyOi8Z32er1YWlpqfL9Am01aY8+hJo962V6OiN6o5zFiB1pikpFy\nFyaTMRyTp0CBSp9MxtZI7MgSN8FUQ/dKt1GKQXYoI1RX+mQytkZiR3Zyae1rO7pXuotSTE1KKx2k\n/P9QRgCqYcReg7pKB7m0p6UuhVBGAKohsdegjtJB6mS6UQ6lEMoIwPQoxdSgjtJBTu1plEKAdmPE\nXoM6Sge53TJOKQRoL5YUyEguNfZptT3+0nA8ysOSAi2Uuq5cJRHkNEcAjkfXdbbGXlp7YlXjrvc9\n7HXLaY4AHI+u6+SIndHM243TCbPV65bTHAE4Hl3XycSeQztfbsZJBFu9bky45oXj0W2dTOyMZt5u\nnEQw6nVLPUeAt+J4dFdnu2LoGJgOrxuQDl0xIzQ9mpkmIeaYRBkFAvWZ1Tne2cTepGkma5ngBco2\ny3O8Uruj7U/Yfsn2mu2RlwddNU3rGe1q7UY7LUaZ5TledcT+oqSPSfrrGmIp1jSTtUzwthdXWxjH\nLM/xSok9Ik5Iku16oinUNK1ntKu1F+20GMcsz3Fq7A2ZZtKRicp24moL45rVOT4ysdt+StIVm/zo\ncEQ8Mu6ObC9IWpCkubm5sQME2oarLaQ2MrFHxK117Cgijkg6IvX72OvYJpArrraQUmcXAQOAUlVt\nd/yo7TOS3i/pMdtP1BMWAGBaVbtiHpb0cE2xYIMc7zoF0A50xWSIPmgAVVBjzxB3nQKogsSeofU+\n6O0WfdAAJkYpJkP0QQOogsSeKfqgAUyLUgxqwWqGQD4YsWNL47Rd0sUD5IXEjqHGTdisZgjkhVIM\nhhq37ZIuHiAvjNgx1LjLz9LFA+TFEc0vtNjr9WJpaanx/WJyLG0A5MP2ckSM/BpSRuzYEm2XQPtQ\nYweAwpDYAaAwJHYAKAyJHQAKQ2IHgMKQ2BNhbRUAs0K7YwKsrQJglhixJ8A3JAGYJRJ7AqytAmCW\nKMUkMGptFW7jB1AFiT2RYbfqU38HUBWlmMxQfwdQFYk9M9TfAVRFKSYzrG0OoCoSe4ZYKhdAFZRi\nAKAwJHYAKAyJHQAKUymx277P9iu2X7D9sO131hUYAGA6VUfsT0q6LiKul/QTSfdUDwkAUEWlxB4R\nxyNidfBwUdKe6iFhUiwBDGCjOtsdPy3pb4f90PaCpAVJmpubq3G33ZZiCQLWsgHyNjKx235K0hWb\n/OhwRDwyeM5hSauSjg3bTkQckXREknq9XkwVLd5msyUIZplsWcsGyN/IxB4Rt271c9t3SLpN0gci\ngoTdsPUlCN5cXWtkCYKmP0gATK5SKcb2QUlfkPQ7EfHLekLCJJpegqDJDxJKPsB0XGWQbfuUpF+R\ntL4E4WJEfGbUv+v1erG0tDT1fpFWEwm3bSUfPoTQBNvLEdEb9bxKI/aIeE+Vf492amItmzaVfNr2\nIYTycecpstSm5YtZQx+5YXVHZKlNyxc3PYENjFKpxj4tauwoDTV2NKGRGjuAPtbQR06osQNAYUjs\nAFAYEjsAFIbEDgCFIbEDQGFI7ABQGBI7ABSGxA4AhSGxA0BhSOwAUBgSOwAUhsQOAIUhsQNAYUjs\nAFAYEjsAFIbEDgCFIbEDQGFI7ABQGBI7ABSGxA4AhSGxA0BhSOwAUBgSOwAUhsQOAIUhsbfc8sp5\nPfD0KS2vnE8dCoBM7Kjyj21/WdLtktYknZV0R0T8Wx2BYbTllfM6dHRRb6yu6eId23Tsznkd2Lsz\ndVgzs7xyXounz2l+/66i/59AVVVH7PdFxPURcYOkRyV9qYaYMKbF0+f0xuqa1kJ6c3VNi6fPpQ5p\nZtY/xO4/flKHji5yhQJsoVJij4jXNzy8VFJUCweTmN+/Sxfv2Kbtli7asU3z+3elDmlmuvQhBlRV\nqRQjSba/IulPJP2npJsrR4SxHdi7U8funG9VeWLacsr6h9ibq2vFf4gBVTli60G27ackXbHJjw5H\nxCMbnnePpEsi4t4h21mQtCBJc3NzB1ZWVqYOGu1UdU6AGju6zvZyRPRGPW/kiD0ibh1zn8ckPS5p\n08QeEUckHZGkXq9HyaaDNiunTJKgD+zdSUIHxlCpxm776g0Pb5f0SrVwULIuzQkAKVWtsX/V9jXq\ntzuuSPpM9ZBQqjbOCQBtVCmxR8TH6woE3UA5BZg97jwFgMKQ2AGgMCR2ACgMiR0ACkNiB4DCkNgB\noDAjlxSYyU7tf1e/732UyyX9bMbhTCvX2IhrMsQ1uVxj60JceyNi96gnJUns47K9NM66CCnkGhtx\nTYa4JpdrbMT1/yjFAEBhSOwAUJjcE/uR1AFsIdfYiGsyxDW5XGMjroGsa+wAgMnlPmIHAEwo+8Ru\n+8u2X7D9vO3jtn8jdUySZPs+268MYnvY9jtTx7TO9idsv2R7zXbyLgHbB22ftH3K9hdTxyNJth+y\nfdb2i6lj2cj2Vbaftv3y4Bh+NnVMkmT7Ets/sv3jQVx/njqmjWxvt/3Pth9NHctGtv/V9r8M8tdS\nU/vNPrFLui8iro+IGyQ9KulLqQMaeFLSdRFxvaSfSLoncTwbvSjpY5KeSR2I7e2SHpD0e5KulfSH\ntq9NG5Uk6RuSDqYOYhOrkj4fEddKmpd0Vyav139LuiUiflPSDZIO2p5PHNNGn5V0InUQQ9wcETc0\n2fKYfWKPiNc3PLxUUhaTAhFxPCJWBw8XJe1JGc9GEXEiIk6mjmPgRkmnIuJ0RLwh6dvqf9tWUhHx\njKSfp47jQhHx04h4bvDnX6ifrK5MG5UUff81eHjR4FcW56LtPZJ+X9LR1LHkIvvELkm2v2L7VUmH\nlM+IfaNPS/p+6iAydaWkVzc8PqMMElUb2N4n6b2Sfpg2kr5BueN5SWclPRkRWcQl6S8kfUH9b3LL\nTUg6bnvZ9kJTO80isdt+yvaLm/y6XZIi4nBEXKX+F2bfnUtcg+ccVv/y+VhTcY0bG9rL9jskfUfS\n5y64ak0mIv5nUBLdI+lG29eljsn2bZLORsRy6liG+K2IeJ/6pci7bP92Ezut+p2ntYiIW8d86jFJ\nj0u6d4bh/J9Rcdm+Q9Jtkj4QDfeNTvCapfaapKs2PN4z+DsMYfsi9ZP6sYj4bup4LhQR/2H7afXn\nKFJPPt8k6SO2PyzpEkm/ZvtvIuKPE8clSYqI1wa/n7X9sPqlyZnPfWUxYt+K7as3PLxd0iupYtnI\n9kH1L/8+EhG/TB1Pxp6VdLXtd9u+WNInJX0vcUzZsm1JD0o6ERFfSx3POtu71zu/bP+qpA8qg3Mx\nIu6JiD0RsU/999Y/5pLUbV9q+7L1P0v6kBr6IMw+sUv66qDE8IL6L0wW7V+Svi7pMklPDlqZ/ip1\nQOtsf9T2GUnvl/SY7SdSxTKYYL5b0hPqTwT+XUS8lCqedba/JemfJF1j+4ztP00d08BNkj4l6ZbB\n++r5wWg0tV+X9PTgPHxW/Rp7Vq2FGXqXpB/Y/rGkH0l6LCL+oYkdc+cpABSmDSN2AMAESOwAUBgS\nOwAUhsQOAIUhsQNAYUjsAFAYEjsAFIbEDgCF+V9DWOw/GQnGbQAAAABJRU5ErkJggg==\n",
      "text/plain": [
       "<matplotlib.figure.Figure at 0x11bb55898>"
      ]
     },
     "metadata": {},
     "output_type": "display_data"
    }
   ],
   "source": [
    "plt.plot(X0r[:,0], X0r[:,1], '.')\n",
    "plt.axis('equal');"
   ]
  },
  {
   "cell_type": "markdown",
   "metadata": {
    "deletable": true,
    "editable": true
   },
   "source": [
    "1D plot of the function to regress along the main eigenvector axes."
   ]
  },
  {
   "cell_type": "code",
   "execution_count": 16,
   "metadata": {
    "collapsed": false,
    "deletable": true,
    "editable": true
   },
   "outputs": [
    {
     "data": {
      "image/png": "iVBORw0KGgoAAAANSUhEUgAAAYAAAAD8CAYAAAB+UHOxAAAABHNCSVQICAgIfAhkiAAAAAlwSFlz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\nEakoBQARkYpSABARqSgFABGRivr/97EFW1sgphkAAAAASUVORK5CYII=\n",
      "text/plain": [
       "<matplotlib.figure.Figure at 0x11de73048>"
      ]
     },
     "metadata": {},
     "output_type": "display_data"
    }
   ],
   "source": [
    "plt.clf\n",
    "for i in np.arange(0,3):\n",
    "    plt.subplot(3,1,i+1)\n",
    "    plt.plot(X0r[:,i], y0, '.')\n",
    "    plt.axis('tight')"
   ]
  },
  {
   "cell_type": "markdown",
   "metadata": {
    "deletable": true,
    "editable": true
   },
   "source": [
    "Linear Regression\n",
    "-----------------\n",
    "We look for a linear relationship\n",
    "  $ y_i = \\dotp{w}{x_i} $\n",
    "written in matrix format\n",
    "  $ y= X w $\n",
    "where the rows of $X \\in \\RR^{n \\times p}$ stores the features $x_i \\in \\RR^p$.\n",
    "\n",
    "\n",
    "Since here $ n > p $, this is an over-determined system, which can\n",
    "solved in the least square sense\n",
    "  $$ \\umin{ w }  \\norm{Xw-y}^2 $$\n",
    "whose solution is given using the Moore-Penrose pseudo-inverse\n",
    "  $$ w = (X^\\top X)^{-1} X^\\top y $$\n",
    "\n",
    "\n",
    "Least square solution."
   ]
  },
  {
   "cell_type": "code",
   "execution_count": 13,
   "metadata": {
    "collapsed": false,
    "deletable": true,
    "editable": true
   },
   "outputs": [],
   "source": [
    "w = np.linalg.solve( X0.transpose().dot(X0), X0.transpose().dot(y0) )"
   ]
  },
  {
   "cell_type": "markdown",
   "metadata": {
    "deletable": true,
    "editable": true
   },
   "source": [
    "Prediction (along 1st eigenvector)."
   ]
  },
  {
   "cell_type": "code",
   "execution_count": 14,
   "metadata": {
    "collapsed": false,
    "deletable": true,
    "editable": true
   },
   "outputs": [
    {
     "data": {
      "image/png": "iVBORw0KGgoAAAANSUhEUgAAAXYAAAD8CAYAAABjAo9vAAAABHNCSVQICAgIfAhkiAAAAAlwSFlz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\ndmOMCZn/AyZrWY8ygwwfAAAAAElFTkSuQmCC\n",
      "text/plain": [
       "<matplotlib.figure.Figure at 0x117610da0>"
      ]
     },
     "metadata": {},
     "output_type": "display_data"
    }
   ],
   "source": [
    "plt.clf\n",
    "plt.plot( X1.dot(w), '.-' )\n",
    "plt.plot( y1, '.-' )\n",
    "plt.axis('tight')\n",
    "plt.legend(('$y_1$', '$X_1 w$'));"
   ]
  },
  {
   "cell_type": "markdown",
   "metadata": {
    "deletable": true,
    "editable": true
   },
   "source": [
    "Mean-square error on testing set."
   ]
  },
  {
   "cell_type": "code",
   "execution_count": 15,
   "metadata": {
    "collapsed": false,
    "deletable": true,
    "editable": true
   },
   "outputs": [
    {
     "name": "stdout",
     "output_type": "stream",
     "text": [
      "Relative prediction error: 0.7023447693100113\n"
     ]
    }
   ],
   "source": [
    "E = np.linalg.norm(X1.dot(w)-y1) / np.linalg.norm(y1)\n",
    "print(( 'Relative prediction error: ' + str(E) ) );"
   ]
  },
  {
   "cell_type": "markdown",
   "metadata": {
    "deletable": true,
    "editable": true
   },
   "source": [
    "Regularization is obtained by introducing a penalty. It is often called\n",
    "ridge regression, and is defined as\n",
    "  $$ \\umin{ w }  \\norm{Xw-y}^2 + \\lambda \\norm{w}^2 $$\n",
    "where $\\lambda>0$ is the regularization parameter.\n",
    "\n",
    "\n",
    "The solution is given using the following equivalent formula\n",
    "  $$ w = (X^\\top X + \\lambda \\text{Id}_p )^{-1} X^\\top y, $$\n",
    "  $$ w = X^\\top ( XX^\\top + \\lambda \\text{Id}_n)^{-1} y, $$\n",
    "When $p<n$ (which is the case here), the first formula should be\n",
    "prefered.\n",
    "\n",
    "\n",
    "In contrast, when the dimensionality $p$ of the feature is very\n",
    "large and there is little data, the second is faster. Furthermore, this\n",
    "second expression is generalizable to Kernel Hilbert space setting,\n",
    "corresponding possibly to $p=+\\infty$ for some kernels."
   ]
  },
  {
   "cell_type": "code",
   "execution_count": 20,
   "metadata": {
    "collapsed": false,
    "deletable": true,
    "editable": true
   },
   "outputs": [
    {
     "name": "stdout",
     "output_type": "stream",
     "text": [
      "Error (should be 0): 6.753649209340363e-16\n"
     ]
    }
   ],
   "source": [
    "Lambda = .2*np.linalg.norm(X0)**2;\n",
    "w = np.linalg.solve( X0.transpose().dot(X0) + Lambda*np.eye(p), X0.transpose().dot(y0) )\n",
    "u = np.linalg.solve( X0.dot(X0.transpose()) + Lambda*np.eye(n0), y0 )\n",
    "w1 = X0.transpose().dot( u )\n",
    "print( ('Error (should be 0): ' + str( np.linalg.norm(w-w1)/np.linalg.norm(w) ) ) )"
   ]
  },
  {
   "cell_type": "markdown",
   "metadata": {
    "deletable": true,
    "editable": true
   },
   "source": [
    "__Exercise 1__\n",
    "\n",
    "Display the evolution of the test error $E$ as a function of $\\lambda$.\n",
    "ind optimal lambda\n",
    "isplay error evolution."
   ]
  },
  {
   "cell_type": "code",
   "execution_count": 21,
   "metadata": {
    "collapsed": false,
    "deletable": true,
    "editable": true
   },
   "outputs": [
    {
     "name": "stdout",
     "output_type": "stream",
     "text": [
      "Ridge: 67.90672125664283%\n"
     ]
    },
    {
     "data": {
      "image/png": "iVBORw0KGgoAAAANSUhEUgAAAZQAAAEQCAYAAACX5IJuAAAABHNCSVQICAgIfAhkiAAAAAlwSFlz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\nYII=\n",
      "text/plain": [
       "<matplotlib.figure.Figure at 0x11a6090f0>"
      ]
     },
     "metadata": {},
     "output_type": "display_data"
    }
   ],
   "source": [
    "run -i nt_solutions/ml_2_regression/exo1"
   ]
  },
  {
   "cell_type": "code",
   "execution_count": 22,
   "metadata": {
    "collapsed": false,
    "deletable": true,
    "editable": true
   },
   "outputs": [],
   "source": [
    "## Insert your code here."
   ]
  },
  {
   "cell_type": "markdown",
   "metadata": {
    "deletable": true,
    "editable": true
   },
   "source": [
    "__Exercise 2__\n",
    "\n",
    "Display the regularization path, i.e. the evolution of $w$ as a function\n",
    "of $\\lambda$."
   ]
  },
  {
   "cell_type": "code",
   "execution_count": 27,
   "metadata": {
    "collapsed": false,
    "deletable": true,
    "editable": true
   },
   "outputs": [
    {
     "data": {
      "image/png": "iVBORw0KGgoAAAANSUhEUgAAAY8AAAEQCAYAAABIqvhxAAAABHNCSVQICAgIfAhkiAAAAAlwSFlz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\nMAkPIYQQCfv/w1XFqsSMNRAAAAAASUVORK5CYII=\n",
      "text/plain": [
       "<matplotlib.figure.Figure at 0x117b62dd8>"
      ]
     },
     "metadata": {},
     "output_type": "display_data"
    }
   ],
   "source": [
    "run -i nt_solutions/ml_2_regression/exo2"
   ]
  },
  {
   "cell_type": "code",
   "execution_count": 24,
   "metadata": {
    "collapsed": false,
    "deletable": true,
    "editable": true
   },
   "outputs": [],
   "source": [
    "## Insert your code here."
   ]
  },
  {
   "cell_type": "markdown",
   "metadata": {
    "deletable": true,
    "editable": true
   },
   "source": [
    "Sparse Regularization\n",
    "---------------------\n",
    "In order to perform feature selection (i.e. select a subsect of the\n",
    "features which are the most predictive), one needs to replace the\n",
    "$\\ell^2$ regularization penalty by a sparsity inducing regularizer. The\n",
    "most well known is the $\\ell^1$ norm\n",
    "$$ \\norm{w}_1 \\eqdef \\sum_i \\abs{w_i} . $$\n",
    "\n",
    "\n",
    "The energy to minimize is\n",
    "$$ \\umin{w} J(w) \\eqdef \\frac{1}{2}\\norm{X w-y}^2 + \\lambda \\norm{w}_1. $$"
   ]
  },
  {
   "cell_type": "code",
   "execution_count": 28,
   "metadata": {
    "collapsed": false,
    "deletable": true,
    "editable": true
   },
   "outputs": [],
   "source": [
    "def J(w,Lambda): return 1/2*np.linalg.norm(X0.dot(w)-y0)**2 + Lambda*np.linalg.norm(w,1)"
   ]
  },
  {
   "cell_type": "markdown",
   "metadata": {
    "deletable": true,
    "editable": true
   },
   "source": [
    "The simplest iterative algorithm to perform the minimization is the\n",
    "so-called iterative soft thresholding (ISTA), aka proximal gradient aka\n",
    "forward-backward.\n",
    "\n",
    "\n",
    "It performs first a gradient step (forward) of the smooth part $\\frac{1}{2}\\norm{X w-y}^2$ of the\n",
    "functional and then a proximal step (backward) step which account for the\n",
    "$\\ell^1$ penalty and induce sparsity. This proximal step is the soft-thresholding operator\n",
    "$$ \\Ss_s(x) \\eqdef \\max( \\abs{x}-\\lambda,0 ) \\text{sign}(x).  $$"
   ]
  },
  {
   "cell_type": "code",
   "execution_count": 29,
   "metadata": {
    "collapsed": false,
    "deletable": true,
    "editable": true
   },
   "outputs": [],
   "source": [
    "def Soft(x,s): return np.maximum( abs(x)-s, np.zeros(x.shape)  ) * np.sign(x)"
   ]
  },
  {
   "cell_type": "markdown",
   "metadata": {
    "deletable": true,
    "editable": true
   },
   "source": [
    "The ISTA algorithm reads\n",
    "$$ w_{k+1} \\eqdef \\Ss_{\\la\\tau}( w_k - \\tau X^\\top ( X w_k - y )  ), $$\n",
    "where, to ensure convergence, the step size should verify $ 0 < \\tau <\n",
    "2/\\norm{X}^2  $ where $\\norm{X}$ is the operator norm.\n",
    "\n",
    "\n",
    "Display the soft thresholding operator."
   ]
  },
  {
   "cell_type": "code",
   "execution_count": 30,
   "metadata": {
    "collapsed": false,
    "deletable": true,
    "editable": true
   },
   "outputs": [
    {
     "data": {
      "image/png": "iVBORw0KGgoAAAANSUhEUgAAAXYAAAD8CAYAAABjAo9vAAAABHNCSVQICAgIfAhkiAAAAAlwSFlz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\n",
      "text/plain": [
       "<matplotlib.figure.Figure at 0x119aebeb8>"
      ]
     },
     "metadata": {},
     "output_type": "display_data"
    }
   ],
   "source": [
    "t = np.linspace(-5,5,201)\n",
    "plt.clf\n",
    "plt.plot(t,Soft(t,2)) \n",
    "plt.axis('tight');"
   ]
  },
  {
   "cell_type": "markdown",
   "metadata": {
    "deletable": true,
    "editable": true
   },
   "source": [
    "Descent step size."
   ]
  },
  {
   "cell_type": "code",
   "execution_count": 31,
   "metadata": {
    "collapsed": false,
    "deletable": true,
    "editable": true
   },
   "outputs": [],
   "source": [
    "tau = 1.5/np.linalg.norm(X0,2)**2"
   ]
  },
  {
   "cell_type": "markdown",
   "metadata": {
    "deletable": true,
    "editable": true
   },
   "source": [
    "Choose a regularization parameter $\\la$."
   ]
  },
  {
   "cell_type": "code",
   "execution_count": 32,
   "metadata": {
    "collapsed": false,
    "deletable": true,
    "editable": true
   },
   "outputs": [],
   "source": [
    "lmax = abs( X0.transpose().dot(y0) ).max()\n",
    "Lambda = lmax /10"
   ]
  },
  {
   "cell_type": "markdown",
   "metadata": {
    "deletable": true,
    "editable": true
   },
   "source": [
    "Initialization $w_0$."
   ]
  },
  {
   "cell_type": "code",
   "execution_count": 30,
   "metadata": {
    "collapsed": false,
    "deletable": true,
    "editable": true
   },
   "outputs": [],
   "source": [
    "w = np.zeros((p,1))"
   ]
  },
  {
   "cell_type": "markdown",
   "metadata": {
    "deletable": true,
    "editable": true
   },
   "source": [
    "A single ISTA step."
   ]
  },
  {
   "cell_type": "code",
   "execution_count": 34,
   "metadata": {
    "collapsed": false,
    "deletable": true,
    "editable": true
   },
   "outputs": [],
   "source": [
    "C = X0.transpose().dot(X0)\n",
    "u = X0.transpose().dot(y0)\n",
    "def ISTA(w,Lambda,tau): return Soft( w-tau*( C.dot(w)-u ), Lambda*tau )\n",
    "w = ISTA(w,Lambda,tau)"
   ]
  },
  {
   "cell_type": "markdown",
   "metadata": {
    "deletable": true,
    "editable": true
   },
   "source": [
    "__Exercise 3__\n",
    "\n",
    "Implement the ISTA algorithm, display the convergence of the energy."
   ]
  },
  {
   "cell_type": "code",
   "execution_count": 23,
   "metadata": {
    "collapsed": false
   },
   "outputs": [
    {
     "ename": "SyntaxError",
     "evalue": "invalid syntax (<ipython-input-23-2788b7be02e2>, line 5)",
     "output_type": "error",
     "traceback": [
      "\u001b[0;36m  File \u001b[0;32m\"<ipython-input-23-2788b7be02e2>\"\u001b[0;36m, line \u001b[0;32m5\u001b[0m\n\u001b[0;31m    for (i in 1:niter)\u001b[0m\n\u001b[0m               ^\u001b[0m\n\u001b[0;31mSyntaxError\u001b[0m\u001b[0;31m:\u001b[0m invalid syntax\n"
     ]
    }
   ],
   "source": [
    "niter = 400\n",
    "\n",
    "Jlist = rep(0, niter)\n",
    "\n",
    "for (i in 1:niter)\n",
    "{\n",
    "    Jlist[i] = J(w,Lambda)\n",
    "    w = ISTA(w,Lambda,tau)\n",
    "}\n",
    "\n",
    "ndisp = as.integer(niter/4)\n",
    "\n",
    "plot(Jlist[1: ndisp])\n"
   ]
  },
  {
   "cell_type": "code",
   "execution_count": null,
   "metadata": {
    "collapsed": true
   },
   "outputs": [],
   "source": [
    "plt.subplot(2,1,1)\n",
    "plt.plot(Jlist[0:ndisp])\n",
    "plt.axis('tight')\n",
    "plt.title('J(w_k)')\n",
    "plt.subplot(2,1,2)\n",
    "e = np.log10( Jlist[0:ndisp]-Jlist.min() +1e-20)\n",
    "plt.plot(e-e[0])\n",
    "plt.axis('tight')\n",
    "plt.title('$log(J(w_k)-min J)$')"
   ]
  },
  {
   "cell_type": "code",
   "execution_count": 35,
   "metadata": {
    "collapsed": false,
    "deletable": true,
    "editable": true
   },
   "outputs": [
    {
     "data": {
      "image/png": "iVBORw0KGgoAAAANSUhEUgAAAXwAAAEICAYAAABcVE8dAAAABHNCSVQICAgIfAhkiAAAAAlwSFlz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\nTkSuQmCC\n",
      "text/plain": [
       "<matplotlib.figure.Figure at 0x119f530f0>"
      ]
     },
     "metadata": {},
     "output_type": "display_data"
    }
   ],
   "source": [
    "run -i nt_solutions/ml_2_regression/exo3"
   ]
  },
  {
   "cell_type": "code",
   "execution_count": 36,
   "metadata": {
    "collapsed": false,
    "deletable": true,
    "editable": true
   },
   "outputs": [],
   "source": [
    "## Insert your code here."
   ]
  },
  {
   "cell_type": "markdown",
   "metadata": {
    "deletable": true,
    "editable": true
   },
   "source": [
    "__Exercise 4__\n",
    "\n",
    "Compute the test error along the full regularization path. You can start by large $\\lambda$ and use a warm restart procedure\n",
    "to reduce the computation time. Compute the classification error.\n",
    "ind optimal lambda\n",
    "isplay error evolution."
   ]
  },
  {
   "cell_type": "code",
   "execution_count": 37,
   "metadata": {
    "collapsed": false,
    "deletable": true,
    "editable": true
   },
   "outputs": [
    {
     "name": "stdout",
     "output_type": "stream",
     "text": [
      "Lasso: 65.42184378732034%\n"
     ]
    },
    {
     "data": {
      "image/png": "iVBORw0KGgoAAAANSUhEUgAAAY0AAAEQCAYAAABMXyhMAAAABHNCSVQICAgIfAhkiAAAAAlwSFlz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\nYII=\n",
      "text/plain": [
       "<matplotlib.figure.Figure at 0x117a469e8>"
      ]
     },
     "metadata": {},
     "output_type": "display_data"
    }
   ],
   "source": [
    "run -i nt_solutions/ml_2_regression/exo4"
   ]
  },
  {
   "cell_type": "code",
   "execution_count": 35,
   "metadata": {
    "collapsed": false,
    "deletable": true,
    "editable": true
   },
   "outputs": [],
   "source": [
    "## Insert your code here."
   ]
  },
  {
   "cell_type": "markdown",
   "metadata": {
    "deletable": true,
    "editable": true
   },
   "source": [
    "__Exercise 5__\n",
    "\n",
    "Display the regularization path, i.e. the evolution of $w$ as a function\n",
    "of $\\lambda$.\n",
    "lot(lambda_list, W', 'LineWidth', 2);"
   ]
  },
  {
   "cell_type": "code",
   "execution_count": 36,
   "metadata": {
    "collapsed": false,
    "deletable": true,
    "editable": true
   },
   "outputs": [
    {
     "data": {
      "image/png": "iVBORw0KGgoAAAANSUhEUgAAAY8AAAEQCAYAAABIqvhxAAAABHNCSVQICAgIfAhkiAAAAAlwSFlz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\nzP4PZWe3yAKEUQkAAAAASUVORK5CYII=\n",
      "text/plain": [
       "<matplotlib.figure.Figure at 0x11da9de80>"
      ]
     },
     "metadata": {},
     "output_type": "display_data"
    }
   ],
   "source": [
    "run -i nt_solutions/ml_2_regression/exo5"
   ]
  },
  {
   "cell_type": "code",
   "execution_count": 37,
   "metadata": {
    "collapsed": false,
    "deletable": true,
    "editable": true
   },
   "outputs": [],
   "source": [
    "## Insert your code here."
   ]
  },
  {
   "cell_type": "markdown",
   "metadata": {
    "deletable": true,
    "editable": true
   },
   "source": [
    "__Exercise 6__\n",
    "\n",
    "Compare the optimal weights for ridge and lasso."
   ]
  },
  {
   "cell_type": "code",
   "execution_count": 38,
   "metadata": {
    "collapsed": false,
    "deletable": true,
    "editable": true
   },
   "outputs": [
    {
     "data": {
      "image/png": "iVBORw0KGgoAAAANSUhEUgAAAX8AAAD8CAYAAACfF6SlAAAABHNCSVQICAgIfAhkiAAAAAlwSFlz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\n",
      "text/plain": [
       "<matplotlib.figure.Figure at 0x11bbd9240>"
      ]
     },
     "metadata": {},
     "output_type": "display_data"
    }
   ],
   "source": [
    "run -i nt_solutions/ml_2_regression/exo8"
   ]
  },
  {
   "cell_type": "markdown",
   "metadata": {
    "deletable": true,
    "editable": true
   },
   "source": [
    "<script>\n",
    "  $(document).ready(function(){\n",
    "      $('div.prompt').hide();\n",
    "  });\n",
    "</script>"
   ]
  },
  {
   "cell_type": "code",
   "execution_count": 39,
   "metadata": {
    "collapsed": false,
    "deletable": true,
    "editable": true
   },
   "outputs": [
    {
     "ename": "SyntaxError",
     "evalue": "invalid syntax (<ipython-input-39-1df53712e8a9>, line 1)",
     "output_type": "error",
     "traceback": [
      "\u001b[0;36m  File \u001b[0;32m\"<ipython-input-39-1df53712e8a9>\"\u001b[0;36m, line \u001b[0;32m1\u001b[0m\n\u001b[0;31m    <script>\u001b[0m\n\u001b[0m    ^\u001b[0m\n\u001b[0;31mSyntaxError\u001b[0m\u001b[0;31m:\u001b[0m invalid syntax\n"
     ]
    }
   ],
   "source": [
    "<script>\n",
    "  $(document).ready(function(){\n",
    "      $('div.prompt').hide();\n",
    "  });\n",
    "</script>"
   ]
  }
 ],
 "metadata": {
  "kernelspec": {
   "display_name": "Python 2",
   "language": "python",
   "name": "python2"
  },
  "language_info": {
   "codemirror_mode": {
    "name": "ipython",
    "version": 2
   },
   "file_extension": ".py",
   "mimetype": "text/x-python",
   "name": "python",
   "nbconvert_exporter": "python",
   "pygments_lexer": "ipython2",
   "version": "2.7.13"
  }
 },
 "nbformat": 4,
 "nbformat_minor": 0
}
