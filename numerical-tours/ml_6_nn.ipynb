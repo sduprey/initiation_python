{
  "nbformat": 4,
  "nbformat_minor": 0,
  "metadata": {
    "kernelspec": {
      "display_name": "Python 3",
      "language": "python",
      "name": "python3"
    },
    "language_info": {
      "codemirror_mode": {
        "name": "ipython",
        "version": 3
      },
      "file_extension": ".py",
      "mimetype": "text/x-python",
      "name": "python",
      "nbconvert_exporter": "python",
      "pygments_lexer": "ipython3",
      "version": "3.4.5"
    },
    "colab": {
      "name": "Neural Networks and AutoDiff",
      "provenance": [],
      "collapsed_sections": []
    }
  },
  "cells": [
    {
      "cell_type": "markdown",
      "metadata": {
        "deletable": true,
        "editable": true,
        "id": "S1mrLmaEbiRD"
      },
      "source": [
        "Neural Networks\n",
        "===============\n",
        "\n",
        "*Important:* Please read the [installation page](http://gpeyre.github.io/numerical-tours/installation_python/) for details about how to install the toolboxes.\n",
        "$\\newcommand{\\dotp}[2]{\\langle #1, #2 \\rangle}$\n",
        "$\\newcommand{\\enscond}[2]{\\lbrace #1, #2 \\rbrace}$\n",
        "$\\newcommand{\\pd}[2]{ \\frac{ \\partial #1}{\\partial #2} }$\n",
        "$\\newcommand{\\umin}[1]{\\underset{#1}{\\min}\\;}$\n",
        "$\\newcommand{\\umax}[1]{\\underset{#1}{\\max}\\;}$\n",
        "$\\newcommand{\\umin}[1]{\\underset{#1}{\\min}\\;}$\n",
        "$\\newcommand{\\uargmin}[1]{\\underset{#1}{argmin}\\;}$\n",
        "$\\newcommand{\\norm}[1]{\\|#1\\|}$\n",
        "$\\newcommand{\\abs}[1]{\\left|#1\\right|}$\n",
        "$\\newcommand{\\choice}[1]{ \\left\\{  \\begin{array}{l} #1 \\end{array} \\right. }$\n",
        "$\\newcommand{\\pa}[1]{\\left(#1\\right)}$\n",
        "$\\newcommand{\\diag}[1]{{diag}\\left( #1 \\right)}$\n",
        "$\\newcommand{\\qandq}{\\quad\\text{and}\\quad}$\n",
        "$\\newcommand{\\qwhereq}{\\quad\\text{where}\\quad}$\n",
        "$\\newcommand{\\qifq}{ \\quad \\text{if} \\quad }$\n",
        "$\\newcommand{\\qarrq}{ \\quad \\Longrightarrow \\quad }$\n",
        "$\\newcommand{\\ZZ}{\\mathbb{Z}}$\n",
        "$\\newcommand{\\CC}{\\mathbb{C}}$\n",
        "$\\newcommand{\\RR}{\\mathbb{R}}$\n",
        "$\\newcommand{\\EE}{\\mathbb{E}}$\n",
        "$\\newcommand{\\Zz}{\\mathcal{Z}}$\n",
        "$\\newcommand{\\Ww}{\\mathcal{W}}$\n",
        "$\\newcommand{\\Vv}{\\mathcal{V}}$\n",
        "$\\newcommand{\\Nn}{\\mathcal{N}}$\n",
        "$\\newcommand{\\NN}{\\mathcal{N}}$\n",
        "$\\newcommand{\\Hh}{\\mathcal{H}}$\n",
        "$\\newcommand{\\Bb}{\\mathcal{B}}$\n",
        "$\\newcommand{\\Ee}{\\mathcal{E}}$\n",
        "$\\newcommand{\\Cc}{\\mathcal{C}}$\n",
        "$\\newcommand{\\Gg}{\\mathcal{G}}$\n",
        "$\\newcommand{\\Ss}{\\mathcal{S}}$\n",
        "$\\newcommand{\\Pp}{\\mathcal{P}}$\n",
        "$\\newcommand{\\Ff}{\\mathcal{F}}$\n",
        "$\\newcommand{\\Xx}{\\mathcal{X}}$\n",
        "$\\newcommand{\\Mm}{\\mathcal{M}}$\n",
        "$\\newcommand{\\Ii}{\\mathcal{I}}$\n",
        "$\\newcommand{\\Dd}{\\mathcal{D}}$\n",
        "$\\newcommand{\\Ll}{\\mathcal{L}}$\n",
        "$\\newcommand{\\Tt}{\\mathcal{T}}$\n",
        "$\\newcommand{\\si}{\\sigma}$\n",
        "$\\newcommand{\\al}{\\alpha}$\n",
        "$\\newcommand{\\la}{\\lambda}$\n",
        "$\\newcommand{\\ga}{\\gamma}$\n",
        "$\\newcommand{\\Ga}{\\Gamma}$\n",
        "$\\newcommand{\\La}{\\Lambda}$\n",
        "$\\newcommand{\\si}{\\sigma}$\n",
        "$\\newcommand{\\Si}{\\Sigma}$\n",
        "$\\newcommand{\\be}{\\beta}$\n",
        "$\\newcommand{\\de}{\\delta}$\n",
        "$\\newcommand{\\De}{\\Delta}$\n",
        "$\\newcommand{\\phi}{\\varphi}$\n",
        "$\\newcommand{\\th}{\\theta}$\n",
        "$\\newcommand{\\om}{\\omega}$\n",
        "$\\newcommand{\\Om}{\\Omega}$\n",
        "$\\newcommand{\\eqdef}{\\equiv}$"
      ]
    },
    {
      "cell_type": "markdown",
      "metadata": {
        "deletable": true,
        "editable": true,
        "id": "8YI5cHeGbiRE"
      },
      "source": [
        "This tour details fully connected multi-layers neural networks for binary classification."
      ]
    },
    {
      "cell_type": "markdown",
      "metadata": {
        "deletable": true,
        "editable": true,
        "id": "IrrdCSp4biRE"
      },
      "source": [
        "We recommend that after doing this Numerical Tours, you apply it to your\n",
        "own data, for instance using a dataset from [LibSVM](https://www.csie.ntu.edu.tw/~cjlin/libsvmtools/datasets/).\n",
        "\n",
        "_Disclaimer:_ these machine learning tours are intended to be\n",
        "overly-simplistic implementations and applications of baseline machine learning methods. For more advanced uses and implementations, we recommend\n",
        "to use a state-of-the-art library, the most well known being\n",
        "[Scikit-Learn](http://scikit-learn.org/)"
      ]
    },
    {
      "cell_type": "code",
      "metadata": {
        "deletable": true,
        "editable": true,
        "id": "fJc27oW3biRE"
      },
      "source": [
        "import numpy as np\n",
        "import matplotlib.pyplot as plt"
      ],
      "execution_count": 1,
      "outputs": []
    },
    {
      "cell_type": "code",
      "metadata": {
        "deletable": true,
        "editable": true,
        "id": "llCAOH4sbiRE"
      },
      "source": [
        "#  convert to a column vector\n",
        "def MakeCol(y): return y.reshape(-1,1)\n",
        "#  convert to a row vector\n",
        "def MakeRow(y): return y.reshape(1,-1)\n",
        "# find non zero/true elements\n",
        "def find(x): return np.nonzero(x)[0]\n",
        "# inner product \n",
        "def dotp(x,y): return sum( x.flatten() * y.flatten() )"
      ],
      "execution_count": 2,
      "outputs": []
    },
    {
      "cell_type": "markdown",
      "metadata": {
        "deletable": true,
        "editable": true,
        "id": "M9gFuO99biRE"
      },
      "source": [
        "Dataset Generation\n",
        "------------------\n",
        "\n",
        "We define a function to randomly generate samples, in dimension $p=2$."
      ]
    },
    {
      "cell_type": "code",
      "metadata": {
        "id": "TnShS8q8cIoH"
      },
      "source": [
        "p = 2\n",
        "def rescale(u,a,b,a1,b1): return a1 + (u-a)*(b1-a1)/(b-a)\n",
        "def gen_point(m):\n",
        "  y = np.sign(np.random.randn(1,m))\n",
        "  x = np.zeros((2,m))\n",
        "  r = 1 + .1*np.random.rand(m) # radius\n",
        "  t = np.pi/2 + np.pi*np.random.rand(m) # angle\n",
        "  x[0,:] = r * np.sin(t)\n",
        "  x[1,:] = r * np.cos(t)\n",
        "  I = (y.flatten()<0) \n",
        "  x[0,I] = x[0,I] + 1\n",
        "  x[1,I] = -.7-x[1,I] \n",
        "  # rescale within a box \n",
        "  x[0,:] = rescale(x[0,:], -1,2,  .2,.8)\n",
        "  x[1,:] = rescale(x[1,:], -1,.6, .2,.8) \n",
        "  return x, y"
      ],
      "execution_count": 3,
      "outputs": []
    },
    {
      "cell_type": "markdown",
      "metadata": {
        "id": "sR1hg8jXfyzW"
      },
      "source": [
        "Display a batch of data points."
      ]
    },
    {
      "cell_type": "code",
      "metadata": {
        "colab": {
          "base_uri": "https://localhost:8080/",
          "height": 265
        },
        "id": "O8wFIDDidnBH",
        "outputId": "183693c1-b1be-4626-d72f-d27195e15c04"
      },
      "source": [
        "n = 400\n",
        "x, y = gen_point(n)\n",
        "plt.plot( x[0,y.flatten()>0], x[1,y.flatten()>0], 'b.' )\n",
        "plt.plot( x[0,y.flatten()<0], x[1,y.flatten()<0], 'r.' );"
      ],
      "execution_count": 4,
      "outputs": [
        {
          "output_type": "display_data",
          "data": {
            "image/png": "[encoded data removed]",
            "text/plain": [
              "<Figure size 432x288 with 1 Axes>"
            ]
          },
          "metadata": {
            "tags": [],
            "needs_background": "light"
          }
        }
      ]
    },
    {
      "cell_type": "markdown",
      "metadata": {
        "deletable": true,
        "editable": true,
        "id": "_NoMGPx-biRE"
      },
      "source": [
        "Building the Network\n",
        "--------------------\n",
        "We setup the network. It is parameterized by the dimensions of the layers.\n",
        "\n",
        "\n",
        "The network $\\phi_\\th$ is composed of $R$ layers, and operate by initialyzing $x_0=x$ and then iterating\n",
        "$$ \\forall r=0,\\ldots,R, \\quad x_{r+1} \\eqdef \\rho(A_r x_r + b_r).  $$\n",
        "Here $\\rho : \\RR \\mapsto \\RR$ is a non-linear activation function which\n",
        "operate coordinate by coordinate. The intermediate variables are $x_r \\in \\RR^{d_r}$\n",
        "with $(d_0,d_{L+1})=(p,1)$. The matrices have size $A_r \\in \\RR^{d_{r+1} \\times d_r}$ while the biases have size $b_r \\in \\RR^{d_{r+1}}$. The parameters of the networks are $\\th \\eqdef (A_r,b_r)_r$\n",
        "\n",
        "\n",
        "The final value is obtained by comparing the predicted value $x_{R+1} = \\phi_\\th(x)$ to the data $y$ using some loss function\n",
        "$$ \\min_{\\th} \\EE( \\ell(\\phi_{\\th}(x),y) ). $$\n",
        "\n",
        "\n",
        "Load the loss and its gradient.\n",
        "Here we use a logistic loss\n",
        "$$ \\ell(z,y) \\eqdef \\log( 1 + \\exp(-y z) ) .  $$\n",
        "$$ \\ell'(z,y) \\eqdef -y \\frac{ \\exp(-y z) }{ 1 + \\exp(-y z) }.  $$\n",
        "\n",
        "Note that in practice the computation is done in parallel over an array\n",
        "$X$ of size $(p,n)$ of $n$ points in $\\RR^p$, and $y \\in \\RR^{1 \\times n}$."
      ]
    },
    {
      "cell_type": "code",
      "metadata": {
        "deletable": true,
        "editable": true,
        "id": "q_JxczY6biRF"
      },
      "source": [
        "def Loss(z,y): return 1/y.shape[1] * np.sum( np.log( 1 + np.exp(-y*z) ) )\n",
        "def nablaLoss(z,y): return -1/y.shape[1] * y * np.exp(-y*z) / ( 1 + np.exp(-y*z) )"
      ],
      "execution_count": 5,
      "outputs": []
    },
    {
      "cell_type": "markdown",
      "metadata": {
        "deletable": true,
        "editable": true,
        "id": "-FL5Es4ObiRF"
      },
      "source": [
        "Load the activation function. Here we use an atan sigmoid function."
      ]
    },
    {
      "cell_type": "code",
      "metadata": {
        "deletable": true,
        "editable": true,
        "id": "nDxpFasvbiRF"
      },
      "source": [
        "def rho(u): return np.arctan(u)\n",
        "def rhoG(u): return 1/(1+u**2)"
      ],
      "execution_count": 6,
      "outputs": []
    },
    {
      "cell_type": "markdown",
      "metadata": {
        "deletable": true,
        "editable": true,
        "id": "gGYlrd4ObiRF"
      },
      "source": [
        "Display the activation."
      ]
    },
    {
      "cell_type": "code",
      "metadata": {
        "deletable": true,
        "editable": true,
        "colab": {
          "base_uri": "https://localhost:8080/",
          "height": 269
        },
        "id": "BFZolkhebiRF",
        "outputId": "58cb0b4d-4647-496a-ea42-9eb7e7d68b68"
      },
      "source": [
        "t = np.linspace(-5,5,201)\n",
        "plt.clf\n",
        "plt.plot(t, rho(t))\n",
        "plt.axis('tight');"
      ],
      "execution_count": 7,
      "outputs": [
        {
          "output_type": "display_data",
          "data": {
            "image/png": "[encoded data removed]",
            "text/plain": [
              "<Figure size 432x288 with 1 Axes>"
            ]
          },
          "metadata": {
            "tags": [],
            "needs_background": "light"
          }
        }
      ]
    },
    {
      "cell_type": "markdown",
      "metadata": {
        "deletable": true,
        "editable": true,
        "id": "i43jhxQsbiRF"
      },
      "source": [
        "Dimensions $d_r$ of the layers. We use here a single hidden layer."
      ]
    },
    {
      "cell_type": "code",
      "metadata": {
        "deletable": true,
        "editable": true,
        "id": "vvnI3s5sbiRF"
      },
      "source": [
        "D = np.array([p,15,1])"
      ],
      "execution_count": 8,
      "outputs": []
    },
    {
      "cell_type": "markdown",
      "metadata": {
        "deletable": true,
        "editable": true,
        "id": "aVotsA-hbiRF"
      },
      "source": [
        "Initialize the layers randomly."
      ]
    },
    {
      "cell_type": "code",
      "metadata": {
        "deletable": true,
        "editable": true,
        "id": "50my4mJhbiRF"
      },
      "source": [
        "R = D.size-1 \n",
        "A = []\n",
        "b = [] \n",
        "for r in np.arange(0,R):\n",
        "    A.append(np.random.randn(D[r+1],D[r]))\n",
        "    b.append(np.random.randn(D[r+1],1))"
      ],
      "execution_count": 9,
      "outputs": []
    },
    {
      "cell_type": "markdown",
      "metadata": {
        "deletable": true,
        "editable": true,
        "id": "L7cwv1erbiRF"
      },
      "source": [
        "Evaluate the network.\n",
        "Bookkeep the intermediate results: this is crucial for the computation of\n",
        "the gradient."
      ]
    },
    {
      "cell_type": "code",
      "metadata": {
        "deletable": true,
        "editable": true,
        "id": "_sbSCJ3sbiRF"
      },
      "source": [
        "def ForwardNN(A,b,x,R):\n",
        "    X = []\n",
        "    X.append(x)\n",
        "    for r in np.arange(0,R):\n",
        "        X.append( rho( A[r]@X[r] + np.tile(b[r],[1,x.shape[1]]) ) )\n",
        "    return X"
      ],
      "execution_count": 10,
      "outputs": []
    },
    {
      "cell_type": "code",
      "metadata": {
        "id": "Nnsc5XVlmwqT"
      },
      "source": [
        "X = ForwardNN(A,b,x,R)\n",
        "L = Loss(X[-1],y)"
      ],
      "execution_count": 11,
      "outputs": []
    },
    {
      "cell_type": "markdown",
      "metadata": {
        "deletable": true,
        "editable": true,
        "id": "krzXfqI8biRF"
      },
      "source": [
        "Network Optimization\n",
        "--------------------\n",
        "\n",
        "The network parameters are optimized by minimizing the non-convex\n",
        "empirical loss minimization through gradient descent.\n",
        "\n",
        "We first here consider batch gradient descent, where we use a batch of $n$ samples $x=(x^{i})_{i=1}^n, y=(y^i)_{i=1}^n$ and minimize\n",
        "$$\n",
        "  \\min_{\\th} f(\\th) \\eqdef \\frac{1}{n} \\sum_{i=1}^n \\ell(\\phi_{\\th}(x^{i}),y^{i}) ). \n",
        "$$\n",
        "using a simple fixed step-size gradient descent\n",
        "$$\n",
        "  \\th \\leftarrow \\th - \\tau \\nabla  f(\\th). \n",
        "$$"
      ]
    },
    {
      "cell_type": "markdown",
      "metadata": {
        "id": "ScKka5CgqZFb"
      },
      "source": [
        "Initialize the gradient of $f$ with respect to $x_{R+1}$ as\n",
        "$$ \\nabla_{x_{R+1}} f = \\ell'( x_{R+1},y) = ( \\ell'( x_{R+1}^i,y^i) )_{i=1}^n \\in \\RR^{1 \\times n}$$ \n",
        "where $\\ell'$ is applied component wise to the columns $x_{R+1}^i$ of $x_{R+1}$ and $y$."
      ]
    },
    {
      "cell_type": "code",
      "metadata": {
        "deletable": true,
        "editable": true,
        "id": "iZl0wON3biRF"
      },
      "source": [
        "gx = nablaLoss(X[R],y)"
      ],
      "execution_count": 12,
      "outputs": []
    },
    {
      "cell_type": "markdown",
      "metadata": {
        "deletable": true,
        "editable": true,
        "id": "hP0oIknobiRF"
      },
      "source": [
        "The successive gradients with respect to the intermediate variables $x_r$\n",
        "are solutions of a backward recursion, which\n",
        "corresponds to the celebrated backpropagation algorithm.\n",
        "$$ \\forall r=R,\\ldots,1, \\quad\n",
        "      \\nabla_{x_{r}} f = A_r^\\top M_r $$\n",
        "where we denoted\n",
        "$$ M_r \\eqdef \\rho'(A_r x_r + b_r ) \\odot \\nabla_{x_{r+1}} \\ell, $$\n",
        "where $\\odot$ is entry-wise multiplications.\n",
        "\n",
        "\n",
        "From these gradients with respect to the intermediate layers variables, the\n",
        "gradient with respect to the network  paramters are retrieved as\n",
        "$$ \\nabla_{A_r} f = M_r x_r^\\top, \\qandq\n",
        "    \\nabla_{b_r} f = M_r 1_n.  $$\n",
        "\n",
        "\n",
        "We now implement this back-propagation of $\\nabla_{x_{R+1}} f$."
      ]
    },
    {
      "cell_type": "code",
      "metadata": {
        "deletable": true,
        "editable": true,
        "id": "Wml50goEbiRF"
      },
      "source": [
        "def BackwardNN(A,b,X,R,gx):\n",
        "    gA = [] # gradient with respect to A\n",
        "    gb = [] # gradient with respect to b\n",
        "    n = X[0].shape[1] # number of samples in mini-batch\n",
        "    for r in np.arange(0,R):\n",
        "        gA.append([]) \n",
        "        gb.append([])\n",
        "    for r in np.arange(R-1,-1,-1):\n",
        "        M = rhoG( (A[r] @ X[r]) + np.tile(b[r],[1,n]) ) * gx\n",
        "        # nabla_X[r] \n",
        "        gx = (A[r].T) @ M\n",
        "        # nabla_A[r]\n",
        "        gA[r] =  M @ (X[r].T)\n",
        "        # nabla_b[r]\n",
        "        gb[r] =  MakeCol(M.sum(axis=1))\n",
        "    return [gA,gb]"
      ],
      "execution_count": 13,
      "outputs": []
    },
    {
      "cell_type": "markdown",
      "metadata": {
        "id": "XjzZ9eF_rx2P"
      },
      "source": [
        "We now implement the computation of $\\nabla_\\th f = (\\nabla_A f,\\nabla_b f)$ by performing first the forward pass and then the backward pass."
      ]
    },
    {
      "cell_type": "code",
      "metadata": {
        "id": "bs3JJtIOxSnN"
      },
      "source": [
        "def ForwardBackwardNN(A,b,x,y):\n",
        "    ## forward pass\n",
        "    X = ForwardNN(A,b,x,R)\n",
        "    L = Loss(X[R],y)\n",
        "    gx = nablaLoss(X[R],y) # initialize the gradient\n",
        "    [gA,gb] = BackwardNN(A,b,X,R,gx)\n",
        "    return [L,gA,gb]"
      ],
      "execution_count": 14,
      "outputs": []
    },
    {
      "cell_type": "markdown",
      "metadata": {
        "id": "Hc3CffOQtO5x"
      },
      "source": [
        "Initialize the layers randomly."
      ]
    },
    {
      "cell_type": "code",
      "metadata": {
        "id": "ow9MfGxptOHd"
      },
      "source": [
        "for r in np.arange(0,R):\n",
        "    A[r] = np.random.randn(D[r+1],D[r])\n",
        "    b[r] = np.random.randn(D[r+1],1)"
      ],
      "execution_count": 15,
      "outputs": []
    },
    {
      "cell_type": "markdown",
      "metadata": {
        "id": "Uh6K-7cxtdIK"
      },
      "source": [
        "Select the step size $\\tau$. It should be roughly independent of the batch size $n$ (since the energy is normalized by $1/n$) but depends on the size and number of layers. You should try different values or implement Armijo backtracking linesearch."
      ]
    },
    {
      "cell_type": "code",
      "metadata": {
        "id": "j4gNxsnPtcY_"
      },
      "source": [
        "tau = .5 # should work for R=2\n",
        "if R==5:\n",
        "    tau = .01/50\n",
        "if R==3:\n",
        "    tau = .01/80"
      ],
      "execution_count": 16,
      "outputs": []
    },
    {
      "cell_type": "markdown",
      "metadata": {
        "deletable": true,
        "editable": true,
        "id": "KBVraA57biRF"
      },
      "source": [
        "We implement a batch gradient descent."
      ]
    },
    {
      "cell_type": "code",
      "metadata": {
        "deletable": true,
        "editable": true,
        "id": "zTiz4F6HbiRF",
        "colab": {
          "base_uri": "https://localhost:8080/",
          "height": 279
        },
        "outputId": "c93c8da7-4b62-4db3-862e-61ba1333ca2f"
      },
      "source": [
        "niter = 10000\n",
        "L = np.zeros((niter,1))\n",
        "for it in np.arange(0,niter):\n",
        "    [L[it],gA,gb] = ForwardBackwardNN(A,b,x,y)\n",
        "    for r in np.arange(0,R):\n",
        "        A[r] = A[r] - tau*gA[r]\n",
        "        b[r] = b[r] - tau*gb[r]\n",
        "plt.clf\n",
        "plt.plot(L)\n",
        "plt.xlabel('iter')\n",
        "plt.ylabel('$L$')\n",
        "plt.axis('tight');"
      ],
      "execution_count": 17,
      "outputs": [
        {
          "output_type": "display_data",
          "data": {
            "image/png": "[encoded data removed]",
            "text/plain": [
              "<Figure size 432x288 with 1 Axes>"
            ]
          },
          "metadata": {
            "tags": [],
            "needs_background": "light"
          }
        }
      ]
    },
    {
      "cell_type": "markdown",
      "metadata": {
        "deletable": true,
        "editable": true,
        "id": "_iTtwIzcbiRF"
      },
      "source": [
        "Generate a set of point $z_i \\in \\RR^p$ on a grid for evaluation."
      ]
    },
    {
      "cell_type": "code",
      "metadata": {
        "deletable": true,
        "editable": true,
        "id": "ZysaMm7pbiRF"
      },
      "source": [
        "q = 100;\n",
        "t = np.linspace(0,1,q)\n",
        "[U,V] = np.meshgrid(t,t)\n",
        "z = np.vstack([V.flatten(), U.flatten()])"
      ],
      "execution_count": 18,
      "outputs": []
    },
    {
      "cell_type": "markdown",
      "metadata": {
        "deletable": true,
        "editable": true,
        "id": "ijpkKv0rbiRF"
      },
      "source": [
        "Classification \"probability\" at each loction $z$, computer as \n",
        "$$\\frac{e^{f_\\th(z)}}{1+e^{f_\\th(z)}}.$$ "
      ]
    },
    {
      "cell_type": "code",
      "metadata": {
        "deletable": true,
        "editable": true,
        "id": "q9YRXQrQbiRF"
      },
      "source": [
        "def phi(r): return np.exp(r)/(1+np.exp(r))\n",
        "V = ForwardNN(A,b,z,R)\n",
        "U = np.reshape( phi(V[R].T), [q,q] )"
      ],
      "execution_count": 19,
      "outputs": []
    },
    {
      "cell_type": "markdown",
      "metadata": {
        "id": "mAR5-yAc3VYH"
      },
      "source": [
        "Display the probability."
      ]
    },
    {
      "cell_type": "code",
      "metadata": {
        "colab": {
          "base_uri": "https://localhost:8080/",
          "height": 269
        },
        "id": "YZmN9BVb3TfH",
        "outputId": "fa943b52-e234-49ef-f458-f0cab2498012"
      },
      "source": [
        "plt.clf\n",
        "plt.imshow(U.T, origin=\"lower\", extent=[0,1,0,1])\n",
        "plt.plot( x[0,y.flatten()>0], x[1,y.flatten()>0], 'b.' )\n",
        "plt.plot( x[0,y.flatten()<0], x[1,y.flatten()<0], 'r.' );"
      ],
      "execution_count": 20,
      "outputs": [
        {
          "output_type": "display_data",
          "data": {
            "image/png": "[encoded data removed]",
            "text/plain": [
              "<Figure size 432x288 with 1 Axes>"
            ]
          },
          "metadata": {
            "tags": [],
            "needs_background": "light"
          }
        }
      ]
    },
    {
      "cell_type": "markdown",
      "metadata": {
        "deletable": true,
        "editable": true,
        "id": "u0scKo3pbiRG"
      },
      "source": [
        "You can test the method using a different number of layers and check its influence.\n",
        "\n"
      ]
    },
    {
      "cell_type": "code",
      "metadata": {
        "deletable": true,
        "editable": true,
        "id": "sMoticzDbiRG",
        "colab": {
          "base_uri": "https://localhost:8080/",
          "height": 264
        },
        "outputId": "01445f1f-723d-4038-bec4-c4e1874636f0"
      },
      "source": [
        "Layers = []\n",
        "Layers.append([p, 1]) # vanilla logitic regression (convex)\n",
        "Layers.append([p, 8, 1]) # single hidden layer\n",
        "Layers.append([p, 3, 4, 1]) # 4 hidden layers\n",
        "Layers.append([p, 4, 5, 8, 4, 1]) # 4 hidden layers\n",
        "tau_list = np.array([.5, .5, .5, .5])\n",
        "plt.clf\n",
        "for il in np.arange(0,np.size(Layers)):\n",
        "\tD = Layers[il]\n",
        "\t# layers\n",
        "\tR = np.size(D)-1\n",
        "\tA = []\n",
        "\tb = []\n",
        "\tfor r in np.arange(0,R):\n",
        "\t    A.append(np.random.randn(D[r+1],D[r]))\n",
        "\t    b.append(np.random.randn(D[r+1],1))\n",
        "\t# descent\n",
        "\ttau = tau_list[il]\n",
        "\tniter = 10000 \n",
        "\tL = np.zeros((niter,1))\n",
        "\tfor it in np.arange(0,niter):\n",
        "\t    [L[it],gA,gb] = ForwardBackwardNN(A,b,x,y)\n",
        "\t    for r in np.arange(0,R):\n",
        "\t        A[r] = A[r] - tau*gA[r]\n",
        "\t        b[r] = b[r] - tau*gb[r]\n",
        "\t# display\n",
        "\tV = ForwardNN(A,b,z,R)\n",
        "\tU = np.reshape( phi(V[R].T), [q,q] )\n",
        "\tplt.subplot(2,2,il+1)\n",
        "\tplt.imshow(U.T, origin=\"lower\", extent=[0,1,0,1])\n",
        "\tplt.plot( x[0,y.flatten()>0], x[1,y.flatten()>0], 'b.' )\n",
        "\tplt.plot( x[0,y.flatten()<0], x[1,y.flatten()<0], 'r.' )\n",
        "\tplt.axis('off');\n",
        "\tplt.title('#layers=' + str(len(D)-1))"
      ],
      "execution_count": 21,
      "outputs": [
        {
          "output_type": "display_data",
          "data": {
            "image/png": "[encoded data removed]",
            "text/plain": [
              "<Figure size 432x288 with 4 Axes>"
            ]
          },
          "metadata": {
            "tags": [],
            "needs_background": "light"
          }
        }
      ]
    },
    {
      "cell_type": "markdown",
      "metadata": {
        "deletable": true,
        "editable": true,
        "id": "sDuNq5HvbiRG"
      },
      "source": [
        "# Automatic Differentiation using *AutoGrad*\n",
        "\n",
        "Instead of computing the gradient \"by hand\", we use an automatic differentation toolbox, here [AutoGrad](https://github.com/HIPS/autograd).\n",
        "\n",
        "It uses reverse mode automatic differentation to compute the gradient at the same expense at computing the function itself. \n",
        "See [this tutorial for more information](https://rufflewind.com/2016-12-30/reverse-mode-automatic-differentiation)."
      ]
    },
    {
      "cell_type": "code",
      "metadata": {
        "deletable": true,
        "editable": true,
        "id": "WwrmVLMCbiRG"
      },
      "source": [
        "import autograd.numpy as np\n",
        "import autograd as ag\n",
        "from autograd import elementwise_grad as egrad"
      ],
      "execution_count": 22,
      "outputs": []
    },
    {
      "cell_type": "markdown",
      "metadata": {
        "deletable": true,
        "editable": true,
        "id": "L92f6gsXbiRG"
      },
      "source": [
        "Test on a scalar value function, computing and plotting higher-order derivatives."
      ]
    },
    {
      "cell_type": "code",
      "metadata": {
        "deletable": true,
        "editable": true,
        "id": "wCF3VhuHbiRG",
        "colab": {
          "base_uri": "https://localhost:8080/",
          "height": 265
        },
        "outputId": "93402593-e2b0-4060-da28-11b9c1e5aca1"
      },
      "source": [
        "def tanh(x):\n",
        "    return (1.0 - np.exp(-x))  / (1.0 + np.exp(-x))\n",
        "t = np.linspace(-7, 7, 200)\n",
        "plt.plot(t, tanh(t),\n",
        "         t, egrad(tanh)(t),                                     # first derivative\n",
        "         t, egrad(egrad(tanh))(t),                              # second derivative\n",
        "         t, egrad(egrad(egrad(tanh)))(t),                       # third derivative\n",
        "         t, egrad(egrad(egrad(egrad(tanh))))(t),                # fourth derivative\n",
        "         t, egrad(egrad(egrad(egrad(egrad(tanh)))))(t),         # fifth derivative\n",
        "         t, egrad(egrad(egrad(egrad(egrad(egrad(tanh))))))(t));  # sixth derivative"
      ],
      "execution_count": 23,
      "outputs": [
        {
          "output_type": "display_data",
          "data": {
            "image/png": "[encoded data removed]",
            "text/plain": [
              "<Figure size 432x288 with 1 Axes>"
            ]
          },
          "metadata": {
            "tags": [],
            "needs_background": "light"
          }
        }
      ]
    },
    {
      "cell_type": "markdown",
      "metadata": {
        "deletable": true,
        "editable": true,
        "id": "r8CYqtNObiRG"
      },
      "source": [
        "Gradient of a quadratic functions $f(u)=\\dotp{M u}{u}/2$ for $M$ symmetric, $\\nabla f(x)=Mx$."
      ]
    },
    {
      "cell_type": "code",
      "metadata": {
        "deletable": true,
        "editable": true,
        "id": "_BbQzr83biRG",
        "colab": {
          "base_uri": "https://localhost:8080/"
        },
        "outputId": "163b9fc6-f788-47a5-9fde-90d0ca97f06c"
      },
      "source": [
        "M = np.random.randn(3,3)\n",
        "M = M+M.T\n",
        "def f(u): \n",
        "    return np.sum( .5 * u.T @ (M@u) )\n",
        "u = np.random.randn(3,1)\n",
        "g = ag.grad(f)\n",
        "print('Should be 0: ' + str( np.linalg.norm(np.abs((g(u) - M@u) ) )))"
      ],
      "execution_count": 24,
      "outputs": [
        {
          "output_type": "stream",
          "text": [
            "Should be 0: 0.0\n"
          ],
          "name": "stdout"
        }
      ]
    },
    {
      "cell_type": "markdown",
      "metadata": {
        "deletable": true,
        "editable": true,
        "id": "HUd7s3gebiRG"
      },
      "source": [
        "Function $f(\\th)$ to be minimized for neural networks, where $\\theta=(A,b)$."
      ]
    },
    {
      "cell_type": "code",
      "metadata": {
        "deletable": true,
        "editable": true,
        "id": "lckQ7H980tPo"
      },
      "source": [
        "def FuncNN(theta): \n",
        "    X = ForwardNN(theta[0],theta[1],x,R)\n",
        "    return Loss(X[-1],y)"
      ],
      "execution_count": 25,
      "outputs": []
    },
    {
      "cell_type": "code",
      "metadata": {
        "deletable": true,
        "editable": true,
        "id": "JgdIhO7ibiRG"
      },
      "source": [
        "D = [p, 4, 5, 8, 4, 1]\n",
        "R = np.size(D)-1\n",
        "A = []\n",
        "b = []\n",
        "for r in np.arange(0,R):\n",
        "    A.append(np.random.randn(D[r+1],D[r]))\n",
        "    b.append(np.random.randn(D[r+1],1))"
      ],
      "execution_count": 26,
      "outputs": []
    },
    {
      "cell_type": "markdown",
      "metadata": {
        "deletable": true,
        "editable": true,
        "id": "tl41-PzEbiRG"
      },
      "source": [
        "Compute the funcfion and the gradient"
      ]
    },
    {
      "cell_type": "code",
      "metadata": {
        "deletable": true,
        "editable": true,
        "id": "Ga39gevRbiRG"
      },
      "source": [
        "FuncNNG = ag.value_and_grad(FuncNN)\n",
        "#X = ForwardNN(A,b,x,R)\n",
        "#FuncNN((A,b))\n",
        "[u,g] = FuncNNG((A,b))\n",
        "gA = g[0] # gradient with respect to A \n",
        "gb = g[1] # gradient with respect to b"
      ],
      "execution_count": 27,
      "outputs": []
    },
    {
      "cell_type": "markdown",
      "metadata": {
        "deletable": true,
        "editable": true,
        "id": "00ramBszbiRG"
      },
      "source": [
        "Compare with the gradient computed \"by hand\"."
      ]
    },
    {
      "cell_type": "code",
      "metadata": {
        "deletable": true,
        "editable": true,
        "id": "4CwiUDhrbiRG",
        "colab": {
          "base_uri": "https://localhost:8080/"
        },
        "outputId": "b4062737-83d1-4a19-b626-aa98a51e95eb"
      },
      "source": [
        "import numpy\n",
        "[L,gA1,gb1] = ForwardBackwardNN(A,b,x,y)\n",
        "R = np.size(A)\n",
        "e = 0\n",
        "for i in range(R):\n",
        "    e += np.linalg.norm(gA[r]-gA1[r])\n",
        "    e += np.linalg.norm(gb[r]-gb1[r])\n",
        "print('Should be 0:' + str(e))"
      ],
      "execution_count": 28,
      "outputs": [
        {
          "output_type": "stream",
          "text": [
            "Should be 0:1.0408340855860843e-16\n"
          ],
          "name": "stdout"
        }
      ]
    },
    {
      "cell_type": "markdown",
      "metadata": {
        "id": "f-rwPX7k2PJT"
      },
      "source": [
        "# Automatic Differentiation using *PyTorch*\n",
        "\n",
        "Pytorch is a powerful deep learning library whose main feature is to perform automatic differentiation. One caveat is that one need to manipulate PyTorch tensors in place of Numpy arrays. An avantage with respect to AutoGrad is that it contains higher level primitive which allows to hide from the user the parameter of the layer (e.g. linear weights and bias)."
      ]
    },
    {
      "cell_type": "code",
      "metadata": {
        "id": "_23Hnrdy2Q0d"
      },
      "source": [
        "import torch\n",
        "import torch.nn as nn"
      ],
      "execution_count": 29,
      "outputs": []
    },
    {
      "cell_type": "markdown",
      "metadata": {
        "id": "WGXxLWjBAXX_"
      },
      "source": [
        "We first define the architecture. You can try `nn.ReLu()` in place of nn.Sigmoid to obtain straight boundaries. One can try one the two following cell depending of the number of hidden layer you want."
      ]
    },
    {
      "cell_type": "code",
      "metadata": {
        "id": "Fx3FA-4toiwZ"
      },
      "source": [
        "D = [p, 4, 5, 8, 4, 1]\n",
        "model = nn.Sequential(\n",
        "      nn.Linear(D[0], D[1]),\n",
        "      nn.Tanh(),\n",
        "      nn.Linear(D[1], D[2]),\n",
        "      nn.Tanh(),\n",
        "      nn.Linear(D[2], D[3]),\n",
        "      nn.Tanh(),\n",
        "      nn.Linear(D[3], D[4]),\n",
        "      nn.Tanh(),\n",
        "      nn.Linear(D[4], D[5]),\n",
        ")"
      ],
      "execution_count": 30,
      "outputs": []
    },
    {
      "cell_type": "code",
      "metadata": {
        "id": "h4VOk3OSbAJM"
      },
      "source": [
        "D = [p, 40, 1]\n",
        "model = nn.Sequential(\n",
        "      nn.Linear(D[0], D[1]),\n",
        "      nn.Tanh(),\n",
        "      nn.Linear(D[1], D[2]),\n",
        ")"
      ],
      "execution_count": 31,
      "outputs": []
    },
    {
      "cell_type": "code",
      "metadata": {
        "colab": {
          "base_uri": "https://localhost:8080/"
        },
        "id": "LEgLb7v4_Hp_",
        "outputId": "334c4783-63dc-4d44-d794-b8b26747790a"
      },
      "source": [
        "print(model)"
      ],
      "execution_count": 32,
      "outputs": [
        {
          "output_type": "stream",
          "text": [
            "Sequential(\n",
            "  (0): Linear(in_features=2, out_features=40, bias=True)\n",
            "  (1): Tanh()\n",
            "  (2): Linear(in_features=40, out_features=1, bias=True)\n",
            ")\n"
          ],
          "name": "stdout"
        }
      ]
    },
    {
      "cell_type": "markdown",
      "metadata": {
        "id": "zPoYuBxDo1yD"
      },
      "source": [
        "Initialize the weights."
      ]
    },
    {
      "cell_type": "code",
      "metadata": {
        "id": "EeUiaYgDcs10"
      },
      "source": [
        "nn.init.normal_(model[0].bias, 0, 1)\n",
        "nn.init.normal_(model[0].weight, 0,1)\n",
        "nn.init.normal_(model[2].bias, 0, 1)\n",
        "nn.init.normal_(model[2].weight, 0,1);"
      ],
      "execution_count": 33,
      "outputs": []
    },
    {
      "cell_type": "markdown",
      "metadata": {
        "id": "IaH6M9zyBZPV"
      },
      "source": [
        "Convert arrays into PyTorch tensors. Beware that for PyTorch the data should be of size $(p,n)$, so we transpose the tensors. "
      ]
    },
    {
      "cell_type": "code",
      "metadata": {
        "id": "AsRfvXA6BIxX"
      },
      "source": [
        "X = torch.Tensor(x).T\n",
        "Y = torch.Tensor(y).T"
      ],
      "execution_count": 34,
      "outputs": []
    },
    {
      "cell_type": "markdown",
      "metadata": {
        "id": "dTJKwlvLGVzn"
      },
      "source": [
        "Run the forward pass: evaluate the loss function."
      ]
    },
    {
      "cell_type": "code",
      "metadata": {
        "colab": {
          "base_uri": "https://localhost:8080/"
        },
        "id": "guCONbyAEqT4",
        "outputId": "72044c61-f530-4aa2-b3d7-47a989f9f89f"
      },
      "source": [
        "loss = 1/n * torch.sum( -torch.log( torch.sigmoid(-model(X)*Y) ) )\n",
        "print( loss.item() )"
      ],
      "execution_count": 35,
      "outputs": [
        {
          "output_type": "stream",
          "text": [
            "1.9115080833435059\n"
          ],
          "name": "stdout"
        }
      ]
    },
    {
      "cell_type": "markdown",
      "metadata": {
        "id": "1Rbi2XnxGclF"
      },
      "source": [
        "Run the backward pass to evaluate the gradients of all the involved parameters."
      ]
    },
    {
      "cell_type": "code",
      "metadata": {
        "id": "dC4v28ahGar-"
      },
      "source": [
        "model.zero_grad()\n",
        "loss.backward()"
      ],
      "execution_count": 36,
      "outputs": []
    },
    {
      "cell_type": "markdown",
      "metadata": {
        "id": "6BnDZh6YGt5o"
      },
      "source": [
        "Do the stepping:\n",
        "$$ \\theta \\leftarrow \\th - \\tau \\nabla f(\\th). $$"
      ]
    },
    {
      "cell_type": "code",
      "metadata": {
        "id": "3p0cfDC9GpLi"
      },
      "source": [
        "tau = .5\n",
        "with torch.no_grad():\n",
        "  for theta in model.parameters():\n",
        "    theta -= tau * theta.grad"
      ],
      "execution_count": 37,
      "outputs": []
    },
    {
      "cell_type": "markdown",
      "metadata": {
        "id": "R4H5FpcnGi6v"
      },
      "source": [
        "Putting all together: implement the batch gradient descent."
      ]
    },
    {
      "cell_type": "code",
      "metadata": {
        "id": "92Bg21HqAdqA"
      },
      "source": [
        "tau = .4\n",
        "niter = 10000\n",
        "L = np.zeros((niter,1))\n",
        "for i in range(niter):\n",
        "    # loss = 1/n * torch.sum( torch.LogSigmoid(-model(X)*Y) )\n",
        "    loss = 1/n * torch.sum( -torch.log( torch.sigmoid(model(X)*Y) ) )\n",
        "    L[i] = loss.item()\n",
        "    model.zero_grad()\n",
        "    loss.backward()\n",
        "    with torch.no_grad():\n",
        "      for theta in model.parameters():\n",
        "        theta -= tau * theta.grad"
      ],
      "execution_count": 38,
      "outputs": []
    },
    {
      "cell_type": "markdown",
      "metadata": {
        "id": "AwSAQ8XloxVZ"
      },
      "source": [
        "Plot the evolution of the training loss."
      ]
    },
    {
      "cell_type": "code",
      "metadata": {
        "colab": {
          "base_uri": "https://localhost:8080/",
          "height": 265
        },
        "id": "kSw7X-b7DQQa",
        "outputId": "91ecb12c-512f-446b-fc10-352097ac1590"
      },
      "source": [
        "plt.plot(L);"
      ],
      "execution_count": 39,
      "outputs": [
        {
          "output_type": "display_data",
          "data": {
            "image/png": "[encoded data removed]",
            "text/plain": [
              "<Figure size 432x288 with 1 Axes>"
            ]
          },
          "metadata": {
            "tags": [],
            "needs_background": "light"
          }
        }
      ]
    },
    {
      "cell_type": "markdown",
      "metadata": {
        "id": "eLicOTqcV6HB"
      },
      "source": [
        "Vizualize the application of the network on the grid point defined by `z`."
      ]
    },
    {
      "cell_type": "code",
      "metadata": {
        "colab": {
          "base_uri": "https://localhost:8080/",
          "height": 248
        },
        "id": "I8amc71RVXs6",
        "outputId": "e56839ae-5362-4edd-cf19-594a279e5054"
      },
      "source": [
        "V = model(torch.Tensor(z).T)\n",
        "V = V.detach().numpy() # convert back to numpy array\n",
        "U = np.reshape( phi(V), [q,q] )\n",
        "plt.imshow(U.T, origin=\"lower\", extent=[0,1,0,1])\n",
        "plt.plot( x[0,y.flatten()>0], x[1,y.flatten()>0], 'b.' )\n",
        "plt.plot( x[0,y.flatten()<0], x[1,y.flatten()<0], 'r.' )\n",
        "plt.axis('off');"
      ],
      "execution_count": 40,
      "outputs": [
        {
          "output_type": "display_data",
          "data": {
            "image/png": "[encoded data removed]",
            "text/plain": [
              "<Figure size 432x288 with 1 Axes>"
            ]
          },
          "metadata": {
            "tags": [],
            "needs_background": "light"
          }
        }
      ]
    }
  ]
}