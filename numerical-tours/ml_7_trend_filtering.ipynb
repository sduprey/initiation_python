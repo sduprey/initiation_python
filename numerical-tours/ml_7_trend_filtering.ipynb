{
 "cells": [
  {
   "cell_type": "markdown",
   "metadata": {
    "colab_type": "text",
    "collapsed": true,
    "id": "w7MXPqK01Xy5"
   },
   "source": [
    "Simplex Regression with Trend Filtering\n",
    "=========================================\n",
    "\n",
    "This notebook showcase a structured regression method which defines a predictor as an average of several values (e.g. baseline methods), with a temporal regularization which enforces piecewise constant choices (often called \"trend filtering\").\n",
    "$\\newcommand{\\dotp}[2]{\\langle #1, #2 \\rangle}$\n",
    "$\\newcommand{\\enscond}[2]{\\lbrace #1, #2 \\rbrace}$\n",
    "$\\newcommand{\\pd}[2]{ \\frac{ \\partial #1}{\\partial #2} }$\n",
    "$\\newcommand{\\umin}[1]{\\underset{#1}{\\min}\\;}$\n",
    "$\\newcommand{\\umax}[1]{\\underset{#1}{\\max}\\;}$\n",
    "$\\newcommand{\\umin}[1]{\\underset{#1}{\\min}\\;}$\n",
    "$\\newcommand{\\uargmin}[1]{\\underset{#1}{argmin}\\;}$\n",
    "$\\newcommand{\\norm}[1]{\\|#1\\|}$\n",
    "$\\newcommand{\\abs}[1]{\\left|#1\\right|}$\n",
    "$\\newcommand{\\choice}[1]{ \\left\\{  \\begin{array}{l} #1 \\end{array} \\right. }$\n",
    "$\\newcommand{\\pa}[1]{\\left(#1\\right)}$\n",
    "$\\newcommand{\\diag}[1]{{diag}\\left( #1 \\right)}$\n",
    "$\\newcommand{\\qandq}{\\quad\\text{and}\\quad}$\n",
    "$\\newcommand{\\qwhereq}{\\quad\\text{where}\\quad}$\n",
    "$\\newcommand{\\qifq}{ \\quad \\text{if} \\quad }$\n",
    "$\\newcommand{\\qarrq}{ \\quad \\Longrightarrow \\quad }$\n",
    "$\\newcommand{\\ZZ}{\\mathbb{Z}}$\n",
    "$\\newcommand{\\CC}{\\mathbb{C}}$\n",
    "$\\newcommand{\\RR}{\\mathbb{R}}$\n",
    "$\\newcommand{\\EE}{\\mathbb{E}}$\n",
    "$\\newcommand{\\Zz}{\\mathcal{Z}}$\n",
    "$\\newcommand{\\Ww}{\\mathcal{W}}$\n",
    "$\\newcommand{\\Vv}{\\mathcal{V}}$\n",
    "$\\newcommand{\\Nn}{\\mathcal{N}}$\n",
    "$\\newcommand{\\NN}{\\mathcal{N}}$\n",
    "$\\newcommand{\\Hh}{\\mathcal{H}}$\n",
    "$\\newcommand{\\Bb}{\\mathcal{B}}$\n",
    "$\\newcommand{\\Ee}{\\mathcal{E}}$\n",
    "$\\newcommand{\\Cc}{\\mathcal{C}}$\n",
    "$\\newcommand{\\Gg}{\\mathcal{G}}$\n",
    "$\\newcommand{\\Ss}{\\mathcal{S}}$\n",
    "$\\newcommand{\\Pp}{\\mathcal{P}}$\n",
    "$\\newcommand{\\Ff}{\\mathcal{F}}$\n",
    "$\\newcommand{\\Xx}{\\mathcal{X}}$\n",
    "$\\newcommand{\\Mm}{\\mathcal{M}}$\n",
    "$\\newcommand{\\Ii}{\\mathcal{I}}$\n",
    "$\\newcommand{\\Dd}{\\mathcal{D}}$\n",
    "$\\newcommand{\\Ll}{\\mathcal{L}}$\n",
    "$\\newcommand{\\Tt}{\\mathcal{T}}$\n",
    "$\\newcommand{\\si}{\\sigma}$\n",
    "$\\newcommand{\\al}{\\alpha}$\n",
    "$\\newcommand{\\la}{\\lambda}$\n",
    "$\\newcommand{\\ga}{\\gamma}$\n",
    "$\\newcommand{\\Ga}{\\Gamma}$\n",
    "$\\newcommand{\\La}{\\Lambda}$\n",
    "$\\newcommand{\\si}{\\sigma}$\n",
    "$\\newcommand{\\Si}{\\Sigma}$\n",
    "$\\newcommand{\\be}{\\beta}$\n",
    "$\\newcommand{\\de}{\\delta}$\n",
    "$\\newcommand{\\De}{\\Delta}$\n",
    "$\\newcommand{\\phi}{\\varphi}$\n",
    "$\\newcommand{\\th}{\\theta}$\n",
    "$\\newcommand{\\om}{\\omega}$\n",
    "$\\newcommand{\\Om}{\\Omega}$"
   ]
  },
  {
   "cell_type": "markdown",
   "metadata": {
    "colab_type": "text",
    "id": "5BusadJ61Xy9"
   },
   "source": [
    "You need to install [CVXPY](https://www.cvxpy.org/). _Warning:_ seems to not be working on Python 3.7, use rather 3.6."
   ]
  },
  {
   "cell_type": "code",
   "execution_count": 0,
   "metadata": {
    "colab": {},
    "colab_type": "code",
    "id": "IUcJ_Idz1XzA"
   },
   "outputs": [],
   "source": [
    "import numpy as np\n",
    "import matplotlib.pyplot as plt\n",
    "import cvxpy as cp"
   ]
  },
  {
   "cell_type": "markdown",
   "metadata": {
    "colab_type": "text",
    "id": "xd-RcmvWNi8Z"
   },
   "source": [
    "Simplex Regression\n",
    "========================================="
   ]
  },
  {
   "cell_type": "markdown",
   "metadata": {
    "colab_type": "text",
    "id": "wfk382Jc1XzG"
   },
   "source": [
    "In the following $n$ is the number of \"temporal\" samples (for instance angle) and $m$ the number of methods."
   ]
  },
  {
   "cell_type": "code",
   "execution_count": 0,
   "metadata": {
    "colab": {},
    "colab_type": "code",
    "id": "YJ66nNMD1XzH"
   },
   "outputs": [],
   "source": [
    "n = 360  # angles\n",
    "m = 4 # methods"
   ]
  },
  {
   "cell_type": "markdown",
   "metadata": {
    "colab_type": "text",
    "id": "0vZIRnfb1XzM"
   },
   "source": [
    "The set of regression weights is $W \\in \\RR^{n \\times m}$ and the linear regression of $y_i$ at time (or angle $i$) reads\n",
    "$$\n",
    "    y_i \\approx \\sum_{j} M_{i,j} W_{i,j}.\n",
    "$$\n",
    "Here $M_{i,j}$ is the output of method $j$ at time $i$.\n",
    "\n",
    "The constraint is that for each time $i$, the set of weights $W_{i,\\cdot} = (W_{i,j})_{j=1}^m$ is in the probability simplex\n",
    "$$\n",
    "    W_{i,j} \\geq 0 \\qandq\n",
    "    \\sum_j W_{i,j}=1.\n",
    "$$\n",
    "We re-write this constraint conveniently as $W \\geq 0, W 1_m = 1_n$."
   ]
  },
  {
   "cell_type": "markdown",
   "metadata": {
    "colab_type": "text",
    "id": "ZlhwDoxX1XzN"
   },
   "source": [
    "We use a $\\ell^2$ regression penalized by the sum of absolute value of temporal differences\n",
    "$$ \\min_{W \\geq 0, W 1_m = 1_n} \\sum_i \\Big( y_i - \\sum_{j} M_{i,j} W_{i,j} \\Big)^2 + \\lambda \\sum_{i,j} |W_{i+1,j}-W_{i,j}| $$"
   ]
  },
  {
   "cell_type": "markdown",
   "metadata": {
    "colab_type": "text",
    "id": "QAe49Qj11XzP"
   },
   "source": [
    "Generate random data $M$ and $y$."
   ]
  },
  {
   "cell_type": "code",
   "execution_count": 0,
   "metadata": {
    "colab": {},
    "colab_type": "code",
    "id": "nJTgEK2T1XzQ"
   },
   "outputs": [],
   "source": [
    "M = np.random.randn(n,m)\n",
    "y = np.random.randn(n)"
   ]
  },
  {
   "cell_type": "markdown",
   "metadata": {
    "colab_type": "text",
    "id": "AeJ-Xjar1XzU"
   },
   "source": [
    "Define the optimized over variable $W$."
   ]
  },
  {
   "cell_type": "code",
   "execution_count": 0,
   "metadata": {
    "colab": {},
    "colab_type": "code",
    "id": "O0C3ZQ8W1XzW"
   },
   "outputs": [],
   "source": [
    "W = cp.Variable((n,m))"
   ]
  },
  {
   "cell_type": "markdown",
   "metadata": {
    "colab_type": "text",
    "id": "fIDhpMft1Xzc"
   },
   "source": [
    "Define the set constraints (vectors in the simplex)."
   ]
  },
  {
   "cell_type": "code",
   "execution_count": 0,
   "metadata": {
    "colab": {},
    "colab_type": "code",
    "id": "5uSu4smY1Xzd"
   },
   "outputs": [],
   "source": [
    "u = np.ones((m,1))\n",
    "v = np.ones((n,1))\n",
    "U = [0 <= W, cp.matmul(W,u)==v]"
   ]
  },
  {
   "cell_type": "markdown",
   "metadata": {
    "colab_type": "text",
    "id": "TyCMnJXe1Xzg"
   },
   "source": [
    "Regularization parameter $\\lambda$. Increase this value makes the resulting weights more and more constant."
   ]
  },
  {
   "cell_type": "code",
   "execution_count": 0,
   "metadata": {
    "colab": {},
    "colab_type": "code",
    "id": "jh4w-0fN1Xzi"
   },
   "outputs": [],
   "source": [
    "Lambda = 10"
   ]
  },
  {
   "cell_type": "markdown",
   "metadata": {
    "colab_type": "text",
    "id": "Lvri3u5T1Xzl"
   },
   "source": [
    "Solve the minimization using CVXPY"
   ]
  },
  {
   "cell_type": "code",
   "execution_count": 0,
   "metadata": {
    "colab": {},
    "colab_type": "code",
    "id": "0O_uYMmp1Xzm"
   },
   "outputs": [],
   "source": [
    "objective = cp.Minimize( cp.sum( ( cp.sum(cp.multiply(M,W), axis=1) - y )**2 ) + Lambda * cp.sum( cp.abs(W[1:,:] - W[:-1,:]) )  )\n",
    "prob = cp.Problem(objective, U)\n",
    "result = prob.solve()"
   ]
  },
  {
   "cell_type": "markdown",
   "metadata": {
    "colab_type": "text",
    "id": "jBLAEBja1Xzq"
   },
   "source": [
    "Display the evolution of the weights associated to the three first variables as function of time."
   ]
  },
  {
   "cell_type": "code",
   "execution_count": 8,
   "metadata": {
    "colab": {
     "base_uri": "https://localhost:8080/",
     "height": 265
    },
    "colab_type": "code",
    "id": "R0G2QDV61Xzr",
    "outputId": "61d9565c-c128-4add-bac9-4374b5d2358a"
   },
   "outputs": [
    {
     "data": {
      "image/png": "[encoded data removed]",
      "text/plain": [
       "<Figure size 432x288 with 1 Axes>"
      ]
     },
     "metadata": {
      "tags": []
     },
     "output_type": "display_data"
    }
   ],
   "source": [
    "Wm = W.value\n",
    "plt.plot(Wm[:,0])\n",
    "plt.plot(Wm[:,1])\n",
    "plt.plot(Wm[:,2]);"
   ]
  },
  {
   "cell_type": "markdown",
   "metadata": {
    "colab_type": "text",
    "id": "yb1QOJ0s7EIR"
   },
   "source": [
    "Group-Lasso Regularization\n",
    "============================\n",
    "\n",
    "It is possible to enforce that breakpoints in time are somehow \"synchronized\" by using a group lasso regularization.\n",
    "$$\n",
    "    \\min_{W \\geq 0, W 1_m = 1_n}\n",
    "    \\sum_i \\Big( y_i - \\sum_{j} M_{i,j} W_{i,j} \\Big)^2\n",
    "    + \\lambda \\sum_{i} \\sqrt{ \\sum_j|W_{i+1,j}-W_{i,j}|^2 }\n",
    "$$"
   ]
  },
  {
   "cell_type": "code",
   "execution_count": 0,
   "metadata": {
    "colab": {},
    "colab_type": "code",
    "id": "RdlULDXw7N_I"
   },
   "outputs": [],
   "source": [
    "Lambda = 20\n",
    "objective = cp.Minimize( cp.sum( ( cp.sum(cp.multiply(M,W), axis=1) - y )**2 ) + Lambda * cp.mixed_norm( W[1:,:] - W[:-1,:], 2, 1 ) )\n",
    "prob = cp.Problem(objective, U)\n",
    "result = prob.solve()"
   ]
  },
  {
   "cell_type": "code",
   "execution_count": 10,
   "metadata": {
    "colab": {
     "base_uri": "https://localhost:8080/",
     "height": 265
    },
    "colab_type": "code",
    "id": "P1iz8gMJ7tV1",
    "outputId": "82121dc7-08f9-4e32-cf9a-d38a25a85457"
   },
   "outputs": [
    {
     "data": {
      "image/png": "[encoded data removed]",
      "text/plain": [
       "<Figure size 432x288 with 1 Axes>"
      ]
     },
     "metadata": {
      "tags": []
     },
     "output_type": "display_data"
    }
   ],
   "source": [
    "Wm = W.value\n",
    "plt.plot(Wm[:,0])\n",
    "plt.plot(Wm[:,1])\n",
    "plt.plot(Wm[:,2]);"
   ]
  },
  {
   "cell_type": "markdown",
   "metadata": {
    "colab_type": "text",
    "id": "DA-sZSsslkGX"
   },
   "source": [
    "We now show the evolution of the solution for varying $\\lambda$."
   ]
  },
  {
   "cell_type": "code",
   "execution_count": 11,
   "metadata": {
    "colab": {
     "base_uri": "https://localhost:8080/",
     "height": 268
    },
    "colab_type": "code",
    "id": "_m6bmsjekpCe",
    "outputId": "372d5086-3f0d-4da4-aab2-b892423bf1d7"
   },
   "outputs": [
    {
     "data": {
      "image/png": "[encoded data removed]",
      "text/plain": [
       "<Figure size 432x288 with 4 Axes>"
      ]
     },
     "metadata": {
      "tags": []
     },
     "output_type": "display_data"
    }
   ],
   "source": [
    "Lambda_list = np.array([2, 5, 10, 20])\n",
    "for i in np.arange(0,4):\n",
    "  Lambda = Lambda_list[i];\n",
    "  objective = cp.Minimize( cp.sum( ( cp.sum(cp.multiply(M,W), axis=1) - y )**2 ) + Lambda * cp.mixed_norm( W[1:,:] - W[:-1,:], 2, 1 ) )\n",
    "  prob = cp.Problem(objective, U)\n",
    "  result = prob.solve()\n",
    "  Wm = W.value\n",
    "  ax1=plt.subplot(2, 2, i+1)\n",
    "  plt.plot(Wm[:,0])\n",
    "  plt.plot(Wm[:,1])\n",
    "  plt.plot(Wm[:,2])\n",
    "  plt.title('$\\lambda$='+str(Lambda))\n",
    "  ax1.set_xticklabels([])\n"
   ]
  },
  {
   "cell_type": "code",
   "execution_count": 0,
   "metadata": {
    "colab": {},
    "colab_type": "code",
    "id": "yxWu3vnECTZd"
   },
   "outputs": [],
   "source": []
  }
 ],
 "metadata": {
  "anaconda-cloud": {},
  "colab": {
   "name": "Simplex Regression with Trend Filtering",
   "provenance": []
  },
  "kernelspec": {
   "display_name": "Python 3",
   "language": "python",
   "name": "python3"
  },
  "language_info": {
   "codemirror_mode": {
    "name": "ipython",
    "version": 3
   },
   "file_extension": ".py",
   "mimetype": "text/x-python",
   "name": "python",
   "nbconvert_exporter": "python",
   "pygments_lexer": "ipython3",
   "version": "3.7.1"
  }
 },
 "nbformat": 4,
 "nbformat_minor": 1
}
